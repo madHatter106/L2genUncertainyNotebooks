{
 "cells": [
  {
   "cell_type": "code",
   "execution_count": 1,
   "metadata": {
    "collapsed": false
   },
   "outputs": [],
   "source": [
    "import netCDF4 as nc\n",
    "from mpl_toolkits.basemap import Basemap,cm\n",
    "from matplotlib.colors import LogNorm\n",
    "from matplotlib.colors import LinearSegmentedColormap\n",
    "import matplotlib.pyplot as pl\n",
    "import numpy as np\n",
    "import math"
   ]
  },
  {
   "cell_type": "code",
   "execution_count": 2,
   "metadata": {
    "collapsed": true
   },
   "outputs": [],
   "source": [
    "maindir = '/disk02/UNCERTAINTIES/Monte-Carlo/'\n",
    "datadir = 'SWF/DATA/L2_L3/CentralPacific/Standard/'\n",
    "fname = 'S1999229224418.L3m'\n",
    "fpath = maindir + datadir + fname\n",
    "bands = ['412','443','490','510','555','670','765','865']\n",
    "rrsDict = dict.fromkeys(bands[:-2])\n",
    "rrsUncDict = dict.fromkeys(bands[:-2])\n",
    "dss = nc.Dataset(fpath)"
   ]
  },
  {
   "cell_type": "code",
   "execution_count": 4,
   "metadata": {
    "collapsed": false
   },
   "outputs": [],
   "source": [
    "rrsPercUncDict = dict.fromkeys(bands[:-2])\n",
    "dvars = dss.variables\n",
    "maxLat,minLat = dss.northernmost_latitude,dss.southernmost_latitude\n",
    "maxLon,minLon = dss.easternmost_longitude,dss.westernmost_longitude\n",
    "lat = dvars['lat'][:]\n",
    "lon = dvars['lon'][:]\n",
    "timeRange=dss.time_coverage_start,dss.time_coverage_end\n",
    "for band in bands[:-2]:\n",
    "    rrsDict[band] = dvars['Rrs_' + band][:]\n",
    "    rrsUncDict[band] = dvars['Rrs_unc_' + band][:]\n",
    "    rrsPercUncDict[band] = rrsUncDict[band] / rrsDict[band] * 100\n",
    "dss.close()"
   ]
  },
  {
   "cell_type": "code",
   "execution_count": 5,
   "metadata": {
    "collapsed": false
   },
   "outputs": [],
   "source": [
    "rpu412=rrsPercUncDict['412']"
   ]
  },
  {
   "cell_type": "code",
   "execution_count": 76,
   "metadata": {
    "collapsed": false
   },
   "outputs": [],
   "source": [
    "lons,lats=np.meshgrid(lon,lat)"
   ]
  },
  {
   "cell_type": "code",
   "execution_count": 77,
   "metadata": {
    "collapsed": false
   },
   "outputs": [
    {
     "data": {
      "text/plain": [
       "((1556, 4318), (1556, 4318), (1556, 4318))"
      ]
     },
     "execution_count": 77,
     "metadata": {},
     "output_type": "execute_result"
    }
   ],
   "source": [
    "lats.shape,lons.shape,rpu412.shape"
   ]
  },
  {
   "cell_type": "code",
   "execution_count": 21,
   "metadata": {
    "collapsed": false
   },
   "outputs": [],
   "source": [
    "lonm=np.ma.array(lons,mask=rpu412.mask)\n",
    "latm=np.ma.array(lats,mask=rpu412.mask)"
   ]
  },
  {
   "cell_type": "code",
   "execution_count": 78,
   "metadata": {
    "collapsed": false
   },
   "outputs": [],
   "source": [
    "Mlon=np.ma.masked_outside(lons,-180,-120)"
   ]
  },
  {
   "cell_type": "code",
   "execution_count": 79,
   "metadata": {
    "collapsed": true
   },
   "outputs": [],
   "source": [
    "newRpu412=np.ma.array(rpu412.data,mask=rpu412.mask+Mlon.mask)"
   ]
  },
  {
   "cell_type": "code",
   "execution_count": 80,
   "metadata": {
    "collapsed": false
   },
   "outputs": [],
   "source": [
    "newlats=np.ma.array(lats,mask=newRpu412.mask)\n",
    "newlons=np.ma.array(lons,mask=newRpu412.mask)"
   ]
  },
  {
   "cell_type": "code",
   "execution_count": 84,
   "metadata": {
    "collapsed": false
   },
   "outputs": [],
   "source": [
    "minLat,maxLat=newlats.compressed().min(),newlats.compressed().max()"
   ]
  },
  {
   "cell_type": "code",
   "execution_count": 86,
   "metadata": {
    "collapsed": false
   },
   "outputs": [],
   "source": [
    "minLon,maxLon=newlons.compressed().min(),newlons.compressed().max()"
   ]
  },
  {
   "cell_type": "code",
   "execution_count": 103,
   "metadata": {
    "collapsed": false
   },
   "outputs": [
    {
     "data": {
      "text/plain": [
       "<matplotlib.patches.Rectangle at 0x7f3701e8e6a0>"
      ]
     },
     "execution_count": 103,
     "metadata": {},
     "output_type": "execute_result"
    }
   ],
   "source": [
    "ms = Basemap(projection='cyl',lon_0=-150,llcrnrlon=minLon,llcrnrlat=minLat,\n",
    "             urcrnrlat=maxLat,urcrnrlon=maxLon)\n",
    "ms.drawcoastlines()\n",
    "ms.fillcontinents();\n",
    "ms.drawmapboundary(fill_color='k')"
   ]
  },
  {
   "cell_type": "code",
   "execution_count": 88,
   "metadata": {
    "collapsed": false
   },
   "outputs": [],
   "source": [
    "colorGistEart=[(0.33,0.33,0.33)] + [(pl.cm.gist_earth(i)) for i in range(1,256)]\n",
    "new_map = LinearSegmentedColormap.from_list('new_map',colorGistEart,N=256)\n",
    "imgRpu412 = ms.imshow(np.flipud(newRpu412),norm=LogNorm(vmin=0.1,vmax=1000.0),\n",
    "              cmap=new_map,interpolation='bilinear')\n",
    "cbRpu412 = ms.colorbar(imgRpu412,'bottom',size=\"5%\",pad='4%')"
   ]
  },
  {
   "cell_type": "code",
   "execution_count": null,
   "metadata": {
    "collapsed": true
   },
   "outputs": [],
   "source": [
    "scatRpu412=ms.scatter(newlons.compressed(),)"
   ]
  },
  {
   "cell_type": "code",
   "execution_count": 89,
   "metadata": {
    "collapsed": true
   },
   "outputs": [],
   "source": [
    "imgRpu412.figure.savefig('pImgTest.png')"
   ]
  },
  {
   "cell_type": "code",
   "execution_count": 54,
   "metadata": {
    "collapsed": false
   },
   "outputs": [
    {
     "ename": "NameError",
     "evalue": "name 'imgRpu412' is not defined",
     "output_type": "error",
     "traceback": [
      "\u001b[1;31m---------------------------------------------------------------------------\u001b[0m",
      "\u001b[1;31mNameError\u001b[0m                                 Traceback (most recent call last)",
      "\u001b[1;32m<ipython-input-54-2c544dac3e1c>\u001b[0m in \u001b[0;36m<module>\u001b[1;34m()\u001b[0m\n\u001b[1;32m----> 1\u001b[1;33m \u001b[0mimgRpu412\u001b[0m\u001b[1;33m.\u001b[0m\u001b[0mfigure\u001b[0m\u001b[1;33m.\u001b[0m\u001b[0mclf\u001b[0m\u001b[1;33m(\u001b[0m\u001b[1;33m)\u001b[0m\u001b[1;33m\u001b[0m\u001b[0m\n\u001b[0m",
      "\u001b[1;31mNameError\u001b[0m: name 'imgRpu412' is not defined"
     ]
    }
   ],
   "source": [
    "imgRpu412.figure.clf()"
   ]
  },
  {
   "cell_type": "code",
   "execution_count": 53,
   "metadata": {
    "collapsed": false
   },
   "outputs": [],
   "source": [
    "del imgRpu412\n",
    "del ms"
   ]
  },
  {
   "cell_type": "code",
   "execution_count": 104,
   "metadata": {
    "collapsed": false
   },
   "outputs": [],
   "source": [
    "pc=ms.pcolor(newlons,newlats,newRpu412,latlon=True)\n",
    "#cbpc = ms.colorbar(pc,'bottom',size=\"5%\",pad='4%')\n",
    "pc.figure.set_tight_layout(True)"
   ]
  },
  {
   "cell_type": "code",
   "execution_count": 105,
   "metadata": {
    "collapsed": true
   },
   "outputs": [],
   "source": [
    "pc.figure.savefig('pctest.png')"
   ]
  },
  {
   "cell_type": "code",
   "execution_count": 100,
   "metadata": {
    "collapsed": false
   },
   "outputs": [],
   "source": [
    "pc.figure.clf()"
   ]
  },
  {
   "cell_type": "code",
   "execution_count": null,
   "metadata": {
    "collapsed": true
   },
   "outputs": [],
   "source": []
  }
 ],
 "metadata": {
  "kernelspec": {
   "display_name": "Python 3",
   "language": "python",
   "name": "python3"
  },
  "language_info": {
   "codemirror_mode": {
    "name": "ipython",
    "version": 3
   },
   "file_extension": ".py",
   "mimetype": "text/x-python",
   "name": "python",
   "nbconvert_exporter": "python",
   "pygments_lexer": "ipython3",
   "version": "3.5.1"
  }
 },
 "nbformat": 4,
 "nbformat_minor": 0
}
