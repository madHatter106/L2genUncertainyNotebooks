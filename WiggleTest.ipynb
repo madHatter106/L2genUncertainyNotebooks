{
 "cells": [
  {
   "cell_type": "code",
   "execution_count": 1,
   "metadata": {
    "collapsed": false
   },
   "outputs": [],
   "source": [
    "import netCDF4 as nc\n",
    "import numpy as np\n",
    "import pandas as pd\n",
    "import matplotlib.pyplot as pl\n",
    "from matplotlib.pylab import rcParams\n",
    "%matplotlib inline"
   ]
  },
  {
   "cell_type": "code",
   "execution_count": 2,
   "metadata": {
    "collapsed": true
   },
   "outputs": [],
   "source": [
    "fontSize = 16\n",
    "rcParams['xtick.labelsize'] = fontSize\n",
    "rcParams['ytick.labelsize'] = fontSize"
   ]
  },
  {
   "cell_type": "code",
   "execution_count": 3,
   "metadata": {
    "collapsed": true
   },
   "outputs": [],
   "source": [
    "bands=['412','443','490','510','555','670','765','865']\n",
    "fpBaseline='./S1999229224418_baseline.L2'\n",
    "fp = {'Lt_412':'./Wig_412_S1999229224418.L2','Lt_443':'./Wig_443_S1999229224418.L2',\n",
    "     'Lt_490':'./Wig_490_S1999229224418.L2','Lt_510':'./Wig_510_S1999229224418.L2',\n",
    "     'Lt_555':'./Wig_555_S1999229224418.L2','Lt_670':'./Wig_670_S1999229224418.L2',\n",
    "     'Lt_765':'./Wig_765_S1999229224418.L2','Lt_865':'./Wig_865_S1999229224418.L2'}"
   ]
  },
  {
   "cell_type": "code",
   "execution_count": 4,
   "metadata": {
    "collapsed": false
   },
   "outputs": [],
   "source": [
    "ltKeys=['Lt_'+ band for band in bands]\n",
    "rrsKeys = ['Rrs_' + band for band in bands[:-2]]\n",
    "# Dictionary to store wiggle results\n",
    "#    this is a 2-level dict. \n",
    "#    first level (Lt_nnn) corresponding to the wiggled band\n",
    "#     \n",
    "wigDictRrs = {ltkey:dict.fromkeys(rrsKeys) for ltkey in ltKeys}\n",
    "wigDictLt = {ltkey:dict.fromkeys(ltKeys) for ltkey in ltKeys}"
   ]
  },
  {
   "cell_type": "code",
   "execution_count": 68,
   "metadata": {
    "collapsed": false
   },
   "outputs": [],
   "source": [
    "#First load baseline into dict of Rrs\n",
    "bslRrsDict = dict.fromkeys(rrsKeys)\n",
    "bslLtDict = dict.fromkeys(ltKeys)\n",
    "flagsDict={}\n",
    "with nc.Dataset(fpBaseline) as ds:\n",
    "    gv = ds.groups['geophysical_data'].variables\n",
    "    for prodRrs in rrsKeys:\n",
    "        bslRrsDict[prodRrs] = gv[prodRrs][:]\n",
    "    for prodLt in ltKeys:\n",
    "        bslLtDict[prodLt] = gv[prodLt][:]\n",
    "    l2flags = gv['l2_flags'][:]\n",
    "    l2flagsDesc = gv['l2_flags']\n",
    "    flagMeanings = l2flagsDesc.flag_meanings.split(' ')\n",
    "    flagMasks = l2flagsDesc.flag_masks\n",
    "    l2FlagsDict={fmask:fmeaning for fmeaning,fmask in zip(flagMeanings,flagMasks)}"
   ]
  },
  {
   "cell_type": "code",
   "execution_count": 72,
   "metadata": {
    "collapsed": false
   },
   "outputs": [
    {
     "data": {
      "text/plain": [
       "{-2147483648: 'SPARE',\n",
       " 1: 'ATMFAIL',\n",
       " 2: 'LAND',\n",
       " 4: 'PRODWARN',\n",
       " 8: 'HIGLINT',\n",
       " 16: 'HILT',\n",
       " 32: 'HISATZEN',\n",
       " 64: 'COASTZ',\n",
       " 128: 'SPARE',\n",
       " 256: 'STRAYLIGHT',\n",
       " 512: 'CLDICE',\n",
       " 1024: 'COCCOLITH',\n",
       " 2048: 'TURBIDW',\n",
       " 4096: 'HISOLZEN',\n",
       " 8192: 'SPARE',\n",
       " 16384: 'LOWLW',\n",
       " 32768: 'CHLFAIL',\n",
       " 65536: 'NAVWARN',\n",
       " 131072: 'ABSAER',\n",
       " 262144: 'SPARE',\n",
       " 524288: 'MAXAERITER',\n",
       " 1048576: 'MODGLINT',\n",
       " 2097152: 'CHLWARN',\n",
       " 4194304: 'ATMWARN',\n",
       " 8388608: 'SPARE',\n",
       " 16777216: 'SEAICE',\n",
       " 33554432: 'NAVFAIL',\n",
       " 67108864: 'FILTER',\n",
       " 134217728: 'SPARE',\n",
       " 268435456: 'BOWTIEDEL',\n",
       " 536870912: 'HIPOL',\n",
       " 1073741824: 'PRODFAIL'}"
      ]
     },
     "execution_count": 72,
     "metadata": {},
     "output_type": "execute_result"
    }
   ],
   "source": [
    "l2FlagsDict"
   ]
  },
  {
   "cell_type": "code",
   "execution_count": 6,
   "metadata": {
    "collapsed": false
   },
   "outputs": [],
   "source": [
    "# wig_by = Lt'/Lt - 1\n",
    "# for rrs => Rrs'/Rrs - 1\n",
    "for wigKey in ltKeys:\n",
    "    with nc.Dataset(fp[wigKey]) as ds:\n",
    "        gv = ds.groups['geophysical_data'].variables\n",
    "        for prod in ltKeys:\n",
    "            lt_wig = gv[prod][:]\n",
    "            lt = bslLtDict[prod]\n",
    "            wigDictLt[wigKey][prod] = lt_wig/lt - 1\n",
    "        for prod in rrsKeys:\n",
    "            rrs_wig = gv[prod][:]\n",
    "            rrs = bslRrsDict[prod]\n",
    "            wigDictRrs[wigKey][prod] = (rrs_wig/rrs - 1).compressed()  "
   ]
  },
  {
   "cell_type": "code",
   "execution_count": null,
   "metadata": {
    "collapsed": true
   },
   "outputs": [],
   "source": [
    "# and now to tabulate and plot all that stuff\n",
    "# for Lt simply do assess the pixel - by pixel difference and take the mean and median\n",
    "# for rrs 8 panels of 6 subplots. Might as well write a function for both"
   ]
  },
  {
   "cell_type": "code",
   "execution_count": 8,
   "metadata": {
    "collapsed": false
   },
   "outputs": [
    {
     "data": {
      "text/plain": [
       "0.74260235"
      ]
     },
     "execution_count": 8,
     "metadata": {},
     "output_type": "execute_result"
    }
   ],
   "source": [
    "np.median(wigDictRrs['Lt_412']['Rrs_412']*100)"
   ]
  },
  {
   "cell_type": "code",
   "execution_count": 9,
   "metadata": {
    "collapsed": false
   },
   "outputs": [],
   "source": [
    "meanWigDictLt = dict.fromkeys(ltKeys)\n",
    "meanWigDictLt = {ltk:dict.fromkeys(ltKeys) for ltk in ltKeys}\n",
    "medianWigDictLt = dict.fromkeys(ltKeys)\n",
    "medianWigDictLt = {ltk:dict.fromkeys(ltKeys) for ltk in ltKeys}\n",
    "meanWigDictRrs = dict.fromkeys(ltKeys)\n",
    "meanWigDictRrs = {ltk:dict.fromkeys(rrsKeys) for ltk in ltKeys}\n",
    "medianWigDictRrs = dict.fromkeys(ltKeys)\n",
    "medianWigDictRrs = {ltk:dict.fromkeys(rrsKeys) for ltk in ltKeys}\n",
    "for wigKey in ltKeys:\n",
    "    for ltKey in ltKeys:\n",
    "        meanWigDictLt[wigKey][ltKey] = np.mean(wigDictLt[wigKey][ltKey]*100)\n",
    "        medianWigDictLt[wigKey][ltKey] = np.median(wigDictLt[wigKey][ltKey]*100)\n",
    "    for rrsKey in rrsKeys:\n",
    "        meanWigDictRrs[wigKey][rrsKey] = np.mean(wigDictRrs[wigKey][rrsKey]*100)\n",
    "        medianWigDictRrs[wigKey][rrsKey] = np.median(wigDictRrs[wigKey][rrsKey]*100)\n",
    "\n",
    "dfLtMedian = pd.DataFrame(medianWigDictLt)\n",
    "dfLtMean = pd.DataFrame(meanWigDictLt)\n",
    "dfRrsMedian = pd.DataFrame(medianWigDictRrs)\n",
    "dfRrsMean = pd.DataFrame(meanWigDictRrs)\n",
    "        "
   ]
  },
  {
   "cell_type": "code",
   "execution_count": 10,
   "metadata": {
    "collapsed": false
   },
   "outputs": [
    {
     "data": {
      "text/html": [
       "<div>\n",
       "<table border=\"1\" class=\"dataframe\">\n",
       "  <thead>\n",
       "    <tr style=\"text-align: right;\">\n",
       "      <th></th>\n",
       "      <th>Lt_412</th>\n",
       "      <th>Lt_443</th>\n",
       "      <th>Lt_490</th>\n",
       "      <th>Lt_510</th>\n",
       "      <th>Lt_555</th>\n",
       "      <th>Lt_670</th>\n",
       "      <th>Lt_765</th>\n",
       "      <th>Lt_865</th>\n",
       "    </tr>\n",
       "  </thead>\n",
       "  <tbody>\n",
       "    <tr>\n",
       "      <th>Lt_412</th>\n",
       "      <td>0.100005</td>\n",
       "      <td>0.000000</td>\n",
       "      <td>0.000000</td>\n",
       "      <td>0.000000</td>\n",
       "      <td>0.000000</td>\n",
       "      <td>0.000000</td>\n",
       "      <td>0.000000</td>\n",
       "      <td>0.000000</td>\n",
       "    </tr>\n",
       "    <tr>\n",
       "      <th>Lt_443</th>\n",
       "      <td>0.000000</td>\n",
       "      <td>0.100005</td>\n",
       "      <td>0.000000</td>\n",
       "      <td>0.000000</td>\n",
       "      <td>0.000000</td>\n",
       "      <td>0.000000</td>\n",
       "      <td>0.000000</td>\n",
       "      <td>0.000000</td>\n",
       "    </tr>\n",
       "    <tr>\n",
       "      <th>Lt_490</th>\n",
       "      <td>0.000000</td>\n",
       "      <td>0.000000</td>\n",
       "      <td>0.100005</td>\n",
       "      <td>0.000000</td>\n",
       "      <td>0.000000</td>\n",
       "      <td>0.000000</td>\n",
       "      <td>0.000000</td>\n",
       "      <td>0.000000</td>\n",
       "    </tr>\n",
       "    <tr>\n",
       "      <th>Lt_510</th>\n",
       "      <td>0.000000</td>\n",
       "      <td>0.000000</td>\n",
       "      <td>0.000000</td>\n",
       "      <td>0.100005</td>\n",
       "      <td>0.000000</td>\n",
       "      <td>0.000000</td>\n",
       "      <td>0.000000</td>\n",
       "      <td>0.000000</td>\n",
       "    </tr>\n",
       "    <tr>\n",
       "      <th>Lt_555</th>\n",
       "      <td>0.000000</td>\n",
       "      <td>0.000000</td>\n",
       "      <td>0.000000</td>\n",
       "      <td>0.000000</td>\n",
       "      <td>0.100005</td>\n",
       "      <td>0.000000</td>\n",
       "      <td>0.000000</td>\n",
       "      <td>0.000000</td>\n",
       "    </tr>\n",
       "    <tr>\n",
       "      <th>Lt_670</th>\n",
       "      <td>0.000000</td>\n",
       "      <td>0.000000</td>\n",
       "      <td>0.000000</td>\n",
       "      <td>0.000000</td>\n",
       "      <td>0.000000</td>\n",
       "      <td>0.100005</td>\n",
       "      <td>0.000000</td>\n",
       "      <td>0.000000</td>\n",
       "    </tr>\n",
       "    <tr>\n",
       "      <th>Lt_765</th>\n",
       "      <td>0.000000</td>\n",
       "      <td>0.000000</td>\n",
       "      <td>0.000000</td>\n",
       "      <td>0.000000</td>\n",
       "      <td>0.000000</td>\n",
       "      <td>0.000000</td>\n",
       "      <td>0.100005</td>\n",
       "      <td>0.000000</td>\n",
       "    </tr>\n",
       "    <tr>\n",
       "      <th>Lt_865</th>\n",
       "      <td>0.000000</td>\n",
       "      <td>0.000000</td>\n",
       "      <td>0.000000</td>\n",
       "      <td>0.000000</td>\n",
       "      <td>0.000000</td>\n",
       "      <td>0.000000</td>\n",
       "      <td>0.000000</td>\n",
       "      <td>0.100005</td>\n",
       "    </tr>\n",
       "  </tbody>\n",
       "</table>\n",
       "</div>"
      ],
      "text/plain": [
       "          Lt_412    Lt_443    Lt_490    Lt_510    Lt_555    Lt_670    Lt_765  \\\n",
       "Lt_412  0.100005  0.000000  0.000000  0.000000  0.000000  0.000000  0.000000   \n",
       "Lt_443  0.000000  0.100005  0.000000  0.000000  0.000000  0.000000  0.000000   \n",
       "Lt_490  0.000000  0.000000  0.100005  0.000000  0.000000  0.000000  0.000000   \n",
       "Lt_510  0.000000  0.000000  0.000000  0.100005  0.000000  0.000000  0.000000   \n",
       "Lt_555  0.000000  0.000000  0.000000  0.000000  0.100005  0.000000  0.000000   \n",
       "Lt_670  0.000000  0.000000  0.000000  0.000000  0.000000  0.100005  0.000000   \n",
       "Lt_765  0.000000  0.000000  0.000000  0.000000  0.000000  0.000000  0.100005   \n",
       "Lt_865  0.000000  0.000000  0.000000  0.000000  0.000000  0.000000  0.000000   \n",
       "\n",
       "          Lt_865  \n",
       "Lt_412  0.000000  \n",
       "Lt_443  0.000000  \n",
       "Lt_490  0.000000  \n",
       "Lt_510  0.000000  \n",
       "Lt_555  0.000000  \n",
       "Lt_670  0.000000  \n",
       "Lt_765  0.000000  \n",
       "Lt_865  0.100005  "
      ]
     },
     "execution_count": 10,
     "metadata": {},
     "output_type": "execute_result"
    }
   ],
   "source": [
    "dfLtMedian"
   ]
  },
  {
   "cell_type": "code",
   "execution_count": null,
   "metadata": {
    "collapsed": false
   },
   "outputs": [],
   "source": [
    "dfLtMean "
   ]
  },
  {
   "cell_type": "code",
   "execution_count": 11,
   "metadata": {
    "collapsed": false
   },
   "outputs": [],
   "source": [
    "dfRrsMean = dfRrsMean.transpose()"
   ]
  },
  {
   "cell_type": "code",
   "execution_count": 12,
   "metadata": {
    "collapsed": false
   },
   "outputs": [],
   "source": [
    "dfRrsMedian = dfRrsMedian.transpose()"
   ]
  },
  {
   "cell_type": "code",
   "execution_count": 13,
   "metadata": {
    "collapsed": false
   },
   "outputs": [
    {
     "data": {
      "text/html": [
       "<div>\n",
       "<table border=\"1\" class=\"dataframe\">\n",
       "  <thead>\n",
       "    <tr style=\"text-align: right;\">\n",
       "      <th></th>\n",
       "      <th>Rrs_412</th>\n",
       "      <th>Rrs_443</th>\n",
       "      <th>Rrs_490</th>\n",
       "      <th>Rrs_510</th>\n",
       "      <th>Rrs_555</th>\n",
       "      <th>Rrs_670</th>\n",
       "    </tr>\n",
       "  </thead>\n",
       "  <tbody>\n",
       "    <tr>\n",
       "      <th>Lt_412</th>\n",
       "      <td>1.201042</td>\n",
       "      <td>-0.000002</td>\n",
       "      <td>-0.000001</td>\n",
       "      <td>0.000129</td>\n",
       "      <td>-0.000001</td>\n",
       "      <td>0.000108</td>\n",
       "    </tr>\n",
       "    <tr>\n",
       "      <th>Lt_443</th>\n",
       "      <td>-0.002299</td>\n",
       "      <td>0.914174</td>\n",
       "      <td>0.016009</td>\n",
       "      <td>-0.004595</td>\n",
       "      <td>0.240461</td>\n",
       "      <td>-0.004338</td>\n",
       "    </tr>\n",
       "    <tr>\n",
       "      <th>Lt_490</th>\n",
       "      <td>0.010613</td>\n",
       "      <td>0.048618</td>\n",
       "      <td>0.780972</td>\n",
       "      <td>-0.767276</td>\n",
       "      <td>-0.041237</td>\n",
       "      <td>-0.951316</td>\n",
       "    </tr>\n",
       "    <tr>\n",
       "      <th>Lt_510</th>\n",
       "      <td>-0.014837</td>\n",
       "      <td>-0.003550</td>\n",
       "      <td>0.000414</td>\n",
       "      <td>0.997988</td>\n",
       "      <td>-0.008121</td>\n",
       "      <td>-0.045355</td>\n",
       "    </tr>\n",
       "    <tr>\n",
       "      <th>Lt_555</th>\n",
       "      <td>-0.037694</td>\n",
       "      <td>-0.069617</td>\n",
       "      <td>-0.052945</td>\n",
       "      <td>0.035819</td>\n",
       "      <td>1.569927</td>\n",
       "      <td>0.604717</td>\n",
       "    </tr>\n",
       "    <tr>\n",
       "      <th>Lt_670</th>\n",
       "      <td>0.007842</td>\n",
       "      <td>0.029045</td>\n",
       "      <td>0.172219</td>\n",
       "      <td>-0.075057</td>\n",
       "      <td>-0.445433</td>\n",
       "      <td>3.692399</td>\n",
       "    </tr>\n",
       "    <tr>\n",
       "      <th>Lt_765</th>\n",
       "      <td>-1.081093</td>\n",
       "      <td>-0.182030</td>\n",
       "      <td>-0.492552</td>\n",
       "      <td>0.651101</td>\n",
       "      <td>4.758566</td>\n",
       "      <td>-8.802188</td>\n",
       "    </tr>\n",
       "    <tr>\n",
       "      <th>Lt_865</th>\n",
       "      <td>0.453168</td>\n",
       "      <td>0.455933</td>\n",
       "      <td>0.556967</td>\n",
       "      <td>1.344501</td>\n",
       "      <td>1.039139</td>\n",
       "      <td>2.397753</td>\n",
       "    </tr>\n",
       "  </tbody>\n",
       "</table>\n",
       "</div>"
      ],
      "text/plain": [
       "         Rrs_412   Rrs_443   Rrs_490   Rrs_510   Rrs_555   Rrs_670\n",
       "Lt_412  1.201042 -0.000002 -0.000001  0.000129 -0.000001  0.000108\n",
       "Lt_443 -0.002299  0.914174  0.016009 -0.004595  0.240461 -0.004338\n",
       "Lt_490  0.010613  0.048618  0.780972 -0.767276 -0.041237 -0.951316\n",
       "Lt_510 -0.014837 -0.003550  0.000414  0.997988 -0.008121 -0.045355\n",
       "Lt_555 -0.037694 -0.069617 -0.052945  0.035819  1.569927  0.604717\n",
       "Lt_670  0.007842  0.029045  0.172219 -0.075057 -0.445433  3.692399\n",
       "Lt_765 -1.081093 -0.182030 -0.492552  0.651101  4.758566 -8.802188\n",
       "Lt_865  0.453168  0.455933  0.556967  1.344501  1.039139  2.397753"
      ]
     },
     "execution_count": 13,
     "metadata": {},
     "output_type": "execute_result"
    }
   ],
   "source": [
    "dfRrsMean"
   ]
  },
  {
   "cell_type": "code",
   "execution_count": 14,
   "metadata": {
    "collapsed": false
   },
   "outputs": [
    {
     "data": {
      "text/html": [
       "<div>\n",
       "<table border=\"1\" class=\"dataframe\">\n",
       "  <thead>\n",
       "    <tr style=\"text-align: right;\">\n",
       "      <th></th>\n",
       "      <th>Rrs_412</th>\n",
       "      <th>Rrs_443</th>\n",
       "      <th>Rrs_490</th>\n",
       "      <th>Rrs_510</th>\n",
       "      <th>Rrs_555</th>\n",
       "      <th>Rrs_670</th>\n",
       "    </tr>\n",
       "  </thead>\n",
       "  <tbody>\n",
       "    <tr>\n",
       "      <th>Lt_412</th>\n",
       "      <td>0.742602</td>\n",
       "      <td>0.000000</td>\n",
       "      <td>0.000000</td>\n",
       "      <td>0.000000</td>\n",
       "      <td>0.000000</td>\n",
       "      <td>0.000000</td>\n",
       "    </tr>\n",
       "    <tr>\n",
       "      <th>Lt_443</th>\n",
       "      <td>0.000000</td>\n",
       "      <td>0.695717</td>\n",
       "      <td>0.000000</td>\n",
       "      <td>0.000000</td>\n",
       "      <td>0.000000</td>\n",
       "      <td>0.000000</td>\n",
       "    </tr>\n",
       "    <tr>\n",
       "      <th>Lt_490</th>\n",
       "      <td>0.013387</td>\n",
       "      <td>0.018942</td>\n",
       "      <td>0.653625</td>\n",
       "      <td>-0.055081</td>\n",
       "      <td>0.000000</td>\n",
       "      <td>0.000000</td>\n",
       "    </tr>\n",
       "    <tr>\n",
       "      <th>Lt_510</th>\n",
       "      <td>0.000000</td>\n",
       "      <td>0.000000</td>\n",
       "      <td>0.000000</td>\n",
       "      <td>0.839877</td>\n",
       "      <td>0.000000</td>\n",
       "      <td>0.000000</td>\n",
       "    </tr>\n",
       "    <tr>\n",
       "      <th>Lt_555</th>\n",
       "      <td>-0.027031</td>\n",
       "      <td>-0.037360</td>\n",
       "      <td>-0.030822</td>\n",
       "      <td>0.064695</td>\n",
       "      <td>1.307833</td>\n",
       "      <td>0.000000</td>\n",
       "    </tr>\n",
       "    <tr>\n",
       "      <th>Lt_670</th>\n",
       "      <td>0.000000</td>\n",
       "      <td>0.000000</td>\n",
       "      <td>0.000000</td>\n",
       "      <td>0.000000</td>\n",
       "      <td>0.000000</td>\n",
       "      <td>3.279495</td>\n",
       "    </tr>\n",
       "    <tr>\n",
       "      <th>Lt_765</th>\n",
       "      <td>-0.444078</td>\n",
       "      <td>-0.510681</td>\n",
       "      <td>-0.670367</td>\n",
       "      <td>-1.101512</td>\n",
       "      <td>-1.816130</td>\n",
       "      <td>-5.000156</td>\n",
       "    </tr>\n",
       "    <tr>\n",
       "      <th>Lt_865</th>\n",
       "      <td>0.295162</td>\n",
       "      <td>0.330961</td>\n",
       "      <td>0.418890</td>\n",
       "      <td>0.676501</td>\n",
       "      <td>1.076722</td>\n",
       "      <td>2.143371</td>\n",
       "    </tr>\n",
       "  </tbody>\n",
       "</table>\n",
       "</div>"
      ],
      "text/plain": [
       "         Rrs_412   Rrs_443   Rrs_490   Rrs_510   Rrs_555   Rrs_670\n",
       "Lt_412  0.742602  0.000000  0.000000  0.000000  0.000000  0.000000\n",
       "Lt_443  0.000000  0.695717  0.000000  0.000000  0.000000  0.000000\n",
       "Lt_490  0.013387  0.018942  0.653625 -0.055081  0.000000  0.000000\n",
       "Lt_510  0.000000  0.000000  0.000000  0.839877  0.000000  0.000000\n",
       "Lt_555 -0.027031 -0.037360 -0.030822  0.064695  1.307833  0.000000\n",
       "Lt_670  0.000000  0.000000  0.000000  0.000000  0.000000  3.279495\n",
       "Lt_765 -0.444078 -0.510681 -0.670367 -1.101512 -1.816130 -5.000156\n",
       "Lt_865  0.295162  0.330961  0.418890  0.676501  1.076722  2.143371"
      ]
     },
     "execution_count": 14,
     "metadata": {},
     "output_type": "execute_result"
    }
   ],
   "source": [
    "dfRrsMedian"
   ]
  },
  {
   "cell_type": "code",
   "execution_count": null,
   "metadata": {
    "collapsed": false
   },
   "outputs": [],
   "source": [
    "# Plotting:\n",
    "# first let's get some ranges\n",
    "for wigKey in ltKeys:\n",
    "    print(wigKey,end=':\\n')\n",
    "    for rk in rrsKeys:\n",
    "        data = wigDictRrs[wigKey][rk]\n",
    "        print('\\t',rk,end=':\\n')\n",
    "        print('\\t\\t %f -- %f' % (np.round(data.min())*100,np.round(data.max())*100))"
   ]
  },
  {
   "cell_type": "code",
   "execution_count": null,
   "metadata": {
    "collapsed": false
   },
   "outputs": [],
   "source": [
    "type(wigDictRrs[wigKey][rk].max())"
   ]
  },
  {
   "cell_type": "code",
   "execution_count": null,
   "metadata": {
    "collapsed": false
   },
   "outputs": [],
   "source": [
    "sb.set_style('dark')\n",
    "rcParams['xtick.minor.visible'] = True\n",
    "rcParams['xtick.minor.size'] = 5\n",
    "rcParams['xtick.minor.width'] = 2\n",
    "rcParams['xtick.direction'] = 'Down'\n",
    "from matplotlib.ticker import LogLocator\n",
    "def WigPlotter(wdict,ltky,rrskys):\n",
    "    figRows,figCols=3,2\n",
    "    reshRrsKys = np.reshape(rrskys,(3,2))\n",
    "    fig,axs = pl.subplots(nrows=figRows,ncols=figCols,figsize=(12,15))\n",
    "    for i in range(figRows):\n",
    "        for j in range(figCols):\n",
    "            data = wdict[ltky][reshRrsKys[i,j]]\n",
    "            #data = data[data>0] \n",
    "            #rng = round(data.min())*100,round(data.max())*100\n",
    "            data *=100\n",
    "            logbins=np.logspace(np.log10(rng[0]),np.log10(rng[1]),100)\n",
    "            axs[i,j].hist(np.abs(data),bins=logbins,range=rng,normed=True)\n",
    "            axs[i,j].set_xlim(rng)\n",
    "            axs[i,j].set_xscale('log')\n",
    "            if j==0:\n",
    "                axs[i,j].set_ylabel('freq.',fontsize=fontSize)\n",
    "            if i == (figRows-1):\n",
    "                axs[i,j].set_xlabel(r'$\\delta Rrs (%)$',fontsize=fontSize)\n",
    "            \n",
    "            axs[i,j].xaxis.grid(True, which='minor') \n",
    "            minorLocator=LogLocator(subs=np.arange(2,11)/10)\n",
    "            axs[i,j].xaxis.set_minor_locator(minorLocator)\n",
    "            axs[i,j].spines['top'].set_visible(False)\n",
    "            axs[i,j].xaxis.set_ticks_position('bottom')\n",
    "            axs[i,j].set_title(reshRrsKys[i,j])\n",
    "    fig.suptitle(ltky)"
   ]
  },
  {
   "cell_type": "code",
   "execution_count": 74,
   "metadata": {
    "collapsed": true
   },
   "outputs": [],
   "source": [
    "data = wigDictRrs['Lt_412']['Rrs_412']*100"
   ]
  },
  {
   "cell_type": "code",
   "execution_count": 77,
   "metadata": {
    "collapsed": false
   },
   "outputs": [
    {
     "data": {
      "text/plain": [
       "(-1, 4)"
      ]
     },
     "execution_count": 77,
     "metadata": {},
     "output_type": "execute_result"
    },
    {
     "data": {
      "image/png": "[encoded data removed]",
      "text/plain": [
       "<matplotlib.figure.Figure at 0x7f971961d710>"
      ]
     },
     "metadata": {},
     "output_type": "display_data"
    }
   ],
   "source": [
    "import seaborn as sb\n",
    "f,a = pl.subplots()\n",
    "sb.distplot(data,bins=100,hist_kws={\"range\":(0,4)},ax=a,kde=False)\n",
    "a.set_xlim(-1,4)\n"
   ]
  },
  {
   "cell_type": "code",
   "execution_count": 26,
   "metadata": {
    "collapsed": false
   },
   "outputs": [
    {
     "data": {
      "image/png": "[encoded data removed]",
      "text/plain": [
       "<matplotlib.figure.Figure at 0x7f972e960f98>"
      ]
     },
     "metadata": {},
     "output_type": "display_data"
    }
   ],
   "source": [
    "def axis_to_fig(axis):\n",
    "    fig = axis.figure\n",
    "    def transform(coord):\n",
    "        return fig.transFigure.inverted().transform(axis.transAxes.transform(coord))\n",
    "    return transform\n",
    "\n",
    "def add_sub_axes(axis,rect):\n",
    "    fig = axis.figure\n",
    "    left,bottom,width,height = rect\n",
    "    trans = axis_to_fig(axis)\n",
    "    figleft,figbottom = trans((left,bottom))\n",
    "    figwidth,figheight = trans([width,height]) - trans([0,0])\n",
    "    return fig.add_axes([figleft,figbottom,figwidth,figheight])\n",
    "\n",
    "rcParams['xtick.minor.visible']=False\n",
    "rcParams['xtick.labelsize']=16\n",
    "rcParams['ytick.labelsize']=16\n",
    "fig,axs=pl.subplots(nrows=4,ncols=2,figsize=(20,18))\n",
    "vRngDict={'Lt_412':(-25,50),'Lt_443':(-10000,75000),'Lt_490':(-2,1.5),\n",
    "         'Lt_510':(-20000,10000),'Lt_555':(-.5,3),'Lt_670':(-80000,3000),\n",
    "         'Lt_765':(-25,10),'Lt_865':(-8,13)}\n",
    "# -.2,5\n",
    "vSubDict={'Lt_412':(-.2,1.5),'Lt_443':(-.1,1),'Lt_490':None,\n",
    "         'Lt_510':(-.1,2),'Lt_555':None,'Lt_670':(-.1,7),\n",
    "         'Lt_765':None,'Lt_865':None}\n",
    "recDict={'Lt_412':[.1,.55,.4,.4],'Lt_443':[.1,.35,.6,.6],'Lt_490':[.1,.05,.7,.4],\n",
    "         'Lt_510':[.1,.1,.7,.4],'Lt_555':[.1,.35,.5,.6],'Lt_670':[.1,.1,.4,.6],\n",
    "         'Lt_765':[.1,.05,.4,.6],'Lt_865':[.1,.55,.6,.42]}\n",
    "yaxTickDict={'Lt_412':[0,0.5,1],'Lt_443':[0,0.5,1],'Lt_510':[0,1,2],'Lt_670':[0,2,4,6]}\n",
    "for ltky,ax in zip(ltKeys,axs.ravel()):\n",
    "    data = [wigDictRrs[ltky][rrsky] * 100 for rrsky in rrsKeys]\n",
    "    ax.boxplot(data,'gD',labels=rrsKeys,widths=0.8,whis=[5,95],showfliers=False)\n",
    "    ax.set_ylim(vRngDict[ltky])\n",
    "    ax.set_title(ltky,fontsize=fontSize)\n",
    "    ax.set_ylabel(r'$ \\% \\delta Rrs $',fontsize=fontSize)\n",
    "    if vSubDict[ltky] is not None:\n",
    "        subaxis = add_sub_axes(ax,recDict[ltky])\n",
    "        subaxis.boxplot(data,labels=bands[:-2],whis=[5,95],showfliers=False)\n",
    "        subaxis.set_ylim(vSubDict[ltky])\n",
    "        subaxis.set_yticks(yaxTickDict[ltky])"
   ]
  },
  {
   "cell_type": "code",
   "execution_count": null,
   "metadata": {
    "collapsed": true
   },
   "outputs": [],
   "source": []
  }
 ],
 "metadata": {
  "kernelspec": {
   "display_name": "Python 3",
   "language": "python",
   "name": "python3"
  },
  "language_info": {
   "codemirror_mode": {
    "name": "ipython",
    "version": 3
   },
   "file_extension": ".py",
   "mimetype": "text/x-python",
   "name": "python",
   "nbconvert_exporter": "python",
   "pygments_lexer": "ipython3",
   "version": "3.5.1"
  }
 },
 "nbformat": 4,
 "nbformat_minor": 0
}
