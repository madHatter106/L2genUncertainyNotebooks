{
 "cells": [
  {
   "cell_type": "code",
   "execution_count": null,
   "metadata": {
    "collapsed": true
   },
   "outputs": [],
   "source": [
    "from AnalyticNoise import SwfNoise\n",
    "import matplotlib.pyplot as plt\n",
    "import seaborn as sns\n",
    "import numpy as np\n",
    "import netCDF4 as nc\n",
    "import subprocess"
   ]
  },
  {
   "cell_type": "code",
   "execution_count": null,
   "metadata": {
    "collapsed": true
   },
   "outputs": [],
   "source": [
    "def JointHexPlot(detData,mcData,band,saveFile=True,showPlot=False):\n",
    "    \n",
    "    x_fin_idx = np.isfinite(detData)\n",
    "    y_fin_idx = np.isfinite(mcData)\n",
    "    fin_idx = x_fin_idx & y_fin_idx\n",
    "    x_det= detData[fin_idx]\n",
    "    y_mc = mcData[fin_idx]\n",
    "    \n",
    "    xmn,xmx = np.nanmin(x_det),np.nanmax(x_det)\n",
    "    ymn,ymx = np.nanmin(y_mc),np.nanmax(y_mc)\n",
    "    \n",
    "    sns.jointplot(x_det,y_mc,xlim = (xmn,xmx),ylim=(ymn,ymx),kind='hex')\n",
    "    plt.xlabel('Deterministic ($sr^{-1}$)')\n",
    "    plt.ylabel('MC $sr^{-1}$')\n",
    "    title = str(band)\n",
    "    plt.title(title)\n",
    "    \n",
    "    if saveFile:\n",
    "        savename='Comp' + title + '.pdf'\n",
    "        plt.savefig(savename,bbox_inches='tight')\n",
    "        try:\n",
    "            subprocess.call(['pdfcrop', savename, savename])\n",
    "        except:\n",
    "            print 'This feature will only work if pdfcrop is available'\n",
    "    if showPlot:\n",
    "        plt.show()"
   ]
  },
  {
   "cell_type": "code",
   "execution_count": null,
   "metadata": {
    "collapsed": true
   },
   "outputs": [],
   "source": [
    "fnMainDir = './DATA/L2/MC-AnalyticComp/Analytic/p0p50_1/'\n",
    "fnMainID = 'S2003182003236'\n",
    "fnAllSfx = '.L2'\n",
    "fnNoiseDir = 'Perturbed/'\n",
    "fnNsSfx = '_wiggledBand_'`\n",
    "baseLinePath = fnMainDir+fnMainID + fnAllSfx"
   ]
  },
  {
   "cell_type": "code",
   "execution_count": null,
   "metadata": {
    "collapsed": true
   },
   "outputs": [],
   "source": [
    "swfp5=SwfNoise(baseLinePath,multiDimVar=True)\n",
    "\n",
    "pertDict=dict.fromkeys(swfp5.bands)\n",
    "for i,ky in enumerate(swfp5.bands):\n",
    "    path = fnMainDir + fnNoiseDir + fnMainID + fnNsSfx + str(i) + fnAllSfx\n",
    "    pertDict[ky] = path\n",
    "\n",
    "swfp5.GetBaseline()\n",
    "\n",
    "swfp5.UpdateAllVars(pertDict)"
   ]
  },
  {
   "cell_type": "code",
   "execution_count": null,
   "metadata": {
    "collapsed": true
   },
   "outputs": [],
   "source": [
    "std412 = np.sqrt(swfp5.rrsVarDict['412'])\n",
    "std443 = np.sqrt(swfp5.rrsVarDict['443'])\n",
    "std490 = np.sqrt(swfp5.rrsVarDict['490'])\n",
    "std510 = np.sqrt(swfp5.rrsVarDict['510'])\n",
    "std555 = np.sqrt(swfp5.rrsVarDict['555'])\n",
    "std670 = np.sqrt(swfp5.rrsVarDict['670'])"
   ]
  },
  {
   "cell_type": "code",
   "execution_count": null,
   "metadata": {
    "collapsed": true
   },
   "outputs": [],
   "source": [
    "dsMC = nc.Dataset('./DATA/L2/S2003182003236_silent_MC400.L2')\n",
    "badval=-32767.0\n",
    "\n",
    "std412MC = np.array(dsMC.groups['geophysical_data'].variables['Rrs_unc_412']).flatten()\n",
    "std412MC[std412MC == badval] = np.nan\n",
    "std443MC = np.array(dsMC.groups['geophysical_data'].variables['Rrs_unc_443']).flatten()\n",
    "std443MC[std443MC == badval] = np.nan\n",
    "std490MC = np.array(dsMC.groups['geophysical_data'].variables['Rrs_unc_490']).flatten()\n",
    "std490MC[std490MC == badval] = np.nan\n",
    "std510MC = np.array(dsMC.groups['geophysical_data'].variables['Rrs_unc_510']).flatten()\n",
    "std510MC[std510MC == badval] = np.nan\n",
    "std555MC = np.array(dsMC.groups['geophysical_data'].variables['Rrs_unc_555']).flatten()\n",
    "std555MC[std555MC == badval] = np.nan\n",
    "std670MC = np.arrya(dsMC.groups['geophysical_data'].variables['Rrs_unc_670']).flatten()\n",
    "std670MC[std670MC == badval] = np.nan"
   ]
  },
  {
   "cell_type": "code",
   "execution_count": null,
   "metadata": {
    "collapsed": true
   },
   "outputs": [],
   "source": [
    "JointHexPlot(std412[:,-1],std412MC,'412',saveFile=False,showPlot=True)"
   ]
  },
  {
   "cell_type": "code",
   "execution_count": null,
   "metadata": {
    "collapsed": true
   },
   "outputs": [],
   "source": [
    "JointHexPlot(std443[:,-1],std443MC,'443',saveFile=False,showPlot=True)"
   ]
  },
  {
   "cell_type": "code",
   "execution_count": null,
   "metadata": {
    "collapsed": true
   },
   "outputs": [],
   "source": [
    "JointHexPlot(std490[:,-1],std490MC,'490',saveFile=False,showPlot=True)"
   ]
  },
  {
   "cell_type": "code",
   "execution_count": null,
   "metadata": {
    "collapsed": true
   },
   "outputs": [],
   "source": [
    "JointHexPlot(std510[:,-1],std510MC,'510',saveFile=False,showPlot=True)"
   ]
  },
  {
   "cell_type": "code",
   "execution_count": null,
   "metadata": {
    "collapsed": true
   },
   "outputs": [],
   "source": [
    "JointHexPlot(std555[:,-1],std555MC,'555',saveFile=False,showPlot=True)"
   ]
  },
  {
   "cell_type": "code",
   "execution_count": null,
   "metadata": {
    "collapsed": true
   },
   "outputs": [],
   "source": [
    "JointHexPlot(std443[:,-1],std443MC,'412',saveFile=False,showPlot=True)"
   ]
  }
 ],
 "metadata": {
  "kernelspec": {
   "display_name": "Python 2",
   "language": "python",
   "name": "python2"
  },
  "language_info": {
   "codemirror_mode": {
    "name": "ipython",
    "version": 2
   },
   "file_extension": ".py",
   "mimetype": "text/x-python",
   "name": "python",
   "nbconvert_exporter": "python",
   "pygments_lexer": "ipython2",
   "version": "2.7.10"
  }
 },
 "nbformat": 4,
 "nbformat_minor": 0
}
