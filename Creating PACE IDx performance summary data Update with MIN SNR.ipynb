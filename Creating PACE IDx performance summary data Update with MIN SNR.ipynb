{
 "cells": [
  {
   "cell_type": "code",
   "execution_count": 1,
   "metadata": {
    "collapsed": false
   },
   "outputs": [],
   "source": [
    "import pandas as pd\n",
    "import pickle\n",
    "import matplotlib.pyplot as pl\n",
    "import numpy as np"
   ]
  },
  {
   "cell_type": "code",
   "execution_count": 2,
   "metadata": {
    "collapsed": true
   },
   "outputs": [],
   "source": [
    "tableDict = pickle.load(open('/accounts/ekarakoy/UNCERTAINTIES/datafiles/TableDict2.p','rb'))"
   ]
  },
  {
   "cell_type": "code",
   "execution_count": 3,
   "metadata": {
    "collapsed": true
   },
   "outputs": [],
   "source": [
    "pn = pd.Panel(tableDict)"
   ]
  },
  {
   "cell_type": "code",
   "execution_count": 4,
   "metadata": {
    "collapsed": true
   },
   "outputs": [],
   "source": [
    "pn.to_excel('/accounts/ekarakoy/UNCERTAINTIES/datafiles/MCTable.xlsx')"
   ]
  },
  {
   "cell_type": "code",
   "execution_count": 5,
   "metadata": {
    "collapsed": false
   },
   "outputs": [],
   "source": [
    "pn2=pn.swapaxes('items','major_axis')"
   ]
  },
  {
   "cell_type": "code",
   "execution_count": 6,
   "metadata": {
    "collapsed": true
   },
   "outputs": [],
   "source": [
    "pn3=pn2.swapaxes('major_axis','minor_axis')"
   ]
  },
  {
   "cell_type": "code",
   "execution_count": 7,
   "metadata": {
    "collapsed": false
   },
   "outputs": [
    {
     "data": {
      "text/html": [
       "<div>\n",
       "<table border=\"1\" class=\"dataframe\">\n",
       "  <thead>\n",
       "    <tr style=\"text-align: right;\">\n",
       "      <th></th>\n",
       "      <th>ID1</th>\n",
       "      <th>ID2</th>\n",
       "      <th>ID8</th>\n",
       "      <th>ID9</th>\n",
       "      <th>MIN_SNR</th>\n",
       "      <th>SDT</th>\n",
       "    </tr>\n",
       "  </thead>\n",
       "  <tbody>\n",
       "    <tr>\n",
       "      <th>rho_412_abs</th>\n",
       "      <td>0.000767</td>\n",
       "      <td>0.001030</td>\n",
       "      <td>0.000715</td>\n",
       "      <td>0.000674</td>\n",
       "      <td>0.001514</td>\n",
       "      <td>0.000942</td>\n",
       "    </tr>\n",
       "    <tr>\n",
       "      <th>rho_412_perc</th>\n",
       "      <td>7.278820</td>\n",
       "      <td>9.882142</td>\n",
       "      <td>6.761170</td>\n",
       "      <td>6.375811</td>\n",
       "      <td>14.811473</td>\n",
       "      <td>8.914876</td>\n",
       "    </tr>\n",
       "    <tr>\n",
       "      <th>rho_443_abs</th>\n",
       "      <td>0.000645</td>\n",
       "      <td>0.000867</td>\n",
       "      <td>0.000600</td>\n",
       "      <td>0.000567</td>\n",
       "      <td>0.001269</td>\n",
       "      <td>0.000779</td>\n",
       "    </tr>\n",
       "    <tr>\n",
       "      <th>rho_443_perc</th>\n",
       "      <td>5.447267</td>\n",
       "      <td>7.366260</td>\n",
       "      <td>5.068147</td>\n",
       "      <td>4.784070</td>\n",
       "      <td>10.956825</td>\n",
       "      <td>6.534168</td>\n",
       "    </tr>\n",
       "    <tr>\n",
       "      <th>rho_490_abs</th>\n",
       "      <td>0.000503</td>\n",
       "      <td>0.000677</td>\n",
       "      <td>0.000467</td>\n",
       "      <td>0.000440</td>\n",
       "      <td>0.000988</td>\n",
       "      <td>0.000591</td>\n",
       "    </tr>\n",
       "    <tr>\n",
       "      <th>rho_490_perc</th>\n",
       "      <td>4.260751</td>\n",
       "      <td>5.763061</td>\n",
       "      <td>3.961902</td>\n",
       "      <td>3.742543</td>\n",
       "      <td>8.456460</td>\n",
       "      <td>5.012159</td>\n",
       "    </tr>\n",
       "    <tr>\n",
       "      <th>rho_510_abs</th>\n",
       "      <td>0.000456</td>\n",
       "      <td>0.000616</td>\n",
       "      <td>0.000424</td>\n",
       "      <td>0.000402</td>\n",
       "      <td>0.000898</td>\n",
       "      <td>0.000528</td>\n",
       "    </tr>\n",
       "    <tr>\n",
       "      <th>rho_510_perc</th>\n",
       "      <td>5.206401</td>\n",
       "      <td>7.040834</td>\n",
       "      <td>4.844668</td>\n",
       "      <td>4.577086</td>\n",
       "      <td>10.306864</td>\n",
       "      <td>6.041864</td>\n",
       "    </tr>\n",
       "    <tr>\n",
       "      <th>rho_555_abs</th>\n",
       "      <td>0.000358</td>\n",
       "      <td>0.000487</td>\n",
       "      <td>0.000333</td>\n",
       "      <td>0.000314</td>\n",
       "      <td>0.000710</td>\n",
       "      <td>0.000412</td>\n",
       "    </tr>\n",
       "    <tr>\n",
       "      <th>rho_555_perc</th>\n",
       "      <td>8.083212</td>\n",
       "      <td>10.986766</td>\n",
       "      <td>7.511090</td>\n",
       "      <td>7.087397</td>\n",
       "      <td>16.146271</td>\n",
       "      <td>9.241743</td>\n",
       "    </tr>\n",
       "    <tr>\n",
       "      <th>rho_670_abs</th>\n",
       "      <td>0.000171</td>\n",
       "      <td>0.000236</td>\n",
       "      <td>0.000158</td>\n",
       "      <td>0.000151</td>\n",
       "      <td>0.000328</td>\n",
       "      <td>0.000188</td>\n",
       "    </tr>\n",
       "    <tr>\n",
       "      <th>rho_670_perc</th>\n",
       "      <td>47.919445</td>\n",
       "      <td>65.712311</td>\n",
       "      <td>44.328590</td>\n",
       "      <td>41.667053</td>\n",
       "      <td>92.188591</td>\n",
       "      <td>53.093498</td>\n",
       "    </tr>\n",
       "  </tbody>\n",
       "</table>\n",
       "</div>"
      ],
      "text/plain": [
       "                    ID1        ID2        ID8        ID9    MIN_SNR        SDT\n",
       "rho_412_abs    0.000767   0.001030   0.000715   0.000674   0.001514   0.000942\n",
       "rho_412_perc   7.278820   9.882142   6.761170   6.375811  14.811473   8.914876\n",
       "rho_443_abs    0.000645   0.000867   0.000600   0.000567   0.001269   0.000779\n",
       "rho_443_perc   5.447267   7.366260   5.068147   4.784070  10.956825   6.534168\n",
       "rho_490_abs    0.000503   0.000677   0.000467   0.000440   0.000988   0.000591\n",
       "rho_490_perc   4.260751   5.763061   3.961902   3.742543   8.456460   5.012159\n",
       "rho_510_abs    0.000456   0.000616   0.000424   0.000402   0.000898   0.000528\n",
       "rho_510_perc   5.206401   7.040834   4.844668   4.577086  10.306864   6.041864\n",
       "rho_555_abs    0.000358   0.000487   0.000333   0.000314   0.000710   0.000412\n",
       "rho_555_perc   8.083212  10.986766   7.511090   7.087397  16.146271   9.241743\n",
       "rho_670_abs    0.000171   0.000236   0.000158   0.000151   0.000328   0.000188\n",
       "rho_670_perc  47.919445  65.712311  44.328590  41.667053  92.188591  53.093498"
      ]
     },
     "execution_count": 7,
     "metadata": {},
     "output_type": "execute_result"
    }
   ],
   "source": [
    "pn3['95th%ile']"
   ]
  },
  {
   "cell_type": "code",
   "execution_count": 8,
   "metadata": {
    "collapsed": true
   },
   "outputs": [],
   "source": [
    "pn3.to_pickle('/accounts/ekarakoy/UNCERTAINTIES/datafiles/snrSUmmaryPanel.p')"
   ]
  },
  {
   "cell_type": "code",
   "execution_count": 20,
   "metadata": {
    "collapsed": false
   },
   "outputs": [
    {
     "data": {
      "text/html": [
       "<div>\n",
       "<table border=\"1\" class=\"dataframe\">\n",
       "  <thead>\n",
       "    <tr style=\"text-align: right;\">\n",
       "      <th></th>\n",
       "      <th>ID1</th>\n",
       "      <th>ID2</th>\n",
       "      <th>ID8</th>\n",
       "      <th>ID9</th>\n",
       "      <th>MIN_SNR</th>\n",
       "      <th>SDT</th>\n",
       "    </tr>\n",
       "  </thead>\n",
       "  <tbody>\n",
       "    <tr>\n",
       "      <th>rho_412_abs</th>\n",
       "      <td>0.000980</td>\n",
       "      <td>0.001269</td>\n",
       "      <td>0.000924</td>\n",
       "      <td>0.000880</td>\n",
       "      <td>0.001822</td>\n",
       "      <td>0.001181</td>\n",
       "    </tr>\n",
       "    <tr>\n",
       "      <th>rho_412_perc</th>\n",
       "      <td>17.816240</td>\n",
       "      <td>24.393950</td>\n",
       "      <td>16.501982</td>\n",
       "      <td>15.540263</td>\n",
       "      <td>36.689938</td>\n",
       "      <td>21.781202</td>\n",
       "    </tr>\n",
       "    <tr>\n",
       "      <th>rho_443_abs</th>\n",
       "      <td>0.000823</td>\n",
       "      <td>0.001074</td>\n",
       "      <td>0.000773</td>\n",
       "      <td>0.000735</td>\n",
       "      <td>0.001536</td>\n",
       "      <td>0.000977</td>\n",
       "    </tr>\n",
       "    <tr>\n",
       "      <th>rho_443_perc</th>\n",
       "      <td>9.618662</td>\n",
       "      <td>13.076785</td>\n",
       "      <td>8.949214</td>\n",
       "      <td>8.436578</td>\n",
       "      <td>19.563454</td>\n",
       "      <td>11.458423</td>\n",
       "    </tr>\n",
       "    <tr>\n",
       "      <th>rho_490_abs</th>\n",
       "      <td>0.000638</td>\n",
       "      <td>0.000842</td>\n",
       "      <td>0.000597</td>\n",
       "      <td>0.000565</td>\n",
       "      <td>0.001200</td>\n",
       "      <td>0.000741</td>\n",
       "    </tr>\n",
       "    <tr>\n",
       "      <th>rho_490_perc</th>\n",
       "      <td>6.235562</td>\n",
       "      <td>8.432076</td>\n",
       "      <td>5.809870</td>\n",
       "      <td>5.495293</td>\n",
       "      <td>12.416948</td>\n",
       "      <td>7.306611</td>\n",
       "    </tr>\n",
       "    <tr>\n",
       "      <th>rho_510_abs</th>\n",
       "      <td>0.000578</td>\n",
       "      <td>0.000767</td>\n",
       "      <td>0.000540</td>\n",
       "      <td>0.000515</td>\n",
       "      <td>0.001098</td>\n",
       "      <td>0.000666</td>\n",
       "    </tr>\n",
       "    <tr>\n",
       "      <th>rho_510_perc</th>\n",
       "      <td>7.243731</td>\n",
       "      <td>9.772525</td>\n",
       "      <td>6.742407</td>\n",
       "      <td>6.384439</td>\n",
       "      <td>14.280321</td>\n",
       "      <td>8.401699</td>\n",
       "    </tr>\n",
       "    <tr>\n",
       "      <th>rho_555_abs</th>\n",
       "      <td>0.000459</td>\n",
       "      <td>0.000609</td>\n",
       "      <td>0.000427</td>\n",
       "      <td>0.000402</td>\n",
       "      <td>0.000880</td>\n",
       "      <td>0.000520</td>\n",
       "    </tr>\n",
       "    <tr>\n",
       "      <th>rho_555_perc</th>\n",
       "      <td>11.111207</td>\n",
       "      <td>15.044946</td>\n",
       "      <td>10.346187</td>\n",
       "      <td>9.767603</td>\n",
       "      <td>21.965576</td>\n",
       "      <td>12.688762</td>\n",
       "    </tr>\n",
       "    <tr>\n",
       "      <th>rho_670_abs</th>\n",
       "      <td>0.000210</td>\n",
       "      <td>0.000287</td>\n",
       "      <td>0.000195</td>\n",
       "      <td>0.000182</td>\n",
       "      <td>0.000396</td>\n",
       "      <td>0.000232</td>\n",
       "    </tr>\n",
       "    <tr>\n",
       "      <th>rho_670_perc</th>\n",
       "      <td>145.663269</td>\n",
       "      <td>200.000000</td>\n",
       "      <td>135.301849</td>\n",
       "      <td>126.921692</td>\n",
       "      <td>282.349091</td>\n",
       "      <td>161.898010</td>\n",
       "    </tr>\n",
       "  </tbody>\n",
       "</table>\n",
       "</div>"
      ],
      "text/plain": [
       "                     ID1         ID2         ID8         ID9     MIN_SNR  \\\n",
       "rho_412_abs     0.000980    0.001269    0.000924    0.000880    0.001822   \n",
       "rho_412_perc   17.816240   24.393950   16.501982   15.540263   36.689938   \n",
       "rho_443_abs     0.000823    0.001074    0.000773    0.000735    0.001536   \n",
       "rho_443_perc    9.618662   13.076785    8.949214    8.436578   19.563454   \n",
       "rho_490_abs     0.000638    0.000842    0.000597    0.000565    0.001200   \n",
       "rho_490_perc    6.235562    8.432076    5.809870    5.495293   12.416948   \n",
       "rho_510_abs     0.000578    0.000767    0.000540    0.000515    0.001098   \n",
       "rho_510_perc    7.243731    9.772525    6.742407    6.384439   14.280321   \n",
       "rho_555_abs     0.000459    0.000609    0.000427    0.000402    0.000880   \n",
       "rho_555_perc   11.111207   15.044946   10.346187    9.767603   21.965576   \n",
       "rho_670_abs     0.000210    0.000287    0.000195    0.000182    0.000396   \n",
       "rho_670_perc  145.663269  200.000000  135.301849  126.921692  282.349091   \n",
       "\n",
       "                     SDT  \n",
       "rho_412_abs     0.001181  \n",
       "rho_412_perc   21.781202  \n",
       "rho_443_abs     0.000977  \n",
       "rho_443_perc   11.458423  \n",
       "rho_490_abs     0.000741  \n",
       "rho_490_perc    7.306611  \n",
       "rho_510_abs     0.000666  \n",
       "rho_510_perc    8.401699  \n",
       "rho_555_abs     0.000520  \n",
       "rho_555_perc   12.688762  \n",
       "rho_670_abs     0.000232  \n",
       "rho_670_perc  161.898010  "
      ]
     },
     "execution_count": 20,
     "metadata": {},
     "output_type": "execute_result"
    }
   ],
   "source": [
    "pn3['99th%ile']"
   ]
  },
  {
   "cell_type": "code",
   "execution_count": 13,
   "metadata": {
    "collapsed": false
   },
   "outputs": [],
   "source": [
    "# If starting over, begin here...\n",
    "pn3 = pd.read_pickle('/accounts/ekarakoy/UNCERTAINTIES/datafiles/snrSUmmaryPanel.p')"
   ]
  },
  {
   "cell_type": "code",
   "execution_count": 14,
   "metadata": {
    "collapsed": false
   },
   "outputs": [
    {
     "data": {
      "text/plain": [
       "<bound method Panel.head of <class 'pandas.core.panel.Panel'>\n",
       "Dimensions: 4 (items) x 12 (major_axis) x 6 (minor_axis)\n",
       "Items axis: 95th%ile to median\n",
       "Major_axis axis: rho_412_abs to rho_670_perc\n",
       "Minor_axis axis: ID1 to SDT>"
      ]
     },
     "execution_count": 14,
     "metadata": {},
     "output_type": "execute_result"
    }
   ],
   "source": [
    "pn3.head"
   ]
  },
  {
   "cell_type": "code",
   "execution_count": 15,
   "metadata": {
    "collapsed": false
   },
   "outputs": [
    {
     "name": "stdout",
     "output_type": "stream",
     "text": [
      "Index(['ID1', 'ID2', 'ID8', 'ID9', 'MIN_SNR', 'SDT'], dtype='object')\n"
     ]
    }
   ],
   "source": [
    "print(pn3['95th%ile'].columns)\n",
    "#print(pn3['99th%ile'].columns)"
   ]
  },
  {
   "cell_type": "code",
   "execution_count": 22,
   "metadata": {
    "collapsed": false
   },
   "outputs": [
    {
     "ename": "IndexError",
     "evalue": "index 5 is out of bounds for axis 1 with size 5",
     "output_type": "error",
     "traceback": [
      "\u001b[1;31m---------------------------------------------------------------------------\u001b[0m",
      "\u001b[1;31mIndexError\u001b[0m                                Traceback (most recent call last)",
      "\u001b[1;32m<ipython-input-22-a6d04419e2d6>\u001b[0m in \u001b[0;36m<module>\u001b[1;34m()\u001b[0m\n\u001b[0;32m      7\u001b[0m         \u001b[1;32mif\u001b[0m \u001b[0mcol\u001b[0m\u001b[1;33m==\u001b[0m\u001b[1;34m'ID1Winter'\u001b[0m\u001b[1;33m:\u001b[0m\u001b[1;33m\u001b[0m\u001b[0m\n\u001b[0;32m      8\u001b[0m             \u001b[1;32mcontinue\u001b[0m\u001b[1;33m\u001b[0m\u001b[0m\n\u001b[1;32m----> 9\u001b[1;33m         \u001b[0mabsUnc95\u001b[0m\u001b[1;33m[\u001b[0m\u001b[1;33m:\u001b[0m\u001b[1;33m,\u001b[0m\u001b[0mi\u001b[0m\u001b[1;33m]\u001b[0m \u001b[1;33m=\u001b[0m \u001b[0mpn3\u001b[0m\u001b[1;33m[\u001b[0m\u001b[1;34m'95th%ile'\u001b[0m\u001b[1;33m]\u001b[0m\u001b[1;33m[\u001b[0m\u001b[0mcol\u001b[0m\u001b[1;33m]\u001b[0m\u001b[1;33m[\u001b[0m\u001b[1;36m0\u001b[0m\u001b[1;33m:\u001b[0m\u001b[1;33m:\u001b[0m\u001b[1;36m2\u001b[0m\u001b[1;33m]\u001b[0m\u001b[1;33m\u001b[0m\u001b[0m\n\u001b[0m\u001b[0;32m     10\u001b[0m         \u001b[1;31m#relUnc95[:,i] = pn3['95th%ile'][col][1::2]\u001b[0m\u001b[1;33m\u001b[0m\u001b[1;33m\u001b[0m\u001b[0m\n\u001b[0;32m     11\u001b[0m         \u001b[1;31m#absUnc99[:,i] = pn3['99th%ile'][col][0::2]\u001b[0m\u001b[1;33m\u001b[0m\u001b[1;33m\u001b[0m\u001b[0m\n",
      "\u001b[1;31mIndexError\u001b[0m: index 5 is out of bounds for axis 1 with size 5"
     ]
    }
   ],
   "source": [
    "absUnc95 = np.empty((6,5))\n",
    "#relUnc95 = np.empty((6,5))\n",
    "#absUnc99 = np.empty((6,5))\n",
    "#relUnc99 = np.empty((6,5))\n",
    "i = 0\n",
    "for col in pn3['95th%ile'].columns:\n",
    "        if col=='ID1Winter':\n",
    "            continue\n",
    "        absUnc95[:,i] = pn3['95th%ile'][col][0::2]\n",
    "        #relUnc95[:,i] = pn3['95th%ile'][col][1::2]\n",
    "        #absUnc99[:,i] = pn3['99th%ile'][col][0::2]\n",
    "        #relUnc99[:,i] = pn3['99th%ile'][col][1::2]\n",
    "        i += 1"
   ]
  },
  {
   "cell_type": "code",
   "execution_count": 21,
   "metadata": {
    "collapsed": false
   },
   "outputs": [
    {
     "data": {
      "text/plain": [
       "rho_412_abs    0.001514\n",
       "rho_443_abs    0.001269\n",
       "rho_490_abs    0.000988\n",
       "rho_510_abs    0.000898\n",
       "rho_555_abs    0.000710\n",
       "rho_670_abs    0.000328\n",
       "Name: MIN_SNR, dtype: float64"
      ]
     },
     "execution_count": 21,
     "metadata": {},
     "output_type": "execute_result"
    }
   ],
   "source": [
    "pn3['95th%ile']['MIN_SNR'][0::2]"
   ]
  },
  {
   "cell_type": "code",
   "execution_count": 29,
   "metadata": {
    "collapsed": false
   },
   "outputs": [],
   "source": [
    "labels=['ID1','ID2','ID8','ID9','MIN_SNR','SDT']\n",
    "lamb=[412,443,490,510,555,670]\n",
    "absThresh = [0.001]*5 + [0.002]\n",
    "absMarg = np.array(absThresh) *.8\n",
    "cols=['b','r','m','c','k','orange']\n",
    "relThresh = [5]* 5 + [10]\n",
    "relMarg = np.array(relThresh) *.8\n",
    "drange = np.arange(len(labels))"
   ]
  },
  {
   "cell_type": "code",
   "execution_count": 25,
   "metadata": {
    "collapsed": false
   },
   "outputs": [],
   "source": [
    "import numpy as np\n",
    "scl=8e-5/0.002"
   ]
  },
  {
   "cell_type": "code",
   "execution_count": 26,
   "metadata": {
    "collapsed": true
   },
   "outputs": [],
   "source": [
    "from matplotlib.pylab import rcParams\n",
    "rcParams['xtick.labelsize'] = 14\n",
    "rcParams['ytick.labelsize'] = 14"
   ]
  },
  {
   "cell_type": "code",
   "execution_count": 31,
   "metadata": {
    "collapsed": false
   },
   "outputs": [
    {
     "ename": "FileNotFoundError",
     "evalue": "[Errno 2] No such file or directory: '/disk02/UNCERTAINTIES/Monte-Carlo/PACE_SNR/DATA/L2_L3/FullScale/GLOBALS/S2003193196/PACEREVIEW_160331/May12_2016/summarystatsZoom.png'",
     "output_type": "error",
     "traceback": [
      "\u001b[1;31m---------------------------------------------------------------------------\u001b[0m",
      "\u001b[1;31mFileNotFoundError\u001b[0m                         Traceback (most recent call last)",
      "\u001b[1;32m<ipython-input-31-376fa7fcbfd3>\u001b[0m in \u001b[0;36m<module>\u001b[1;34m()\u001b[0m\n\u001b[0;32m     56\u001b[0m \u001b[0maxins\u001b[0m\u001b[1;33m.\u001b[0m\u001b[0mticklabel_format\u001b[0m\u001b[1;33m(\u001b[0m\u001b[0mstyle\u001b[0m\u001b[1;33m=\u001b[0m\u001b[1;34m'sci'\u001b[0m\u001b[1;33m,\u001b[0m\u001b[0maxis\u001b[0m\u001b[1;33m=\u001b[0m\u001b[1;34m'y'\u001b[0m\u001b[1;33m,\u001b[0m\u001b[0mscilimits\u001b[0m\u001b[1;33m=\u001b[0m\u001b[1;33m(\u001b[0m\u001b[1;33m-\u001b[0m\u001b[1;36m2\u001b[0m\u001b[1;33m,\u001b[0m\u001b[1;36m3\u001b[0m\u001b[1;33m)\u001b[0m\u001b[1;33m)\u001b[0m\u001b[1;33m\u001b[0m\u001b[0m\n\u001b[0;32m     57\u001b[0m \u001b[0mmark_inset\u001b[0m\u001b[1;33m(\u001b[0m\u001b[0max\u001b[0m\u001b[1;33m,\u001b[0m\u001b[0maxins\u001b[0m\u001b[1;33m,\u001b[0m\u001b[0mloc1\u001b[0m\u001b[1;33m=\u001b[0m\u001b[1;36m3\u001b[0m\u001b[1;33m,\u001b[0m\u001b[0mloc2\u001b[0m\u001b[1;33m=\u001b[0m\u001b[1;36m4\u001b[0m\u001b[1;33m,\u001b[0m\u001b[0mfc\u001b[0m\u001b[1;33m=\u001b[0m\u001b[1;34m\"none\"\u001b[0m\u001b[1;33m,\u001b[0m\u001b[0mec\u001b[0m\u001b[1;33m=\u001b[0m\u001b[1;34m'k'\u001b[0m\u001b[1;33m,\u001b[0m\u001b[0mls\u001b[0m\u001b[1;33m=\u001b[0m\u001b[1;34m'--'\u001b[0m\u001b[1;33m,\u001b[0m\u001b[0mlw\u001b[0m\u001b[1;33m=\u001b[0m\u001b[1;36m1\u001b[0m\u001b[1;33m)\u001b[0m\u001b[1;33m;\u001b[0m\u001b[1;33m\u001b[0m\u001b[0m\n\u001b[1;32m---> 58\u001b[1;33m \u001b[0mf\u001b[0m\u001b[1;33m.\u001b[0m\u001b[0msavefig\u001b[0m\u001b[1;33m(\u001b[0m\u001b[0msavedir\u001b[0m\u001b[1;33m+\u001b[0m\u001b[1;34m'summarystatsZoom.png'\u001b[0m\u001b[1;33m,\u001b[0m\u001b[0mdpi\u001b[0m\u001b[1;33m=\u001b[0m\u001b[1;36m300\u001b[0m\u001b[1;33m)\u001b[0m\u001b[1;33m\u001b[0m\u001b[0m\n\u001b[0m",
      "\u001b[1;32m/accounts/ekarakoy/anaconda3/lib/python3.5/site-packages/matplotlib/figure.py\u001b[0m in \u001b[0;36msavefig\u001b[1;34m(self, *args, **kwargs)\u001b[0m\n\u001b[0;32m   1563\u001b[0m             \u001b[0mself\u001b[0m\u001b[1;33m.\u001b[0m\u001b[0mset_frameon\u001b[0m\u001b[1;33m(\u001b[0m\u001b[0mframeon\u001b[0m\u001b[1;33m)\u001b[0m\u001b[1;33m\u001b[0m\u001b[0m\n\u001b[0;32m   1564\u001b[0m \u001b[1;33m\u001b[0m\u001b[0m\n\u001b[1;32m-> 1565\u001b[1;33m         \u001b[0mself\u001b[0m\u001b[1;33m.\u001b[0m\u001b[0mcanvas\u001b[0m\u001b[1;33m.\u001b[0m\u001b[0mprint_figure\u001b[0m\u001b[1;33m(\u001b[0m\u001b[1;33m*\u001b[0m\u001b[0margs\u001b[0m\u001b[1;33m,\u001b[0m \u001b[1;33m**\u001b[0m\u001b[0mkwargs\u001b[0m\u001b[1;33m)\u001b[0m\u001b[1;33m\u001b[0m\u001b[0m\n\u001b[0m\u001b[0;32m   1566\u001b[0m \u001b[1;33m\u001b[0m\u001b[0m\n\u001b[0;32m   1567\u001b[0m         \u001b[1;32mif\u001b[0m \u001b[0mframeon\u001b[0m\u001b[1;33m:\u001b[0m\u001b[1;33m\u001b[0m\u001b[0m\n",
      "\u001b[1;32m/accounts/ekarakoy/anaconda3/lib/python3.5/site-packages/matplotlib/backends/backend_qt5agg.py\u001b[0m in \u001b[0;36mprint_figure\u001b[1;34m(self, *args, **kwargs)\u001b[0m\n\u001b[0;32m    194\u001b[0m \u001b[1;33m\u001b[0m\u001b[0m\n\u001b[0;32m    195\u001b[0m     \u001b[1;32mdef\u001b[0m \u001b[0mprint_figure\u001b[0m\u001b[1;33m(\u001b[0m\u001b[0mself\u001b[0m\u001b[1;33m,\u001b[0m \u001b[1;33m*\u001b[0m\u001b[0margs\u001b[0m\u001b[1;33m,\u001b[0m \u001b[1;33m**\u001b[0m\u001b[0mkwargs\u001b[0m\u001b[1;33m)\u001b[0m\u001b[1;33m:\u001b[0m\u001b[1;33m\u001b[0m\u001b[0m\n\u001b[1;32m--> 196\u001b[1;33m         \u001b[0mFigureCanvasAgg\u001b[0m\u001b[1;33m.\u001b[0m\u001b[0mprint_figure\u001b[0m\u001b[1;33m(\u001b[0m\u001b[0mself\u001b[0m\u001b[1;33m,\u001b[0m \u001b[1;33m*\u001b[0m\u001b[0margs\u001b[0m\u001b[1;33m,\u001b[0m \u001b[1;33m**\u001b[0m\u001b[0mkwargs\u001b[0m\u001b[1;33m)\u001b[0m\u001b[1;33m\u001b[0m\u001b[0m\n\u001b[0m\u001b[0;32m    197\u001b[0m         \u001b[0mself\u001b[0m\u001b[1;33m.\u001b[0m\u001b[0mdraw\u001b[0m\u001b[1;33m(\u001b[0m\u001b[1;33m)\u001b[0m\u001b[1;33m\u001b[0m\u001b[0m\n\u001b[0;32m    198\u001b[0m \u001b[1;33m\u001b[0m\u001b[0m\n",
      "\u001b[1;32m/accounts/ekarakoy/anaconda3/lib/python3.5/site-packages/matplotlib/backend_bases.py\u001b[0m in \u001b[0;36mprint_figure\u001b[1;34m(self, filename, dpi, facecolor, edgecolor, orientation, format, **kwargs)\u001b[0m\n\u001b[0;32m   2230\u001b[0m                 \u001b[0morientation\u001b[0m\u001b[1;33m=\u001b[0m\u001b[0morientation\u001b[0m\u001b[1;33m,\u001b[0m\u001b[1;33m\u001b[0m\u001b[0m\n\u001b[0;32m   2231\u001b[0m                 \u001b[0mbbox_inches_restore\u001b[0m\u001b[1;33m=\u001b[0m\u001b[0m_bbox_inches_restore\u001b[0m\u001b[1;33m,\u001b[0m\u001b[1;33m\u001b[0m\u001b[0m\n\u001b[1;32m-> 2232\u001b[1;33m                 **kwargs)\n\u001b[0m\u001b[0;32m   2233\u001b[0m         \u001b[1;32mfinally\u001b[0m\u001b[1;33m:\u001b[0m\u001b[1;33m\u001b[0m\u001b[0m\n\u001b[0;32m   2234\u001b[0m             \u001b[1;32mif\u001b[0m \u001b[0mbbox_inches\u001b[0m \u001b[1;32mand\u001b[0m \u001b[0mrestore_bbox\u001b[0m\u001b[1;33m:\u001b[0m\u001b[1;33m\u001b[0m\u001b[0m\n",
      "\u001b[1;32m/accounts/ekarakoy/anaconda3/lib/python3.5/site-packages/matplotlib/backends/backend_agg.py\u001b[0m in \u001b[0;36mprint_png\u001b[1;34m(self, filename_or_obj, *args, **kwargs)\u001b[0m\n\u001b[0;32m    530\u001b[0m         \u001b[0mrenderer\u001b[0m\u001b[1;33m.\u001b[0m\u001b[0mdpi\u001b[0m \u001b[1;33m=\u001b[0m \u001b[0mself\u001b[0m\u001b[1;33m.\u001b[0m\u001b[0mfigure\u001b[0m\u001b[1;33m.\u001b[0m\u001b[0mdpi\u001b[0m\u001b[1;33m\u001b[0m\u001b[0m\n\u001b[0;32m    531\u001b[0m         \u001b[1;32mif\u001b[0m \u001b[0mis_string_like\u001b[0m\u001b[1;33m(\u001b[0m\u001b[0mfilename_or_obj\u001b[0m\u001b[1;33m)\u001b[0m\u001b[1;33m:\u001b[0m\u001b[1;33m\u001b[0m\u001b[0m\n\u001b[1;32m--> 532\u001b[1;33m             \u001b[0mfilename_or_obj\u001b[0m \u001b[1;33m=\u001b[0m \u001b[0mopen\u001b[0m\u001b[1;33m(\u001b[0m\u001b[0mfilename_or_obj\u001b[0m\u001b[1;33m,\u001b[0m \u001b[1;34m'wb'\u001b[0m\u001b[1;33m)\u001b[0m\u001b[1;33m\u001b[0m\u001b[0m\n\u001b[0m\u001b[0;32m    533\u001b[0m             \u001b[0mclose\u001b[0m \u001b[1;33m=\u001b[0m \u001b[1;32mTrue\u001b[0m\u001b[1;33m\u001b[0m\u001b[0m\n\u001b[0;32m    534\u001b[0m         \u001b[1;32melse\u001b[0m\u001b[1;33m:\u001b[0m\u001b[1;33m\u001b[0m\u001b[0m\n",
      "\u001b[1;31mFileNotFoundError\u001b[0m: [Errno 2] No such file or directory: '/disk02/UNCERTAINTIES/Monte-Carlo/PACE_SNR/DATA/L2_L3/FullScale/GLOBALS/S2003193196/PACEREVIEW_160331/May12_2016/summarystatsZoom.png'"
     ]
    }
   ],
   "source": [
    "from mpl_toolkits.axes_grid1.inset_locator import zoomed_inset_axes\n",
    "from mpl_toolkits.axes_grid1.inset_locator import mark_inset\n",
    "#savedir='/disk02/UNCERTAINTIES/Monte-Carlo/PACE_SNR/DATA/L2_L3/FullScale/GLOBALS/S2003193196/PACEREVIEW_160331/May12_2016/'\n",
    "f,ax=pl.subplots(figsize=(12,7))\n",
    "axYmax = 0.002\n",
    "axInYmax = 2.1e-4\n",
    "axInYmin = 3e-5\n",
    "ax.set_ylim(0,axYmax)\n",
    "gboxY = 8e-5 / axYmax\n",
    "gboxY2 = (8e-5 -axInYmin)/ (axInYmax-axInYmin)\n",
    "nflhFromID1 = 9.5400785e-05*np.sqrt(2)\n",
    "nflhFromID8 = nflhFromID1 - 1.85e-5\n",
    "ax.set_xlim(412,700)\n",
    "ax.set_title('PACE IDx Performance Summary',fontsize=22)\n",
    "ax.set_ylabel(r'uncertainty ($\\rho$)',fontsize=17)\n",
    "ax.set_xlabel(r'$\\lambda$',fontsize=18)\n",
    "ax.axvspan(412,600,ymin=0,ymax=.5,facecolor='gray',alpha=0.1)\n",
    "ax.axvspan(412,600,ymax=.4,facecolor='gray',alpha=0.3)\n",
    "ax.axvspan(600,700,ymax=1,facecolor='gray',alpha=0.1,label='threshold')\n",
    "ax.axvspan(600,700,ymax=.8,facecolor='gray',alpha=0.3,label='20% margin')\n",
    "ax.axvspan(650,700,ymax=gboxY,facecolor='gold',alpha=0.4,label='nflh ROI')\n",
    "\n",
    "#ax.plot(670,9.5400785e-05/4,color='k',marker='s',label='95% ID1-NoNIR, 4-km')\n",
    "axins = zoomed_inset_axes(ax,5,loc=5)\n",
    "for l,d,c in zip(labels,drange,cols):\n",
    "    if l=='SDT':\n",
    "        continue\n",
    "    lab = l + ' - 95th %ile'\n",
    "    ax.plot(lamb,absUnc95[:,d],label=lab,marker='o',color=c,lw=1.5)\n",
    "ax.plot(670,nflhFromID1,color='orange',marker='o',label='95% flh unc.(ID1)')\n",
    "#ax.plot(670,nflhFromID8,color='k',marker='o',markerfacecolor='none')\n",
    "ax.ticklabel_format(style='sci',axis='y',scilimits=(-2,3))\n",
    "for l,d,c in zip(labels,drange,cols):\n",
    "    if l=='SDT' or l=='ID9' or l=='ID2':\n",
    "        continue\n",
    "    axins.plot(670,absUnc95[-1,d],marker='o',color=c,markersize=10)\n",
    "axins.plot(670,nflhFromID1,color='k',marker='o',markersize=10)\n",
    "axins.plot(670,nflhFromID8,color='k',marker='o',markersize=10,\n",
    "           markerfacecolor='none',label='95% flh unc.(ID8-est.)')\n",
    "legH,legL = ax.get_legend_handles_labels()\n",
    "legH0,legL0 = axins.get_legend_handles_labels()\n",
    "legLF = legL + legL0\n",
    "legHF = legH + legH0\n",
    "leg=ax.legend(legHF,legLF,loc='center right',bbox_to_anchor=(0.35,0.75));\n",
    "axins.axvspan(600,700,ymax=1,facecolor='gray',alpha=0.3)\n",
    "axins.axvspan(650,700,ymax=gboxY2,facecolor='gold',alpha=0.4)\n",
    "#axins.axvspan(412,600,ymin=0,ymax=.5,facecolor='gray',alpha=0.1)\n",
    "#axins.axvspan(412,600,ymax=.4,facecolor='gray',alpha=0.3)\n",
    "#axins.axvspan(600,700,ymax=1,facecolor='gray',alpha=0.1,label='threshold')\n",
    "#axins.axvspan(600,700,ymax=.8,facecolor='gray',alpha=0.3,label='20% margin')\n",
    "#axins.axvspan(650,700,ymax=scl,facecolor='gold',alpha=0.4,label='nflh ROI')\n",
    "#axins.axhline(y=9.5400785e-05,xmin=0.83,xmax=1,color='k',ls='--',lw=2)\n",
    "axins.set_xlim(665,675)\n",
    "axins.set_xticks([670])\n",
    "axins.set_ylim(axInYmin,axInYmax)\n",
    "axins.ticklabel_format(style='sci',axis='y',scilimits=(-2,3))\n",
    "mark_inset(ax,axins,loc1=3,loc2=4,fc=\"none\",ec='k',ls='--',lw=1);\n",
    "f.savefig(savedir+'summarystatsZoom.png',dpi=300)"
   ]
  },
  {
   "cell_type": "code",
   "execution_count": 34,
   "metadata": {
    "collapsed": false
   },
   "outputs": [],
   "source": [
    "savedir='/accounts/ekarakoy/UNCERTAINTIES/figs/SummaryStats/'\n",
    "#No zooming inset\n",
    "f,ax=pl.subplots(figsize=(12,7))\n",
    "axYmax = 0.002\n",
    "axInYmax = 2.1e-4\n",
    "ax.set_ylim(0,axYmax)\n",
    "gboxY = 8e-5 / axYmax\n",
    "gboxY2 = 8e-5 / axInYmax\n",
    "nflhFromID1 = 9.5400785e-05*np.sqrt(2)\n",
    "nflhFromID8 = nflhFromID1 - 1.85e-5\n",
    "ax.set_xlim(412,700)\n",
    "ax.set_title('PACE IDx Performance Summary',fontsize=22)\n",
    "ax.set_ylabel(r'uncertainty ($\\rho$)',fontsize=17)\n",
    "ax.set_xlabel(r'$\\lambda$',fontsize=18)\n",
    "ax.axvspan(412,600,ymin=0,ymax=.5,facecolor='gray',alpha=0.1)\n",
    "ax.axvspan(412,600,ymax=.4,facecolor='gray',alpha=0.3)\n",
    "ax.axvspan(600,700,ymax=1,facecolor='gray',alpha=0.1,label='threshold')\n",
    "ax.axvspan(600,700,ymax=.8,facecolor='gray',alpha=0.3,label='20% margin')\n",
    "ax.axvspan(650,700,ymax=gboxY,facecolor='gold',alpha=0.4,label='nflh ROI')\n",
    "for l,d,c in zip(labels,drange,cols):\n",
    "    if l=='SDT':\n",
    "        continue\n",
    "    lab = l + ' - 95th %ile'\n",
    "    ax.plot(lamb,absUnc95[:,d],label=lab,marker='o',color=c,lw=1.5)\n",
    "ax.plot(670,nflhFromID1,color='orange',marker='o',label='95% flh unc.(ID1)')\n",
    "#ax.plot(670,nflhFromID8,color='k',marker='o',markerfacecolor='none')\n",
    "ax.ticklabel_format(style='sci',axis='y',scilimits=(-2,3))\n",
    "\n",
    "#ax.legend(loc='center right',bbox_to_anchor=(0.35,0.75));\n",
    "h=ax.legend(loc='best')\n",
    "\n",
    "f.savefig(savedir+'summarystats.png',dpi=300)"
   ]
  },
  {
   "cell_type": "code",
   "execution_count": null,
   "metadata": {
    "collapsed": false
   },
   "outputs": [],
   "source": [
    "legLF = legL + legL0\n",
    "legHF = legH + legH0"
   ]
  },
  {
   "cell_type": "code",
   "execution_count": null,
   "metadata": {
    "collapsed": false
   },
   "outputs": [],
   "source": [
    "(1.7122e-4-1.5816e-4)*np.sqrt(2)"
   ]
  },
  {
   "cell_type": "code",
   "execution_count": null,
   "metadata": {
    "collapsed": false
   },
   "outputs": [],
   "source": [
    "f,ax = pl.subplots(figsize=(15,8))\n",
    "ax[0].plot(lamb,absThresh,'k',label='threshold')\n",
    "ax[0].plot(lamb,absMarg,'k',label='80% margin')\n",
    "ax[0].fill_between(lamb,absThresh,color='gray',alpha=0.2)\n",
    "ax[0].fill_between(lamb,absMarg,color='gray',alpha=0.6)\n",
    "ax[1].plot(lamb,relThresh,'k',label='threshold')\n",
    "ax[1].plot(lamb,relMarg,'k',label='%80 margin')\n",
    "ax[1].fill_between(lamb,relThresh,color='gray',alpha=0.2)\n",
    "ax[1].fill_between(lamb,relMarg,color='gray',alpha=0.6)\n",
    "\n",
    "for l,d,c in zip(labels,drange,cols):\n",
    "    lab = l + ' - 95th %ile'\n",
    "    ax[0].plot(lamb,absUnc95[:,d],label=lab,marker='.',color=c)\n",
    "    ax[1].plot(lamb,relUnc95[:,d],label=lab,marker='.',color=c)\n",
    "for l,d,c in zip(labels,drange,cols):\n",
    "    lab = l + '- 99th%ile'\n",
    "    ax[0].plot(lamb,absUnc99[:,d],label=lab,marker='.',ls='--',color=c)\n",
    "ax[0].set_xlabel(r'$\\lambda$',fontsize=16)\n",
    "ax[0].set_xlim(xmin=411,xmax=671)\n",
    "ax[1].set_xlim(xmin=411,xmax=671)\n",
    "ax[0].set_title('Absolute Uncertainty',fontsize=16)\n",
    "ax[0].set_ylabel(r'$\\rho$',fontsize=15)\n",
    "ax[1].set_title('Relative Uncertainty',fontsize=16)\n",
    "ax[1].set_ylabel('%',fontsize=15)\n",
    "ax[1].set_xlabel(r'$\\lambda$',fontsize=16)\n",
    "ax[0].legend(loc='best')\n",
    "ax[1].legend(loc='best')\n",
    "ax[0].set_ylim(ymax=0.0015)\n",
    "f.savefig('stats95.png')"
   ]
  },
  {
   "cell_type": "code",
   "execution_count": null,
   "metadata": {
    "collapsed": true
   },
   "outputs": [],
   "source": []
  }
 ],
 "metadata": {
  "anaconda-cloud": {},
  "kernelspec": {
   "display_name": "Python [conda root]",
   "language": "python",
   "name": "conda-root-py"
  },
  "language_info": {
   "codemirror_mode": {
    "name": "ipython",
    "version": 3
   },
   "file_extension": ".py",
   "mimetype": "text/x-python",
   "name": "python",
   "nbconvert_exporter": "python",
   "pygments_lexer": "ipython3",
   "version": "3.5.2"
  }
 },
 "nbformat": 4,
 "nbformat_minor": 0
}
