{
 "cells": [
  {
   "cell_type": "code",
   "execution_count": 1,
   "metadata": {
    "collapsed": true
   },
   "outputs": [],
   "source": [
    "import netCDF4 as nc\n",
    "import numpy as np\n",
    "import matplotlib.pyplot as pl\n",
    "import seaborn as sb\n",
    "from matplotlib.pylab import rcParams\n",
    "from matplotlib import rc\n",
    "import os\n",
    "import glob"
   ]
  },
  {
   "cell_type": "code",
   "execution_count": 2,
   "metadata": {
    "collapsed": true
   },
   "outputs": [],
   "source": [
    "# GRAPHICS SETUP:\n",
    "rc('font', **{'family':'sans-serif','sans-serif':['Helvetica']})\n",
    "rc('text',usetex=False)\n",
    "fontSize=16\n",
    "sb.set_style('dark')\n",
    "rcParams['ytick.labelsize'] = fontSize\n",
    "rcParams['xtick.labelsize'] = fontSize\n",
    "%matplotlib inline"
   ]
  },
  {
   "cell_type": "code",
   "execution_count": null,
   "metadata": {
    "collapsed": true
   },
   "outputs": [],
   "source": [
    "def GetDataDicts(fp):\n",
    "    with nc.Dataset(fp) as ds:\n",
    "        l3bVars = ds.groups['level-3_binned_data'].variables\n",
    "        binlist = l3bVars['BinList'][:]\n",
    "        wts = binlist['weights']\n",
    "        bands = ['412', '443', '490', '510', '555', '670', '765', '865']\n",
    "        rhoDict = {}\n",
    "        rhoUncDict = {}\n",
    "        rhotDict = {} \n",
    "        for band in bands:\n",
    "            rhoDict[band] = np.pi * l3bVars['Rrs_%s' % band][:]['sum'] / wts\n",
    "            rhoUncDict[band] = np.pi * l3bVars['Rrs_unc_%s' % band][:]['sum'] / wts\n",
    "            rhotDict[band] = l3bVars['rhot_%s' % band][:]['sum'] / wts\n",
    "    return rhoDict,rhoUncDict,rhotDict"
   ]
  },
  {
   "cell_type": "code",
   "execution_count": null,
   "metadata": {
    "collapsed": true
   },
   "outputs": [],
   "source": [
    "def Find95thPerctile(dataDict,ptile=.95,bands=['412','443','490',\n",
    "                                          '510','555','670']):\n",
    "    data95Dict = dict.fromkeys(bands)\n",
    "    for band in bands:\n",
    "        sortedData = np.sort(dataDict[band])\n",
    "        data95Dict[band] = sortedData[int(np.floor(sortedData.size * ptile))]\n",
    "    return rho95\n",
    "\n",
    "def Get95Ptiles(biasList, dataDict):\n",
    "    rho95Dict = dict.fromkeys(bands[:-2])\n",
    "    for band in bands[:-2]:\n",
    "        rho95Dict[band] = dict.fromkeys(biasList)\n",
    "        for bias in biasList:\n",
    "            data = dataDict[band][bias]\n",
    "            sortedData = np.sort(data)\n",
    "            rho95Dict[band][bias] = sortedData[int(np.floor(sortedData.size * .95))]\n",
    "    return rho95Dict"
   ]
  },
  {
   "cell_type": "code",
   "execution_count": null,
   "metadata": {
    "collapsed": true
   },
   "outputs": [],
   "source": [
    "def PlotArtifacts(dataDict,artNoiseX,**kwargs):\n",
    "    rng = kwargs.pop(\"rnge\",(0,6e-3))\n",
    "    colors = kwargs.pop(\"colors\", ['black','indigo','blue','green'])\n",
    "    savename = kwargs.pop(\"savename\",None)\n",
    "    band = kwargs.pop(\"band\",'412')\n",
    "    snr = kwargs.pop(\"snr\", '500')\n",
    "    f,ax = pl.subplots(figsize=(10,6))\n",
    "    rhoThresh = 0.001\n",
    "    f.suptitle(r'$\\lambda=%s$ ABS. UNC. w/ NIR SNR=%s ' % (band,snr),fontsize=18)\n",
    "    firstPass = True\n",
    "    rho95Dict = dict.fromkeys(artNoiseX)\n",
    "    for col,xsi in zip(colors,artNoiseX):\n",
    "        lbl0 = float(xsi) * 100\n",
    "        lbl = r'bias (%%$\\rho_t$) : %.1f' % lbl0\n",
    "        data = dataDict[band][xsi]\n",
    "        sortedData = np.sort(data)\n",
    "        rho95 = sortedData[int(np.floor(sortedData.size * .95))]\n",
    "        pOK = data[data <= rhoThresh].size / data.size * 100\n",
    "        lbl += r'$\\rightarrow$ %.2f%% OK' % pOK\n",
    "        if firstPass:\n",
    "            ax.axvspan(0,rhoThresh,color='orange',alpha=0.2,label='threshold')\n",
    "            firstPass = False\n",
    "            ax.axvline(x=rho95,color=col,label=\"95%\",linestyle='--')\n",
    "        else:\n",
    "            ax.axvline(x=rho95,color=col,linestyle='--')\n",
    "        ax.hist(data,bins=100,range=rng,histtype='stepfilled',color=col,\n",
    "                alpha=0.65,normed=True,label=lbl)\n",
    "\n",
    "        #ax.set_title(r'$\\sigma_{\\rho_w}$ (art. unc: %s)' % xsi)\n",
    "    ax.legend(loc='best',fontsize=fontSize-3)\n",
    "    ax.set_xlabel(r'$ \\rho_w$ inc. added bias as % $\\rho_t$', fontsize=fontSize)\n",
    "    ax.set_ylabel('Freq.',fontsize=fontSize)\n",
    "    ax.ticklabel_format(axis='both',style='sci',scilimits=(1,3))\n",
    "    if savename:\n",
    "        f.savefig(savename,dpi=300,format='png')"
   ]
  }
 ],
 "metadata": {
  "kernelspec": {
   "display_name": "Python 3",
   "language": "python",
   "name": "python3"
  },
  "language_info": {
   "codemirror_mode": {
    "name": "ipython",
    "version": 3
   },
   "file_extension": ".py",
   "mimetype": "text/x-python",
   "name": "python",
   "nbconvert_exporter": "python",
   "pygments_lexer": "ipython3",
   "version": "3.5.1"
  }
 },
 "nbformat": 4,
 "nbformat_minor": 0
}
