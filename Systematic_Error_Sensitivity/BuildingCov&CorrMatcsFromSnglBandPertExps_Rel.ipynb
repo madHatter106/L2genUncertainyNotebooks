{
 "cells": [
  {
   "cell_type": "code",
   "execution_count": 1,
   "metadata": {
    "collapsed": true
   },
   "outputs": [],
   "source": [
    "import numpy as np\n",
    "import matplotlib.pyplot as pl\n",
    "import pandas as pd\n",
    "import seaborn as sb\n",
    "import pickle\n",
    "import os\n",
    "import glob\n",
    "from tqdm import tqdm_notebook\n",
    "from netCDF4 import Dataset"
   ]
  },
  {
   "cell_type": "code",
   "execution_count": 35,
   "metadata": {},
   "outputs": [
    {
     "data": {
      "text/html": [
       "<style>.container {width:90% !important;}</style>"
      ],
      "text/plain": [
       "<IPython.core.display.HTML object>"
      ]
     },
     "metadata": {},
     "output_type": "display_data"
    }
   ],
   "source": [
    "pd.set_option('display.float_format', '{:.4e}'.format)\n",
    "\n",
    "from IPython.core.display import display, HTML\n",
    "display(HTML(\"<style>.container {width:90% !important;}</style>\"))\n",
    "\n",
    "% matplotlib inline"
   ]
  },
  {
   "cell_type": "markdown",
   "metadata": {},
   "source": [
    "$$\\begin{bmatrix}\n",
    " \\frac{\\partial{Rrs412}}{\\partial{Lt412}} & \\frac{\\partial{Rrs443}}{\\partial{Lt412}} & \\dots  & \\frac{\\partial{Rrs670}}{\\partial{Lt412}} \\\\\n",
    "    \\frac{\\partial{Rrs412}}{\\partial{Lt443}} & \\frac{\\partial{Rrs443}}{\\partial{Lt443}} & \\dots  & \\frac{\\partial{Rrs670}}{\\partial{Lt443}} \\\\\n",
    "    \\vdots & \\vdots  & \\ddots & \\vdots \\\\\n",
    "    \\frac{\\partial{Rrs412}}{\\partial{Lt865}} & \\frac{\\partial{Rrs443}}{\\partial{Lt865}} & \\dots  & \\frac{\\partial{Rrs670}}{\\partial{Lt865}}\n",
    "\\end{bmatrix}^\\mathsf{T} \n",
    "\\begin{bmatrix}\n",
    "\\partial{Lt412}^2 & &  \\\\\n",
    "& \\ddots &  \\\\\n",
    "&  & & \\partial{Lt865}^2\n",
    "\\end{bmatrix}\n",
    "\\begin{bmatrix}\n",
    " \\frac{\\partial{Rrs412}}{\\partial{Lt412}} & \\frac{\\partial{Rrs443}}{\\partial{Lt412}} & \\dots  & \\frac{\\partial{Rrs670}}{\\partial{Lt412}} \\\\\n",
    "    \\frac{\\partial{Rrs412}}{\\partial{Lt443}} & \\frac{\\partial{Rrs443}}{\\partial{Lt443}} & \\dots  & \\frac{\\partial{Rrs670}}{\\partial{Lt443}} \\\\\n",
    "    \\vdots & \\vdots  & \\ddots & \\vdots \\\\\n",
    "    \\frac{\\partial{Rrs412}}{\\partial{Lt865}} & \\frac{\\partial{Rrs443}}{\\partial{Lt865}} & \\dots  & \\frac{\\partial{Rrs670}}{\\partial{Lt865}}\n",
    "\\end{bmatrix}$$"
   ]
  },
  {
   "cell_type": "code",
   "execution_count": 10,
   "metadata": {
    "collapsed": true
   },
   "outputs": [],
   "source": [
    "dataDir='/accounts/ekarakoy/DEV-ALL/UNCERTAINTIES/UNCPY/UNC_notebooks/Systematic_Error_Sensitivity/Data/'\n",
    "filelist = glob.glob(os.path.join(dataDir,'*AbsDif*'))\n",
    "bands = [412, 443, 490, 510, 555, 670, 765, 865]\n",
    "bandNums = {k: v for k, v in zip(bands, range(8))}\n",
    "mainStr='L3mDataDictAbsDiff_band'\n",
    "sfx1 = '_0p1p.pkl'\n",
    "sfx2 = '_0p5p.pkl'\n",
    "with open('./Data/L3mBaselineDict.pkl', 'rb') as f:\n",
    "    bslDict = pickle.load(f)['Rrs']"
   ]
  },
  {
   "cell_type": "code",
   "execution_count": 28,
   "metadata": {
    "collapsed": true
   },
   "outputs": [],
   "source": [
    "# Create new Dataframes for both \n",
    "mediansDict = dict.fromkeys(['dRrs%d (%%)' % b for b in bands[:-2]])\n",
    "for b in mediansDict.keys():\n",
    "    mediansDict[b] = dict.fromkeys(['dLt%d' % c for c in bands])\n",
    "dfMed0p1_rel = pd.DataFrame(mediansDict)\n",
    "dfMed0p5_rel = dfMed0p1_rel.copy()"
   ]
  },
  {
   "cell_type": "code",
   "execution_count": 29,
   "metadata": {},
   "outputs": [
    {
     "data": {
      "text/html": [
       "<div>\n",
       "<table border=\"1\" class=\"dataframe\">\n",
       "  <thead>\n",
       "    <tr style=\"text-align: right;\">\n",
       "      <th></th>\n",
       "      <th>dRrs412 (%)</th>\n",
       "      <th>dRrs443 (%)</th>\n",
       "      <th>dRrs490 (%)</th>\n",
       "      <th>dRrs510 (%)</th>\n",
       "      <th>dRrs555 (%)</th>\n",
       "      <th>dRrs670 (%)</th>\n",
       "    </tr>\n",
       "  </thead>\n",
       "  <tbody>\n",
       "    <tr>\n",
       "      <th>dLt412</th>\n",
       "      <td>None</td>\n",
       "      <td>None</td>\n",
       "      <td>None</td>\n",
       "      <td>None</td>\n",
       "      <td>None</td>\n",
       "      <td>None</td>\n",
       "    </tr>\n",
       "    <tr>\n",
       "      <th>dLt443</th>\n",
       "      <td>None</td>\n",
       "      <td>None</td>\n",
       "      <td>None</td>\n",
       "      <td>None</td>\n",
       "      <td>None</td>\n",
       "      <td>None</td>\n",
       "    </tr>\n",
       "    <tr>\n",
       "      <th>dLt490</th>\n",
       "      <td>None</td>\n",
       "      <td>None</td>\n",
       "      <td>None</td>\n",
       "      <td>None</td>\n",
       "      <td>None</td>\n",
       "      <td>None</td>\n",
       "    </tr>\n",
       "    <tr>\n",
       "      <th>dLt510</th>\n",
       "      <td>None</td>\n",
       "      <td>None</td>\n",
       "      <td>None</td>\n",
       "      <td>None</td>\n",
       "      <td>None</td>\n",
       "      <td>None</td>\n",
       "    </tr>\n",
       "    <tr>\n",
       "      <th>dLt555</th>\n",
       "      <td>None</td>\n",
       "      <td>None</td>\n",
       "      <td>None</td>\n",
       "      <td>None</td>\n",
       "      <td>None</td>\n",
       "      <td>None</td>\n",
       "    </tr>\n",
       "    <tr>\n",
       "      <th>dLt670</th>\n",
       "      <td>None</td>\n",
       "      <td>None</td>\n",
       "      <td>None</td>\n",
       "      <td>None</td>\n",
       "      <td>None</td>\n",
       "      <td>None</td>\n",
       "    </tr>\n",
       "    <tr>\n",
       "      <th>dLt765</th>\n",
       "      <td>None</td>\n",
       "      <td>None</td>\n",
       "      <td>None</td>\n",
       "      <td>None</td>\n",
       "      <td>None</td>\n",
       "      <td>None</td>\n",
       "    </tr>\n",
       "    <tr>\n",
       "      <th>dLt865</th>\n",
       "      <td>None</td>\n",
       "      <td>None</td>\n",
       "      <td>None</td>\n",
       "      <td>None</td>\n",
       "      <td>None</td>\n",
       "      <td>None</td>\n",
       "    </tr>\n",
       "  </tbody>\n",
       "</table>\n",
       "</div>"
      ],
      "text/plain": [
       "       dRrs412 (%) dRrs443 (%) dRrs490 (%) dRrs510 (%) dRrs555 (%) dRrs670 (%)\n",
       "dLt412        None        None        None        None        None        None\n",
       "dLt443        None        None        None        None        None        None\n",
       "dLt490        None        None        None        None        None        None\n",
       "dLt510        None        None        None        None        None        None\n",
       "dLt555        None        None        None        None        None        None\n",
       "dLt670        None        None        None        None        None        None\n",
       "dLt765        None        None        None        None        None        None\n",
       "dLt865        None        None        None        None        None        None"
      ]
     },
     "execution_count": 29,
     "metadata": {},
     "output_type": "execute_result"
    }
   ],
   "source": [
    "dfMed0p1_rel"
   ]
  },
  {
   "cell_type": "code",
   "execution_count": 30,
   "metadata": {
    "collapsed": true
   },
   "outputs": [],
   "source": [
    "def GetData(df, level=0.001):\n",
    "    # load absolute diff data \n",
    "    if level ==0.001:\n",
    "        sfx = sfx1\n",
    "    elif level == 0.005:\n",
    "        sfx = sfx2\n",
    "    for wvl in tqdm_notebook(bands[:-2]):\n",
    "        # Rrs vvv band\n",
    "        for pwvl in tqdm_notebook(bands):\n",
    "            # Lt vvv + nir bands\n",
    "            with open('%s%s%d%s' %(dataDir, mainStr, bandNums[pwvl], sfx),'rb') as f:\n",
    "                data = pickle.load(f)['Rrs'][wvl]\n",
    "            df.loc['dLt%d' %pwvl, 'dRrs%d (%%)' %wvl] = np.ma.median(data)/np.ma.median(bslDict[wvl])*100\n",
    "\n",
    "def Cov2Corr(dfCov):\n",
    "    diag =  pd.DataFrame(np.diagflat(np.power(np.diag(dfCov),-.5)), \n",
    "                                             index=dfCov.index,\n",
    "                                             columns=dfCov.columns)\n",
    "    return diag.dot(dfCov).dot(diag)\n",
    "\n",
    "def GetUncs(dfCov, rhow=True):\n",
    "    factor = 1.0\n",
    "    if rhow:\n",
    "        factor = np.pi\n",
    "    return pd.DataFrame(np.sqrt(np.diag(dfCov)) * factor, index=dfCov.index, columns=['Unc'])"
   ]
  },
  {
   "cell_type": "code",
   "execution_count": 31,
   "metadata": {},
   "outputs": [
    {
     "data": {
      "application/vnd.jupyter.widget-view+json": {
       "model_id": "297792d395b541099b7825f57726f287"
      }
     },
     "metadata": {},
     "output_type": "display_data"
    },
    {
     "data": {
      "application/vnd.jupyter.widget-view+json": {
       "model_id": "f22c92242fa54d28bcba3833940c44ee"
      }
     },
     "metadata": {},
     "output_type": "display_data"
    },
    {
     "data": {
      "application/vnd.jupyter.widget-view+json": {
       "model_id": "d3d2863580bf4adcaf2840cebee6af96"
      }
     },
     "metadata": {},
     "output_type": "display_data"
    },
    {
     "data": {
      "application/vnd.jupyter.widget-view+json": {
       "model_id": "9ccb605094934f6d92b24d6ad36bdf2b"
      }
     },
     "metadata": {},
     "output_type": "display_data"
    },
    {
     "data": {
      "application/vnd.jupyter.widget-view+json": {
       "model_id": "32322024164840e7acec62fd578586d4"
      }
     },
     "metadata": {},
     "output_type": "display_data"
    },
    {
     "data": {
      "application/vnd.jupyter.widget-view+json": {
       "model_id": "1f922edf55c544a88d1a27b8e8011bdc"
      }
     },
     "metadata": {},
     "output_type": "display_data"
    },
    {
     "data": {
      "application/vnd.jupyter.widget-view+json": {
       "model_id": "a48d6e46f97d4a00a13c11d8f05f0c51"
      }
     },
     "metadata": {},
     "output_type": "display_data"
    },
    {
     "name": "stdout",
     "output_type": "stream",
     "text": [
      "\n"
     ]
    }
   ],
   "source": [
    "GetData(dfMed0p1_rel, level=0.001)"
   ]
  },
  {
   "cell_type": "code",
   "execution_count": 36,
   "metadata": {},
   "outputs": [
    {
     "data": {
      "text/html": [
       "<div>\n",
       "<table border=\"1\" class=\"dataframe\">\n",
       "  <thead>\n",
       "    <tr style=\"text-align: right;\">\n",
       "      <th></th>\n",
       "      <th>dRrs412 (%)</th>\n",
       "      <th>dRrs443 (%)</th>\n",
       "      <th>dRrs490 (%)</th>\n",
       "      <th>dRrs510 (%)</th>\n",
       "      <th>dRrs555 (%)</th>\n",
       "      <th>dRrs670 (%)</th>\n",
       "    </tr>\n",
       "  </thead>\n",
       "  <tbody>\n",
       "    <tr>\n",
       "      <th>dLt412</th>\n",
       "      <td>1.0939e+00</td>\n",
       "      <td>0.0000e+00</td>\n",
       "      <td>0.0000e+00</td>\n",
       "      <td>0.0000e+00</td>\n",
       "      <td>0.0000e+00</td>\n",
       "      <td>0.0000e+00</td>\n",
       "    </tr>\n",
       "    <tr>\n",
       "      <th>dLt443</th>\n",
       "      <td>0.0000e+00</td>\n",
       "      <td>9.4928e-01</td>\n",
       "      <td>0.0000e+00</td>\n",
       "      <td>0.0000e+00</td>\n",
       "      <td>0.0000e+00</td>\n",
       "      <td>0.0000e+00</td>\n",
       "    </tr>\n",
       "    <tr>\n",
       "      <th>dLt490</th>\n",
       "      <td>2.5398e-02</td>\n",
       "      <td>2.9672e-02</td>\n",
       "      <td>7.9094e-01</td>\n",
       "      <td>-6.0916e-02</td>\n",
       "      <td>0.0000e+00</td>\n",
       "      <td>0.0000e+00</td>\n",
       "    </tr>\n",
       "    <tr>\n",
       "      <th>dLt510</th>\n",
       "      <td>0.0000e+00</td>\n",
       "      <td>0.0000e+00</td>\n",
       "      <td>0.0000e+00</td>\n",
       "      <td>9.7443e-01</td>\n",
       "      <td>0.0000e+00</td>\n",
       "      <td>0.0000e+00</td>\n",
       "    </tr>\n",
       "    <tr>\n",
       "      <th>dLt555</th>\n",
       "      <td>-2.5445e-02</td>\n",
       "      <td>-5.9289e-02</td>\n",
       "      <td>-3.7674e-02</td>\n",
       "      <td>6.0916e-02</td>\n",
       "      <td>1.4285e+00</td>\n",
       "      <td>0.0000e+00</td>\n",
       "    </tr>\n",
       "    <tr>\n",
       "      <th>dLt670</th>\n",
       "      <td>0.0000e+00</td>\n",
       "      <td>0.0000e+00</td>\n",
       "      <td>0.0000e+00</td>\n",
       "      <td>0.0000e+00</td>\n",
       "      <td>0.0000e+00</td>\n",
       "      <td>4.4242e+00</td>\n",
       "    </tr>\n",
       "    <tr>\n",
       "      <th>dLt765</th>\n",
       "      <td>-7.8860e-01</td>\n",
       "      <td>-8.0092e-01</td>\n",
       "      <td>-8.2861e-01</td>\n",
       "      <td>-1.2789e+00</td>\n",
       "      <td>-2.0236e+00</td>\n",
       "      <td>-7.0796e+00</td>\n",
       "    </tr>\n",
       "    <tr>\n",
       "      <th>dLt865</th>\n",
       "      <td>5.0880e-01</td>\n",
       "      <td>5.0431e-01</td>\n",
       "      <td>5.2729e-01</td>\n",
       "      <td>7.9168e-01</td>\n",
       "      <td>1.1903e+00</td>\n",
       "      <td>2.6555e+00</td>\n",
       "    </tr>\n",
       "  </tbody>\n",
       "</table>\n",
       "</div>"
      ],
      "text/plain": [
       "       dRrs412 (%) dRrs443 (%) dRrs490 (%) dRrs510 (%) dRrs555 (%) dRrs670 (%)\n",
       "dLt412  1.0939e+00  0.0000e+00  0.0000e+00  0.0000e+00  0.0000e+00  0.0000e+00\n",
       "dLt443  0.0000e+00  9.4928e-01  0.0000e+00  0.0000e+00  0.0000e+00  0.0000e+00\n",
       "dLt490  2.5398e-02  2.9672e-02  7.9094e-01 -6.0916e-02  0.0000e+00  0.0000e+00\n",
       "dLt510  0.0000e+00  0.0000e+00  0.0000e+00  9.7443e-01  0.0000e+00  0.0000e+00\n",
       "dLt555 -2.5445e-02 -5.9289e-02 -3.7674e-02  6.0916e-02  1.4285e+00  0.0000e+00\n",
       "dLt670  0.0000e+00  0.0000e+00  0.0000e+00  0.0000e+00  0.0000e+00  4.4242e+00\n",
       "dLt765 -7.8860e-01 -8.0092e-01 -8.2861e-01 -1.2789e+00 -2.0236e+00 -7.0796e+00\n",
       "dLt865  5.0880e-01  5.0431e-01  5.2729e-01  7.9168e-01  1.1903e+00  2.6555e+00"
      ]
     },
     "execution_count": 36,
     "metadata": {},
     "output_type": "execute_result"
    }
   ],
   "source": [
    "dfMed0p1_rel"
   ]
  },
  {
   "cell_type": "code",
   "execution_count": 37,
   "metadata": {},
   "outputs": [
    {
     "data": {
      "text/html": [
       "<div>\n",
       "<table border=\"1\" class=\"dataframe\">\n",
       "  <thead>\n",
       "    <tr style=\"text-align: right;\">\n",
       "      <th></th>\n",
       "      <th>dRrs412 (%)</th>\n",
       "      <th>dRrs443 (%)</th>\n",
       "      <th>dRrs490 (%)</th>\n",
       "      <th>dRrs510 (%)</th>\n",
       "      <th>dRrs555 (%)</th>\n",
       "      <th>dRrs670 (%)</th>\n",
       "    </tr>\n",
       "  </thead>\n",
       "  <tbody>\n",
       "    <tr>\n",
       "      <th>dRrs412 (%)</th>\n",
       "      <td>2.0787e+00</td>\n",
       "      <td>8.9047e-01</td>\n",
       "      <td>9.4278e-01</td>\n",
       "      <td>1.4083e+00</td>\n",
       "      <td>2.1651e+00</td>\n",
       "      <td>6.9341e+00</td>\n",
       "    </tr>\n",
       "    <tr>\n",
       "      <th>dRrs443 (%)</th>\n",
       "      <td>8.9047e-01</td>\n",
       "      <td>1.8013e+00</td>\n",
       "      <td>9.5528e-01</td>\n",
       "      <td>1.4181e+00</td>\n",
       "      <td>2.1364e+00</td>\n",
       "      <td>7.0094e+00</td>\n",
       "    </tr>\n",
       "    <tr>\n",
       "      <th>dRrs490 (%)</th>\n",
       "      <td>9.4278e-01</td>\n",
       "      <td>9.5528e-01</td>\n",
       "      <td>1.5916e+00</td>\n",
       "      <td>1.4267e+00</td>\n",
       "      <td>2.2506e+00</td>\n",
       "      <td>7.2665e+00</td>\n",
       "    </tr>\n",
       "    <tr>\n",
       "      <th>dRrs510 (%)</th>\n",
       "      <td>1.4083e+00</td>\n",
       "      <td>1.4181e+00</td>\n",
       "      <td>1.4267e+00</td>\n",
       "      <td>3.2193e+00</td>\n",
       "      <td>3.6174e+00</td>\n",
       "      <td>1.1156e+01</td>\n",
       "    </tr>\n",
       "    <tr>\n",
       "      <th>dRrs555 (%)</th>\n",
       "      <td>2.1651e+00</td>\n",
       "      <td>2.1364e+00</td>\n",
       "      <td>2.2506e+00</td>\n",
       "      <td>3.6174e+00</td>\n",
       "      <td>7.5525e+00</td>\n",
       "      <td>1.7487e+01</td>\n",
       "    </tr>\n",
       "    <tr>\n",
       "      <th>dRrs670 (%)</th>\n",
       "      <td>6.9341e+00</td>\n",
       "      <td>7.0094e+00</td>\n",
       "      <td>7.2665e+00</td>\n",
       "      <td>1.1156e+01</td>\n",
       "      <td>1.7487e+01</td>\n",
       "      <td>7.6746e+01</td>\n",
       "    </tr>\n",
       "  </tbody>\n",
       "</table>\n",
       "</div>"
      ],
      "text/plain": [
       "            dRrs412 (%) dRrs443 (%) dRrs490 (%) dRrs510 (%) dRrs555 (%)  \\\n",
       "dRrs412 (%)  2.0787e+00  8.9047e-01  9.4278e-01  1.4083e+00  2.1651e+00   \n",
       "dRrs443 (%)  8.9047e-01  1.8013e+00  9.5528e-01  1.4181e+00  2.1364e+00   \n",
       "dRrs490 (%)  9.4278e-01  9.5528e-01  1.5916e+00  1.4267e+00  2.2506e+00   \n",
       "dRrs510 (%)  1.4083e+00  1.4181e+00  1.4267e+00  3.2193e+00  3.6174e+00   \n",
       "dRrs555 (%)  2.1651e+00  2.1364e+00  2.2506e+00  3.6174e+00  7.5525e+00   \n",
       "dRrs670 (%)  6.9341e+00  7.0094e+00  7.2665e+00  1.1156e+01  1.7487e+01   \n",
       "\n",
       "            dRrs670 (%)  \n",
       "dRrs412 (%)  6.9341e+00  \n",
       "dRrs443 (%)  7.0094e+00  \n",
       "dRrs490 (%)  7.2665e+00  \n",
       "dRrs510 (%)  1.1156e+01  \n",
       "dRrs555 (%)  1.7487e+01  \n",
       "dRrs670 (%)  7.6746e+01  "
      ]
     },
     "execution_count": 37,
     "metadata": {},
     "output_type": "execute_result"
    }
   ],
   "source": [
    "dfMed0p1_Cov_rel = dfMed0p1_rel.transpose().dot(dfMed0p1_rel)\n",
    "dfMed0p1_Cov_rel"
   ]
  },
  {
   "cell_type": "code",
   "execution_count": 41,
   "metadata": {},
   "outputs": [
    {
     "data": {
      "application/vnd.jupyter.widget-view+json": {
       "model_id": "b5cf782f706749839e95cfbafbbae777"
      }
     },
     "metadata": {},
     "output_type": "display_data"
    },
    {
     "data": {
      "application/vnd.jupyter.widget-view+json": {
       "model_id": "01b1a430058e4477a976cc07c64ed04d"
      }
     },
     "metadata": {},
     "output_type": "display_data"
    },
    {
     "data": {
      "application/vnd.jupyter.widget-view+json": {
       "model_id": "6bf2eee1a07b482889fe3982b63663fc"
      }
     },
     "metadata": {},
     "output_type": "display_data"
    },
    {
     "data": {
      "application/vnd.jupyter.widget-view+json": {
       "model_id": "2646f828c05848559238aad4383fbd6f"
      }
     },
     "metadata": {},
     "output_type": "display_data"
    },
    {
     "data": {
      "application/vnd.jupyter.widget-view+json": {
       "model_id": "f8a1eee5ebaf49b9a806ce0ae8617124"
      }
     },
     "metadata": {},
     "output_type": "display_data"
    },
    {
     "data": {
      "application/vnd.jupyter.widget-view+json": {
       "model_id": "696342d7c433439da0a3ce21b2030840"
      }
     },
     "metadata": {},
     "output_type": "display_data"
    },
    {
     "data": {
      "application/vnd.jupyter.widget-view+json": {
       "model_id": "ac7dfaad7fc7446e9dddcedd1f4e4ae4"
      }
     },
     "metadata": {},
     "output_type": "display_data"
    },
    {
     "name": "stdout",
     "output_type": "stream",
     "text": [
      "\n"
     ]
    }
   ],
   "source": [
    "GetData(dfMed0p5_rel, level=0.005)"
   ]
  },
  {
   "cell_type": "code",
   "execution_count": 42,
   "metadata": {},
   "outputs": [
    {
     "data": {
      "text/html": [
       "<div>\n",
       "<table border=\"1\" class=\"dataframe\">\n",
       "  <thead>\n",
       "    <tr style=\"text-align: right;\">\n",
       "      <th></th>\n",
       "      <th>dRrs412 (%)</th>\n",
       "      <th>dRrs443 (%)</th>\n",
       "      <th>dRrs490 (%)</th>\n",
       "      <th>dRrs510 (%)</th>\n",
       "      <th>dRrs555 (%)</th>\n",
       "      <th>dRrs670 (%)</th>\n",
       "    </tr>\n",
       "  </thead>\n",
       "  <tbody>\n",
       "    <tr>\n",
       "      <th>dLt412</th>\n",
       "      <td>5.4948e+00</td>\n",
       "      <td>0.0000e+00</td>\n",
       "      <td>0.0000e+00</td>\n",
       "      <td>0.0000e+00</td>\n",
       "      <td>0.0000e+00</td>\n",
       "      <td>0.0000e+00</td>\n",
       "    </tr>\n",
       "    <tr>\n",
       "      <th>dLt443</th>\n",
       "      <td>5.0842e-02</td>\n",
       "      <td>4.6871e+00</td>\n",
       "      <td>7.5348e-02</td>\n",
       "      <td>1.2172e-01</td>\n",
       "      <td>1.1908e-01</td>\n",
       "      <td>0.0000e+00</td>\n",
       "    </tr>\n",
       "    <tr>\n",
       "      <th>dLt490</th>\n",
       "      <td>7.6287e-02</td>\n",
       "      <td>8.9016e-02</td>\n",
       "      <td>3.9172e+00</td>\n",
       "      <td>-2.4366e-01</td>\n",
       "      <td>-2.3815e-01</td>\n",
       "      <td>-8.8516e-01</td>\n",
       "    </tr>\n",
       "    <tr>\n",
       "      <th>dLt510</th>\n",
       "      <td>0.0000e+00</td>\n",
       "      <td>0.0000e+00</td>\n",
       "      <td>0.0000e+00</td>\n",
       "      <td>4.8720e+00</td>\n",
       "      <td>0.0000e+00</td>\n",
       "      <td>0.0000e+00</td>\n",
       "    </tr>\n",
       "    <tr>\n",
       "      <th>dLt555</th>\n",
       "      <td>-1.5262e-01</td>\n",
       "      <td>-2.3732e-01</td>\n",
       "      <td>-1.8837e-01</td>\n",
       "      <td>3.6538e-01</td>\n",
       "      <td>7.1428e+00</td>\n",
       "      <td>1.7687e+00</td>\n",
       "    </tr>\n",
       "    <tr>\n",
       "      <th>dLt670</th>\n",
       "      <td>0.0000e+00</td>\n",
       "      <td>0.0000e+00</td>\n",
       "      <td>0.0000e+00</td>\n",
       "      <td>0.0000e+00</td>\n",
       "      <td>0.0000e+00</td>\n",
       "      <td>2.2124e+01</td>\n",
       "    </tr>\n",
       "    <tr>\n",
       "      <th>dLt765</th>\n",
       "      <td>-3.6887e+00</td>\n",
       "      <td>-3.7081e+00</td>\n",
       "      <td>-3.9172e+00</td>\n",
       "      <td>-5.9075e+00</td>\n",
       "      <td>-9.1669e+00</td>\n",
       "      <td>-3.1858e+01</td>\n",
       "    </tr>\n",
       "    <tr>\n",
       "      <th>dLt865</th>\n",
       "      <td>2.3912e+00</td>\n",
       "      <td>2.3435e+00</td>\n",
       "      <td>2.3729e+00</td>\n",
       "      <td>3.4714e+00</td>\n",
       "      <td>5.1192e+00</td>\n",
       "      <td>1.3274e+01</td>\n",
       "    </tr>\n",
       "  </tbody>\n",
       "</table>\n",
       "</div>"
      ],
      "text/plain": [
       "       dRrs412 (%) dRrs443 (%) dRrs490 (%) dRrs510 (%) dRrs555 (%) dRrs670 (%)\n",
       "dLt412  5.4948e+00  0.0000e+00  0.0000e+00  0.0000e+00  0.0000e+00  0.0000e+00\n",
       "dLt443  5.0842e-02  4.6871e+00  7.5348e-02  1.2172e-01  1.1908e-01  0.0000e+00\n",
       "dLt490  7.6287e-02  8.9016e-02  3.9172e+00 -2.4366e-01 -2.3815e-01 -8.8516e-01\n",
       "dLt510  0.0000e+00  0.0000e+00  0.0000e+00  4.8720e+00  0.0000e+00  0.0000e+00\n",
       "dLt555 -1.5262e-01 -2.3732e-01 -1.8837e-01  3.6538e-01  7.1428e+00  1.7687e+00\n",
       "dLt670  0.0000e+00  0.0000e+00  0.0000e+00  0.0000e+00  0.0000e+00  2.2124e+01\n",
       "dLt765 -3.6887e+00 -3.7081e+00 -3.9172e+00 -5.9075e+00 -9.1669e+00 -3.1858e+01\n",
       "dLt865  2.3912e+00  2.3435e+00  2.3729e+00  3.4714e+00  5.1192e+00  1.3274e+01"
      ]
     },
     "execution_count": 42,
     "metadata": {},
     "output_type": "execute_result"
    }
   ],
   "source": [
    "dfMed0p5_rel"
   ]
  },
  {
   "cell_type": "code",
   "execution_count": 44,
   "metadata": {},
   "outputs": [
    {
     "data": {
      "text/html": [
       "<div>\n",
       "<table border=\"1\" class=\"dataframe\">\n",
       "  <thead>\n",
       "    <tr style=\"text-align: right;\">\n",
       "      <th></th>\n",
       "      <th>dRrs412 (%)</th>\n",
       "      <th>dRrs443 (%)</th>\n",
       "      <th>dRrs490 (%)</th>\n",
       "      <th>dRrs510 (%)</th>\n",
       "      <th>dRrs555 (%)</th>\n",
       "      <th>dRrs670 (%)</th>\n",
       "    </tr>\n",
       "  </thead>\n",
       "  <tbody>\n",
       "    <tr>\n",
       "      <th>dRrs412 (%)</th>\n",
       "      <td>4.9548e+01</td>\n",
       "      <td>1.9563e+01</td>\n",
       "      <td>2.0455e+01</td>\n",
       "      <td>3.0023e+01</td>\n",
       "      <td>4.4952e+01</td>\n",
       "      <td>1.4892e+02</td>\n",
       "    </tr>\n",
       "    <tr>\n",
       "      <th>dRrs443 (%)</th>\n",
       "      <td>1.9563e+01</td>\n",
       "      <td>4.1275e+01</td>\n",
       "      <td>2.0833e+01</td>\n",
       "      <td>3.0503e+01</td>\n",
       "      <td>4.4830e+01</td>\n",
       "      <td>1.4874e+02</td>\n",
       "    </tr>\n",
       "    <tr>\n",
       "      <th>dRrs490 (%)</th>\n",
       "      <td>2.0455e+01</td>\n",
       "      <td>2.0833e+01</td>\n",
       "      <td>3.6360e+01</td>\n",
       "      <td>3.0364e+01</td>\n",
       "      <td>4.5786e+01</td>\n",
       "      <td>1.5249e+02</td>\n",
       "    </tr>\n",
       "    <tr>\n",
       "      <th>dRrs510 (%)</th>\n",
       "      <td>3.0023e+01</td>\n",
       "      <td>3.0503e+01</td>\n",
       "      <td>3.0364e+01</td>\n",
       "      <td>7.0894e+01</td>\n",
       "      <td>7.4606e+01</td>\n",
       "      <td>2.3514e+02</td>\n",
       "    </tr>\n",
       "    <tr>\n",
       "      <th>dRrs555 (%)</th>\n",
       "      <td>4.4952e+01</td>\n",
       "      <td>4.4830e+01</td>\n",
       "      <td>4.5786e+01</td>\n",
       "      <td>7.4606e+01</td>\n",
       "      <td>1.6133e+02</td>\n",
       "      <td>3.7283e+02</td>\n",
       "    </tr>\n",
       "    <tr>\n",
       "      <th>dRrs670 (%)</th>\n",
       "      <td>1.4892e+02</td>\n",
       "      <td>1.4874e+02</td>\n",
       "      <td>1.5249e+02</td>\n",
       "      <td>2.3514e+02</td>\n",
       "      <td>3.7283e+02</td>\n",
       "      <td>1.6845e+03</td>\n",
       "    </tr>\n",
       "  </tbody>\n",
       "</table>\n",
       "</div>"
      ],
      "text/plain": [
       "            dRrs412 (%) dRrs443 (%) dRrs490 (%) dRrs510 (%) dRrs555 (%)  \\\n",
       "dRrs412 (%)  4.9548e+01  1.9563e+01  2.0455e+01  3.0023e+01  4.4952e+01   \n",
       "dRrs443 (%)  1.9563e+01  4.1275e+01  2.0833e+01  3.0503e+01  4.4830e+01   \n",
       "dRrs490 (%)  2.0455e+01  2.0833e+01  3.6360e+01  3.0364e+01  4.5786e+01   \n",
       "dRrs510 (%)  3.0023e+01  3.0503e+01  3.0364e+01  7.0894e+01  7.4606e+01   \n",
       "dRrs555 (%)  4.4952e+01  4.4830e+01  4.5786e+01  7.4606e+01  1.6133e+02   \n",
       "dRrs670 (%)  1.4892e+02  1.4874e+02  1.5249e+02  2.3514e+02  3.7283e+02   \n",
       "\n",
       "            dRrs670 (%)  \n",
       "dRrs412 (%)  1.4892e+02  \n",
       "dRrs443 (%)  1.4874e+02  \n",
       "dRrs490 (%)  1.5249e+02  \n",
       "dRrs510 (%)  2.3514e+02  \n",
       "dRrs555 (%)  3.7283e+02  \n",
       "dRrs670 (%)  1.6845e+03  "
      ]
     },
     "execution_count": 44,
     "metadata": {},
     "output_type": "execute_result"
    }
   ],
   "source": [
    "dfMed0p5_Cov_rel = dfMed0p5_rel.transpose().dot(dfMed0p5_rel)\n",
    "dfMed0p5_Cov_rel"
   ]
  },
  {
   "cell_type": "code",
   "execution_count": 45,
   "metadata": {},
   "outputs": [
    {
     "data": {
      "text/html": [
       "<div>\n",
       "<table border=\"1\" class=\"dataframe\">\n",
       "  <thead>\n",
       "    <tr style=\"text-align: right;\">\n",
       "      <th></th>\n",
       "      <th>dRrs412 (%)</th>\n",
       "      <th>dRrs443 (%)</th>\n",
       "      <th>dRrs490 (%)</th>\n",
       "      <th>dRrs510 (%)</th>\n",
       "      <th>dRrs555 (%)</th>\n",
       "      <th>dRrs670 (%)</th>\n",
       "    </tr>\n",
       "  </thead>\n",
       "  <tbody>\n",
       "    <tr>\n",
       "      <th>dRrs412 (%)</th>\n",
       "      <td>1.0000e+00</td>\n",
       "      <td>4.6018e-01</td>\n",
       "      <td>5.1832e-01</td>\n",
       "      <td>5.4439e-01</td>\n",
       "      <td>5.4645e-01</td>\n",
       "      <td>5.4900e-01</td>\n",
       "    </tr>\n",
       "    <tr>\n",
       "      <th>dRrs443 (%)</th>\n",
       "      <td>4.6018e-01</td>\n",
       "      <td>1.0000e+00</td>\n",
       "      <td>5.6417e-01</td>\n",
       "      <td>5.8890e-01</td>\n",
       "      <td>5.7921e-01</td>\n",
       "      <td>5.9615e-01</td>\n",
       "    </tr>\n",
       "    <tr>\n",
       "      <th>dRrs490 (%)</th>\n",
       "      <td>5.1832e-01</td>\n",
       "      <td>5.6417e-01</td>\n",
       "      <td>1.0000e+00</td>\n",
       "      <td>6.3027e-01</td>\n",
       "      <td>6.4914e-01</td>\n",
       "      <td>6.5747e-01</td>\n",
       "    </tr>\n",
       "    <tr>\n",
       "      <th>dRrs510 (%)</th>\n",
       "      <td>5.4439e-01</td>\n",
       "      <td>5.8890e-01</td>\n",
       "      <td>6.3027e-01</td>\n",
       "      <td>1.0000e+00</td>\n",
       "      <td>7.3362e-01</td>\n",
       "      <td>7.0977e-01</td>\n",
       "    </tr>\n",
       "    <tr>\n",
       "      <th>dRrs555 (%)</th>\n",
       "      <td>5.4645e-01</td>\n",
       "      <td>5.7921e-01</td>\n",
       "      <td>6.4914e-01</td>\n",
       "      <td>7.3362e-01</td>\n",
       "      <td>1.0000e+00</td>\n",
       "      <td>7.2636e-01</td>\n",
       "    </tr>\n",
       "    <tr>\n",
       "      <th>dRrs670 (%)</th>\n",
       "      <td>5.4900e-01</td>\n",
       "      <td>5.9615e-01</td>\n",
       "      <td>6.5747e-01</td>\n",
       "      <td>7.0977e-01</td>\n",
       "      <td>7.2636e-01</td>\n",
       "      <td>1.0000e+00</td>\n",
       "    </tr>\n",
       "  </tbody>\n",
       "</table>\n",
       "</div>"
      ],
      "text/plain": [
       "            dRrs412 (%) dRrs443 (%) dRrs490 (%) dRrs510 (%) dRrs555 (%)  \\\n",
       "dRrs412 (%)  1.0000e+00  4.6018e-01  5.1832e-01  5.4439e-01  5.4645e-01   \n",
       "dRrs443 (%)  4.6018e-01  1.0000e+00  5.6417e-01  5.8890e-01  5.7921e-01   \n",
       "dRrs490 (%)  5.1832e-01  5.6417e-01  1.0000e+00  6.3027e-01  6.4914e-01   \n",
       "dRrs510 (%)  5.4439e-01  5.8890e-01  6.3027e-01  1.0000e+00  7.3362e-01   \n",
       "dRrs555 (%)  5.4645e-01  5.7921e-01  6.4914e-01  7.3362e-01  1.0000e+00   \n",
       "dRrs670 (%)  5.4900e-01  5.9615e-01  6.5747e-01  7.0977e-01  7.2636e-01   \n",
       "\n",
       "            dRrs670 (%)  \n",
       "dRrs412 (%)  5.4900e-01  \n",
       "dRrs443 (%)  5.9615e-01  \n",
       "dRrs490 (%)  6.5747e-01  \n",
       "dRrs510 (%)  7.0977e-01  \n",
       "dRrs555 (%)  7.2636e-01  \n",
       "dRrs670 (%)  1.0000e+00  "
      ]
     },
     "execution_count": 45,
     "metadata": {},
     "output_type": "execute_result"
    }
   ],
   "source": [
    "dfMed0p1_Corr_rel = Cov2Corr(dfMed0p1_Cov_rel)\n",
    "dfMed0p1_Corr_rel"
   ]
  },
  {
   "cell_type": "code",
   "execution_count": 46,
   "metadata": {},
   "outputs": [
    {
     "data": {
      "text/html": [
       "<div>\n",
       "<table border=\"1\" class=\"dataframe\">\n",
       "  <thead>\n",
       "    <tr style=\"text-align: right;\">\n",
       "      <th></th>\n",
       "      <th>dRrs412 (%)</th>\n",
       "      <th>dRrs443 (%)</th>\n",
       "      <th>dRrs490 (%)</th>\n",
       "      <th>dRrs510 (%)</th>\n",
       "      <th>dRrs555 (%)</th>\n",
       "      <th>dRrs670 (%)</th>\n",
       "    </tr>\n",
       "  </thead>\n",
       "  <tbody>\n",
       "    <tr>\n",
       "      <th>dRrs412 (%)</th>\n",
       "      <td>1.0000e+00</td>\n",
       "      <td>4.3259e-01</td>\n",
       "      <td>4.8191e-01</td>\n",
       "      <td>5.0657e-01</td>\n",
       "      <td>5.0278e-01</td>\n",
       "      <td>5.1545e-01</td>\n",
       "    </tr>\n",
       "    <tr>\n",
       "      <th>dRrs443 (%)</th>\n",
       "      <td>4.3259e-01</td>\n",
       "      <td>1.0000e+00</td>\n",
       "      <td>5.3776e-01</td>\n",
       "      <td>5.6389e-01</td>\n",
       "      <td>5.4938e-01</td>\n",
       "      <td>5.6410e-01</td>\n",
       "    </tr>\n",
       "    <tr>\n",
       "      <th>dRrs490 (%)</th>\n",
       "      <td>4.8191e-01</td>\n",
       "      <td>5.3776e-01</td>\n",
       "      <td>1.0000e+00</td>\n",
       "      <td>5.9805e-01</td>\n",
       "      <td>5.9781e-01</td>\n",
       "      <td>6.1616e-01</td>\n",
       "    </tr>\n",
       "    <tr>\n",
       "      <th>dRrs510 (%)</th>\n",
       "      <td>5.0657e-01</td>\n",
       "      <td>5.6389e-01</td>\n",
       "      <td>5.9805e-01</td>\n",
       "      <td>1.0000e+00</td>\n",
       "      <td>6.9762e-01</td>\n",
       "      <td>6.8044e-01</td>\n",
       "    </tr>\n",
       "    <tr>\n",
       "      <th>dRrs555 (%)</th>\n",
       "      <td>5.0278e-01</td>\n",
       "      <td>5.4938e-01</td>\n",
       "      <td>5.9781e-01</td>\n",
       "      <td>6.9762e-01</td>\n",
       "      <td>1.0000e+00</td>\n",
       "      <td>7.1519e-01</td>\n",
       "    </tr>\n",
       "    <tr>\n",
       "      <th>dRrs670 (%)</th>\n",
       "      <td>5.1545e-01</td>\n",
       "      <td>5.6410e-01</td>\n",
       "      <td>6.1616e-01</td>\n",
       "      <td>6.8044e-01</td>\n",
       "      <td>7.1519e-01</td>\n",
       "      <td>1.0000e+00</td>\n",
       "    </tr>\n",
       "  </tbody>\n",
       "</table>\n",
       "</div>"
      ],
      "text/plain": [
       "            dRrs412 (%) dRrs443 (%) dRrs490 (%) dRrs510 (%) dRrs555 (%)  \\\n",
       "dRrs412 (%)  1.0000e+00  4.3259e-01  4.8191e-01  5.0657e-01  5.0278e-01   \n",
       "dRrs443 (%)  4.3259e-01  1.0000e+00  5.3776e-01  5.6389e-01  5.4938e-01   \n",
       "dRrs490 (%)  4.8191e-01  5.3776e-01  1.0000e+00  5.9805e-01  5.9781e-01   \n",
       "dRrs510 (%)  5.0657e-01  5.6389e-01  5.9805e-01  1.0000e+00  6.9762e-01   \n",
       "dRrs555 (%)  5.0278e-01  5.4938e-01  5.9781e-01  6.9762e-01  1.0000e+00   \n",
       "dRrs670 (%)  5.1545e-01  5.6410e-01  6.1616e-01  6.8044e-01  7.1519e-01   \n",
       "\n",
       "            dRrs670 (%)  \n",
       "dRrs412 (%)  5.1545e-01  \n",
       "dRrs443 (%)  5.6410e-01  \n",
       "dRrs490 (%)  6.1616e-01  \n",
       "dRrs510 (%)  6.8044e-01  \n",
       "dRrs555 (%)  7.1519e-01  \n",
       "dRrs670 (%)  1.0000e+00  "
      ]
     },
     "execution_count": 46,
     "metadata": {},
     "output_type": "execute_result"
    }
   ],
   "source": [
    "dfMed0p5_Corr_rel = Cov2Corr(dfMed0p5_Cov_rel)\n",
    "dfMed0p5_Corr_rel"
   ]
  },
  {
   "cell_type": "code",
   "execution_count": 47,
   "metadata": {
    "collapsed": true
   },
   "outputs": [],
   "source": [
    "dfMed0p1_rel = dfMed0p1_rel[dfMed0p1_rel.columns].astype(float)\n",
    "dfMed0p5_rel = dfMed0p5_rel[dfMed0p5_rel.columns].astype(float)\n",
    "dfMed0p1_Cov_rel = dfMed0p1_Cov_rel[dfMed0p1_Cov_rel.columns].astype(float)\n",
    "dfMed0p5_Cov_rel = dfMed0p5_Cov_rel[dfMed0p5_Cov_rel.columns].astype(float)\n",
    "dfMed0p1_Corr_rel = dfMed0p1_Corr_rel[dfMed0p1_Corr_rel.columns].astype(float)\n",
    "dfMed0p5_Corr_rel = dfMed0p5_Corr_rel[dfMed0p5_Corr_rel.columns].astype(float)\n",
    "dfMed0p1_rel.to_pickle('./pklJar/dfMed0p1_rel.pkl')\n",
    "dfMed0p5_rel.to_pickle('./pklJar/dfMed0p5_rel.pkl')\n",
    "dfMed0p1_Cov_rel.to_pickle('./pklJar/dfMed0p1_Cov_rel.pkl')\n",
    "dfMed0p5_Cov_rel.to_pickle('./pklJar/dfMed0p5_Cov_rel.pkl')\n",
    "dfMed0p1_Corr_rel.to_pickle('./pklJar/dfMed0p1_Corr_rel.pkl')\n",
    "dfMed0p5_Corr_rel.to_pickle('./pklJar/dfMed0p5_Corr_rel.pkl')"
   ]
  },
  {
   "cell_type": "code",
   "execution_count": 48,
   "metadata": {},
   "outputs": [
    {
     "data": {
      "image/png": "[encoded data removed]",
      "text/plain": [
       "<matplotlib.figure.Figure at 0x7f9854d28588>"
      ]
     },
     "metadata": {},
     "output_type": "display_data"
    }
   ],
   "source": [
    "f,ax = pl.subplots(ncols=2,figsize=(17,8))\n",
    "f.suptitle(\"Covariance Matrices of Medians\", fontsize=24)\n",
    "sb.set(font_scale=1)\n",
    "sb.heatmap(dfMed0p1_Cov_rel, square=True, ax=ax[0])\n",
    "ax[0].set_title(\"perturbation = +0.1%\", fontsize=20)\n",
    "sb.set(font_scale=1)\n",
    "sb.heatmap(dfMed0p5_Cov_rel, square=True, ax=ax[1])\n",
    "ax[1].set_title(\"perturbation = +0.5%\", fontsize=20);"
   ]
  },
  {
   "cell_type": "code",
   "execution_count": 50,
   "metadata": {},
   "outputs": [
    {
     "data": {
      "image/png": "[encoded data removed]",
      "text/plain": [
       "<matplotlib.figure.Figure at 0x7f985428cdd8>"
      ]
     },
     "metadata": {},
     "output_type": "display_data"
    }
   ],
   "source": [
    "f,ax = pl.subplots(ncols=2,figsize=(17,8))\n",
    "f.suptitle(\"Correlation Matrices of Medians\", fontsize=24)\n",
    "sb.set(font_scale=1)\n",
    "sb.heatmap(dfMed0p1_Corr_rel, square=True, ax=ax[0])\n",
    "ax[0].set_title(\"perturbation = +0.1%\", fontsize=20)\n",
    "sb.set(font_scale=1)\n",
    "sb.heatmap(dfMed0p5_Corr_rel, square=True, ax=ax[1])\n",
    "ax[1].set_title(\"perturbation = +0.5%\", fontsize=20);"
   ]
  },
  {
   "cell_type": "code",
   "execution_count": 51,
   "metadata": {},
   "outputs": [
    {
     "data": {
      "text/html": [
       "<div>\n",
       "<table border=\"1\" class=\"dataframe\">\n",
       "  <thead>\n",
       "    <tr style=\"text-align: right;\">\n",
       "      <th></th>\n",
       "      <th>Unc</th>\n",
       "    </tr>\n",
       "  </thead>\n",
       "  <tbody>\n",
       "    <tr>\n",
       "      <th>dRrs412 (%)</th>\n",
       "      <td>4.5294e+00</td>\n",
       "    </tr>\n",
       "    <tr>\n",
       "      <th>dRrs443 (%)</th>\n",
       "      <td>4.2164e+00</td>\n",
       "    </tr>\n",
       "    <tr>\n",
       "      <th>dRrs490 (%)</th>\n",
       "      <td>3.9634e+00</td>\n",
       "    </tr>\n",
       "    <tr>\n",
       "      <th>dRrs510 (%)</th>\n",
       "      <td>5.6367e+00</td>\n",
       "    </tr>\n",
       "    <tr>\n",
       "      <th>dRrs555 (%)</th>\n",
       "      <td>8.6336e+00</td>\n",
       "    </tr>\n",
       "    <tr>\n",
       "      <th>dRrs670 (%)</th>\n",
       "      <td>2.7522e+01</td>\n",
       "    </tr>\n",
       "  </tbody>\n",
       "</table>\n",
       "</div>"
      ],
      "text/plain": [
       "                   Unc\n",
       "dRrs412 (%) 4.5294e+00\n",
       "dRrs443 (%) 4.2164e+00\n",
       "dRrs490 (%) 3.9634e+00\n",
       "dRrs510 (%) 5.6367e+00\n",
       "dRrs555 (%) 8.6336e+00\n",
       "dRrs670 (%) 2.7522e+01"
      ]
     },
     "execution_count": 51,
     "metadata": {},
     "output_type": "execute_result"
    }
   ],
   "source": [
    "GetUncs(dfMed0p1_Cov_rel)"
   ]
  },
  {
   "cell_type": "code",
   "execution_count": 53,
   "metadata": {},
   "outputs": [
    {
     "data": {
      "text/html": [
       "<div>\n",
       "<table border=\"1\" class=\"dataframe\">\n",
       "  <thead>\n",
       "    <tr style=\"text-align: right;\">\n",
       "      <th></th>\n",
       "      <th>Unc</th>\n",
       "    </tr>\n",
       "  </thead>\n",
       "  <tbody>\n",
       "    <tr>\n",
       "      <th>dRrs412 (%)</th>\n",
       "      <td>2.2114e+01</td>\n",
       "    </tr>\n",
       "    <tr>\n",
       "      <th>dRrs443 (%)</th>\n",
       "      <td>2.0183e+01</td>\n",
       "    </tr>\n",
       "    <tr>\n",
       "      <th>dRrs490 (%)</th>\n",
       "      <td>1.8944e+01</td>\n",
       "    </tr>\n",
       "    <tr>\n",
       "      <th>dRrs510 (%)</th>\n",
       "      <td>2.6452e+01</td>\n",
       "    </tr>\n",
       "    <tr>\n",
       "      <th>dRrs555 (%)</th>\n",
       "      <td>3.9903e+01</td>\n",
       "    </tr>\n",
       "    <tr>\n",
       "      <th>dRrs670 (%)</th>\n",
       "      <td>1.2894e+02</td>\n",
       "    </tr>\n",
       "  </tbody>\n",
       "</table>\n",
       "</div>"
      ],
      "text/plain": [
       "                   Unc\n",
       "dRrs412 (%) 2.2114e+01\n",
       "dRrs443 (%) 2.0183e+01\n",
       "dRrs490 (%) 1.8944e+01\n",
       "dRrs510 (%) 2.6452e+01\n",
       "dRrs555 (%) 3.9903e+01\n",
       "dRrs670 (%) 1.2894e+02"
      ]
     },
     "execution_count": 53,
     "metadata": {},
     "output_type": "execute_result"
    }
   ],
   "source": [
    "GetUncs(dfMed0p5_Cov_rel)"
   ]
  },
  {
   "cell_type": "code",
   "execution_count": 158,
   "metadata": {
    "collapsed": true
   },
   "outputs": [],
   "source": [
    "# Re-Loading DataFrames\n",
    "dfMed0p1 = pd.read_pickle('./pklJar/dfMed0p1.pkl')\n",
    "dfMed0p5 = pd.read_pickle('./pklJar/dfMed0p5.pkl')\n",
    "dfMed0p1_Cov = pd.read_pickle('./pklJar/dfMed0p1_Cov.pkl')\n",
    "dfMed0p5_Cov = pd.read_pickle('./pklJar/dfMed0p5_Cov.pkl')\n",
    "dfMed0p1_Corr = pd.read_pickle('./pklJar/dfMed0p1_Corr.pkl')\n",
    "dfMed0p5_Corr = pd.read_pickle('./pklJar/dfMed0p5_Corr.pkl')"
   ]
  },
  {
   "cell_type": "code",
   "execution_count": null,
   "metadata": {
    "collapsed": true
   },
   "outputs": [],
   "source": []
  }
 ],
 "metadata": {
  "anaconda-cloud": {},
  "kernelspec": {
   "display_name": "Python [conda root]",
   "language": "python",
   "name": "conda-root-py"
  },
  "language_info": {
   "codemirror_mode": {
    "name": "ipython",
    "version": 3
   },
   "file_extension": ".py",
   "mimetype": "text/x-python",
   "name": "python",
   "nbconvert_exporter": "python",
   "pygments_lexer": "ipython3",
   "version": "3.5.3"
  }
 },
 "nbformat": 4,
 "nbformat_minor": 2
}
