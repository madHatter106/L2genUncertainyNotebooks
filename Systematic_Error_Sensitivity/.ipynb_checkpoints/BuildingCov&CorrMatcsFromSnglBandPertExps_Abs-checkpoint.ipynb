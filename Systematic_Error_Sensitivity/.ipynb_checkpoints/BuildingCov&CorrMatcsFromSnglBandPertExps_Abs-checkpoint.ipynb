{
 "cells": [
  {
   "cell_type": "code",
   "execution_count": 305,
   "metadata": {
    "slideshow": {
     "slide_type": "skip"
    }
   },
   "outputs": [
    {
     "data": {
      "text/html": [
       "<style>.container {width:90% !important;}</style>"
      ],
      "text/plain": [
       "<IPython.core.display.HTML object>"
      ]
     },
     "metadata": {},
     "output_type": "display_data"
    }
   ],
   "source": [
    "# RUN THIS - 1/3\n",
    "import numpy as np\n",
    "import matplotlib.pyplot as pl\n",
    "import pandas as pd\n",
    "import seaborn as sb\n",
    "import pickle\n",
    "import os\n",
    "import glob\n",
    "from tqdm import tqdm_notebook\n",
    "from netCDF4 import Dataset\n",
    "from matplotlib import rcParams\n",
    "\n",
    "from IPython.core.display import display, HTML\n",
    "display(HTML(\"<style>.container {width:90% !important;}</style>\"))\n",
    "\n",
    "rcParams['axes.formatter.limits']=(-2,2)\n",
    "\n",
    "pd.set_option('display.float_format', '{:.4e}'.format)\n",
    "np.set_printoptions(formatter={'float':'{: .1e}'.format}, linewidth=100)\n",
    "\n",
    "% matplotlib inline"
   ]
  },
  {
   "cell_type": "code",
   "execution_count": 232,
   "metadata": {
    "slideshow": {
     "slide_type": "skip"
    }
   },
   "outputs": [],
   "source": [
    "dataDir='/accounts/ekarakoy/DEV-ALL/UNCERTAINTIES/UNCPY/UNC_notebooks/Systematic_Error_Sensitivity/Data/'\n",
    "filelist = glob.glob(os.path.join(dataDir,'*AbsDif*'))\n",
    "bands = [412, 443, 490, 510, 555, 670, 765, 865]\n",
    "bandNums = {k: v for k, v in zip(bands, range(8))}\n",
    "mainStr='L3mDataDictAbsDiff_band'\n",
    "sfx1 = '_0p1p.pkl'\n",
    "sfx2 = '_0p5p.pkl'\n",
    "sfx3 = '_1p.pkl'\n",
    "with open('./Data/L3mBaselineDict.pkl', 'rb') as f:\n",
    "    bslDict = pickle.load(f)['Rrs']"
   ]
  },
  {
   "cell_type": "code",
   "execution_count": 230,
   "metadata": {
    "slideshow": {
     "slide_type": "skip"
    }
   },
   "outputs": [],
   "source": [
    "# Create new Dataframes for both \n",
    "mediansDict = dict.fromkeys(['dRrs%d' % b for b in bands[:-2]])\n",
    "for b in mediansDict.keys():\n",
    "    mediansDict[b] = dict.fromkeys(['dLt%d' % c for c in bands])\n",
    "dfMed0p1 = pd.DataFrame(mediansDict)\n",
    "dfMed0p5 = dfMed0p1.copy()\n",
    "dfMed1 = dfMed0p5.copy()"
   ]
  },
  {
   "cell_type": "code",
   "execution_count": 20,
   "metadata": {
    "slideshow": {
     "slide_type": "skip"
    }
   },
   "outputs": [
    {
     "data": {
      "text/html": [
       "<div>\n",
       "<table border=\"1\" class=\"dataframe\">\n",
       "  <thead>\n",
       "    <tr style=\"text-align: right;\">\n",
       "      <th></th>\n",
       "      <th>dRrs412</th>\n",
       "      <th>dRrs443</th>\n",
       "      <th>dRrs490</th>\n",
       "      <th>dRrs510</th>\n",
       "      <th>dRrs555</th>\n",
       "      <th>dRrs670</th>\n",
       "    </tr>\n",
       "  </thead>\n",
       "  <tbody>\n",
       "    <tr>\n",
       "      <th>dLt412</th>\n",
       "      <td>None</td>\n",
       "      <td>None</td>\n",
       "      <td>None</td>\n",
       "      <td>None</td>\n",
       "      <td>None</td>\n",
       "      <td>None</td>\n",
       "    </tr>\n",
       "    <tr>\n",
       "      <th>dLt443</th>\n",
       "      <td>None</td>\n",
       "      <td>None</td>\n",
       "      <td>None</td>\n",
       "      <td>None</td>\n",
       "      <td>None</td>\n",
       "      <td>None</td>\n",
       "    </tr>\n",
       "    <tr>\n",
       "      <th>dLt490</th>\n",
       "      <td>None</td>\n",
       "      <td>None</td>\n",
       "      <td>None</td>\n",
       "      <td>None</td>\n",
       "      <td>None</td>\n",
       "      <td>None</td>\n",
       "    </tr>\n",
       "    <tr>\n",
       "      <th>dLt510</th>\n",
       "      <td>None</td>\n",
       "      <td>None</td>\n",
       "      <td>None</td>\n",
       "      <td>None</td>\n",
       "      <td>None</td>\n",
       "      <td>None</td>\n",
       "    </tr>\n",
       "    <tr>\n",
       "      <th>dLt555</th>\n",
       "      <td>None</td>\n",
       "      <td>None</td>\n",
       "      <td>None</td>\n",
       "      <td>None</td>\n",
       "      <td>None</td>\n",
       "      <td>None</td>\n",
       "    </tr>\n",
       "    <tr>\n",
       "      <th>dLt670</th>\n",
       "      <td>None</td>\n",
       "      <td>None</td>\n",
       "      <td>None</td>\n",
       "      <td>None</td>\n",
       "      <td>None</td>\n",
       "      <td>None</td>\n",
       "    </tr>\n",
       "    <tr>\n",
       "      <th>dLt765</th>\n",
       "      <td>None</td>\n",
       "      <td>None</td>\n",
       "      <td>None</td>\n",
       "      <td>None</td>\n",
       "      <td>None</td>\n",
       "      <td>None</td>\n",
       "    </tr>\n",
       "    <tr>\n",
       "      <th>dLt865</th>\n",
       "      <td>None</td>\n",
       "      <td>None</td>\n",
       "      <td>None</td>\n",
       "      <td>None</td>\n",
       "      <td>None</td>\n",
       "      <td>None</td>\n",
       "    </tr>\n",
       "  </tbody>\n",
       "</table>\n",
       "</div>"
      ],
      "text/plain": [
       "       dRrs412 dRrs443 dRrs490 dRrs510 dRrs555 dRrs670\n",
       "dLt412    None    None    None    None    None    None\n",
       "dLt443    None    None    None    None    None    None\n",
       "dLt490    None    None    None    None    None    None\n",
       "dLt510    None    None    None    None    None    None\n",
       "dLt555    None    None    None    None    None    None\n",
       "dLt670    None    None    None    None    None    None\n",
       "dLt765    None    None    None    None    None    None\n",
       "dLt865    None    None    None    None    None    None"
      ]
     },
     "execution_count": 20,
     "metadata": {},
     "output_type": "execute_result"
    }
   ],
   "source": []
  },
  {
   "cell_type": "code",
   "execution_count": 327,
   "metadata": {
    "slideshow": {
     "slide_type": "skip"
    }
   },
   "outputs": [],
   "source": [
    "# RUN THIS - 2/3\n",
    "def GetData(df, level=0.001):\n",
    "    # load absolute diff data \n",
    "    if level ==0.001:\n",
    "        sfx = sfx1\n",
    "    elif level == 0.005:\n",
    "        sfx = sfx2\n",
    "    elif level == 0.01:\n",
    "        sfx = sfx3\n",
    "    for wvl in tqdm_notebook(bands[:-2]):\n",
    "        # Rrs vvv band\n",
    "        for pwvl in tqdm_notebook(bands):\n",
    "            # Lt vvv + nir bands\n",
    "            with open('%s%s%d%s' %(dataDir, mainStr, bandNums[pwvl], sfx),'rb') as f:\n",
    "                data = pickle.load(f)['Rrs'][wvl]\n",
    "            df.loc['dLt%d' %pwvl, 'dRrs%d' %wvl] = np.ma.median(data)\n",
    "\n",
    "def Cov2Corr(dfCov):\n",
    "    diag =  pd.DataFrame(np.diagflat(np.power(np.diag(dfCov),-.5)), \n",
    "                                             index=dfCov.index,\n",
    "                                             columns=dfCov.columns)\n",
    "    return diag.dot(dfCov).dot(diag)\n",
    "\n",
    "def GetUncs(dfCov, rhow=True):\n",
    "    \n",
    "    factor = 1.0\n",
    "    if rhow:\n",
    "        factor = np.pi\n",
    "    idx = ['rho_w_%d' %i for i in bands[:-2]]\n",
    "    return pd.DataFrame(np.sqrt(np.diag(dfCov)) * factor, index=idx, columns=['Unc'])\n",
    "\n",
    "def Conv2Rel(dfUnc):\n",
    "    dfRelUnc = dict.fromkeys(dfUnc.index.tolist())\n",
    "    for band in bands[:-2]:\n",
    "        dfRelUnc['rho_w_%d' % band] = dfUnc.loc['rho_w_%d' % band] / bslRrsMedianDict[band] / np.pi * 100\n",
    "    return pd.DataFrame(dfRelUnc).rename_axis({'Unc': 'Unc (%)'}).T\n",
    "\n",
    "def MakeCovCorrMatx(diag, offDiagFac, n=8):\n",
    "    varCov = np.ones((n,n)) * diag * offDiagFac\n",
    "    varCov[np.diag_indices_from(varCov)] = diag\n",
    "    return varCov\n",
    "\n",
    "def PropgtWthModifdVarCovMatx(df, level=0.001, offDiagFactor=0.5, varCovMatx=None):\n",
    "    if not varCovMatx:\n",
    "        varCovMatx = MakeCovCorrMatx(diag=level^2, offDiagFac=offDiagFactor, n=df.shape[0])\n",
    "        df = df / level\n",
    "    return pd.DataFrame(df.values.T.dot(varCovMatx).dot(df.values),index= df.columns, columns=df.columns)\n",
    "\n",
    "def PlotMatrices(dfList, width=7, titleStr=None, perturbationLabels=None):\n",
    "    nplots = len(dfList)\n",
    "    f,axs = pl.subplots(ncols=nplots,figsize=(nplots*width,width))\n",
    "    f.suptitle(titleStr, fontsize=24)\n",
    "    sb.set(font_scale=1)\n",
    "    if perturbationLabels == None:\n",
    "        perturbationLabels = ['+0.1', '+0.5', '+1']\n",
    "    for df, ax, pertlbl in zip(dfList, axs, perturbationLabels):\n",
    "        sb.heatmap(df, square=True, ax=ax)\n",
    "        ax.set_title(\"perturbation = %s%%\" % pertlbl, fontsize=20)"
   ]
  },
  {
   "cell_type": "code",
   "execution_count": 236,
   "metadata": {
    "slideshow": {
     "slide_type": "skip"
    }
   },
   "outputs": [
    {
     "data": {
      "application/vnd.jupyter.widget-view+json": {
       "model_id": "d28e3e2e54b546bca23238a080b74763"
      }
     },
     "metadata": {},
     "output_type": "display_data"
    },
    {
     "data": {
      "application/vnd.jupyter.widget-view+json": {
       "model_id": "ef0d0d3ea34044259c388ec5270c81df"
      }
     },
     "metadata": {},
     "output_type": "display_data"
    },
    {
     "data": {
      "application/vnd.jupyter.widget-view+json": {
       "model_id": "46ec44dce4c94bd89bf6bb8e830d2497"
      }
     },
     "metadata": {},
     "output_type": "display_data"
    },
    {
     "data": {
      "application/vnd.jupyter.widget-view+json": {
       "model_id": "076eaa3a87534250afde3fc3e5836a60"
      }
     },
     "metadata": {},
     "output_type": "display_data"
    },
    {
     "data": {
      "application/vnd.jupyter.widget-view+json": {
       "model_id": "f4c88fbb0ae14b7c8e3fef3f2bae811a"
      }
     },
     "metadata": {},
     "output_type": "display_data"
    },
    {
     "data": {
      "application/vnd.jupyter.widget-view+json": {
       "model_id": "71d5b026c2dd4216855a1be5ba2fe01a"
      }
     },
     "metadata": {},
     "output_type": "display_data"
    },
    {
     "data": {
      "application/vnd.jupyter.widget-view+json": {
       "model_id": "d0fbeef9ca5f469394ae7d19c74c3d5b"
      }
     },
     "metadata": {},
     "output_type": "display_data"
    },
    {
     "name": "stdout",
     "output_type": "stream",
     "text": [
      "\n"
     ]
    }
   ],
   "source": [
    "GetData(dfMed0p1, level=0.001)"
   ]
  },
  {
   "cell_type": "code",
   "execution_count": 238,
   "metadata": {
    "slideshow": {
     "slide_type": "skip"
    }
   },
   "outputs": [
    {
     "data": {
      "application/vnd.jupyter.widget-view+json": {
       "model_id": "37993235f06e4cb59ce5279a4ce5799f"
      }
     },
     "metadata": {},
     "output_type": "display_data"
    },
    {
     "data": {
      "application/vnd.jupyter.widget-view+json": {
       "model_id": "516da34ae47c49a899c8273f4c95fb65"
      }
     },
     "metadata": {},
     "output_type": "display_data"
    },
    {
     "data": {
      "application/vnd.jupyter.widget-view+json": {
       "model_id": "8d60b03ac8fc4ab7969e9a27778460d5"
      }
     },
     "metadata": {},
     "output_type": "display_data"
    },
    {
     "data": {
      "application/vnd.jupyter.widget-view+json": {
       "model_id": "2fd2f7e2c1704b7cb91df6ccd23ed726"
      }
     },
     "metadata": {},
     "output_type": "display_data"
    },
    {
     "data": {
      "application/vnd.jupyter.widget-view+json": {
       "model_id": "af36a01b0ecd43d2b5580d979701b311"
      }
     },
     "metadata": {},
     "output_type": "display_data"
    },
    {
     "data": {
      "application/vnd.jupyter.widget-view+json": {
       "model_id": "05dddbdf3d6844859445a91685ccfa94"
      }
     },
     "metadata": {},
     "output_type": "display_data"
    },
    {
     "data": {
      "application/vnd.jupyter.widget-view+json": {
       "model_id": "ee93a9f90d76457fab632950b8e40759"
      }
     },
     "metadata": {},
     "output_type": "display_data"
    },
    {
     "name": "stdout",
     "output_type": "stream",
     "text": [
      "\n"
     ]
    }
   ],
   "source": [
    "GetData(dfMed0p5, level=0.005)"
   ]
  },
  {
   "cell_type": "code",
   "execution_count": 233,
   "metadata": {
    "slideshow": {
     "slide_type": "skip"
    }
   },
   "outputs": [
    {
     "data": {
      "application/vnd.jupyter.widget-view+json": {
       "model_id": "9afafbd377874c3d9f7fa89dd2023460"
      }
     },
     "metadata": {},
     "output_type": "display_data"
    },
    {
     "data": {
      "application/vnd.jupyter.widget-view+json": {
       "model_id": "fb1208572c934cf1a31359ab592d12f6"
      }
     },
     "metadata": {},
     "output_type": "display_data"
    },
    {
     "data": {
      "application/vnd.jupyter.widget-view+json": {
       "model_id": "5a618b66bdd444608b7b0e00197bcaff"
      }
     },
     "metadata": {},
     "output_type": "display_data"
    },
    {
     "data": {
      "application/vnd.jupyter.widget-view+json": {
       "model_id": "a663e19a1abf48f595e2b85765890d7a"
      }
     },
     "metadata": {},
     "output_type": "display_data"
    },
    {
     "data": {
      "application/vnd.jupyter.widget-view+json": {
       "model_id": "01ce5933525540da83dc171bb95a91a9"
      }
     },
     "metadata": {},
     "output_type": "display_data"
    },
    {
     "data": {
      "application/vnd.jupyter.widget-view+json": {
       "model_id": "93c35547060347f58797ae412b6c0d15"
      }
     },
     "metadata": {},
     "output_type": "display_data"
    },
    {
     "data": {
      "application/vnd.jupyter.widget-view+json": {
       "model_id": "999c2c760f234e268cc51a86441baafc"
      }
     },
     "metadata": {},
     "output_type": "display_data"
    },
    {
     "name": "stdout",
     "output_type": "stream",
     "text": [
      "\n"
     ]
    }
   ],
   "source": [
    "GetData(dfMed1, level=0.01)"
   ]
  },
  {
   "cell_type": "code",
   "execution_count": null,
   "metadata": {
    "collapsed": true,
    "slideshow": {
     "slide_type": "skip"
    }
   },
   "outputs": [],
   "source": [
    "dfMed0p1_Cov = dfMed0p1.transpose().dot(dfMed0p1)\n",
    "dfMed0p5_Cov = dfMed0p5.transpose().dot(dfMed0p5)\n",
    "dfMed1_Cov = dfMed1.transpose().dot(dfMed1)\n",
    "\n",
    "dfMed0p1_Corr = Cov2Corr(dfMed0p1_Cov)\n",
    "dfMed0p5_Corr = Cov2Corr(dfMed0p5_Cov)\n",
    "dfMed1_Corr = Cov2Corr(dfMed1_Cov)"
   ]
  },
  {
   "cell_type": "code",
   "execution_count": 325,
   "metadata": {
    "collapsed": true,
    "slideshow": {
     "slide_type": "skip"
    }
   },
   "outputs": [],
   "source": [
    "dfMed0p1 = dfMed0p1[dfMed0p1.columns].astype(float)\n",
    "dfMed0p5 = dfMed0p5[dfMed0p5.columns].astype(float)\n",
    "dfMed1 = dfMed1[dfMed1.columns].astype(float)\n",
    "dfMed0p1_Cov = dfMed0p1_Cov[dfMed0p1_Cov.columns].astype(float)\n",
    "dfMed0p5_Cov = dfMed0p5_Cov[dfMed0p5_Cov.columns].astype(float)\n",
    "dfMed1_Cov = dfMed1_Cov[dfMed1_Cov.columns].astype(float)\n",
    "dfMed0p1_Corr = dfMed0p1_Corr[dfMed0p1_Corr.columns].astype(float)\n",
    "dfMed0p5_Corr = dfMed0p5_Corr[dfMed0p5_Corr.columns].astype(float)\n",
    "dfMed1_Corr = dfMed1_Corr[dfMed1_Corr.columns].astype(float)\n",
    "dfMed0p1.to_pickle('./pklJar/dfMed0p1.pkl')\n",
    "dfMed0p5.to_pickle('./pklJar/dfMed0p5.pkl')\n",
    "dfMed1.to_pickle('./pklJar/dfMed1.pkl')\n",
    "dfMed0p1_Cov.to_pickle('./pklJar/dfMed0p1_Cov.pkl')\n",
    "dfMed0p5_Cov.to_pickle('./pklJar/dfMed0p5_Cov.pkl')\n",
    "dfMed1_Cov.to_pickle('./pklJar/dfMed1_Cov.pkl')\n",
    "dfMed0p1_Corr.to_pickle('./pklJar/dfMed0p1_Corr.pkl')\n",
    "dfMed0p5_Corr.to_pickle('./pklJar/dfMed0p5_Corr.pkl')\n",
    "dfMed1_Corr.to_pickle('./pklJar/dfMed1_Corr.pkl')\n",
    "bslRrsMedianDict = {band: np.ma.median(bslDict[band]) for band in bands[:-2]}\n",
    "with open('./pklJar/bslRrsMedianDict.pkl', 'wb') as fbsl:\n",
    "    pickle.dump(bslRrsMedianDict,fbsl)"
   ]
  },
  {
   "cell_type": "code",
   "execution_count": 326,
   "metadata": {
    "collapsed": true,
    "slideshow": {
     "slide_type": "skip"
    }
   },
   "outputs": [],
   "source": [
    "# RUN THIS - 3/3\n",
    "# Re-Loading DataFrames\n",
    "dfMed0p1 = pd.read_pickle('./pklJar/dfMed0p1.pkl')\n",
    "dfMed0p5 = pd.read_pickle('./pklJar/dfMed0p5.pkl')\n",
    "dfMed1 = pd.read_pickle('./pklJar/dfMed1.pkl')\n",
    "dfMed0p1_Cov = pd.read_pickle('./pklJar/dfMed0p1_Cov.pkl')\n",
    "dfMed0p5_Cov = pd.read_pickle('./pklJar/dfMed0p5_Cov.pkl')\n",
    "dfMed1_Cov = pd.read_pickle('./pklJar/dfMed1_Cov.pkl')\n",
    "dfMed0p1_Corr = pd.read_pickle('./pklJar/dfMed0p1_Corr.pkl')\n",
    "dfMed0p5_Corr = pd.read_pickle('./pklJar/dfMed0p5_Corr.pkl')\n",
    "dfMed1_Corr = pd.read_pickle('./pklJar/dfMed1_Corr.pkl')\n",
    "with open('./pklJar/bslRrsMedianDict.pkl', 'rb') as f:\n",
    "    bslRrsMedianDict = pickle.load(f)"
   ]
  },
  {
   "cell_type": "markdown",
   "metadata": {
    "slideshow": {
     "slide_type": "slide"
    }
   },
   "source": [
    "### The Data\n",
    "$$\n",
    "\\begin{bmatrix}\n",
    " \\frac{\\partial{Rrs412}}{\\partial{Lt412}} & \\frac{\\partial{Rrs443}}{\\partial{Lt412}} & \\dots  & \\frac{\\partial{Rrs670}}{\\partial{Lt412}} \\\\\n",
    "    \\frac{\\partial{Rrs412}}{\\partial{Lt443}} & \\frac{\\partial{Rrs443}}{\\partial{Lt443}} & \\dots  & \\frac{\\partial{Rrs670}}{\\partial{Lt443}} \\\\\n",
    "    \\vdots & \\vdots  & \\ddots & \\vdots \\\\\n",
    "    \\frac{\\partial{Rrs412}}{\\partial{Lt865}} & \\frac{\\partial{Rrs443}}{\\partial{Lt865}} & \\dots  & \\frac{\\partial{Rrs670}}{\\partial{Lt865}}\n",
    "\\end{bmatrix}\n",
    "$$"
   ]
  },
  {
   "cell_type": "markdown",
   "metadata": {
    "slideshow": {
     "slide_type": "subslide"
    }
   },
   "source": [
    "#### 0.1%"
   ]
  },
  {
   "cell_type": "code",
   "execution_count": 237,
   "metadata": {
    "slideshow": {
     "slide_type": "-"
    }
   },
   "outputs": [
    {
     "data": {
      "text/html": [
       "<div>\n",
       "<table border=\"1\" class=\"dataframe\">\n",
       "  <thead>\n",
       "    <tr style=\"text-align: right;\">\n",
       "      <th></th>\n",
       "      <th>dRrs412</th>\n",
       "      <th>dRrs443</th>\n",
       "      <th>dRrs490</th>\n",
       "      <th>dRrs510</th>\n",
       "      <th>dRrs555</th>\n",
       "      <th>dRrs670</th>\n",
       "    </tr>\n",
       "  </thead>\n",
       "  <tbody>\n",
       "    <tr>\n",
       "      <th>dLt412</th>\n",
       "      <td>8.6002e-05</td>\n",
       "      <td>0.0000e+00</td>\n",
       "      <td>0.0000e+00</td>\n",
       "      <td>0.0000e+00</td>\n",
       "      <td>0.0000e+00</td>\n",
       "      <td>0.0000e+00</td>\n",
       "    </tr>\n",
       "    <tr>\n",
       "      <th>dLt443</th>\n",
       "      <td>0.0000e+00</td>\n",
       "      <td>6.4000e-05</td>\n",
       "      <td>0.0000e+00</td>\n",
       "      <td>0.0000e+00</td>\n",
       "      <td>0.0000e+00</td>\n",
       "      <td>0.0000e+00</td>\n",
       "    </tr>\n",
       "    <tr>\n",
       "      <th>dLt490</th>\n",
       "      <td>1.9968e-06</td>\n",
       "      <td>2.0005e-06</td>\n",
       "      <td>4.1999e-05</td>\n",
       "      <td>-2.0005e-06</td>\n",
       "      <td>0.0000e+00</td>\n",
       "      <td>0.0000e+00</td>\n",
       "    </tr>\n",
       "    <tr>\n",
       "      <th>dLt510</th>\n",
       "      <td>0.0000e+00</td>\n",
       "      <td>0.0000e+00</td>\n",
       "      <td>0.0000e+00</td>\n",
       "      <td>3.2000e-05</td>\n",
       "      <td>0.0000e+00</td>\n",
       "      <td>0.0000e+00</td>\n",
       "    </tr>\n",
       "    <tr>\n",
       "      <th>dLt555</th>\n",
       "      <td>-2.0005e-06</td>\n",
       "      <td>-3.9972e-06</td>\n",
       "      <td>-2.0005e-06</td>\n",
       "      <td>2.0005e-06</td>\n",
       "      <td>2.3998e-05</td>\n",
       "      <td>0.0000e+00</td>\n",
       "    </tr>\n",
       "    <tr>\n",
       "      <th>dLt670</th>\n",
       "      <td>0.0000e+00</td>\n",
       "      <td>0.0000e+00</td>\n",
       "      <td>0.0000e+00</td>\n",
       "      <td>0.0000e+00</td>\n",
       "      <td>0.0000e+00</td>\n",
       "      <td>9.9987e-06</td>\n",
       "    </tr>\n",
       "    <tr>\n",
       "      <th>dLt765</th>\n",
       "      <td>-6.2000e-05</td>\n",
       "      <td>-5.3998e-05</td>\n",
       "      <td>-4.3999e-05</td>\n",
       "      <td>-4.1999e-05</td>\n",
       "      <td>-3.3997e-05</td>\n",
       "      <td>-1.6000e-05</td>\n",
       "    </tr>\n",
       "    <tr>\n",
       "      <th>dLt865</th>\n",
       "      <td>4.0002e-05</td>\n",
       "      <td>3.4001e-05</td>\n",
       "      <td>2.7999e-05</td>\n",
       "      <td>2.5999e-05</td>\n",
       "      <td>1.9997e-05</td>\n",
       "      <td>6.0014e-06</td>\n",
       "    </tr>\n",
       "  </tbody>\n",
       "</table>\n",
       "</div>"
      ],
      "text/plain": [
       "           dRrs412     dRrs443     dRrs490     dRrs510     dRrs555     dRrs670\n",
       "dLt412  8.6002e-05  0.0000e+00  0.0000e+00  0.0000e+00  0.0000e+00  0.0000e+00\n",
       "dLt443  0.0000e+00  6.4000e-05  0.0000e+00  0.0000e+00  0.0000e+00  0.0000e+00\n",
       "dLt490  1.9968e-06  2.0005e-06  4.1999e-05 -2.0005e-06  0.0000e+00  0.0000e+00\n",
       "dLt510  0.0000e+00  0.0000e+00  0.0000e+00  3.2000e-05  0.0000e+00  0.0000e+00\n",
       "dLt555 -2.0005e-06 -3.9972e-06 -2.0005e-06  2.0005e-06  2.3998e-05  0.0000e+00\n",
       "dLt670  0.0000e+00  0.0000e+00  0.0000e+00  0.0000e+00  0.0000e+00  9.9987e-06\n",
       "dLt765 -6.2000e-05 -5.3998e-05 -4.3999e-05 -4.1999e-05 -3.3997e-05 -1.6000e-05\n",
       "dLt865  4.0002e-05  3.4001e-05  2.7999e-05  2.5999e-05  1.9997e-05  6.0014e-06"
      ]
     },
     "execution_count": 237,
     "metadata": {},
     "output_type": "execute_result"
    }
   ],
   "source": [
    "dfMed0p1"
   ]
  },
  {
   "cell_type": "markdown",
   "metadata": {
    "slideshow": {
     "slide_type": "subslide"
    }
   },
   "source": [
    "#### 0.5%"
   ]
  },
  {
   "cell_type": "code",
   "execution_count": 239,
   "metadata": {
    "slideshow": {
     "slide_type": "-"
    }
   },
   "outputs": [
    {
     "data": {
      "text/html": [
       "<div>\n",
       "<table border=\"1\" class=\"dataframe\">\n",
       "  <thead>\n",
       "    <tr style=\"text-align: right;\">\n",
       "      <th></th>\n",
       "      <th>dRrs412</th>\n",
       "      <th>dRrs443</th>\n",
       "      <th>dRrs490</th>\n",
       "      <th>dRrs510</th>\n",
       "      <th>dRrs555</th>\n",
       "      <th>dRrs670</th>\n",
       "    </tr>\n",
       "  </thead>\n",
       "  <tbody>\n",
       "    <tr>\n",
       "      <th>dLt412</th>\n",
       "      <td>4.3200e-04</td>\n",
       "      <td>0.0000e+00</td>\n",
       "      <td>0.0000e+00</td>\n",
       "      <td>0.0000e+00</td>\n",
       "      <td>0.0000e+00</td>\n",
       "      <td>0.0000e+00</td>\n",
       "    </tr>\n",
       "    <tr>\n",
       "      <th>dLt443</th>\n",
       "      <td>3.9972e-06</td>\n",
       "      <td>3.1600e-04</td>\n",
       "      <td>4.0010e-06</td>\n",
       "      <td>3.9972e-06</td>\n",
       "      <td>2.0005e-06</td>\n",
       "      <td>0.0000e+00</td>\n",
       "    </tr>\n",
       "    <tr>\n",
       "      <th>dLt490</th>\n",
       "      <td>5.9977e-06</td>\n",
       "      <td>6.0014e-06</td>\n",
       "      <td>2.0800e-04</td>\n",
       "      <td>-8.0019e-06</td>\n",
       "      <td>-4.0010e-06</td>\n",
       "      <td>-2.0005e-06</td>\n",
       "    </tr>\n",
       "    <tr>\n",
       "      <th>dLt510</th>\n",
       "      <td>0.0000e+00</td>\n",
       "      <td>0.0000e+00</td>\n",
       "      <td>0.0000e+00</td>\n",
       "      <td>1.6000e-04</td>\n",
       "      <td>0.0000e+00</td>\n",
       "      <td>0.0000e+00</td>\n",
       "    </tr>\n",
       "    <tr>\n",
       "      <th>dLt555</th>\n",
       "      <td>-1.1999e-05</td>\n",
       "      <td>-1.6000e-05</td>\n",
       "      <td>-1.0002e-05</td>\n",
       "      <td>1.1999e-05</td>\n",
       "      <td>1.2000e-04</td>\n",
       "      <td>3.9972e-06</td>\n",
       "    </tr>\n",
       "    <tr>\n",
       "      <th>dLt670</th>\n",
       "      <td>0.0000e+00</td>\n",
       "      <td>0.0000e+00</td>\n",
       "      <td>0.0000e+00</td>\n",
       "      <td>0.0000e+00</td>\n",
       "      <td>0.0000e+00</td>\n",
       "      <td>5.0001e-05</td>\n",
       "    </tr>\n",
       "    <tr>\n",
       "      <th>dLt765</th>\n",
       "      <td>-2.9000e-04</td>\n",
       "      <td>-2.5000e-04</td>\n",
       "      <td>-2.0800e-04</td>\n",
       "      <td>-1.9400e-04</td>\n",
       "      <td>-1.5400e-04</td>\n",
       "      <td>-7.1999e-05</td>\n",
       "    </tr>\n",
       "    <tr>\n",
       "      <th>dLt865</th>\n",
       "      <td>1.8800e-04</td>\n",
       "      <td>1.5800e-04</td>\n",
       "      <td>1.2600e-04</td>\n",
       "      <td>1.1400e-04</td>\n",
       "      <td>8.6002e-05</td>\n",
       "      <td>3.0000e-05</td>\n",
       "    </tr>\n",
       "  </tbody>\n",
       "</table>\n",
       "</div>"
      ],
      "text/plain": [
       "           dRrs412     dRrs443     dRrs490     dRrs510     dRrs555     dRrs670\n",
       "dLt412  4.3200e-04  0.0000e+00  0.0000e+00  0.0000e+00  0.0000e+00  0.0000e+00\n",
       "dLt443  3.9972e-06  3.1600e-04  4.0010e-06  3.9972e-06  2.0005e-06  0.0000e+00\n",
       "dLt490  5.9977e-06  6.0014e-06  2.0800e-04 -8.0019e-06 -4.0010e-06 -2.0005e-06\n",
       "dLt510  0.0000e+00  0.0000e+00  0.0000e+00  1.6000e-04  0.0000e+00  0.0000e+00\n",
       "dLt555 -1.1999e-05 -1.6000e-05 -1.0002e-05  1.1999e-05  1.2000e-04  3.9972e-06\n",
       "dLt670  0.0000e+00  0.0000e+00  0.0000e+00  0.0000e+00  0.0000e+00  5.0001e-05\n",
       "dLt765 -2.9000e-04 -2.5000e-04 -2.0800e-04 -1.9400e-04 -1.5400e-04 -7.1999e-05\n",
       "dLt865  1.8800e-04  1.5800e-04  1.2600e-04  1.1400e-04  8.6002e-05  3.0000e-05"
      ]
     },
     "execution_count": 239,
     "metadata": {},
     "output_type": "execute_result"
    }
   ],
   "source": [
    "dfMed0p5"
   ]
  },
  {
   "cell_type": "markdown",
   "metadata": {
    "slideshow": {
     "slide_type": "subslide"
    }
   },
   "source": [
    "#### 1%"
   ]
  },
  {
   "cell_type": "code",
   "execution_count": 254,
   "metadata": {
    "slideshow": {
     "slide_type": "-"
    }
   },
   "outputs": [
    {
     "data": {
      "text/html": [
       "<div>\n",
       "<table border=\"1\" class=\"dataframe\">\n",
       "  <thead>\n",
       "    <tr style=\"text-align: right;\">\n",
       "      <th></th>\n",
       "      <th>dRrs412</th>\n",
       "      <th>dRrs443</th>\n",
       "      <th>dRrs490</th>\n",
       "      <th>dRrs510</th>\n",
       "      <th>dRrs555</th>\n",
       "      <th>dRrs670</th>\n",
       "    </tr>\n",
       "  </thead>\n",
       "  <tbody>\n",
       "    <tr>\n",
       "      <th>dLt412</th>\n",
       "      <td>8.6400e-04</td>\n",
       "      <td>0.0000e+00</td>\n",
       "      <td>0.0000e+00</td>\n",
       "      <td>0.0000e+00</td>\n",
       "      <td>0.0000e+00</td>\n",
       "      <td>0.0000e+00</td>\n",
       "    </tr>\n",
       "    <tr>\n",
       "      <th>dLt443</th>\n",
       "      <td>6.0014e-06</td>\n",
       "      <td>6.3400e-04</td>\n",
       "      <td>9.9987e-06</td>\n",
       "      <td>6.0014e-06</td>\n",
       "      <td>4.0010e-06</td>\n",
       "      <td>0.0000e+00</td>\n",
       "    </tr>\n",
       "    <tr>\n",
       "      <th>dLt490</th>\n",
       "      <td>1.0002e-05</td>\n",
       "      <td>1.4000e-05</td>\n",
       "      <td>4.1800e-04</td>\n",
       "      <td>-1.8001e-05</td>\n",
       "      <td>-9.9987e-06</td>\n",
       "      <td>-4.0010e-06</td>\n",
       "    </tr>\n",
       "    <tr>\n",
       "      <th>dLt510</th>\n",
       "      <td>0.0000e+00</td>\n",
       "      <td>0.0000e+00</td>\n",
       "      <td>0.0000e+00</td>\n",
       "      <td>3.1800e-04</td>\n",
       "      <td>0.0000e+00</td>\n",
       "      <td>0.0000e+00</td>\n",
       "    </tr>\n",
       "    <tr>\n",
       "      <th>dLt555</th>\n",
       "      <td>-2.3998e-05</td>\n",
       "      <td>-3.0000e-05</td>\n",
       "      <td>-2.1998e-05</td>\n",
       "      <td>2.0001e-05</td>\n",
       "      <td>2.3800e-04</td>\n",
       "      <td>6.0014e-06</td>\n",
       "    </tr>\n",
       "    <tr>\n",
       "      <th>dLt670</th>\n",
       "      <td>0.0000e+00</td>\n",
       "      <td>0.0000e+00</td>\n",
       "      <td>1.9968e-06</td>\n",
       "      <td>0.0000e+00</td>\n",
       "      <td>0.0000e+00</td>\n",
       "      <td>9.9998e-05</td>\n",
       "    </tr>\n",
       "    <tr>\n",
       "      <th>dLt765</th>\n",
       "      <td>-5.5600e-04</td>\n",
       "      <td>-4.7800e-04</td>\n",
       "      <td>-4.0200e-04</td>\n",
       "      <td>-3.7600e-04</td>\n",
       "      <td>-3.0000e-04</td>\n",
       "      <td>-1.3800e-04</td>\n",
       "    </tr>\n",
       "    <tr>\n",
       "      <th>dLt865</th>\n",
       "      <td>3.6200e-04</td>\n",
       "      <td>3.0800e-04</td>\n",
       "      <td>2.4400e-04</td>\n",
       "      <td>2.2200e-04</td>\n",
       "      <td>1.7000e-04</td>\n",
       "      <td>6.0000e-05</td>\n",
       "    </tr>\n",
       "  </tbody>\n",
       "</table>\n",
       "</div>"
      ],
      "text/plain": [
       "           dRrs412     dRrs443     dRrs490     dRrs510     dRrs555     dRrs670\n",
       "dLt412  8.6400e-04  0.0000e+00  0.0000e+00  0.0000e+00  0.0000e+00  0.0000e+00\n",
       "dLt443  6.0014e-06  6.3400e-04  9.9987e-06  6.0014e-06  4.0010e-06  0.0000e+00\n",
       "dLt490  1.0002e-05  1.4000e-05  4.1800e-04 -1.8001e-05 -9.9987e-06 -4.0010e-06\n",
       "dLt510  0.0000e+00  0.0000e+00  0.0000e+00  3.1800e-04  0.0000e+00  0.0000e+00\n",
       "dLt555 -2.3998e-05 -3.0000e-05 -2.1998e-05  2.0001e-05  2.3800e-04  6.0014e-06\n",
       "dLt670  0.0000e+00  0.0000e+00  1.9968e-06  0.0000e+00  0.0000e+00  9.9998e-05\n",
       "dLt765 -5.5600e-04 -4.7800e-04 -4.0200e-04 -3.7600e-04 -3.0000e-04 -1.3800e-04\n",
       "dLt865  3.6200e-04  3.0800e-04  2.4400e-04  2.2200e-04  1.7000e-04  6.0000e-05"
      ]
     },
     "execution_count": 254,
     "metadata": {},
     "output_type": "execute_result"
    }
   ],
   "source": [
    "dfMed1"
   ]
  },
  {
   "cell_type": "markdown",
   "metadata": {
    "slideshow": {
     "slide_type": "slide"
    }
   },
   "source": [
    "### Covariance Matrices"
   ]
  },
  {
   "cell_type": "markdown",
   "metadata": {
    "slideshow": {
     "slide_type": "subslide"
    }
   },
   "source": [
    "$$\\begin{bmatrix}\n",
    " \\frac{\\partial{Rrs412}}{\\partial{Lt412}} & \\frac{\\partial{Rrs443}}{\\partial{Lt412}} & \\dots  & \\frac{\\partial{Rrs670}}{\\partial{Lt412}} \\\\\n",
    "    \\frac{\\partial{Rrs412}}{\\partial{Lt443}} & \\frac{\\partial{Rrs443}}{\\partial{Lt443}} & \\dots  & \\frac{\\partial{Rrs670}}{\\partial{Lt443}} \\\\\n",
    "    \\vdots & \\vdots  & \\ddots & \\vdots \\\\\n",
    "    \\frac{\\partial{Rrs412}}{\\partial{Lt865}} & \\frac{\\partial{Rrs443}}{\\partial{Lt865}} & \\dots  & \\frac{\\partial{Rrs670}}{\\partial{Lt865}}\n",
    "\\end{bmatrix}^\\mathsf{T} \n",
    "\\begin{bmatrix}\n",
    "\\partial{Lt412}^2 & &  \\\\\n",
    "& \\ddots &  \\\\\n",
    "&  & & \\partial{Lt865}^2\n",
    "\\end{bmatrix}\n",
    "\\begin{bmatrix}\n",
    " \\frac{\\partial{Rrs412}}{\\partial{Lt412}} & \\frac{\\partial{Rrs443}}{\\partial{Lt412}} & \\dots  & \\frac{\\partial{Rrs670}}{\\partial{Lt412}} \\\\\n",
    "    \\frac{\\partial{Rrs412}}{\\partial{Lt443}} & \\frac{\\partial{Rrs443}}{\\partial{Lt443}} & \\dots  & \\frac{\\partial{Rrs670}}{\\partial{Lt443}} \\\\\n",
    "    \\vdots & \\vdots  & \\ddots & \\vdots \\\\\n",
    "    \\frac{\\partial{Rrs412}}{\\partial{Lt865}} & \\frac{\\partial{Rrs443}}{\\partial{Lt865}} & \\dots  & \\frac{\\partial{Rrs670}}{\\partial{Lt865}}\n",
    "\\end{bmatrix}$$"
   ]
  },
  {
   "cell_type": "markdown",
   "metadata": {
    "slideshow": {
     "slide_type": "subslide"
    }
   },
   "source": [
    "#### 0.1%"
   ]
  },
  {
   "cell_type": "code",
   "execution_count": 78,
   "metadata": {
    "slideshow": {
     "slide_type": "-"
    }
   },
   "outputs": [
    {
     "data": {
      "text/html": [
       "<div>\n",
       "<table border=\"1\" class=\"dataframe\">\n",
       "  <thead>\n",
       "    <tr style=\"text-align: right;\">\n",
       "      <th></th>\n",
       "      <th>dRrs412</th>\n",
       "      <th>dRrs443</th>\n",
       "      <th>dRrs490</th>\n",
       "      <th>dRrs510</th>\n",
       "      <th>dRrs555</th>\n",
       "      <th>dRrs670</th>\n",
       "    </tr>\n",
       "  </thead>\n",
       "  <tbody>\n",
       "    <tr>\n",
       "      <th>dRrs412</th>\n",
       "      <td>1.28485e-08</td>\n",
       "      <td>4.71998e-09</td>\n",
       "      <td>3.93586e-09</td>\n",
       "      <td>3.63595e-09</td>\n",
       "      <td>2.85974e-09</td>\n",
       "      <td>1.23208e-09</td>\n",
       "    </tr>\n",
       "    <tr>\n",
       "      <th>dRrs443</th>\n",
       "      <td>4.71998e-09</td>\n",
       "      <td>8.18788e-09</td>\n",
       "      <td>3.41989e-09</td>\n",
       "      <td>3.13984e-09</td>\n",
       "      <td>2.41977e-09</td>\n",
       "      <td>1.06803e-09</td>\n",
       "    </tr>\n",
       "    <tr>\n",
       "      <th>dRrs490</th>\n",
       "      <td>3.93586e-09</td>\n",
       "      <td>3.41989e-09</td>\n",
       "      <td>4.48782e-09</td>\n",
       "      <td>2.48786e-09</td>\n",
       "      <td>2.00775e-09</td>\n",
       "      <td>8.72032e-10</td>\n",
       "    </tr>\n",
       "    <tr>\n",
       "      <th>dRrs510</th>\n",
       "      <td>3.63595e-09</td>\n",
       "      <td>3.13984e-09</td>\n",
       "      <td>2.48786e-09</td>\n",
       "      <td>3.47187e-09</td>\n",
       "      <td>1.99575e-09</td>\n",
       "      <td>8.28018e-10</td>\n",
       "    </tr>\n",
       "    <tr>\n",
       "      <th>dRrs555</th>\n",
       "      <td>2.85974e-09</td>\n",
       "      <td>2.41977e-09</td>\n",
       "      <td>2.00775e-09</td>\n",
       "      <td>1.99575e-09</td>\n",
       "      <td>2.13161e-09</td>\n",
       "      <td>6.63969e-10</td>\n",
       "    </tr>\n",
       "    <tr>\n",
       "      <th>dRrs670</th>\n",
       "      <td>1.23208e-09</td>\n",
       "      <td>1.06803e-09</td>\n",
       "      <td>8.72032e-10</td>\n",
       "      <td>8.28018e-10</td>\n",
       "      <td>6.63969e-10</td>\n",
       "      <td>3.91995e-10</td>\n",
       "    </tr>\n",
       "  </tbody>\n",
       "</table>\n",
       "</div>"
      ],
      "text/plain": [
       "             dRrs412      dRrs443      dRrs490      dRrs510      dRrs555  \\\n",
       "dRrs412  1.28485e-08  4.71998e-09  3.93586e-09  3.63595e-09  2.85974e-09   \n",
       "dRrs443  4.71998e-09  8.18788e-09  3.41989e-09  3.13984e-09  2.41977e-09   \n",
       "dRrs490  3.93586e-09  3.41989e-09  4.48782e-09  2.48786e-09  2.00775e-09   \n",
       "dRrs510  3.63595e-09  3.13984e-09  2.48786e-09  3.47187e-09  1.99575e-09   \n",
       "dRrs555  2.85974e-09  2.41977e-09  2.00775e-09  1.99575e-09  2.13161e-09   \n",
       "dRrs670  1.23208e-09  1.06803e-09  8.72032e-10  8.28018e-10  6.63969e-10   \n",
       "\n",
       "             dRrs670  \n",
       "dRrs412  1.23208e-09  \n",
       "dRrs443  1.06803e-09  \n",
       "dRrs490  8.72032e-10  \n",
       "dRrs510  8.28018e-10  \n",
       "dRrs555  6.63969e-10  \n",
       "dRrs670  3.91995e-10  "
      ]
     },
     "execution_count": 78,
     "metadata": {},
     "output_type": "execute_result"
    }
   ],
   "source": [
    "dfMed0p1_Cov"
   ]
  },
  {
   "cell_type": "markdown",
   "metadata": {
    "slideshow": {
     "slide_type": "subslide"
    }
   },
   "source": [
    "#### 0.5%"
   ]
  },
  {
   "cell_type": "code",
   "execution_count": 154,
   "metadata": {
    "slideshow": {
     "slide_type": "-"
    }
   },
   "outputs": [
    {
     "data": {
      "text/html": [
       "<div>\n",
       "<table border=\"1\" class=\"dataframe\">\n",
       "  <thead>\n",
       "    <tr style=\"text-align: right;\">\n",
       "      <th></th>\n",
       "      <th>dRrs412</th>\n",
       "      <th>dRrs443</th>\n",
       "      <th>dRrs490</th>\n",
       "      <th>dRrs510</th>\n",
       "      <th>dRrs555</th>\n",
       "      <th>dRrs670</th>\n",
       "    </tr>\n",
       "  </thead>\n",
       "  <tbody>\n",
       "    <tr>\n",
       "      <th>dRrs412</th>\n",
       "      <td>3.06264e-07</td>\n",
       "      <td>1.03696e-07</td>\n",
       "      <td>8.53922e-08</td>\n",
       "      <td>7.7517e-08</td>\n",
       "      <td>5.93736e-08</td>\n",
       "      <td>2.64597e-08</td>\n",
       "    </tr>\n",
       "    <tr>\n",
       "      <th>dRrs443</th>\n",
       "      <td>1.03696e-07</td>\n",
       "      <td>1.87613e-07</td>\n",
       "      <td>7.45813e-08</td>\n",
       "      <td>6.7536e-08</td>\n",
       "      <td>5.07775e-08</td>\n",
       "      <td>2.26637e-08</td>\n",
       "    </tr>\n",
       "    <tr>\n",
       "      <th>dRrs490</th>\n",
       "      <td>8.53922e-08</td>\n",
       "      <td>7.45813e-08</td>\n",
       "      <td>1.02521e-07</td>\n",
       "      <td>5.29485e-08</td>\n",
       "      <td>4.08448e-08</td>\n",
       "      <td>1.82997e-08</td>\n",
       "    </tr>\n",
       "    <tr>\n",
       "      <th>dRrs510</th>\n",
       "      <td>7.7517e-08</td>\n",
       "      <td>6.7536e-08</td>\n",
       "      <td>5.29485e-08</td>\n",
       "      <td>7.64562e-08</td>\n",
       "      <td>4.11612e-08</td>\n",
       "      <td>1.74519e-08</td>\n",
       "    </tr>\n",
       "    <tr>\n",
       "      <th>dRrs555</th>\n",
       "      <td>5.93736e-08</td>\n",
       "      <td>5.07775e-08</td>\n",
       "      <td>4.08448e-08</td>\n",
       "      <td>4.11612e-08</td>\n",
       "      <td>4.55332e-08</td>\n",
       "      <td>1.41558e-08</td>\n",
       "    </tr>\n",
       "    <tr>\n",
       "      <th>dRrs670</th>\n",
       "      <td>2.64597e-08</td>\n",
       "      <td>2.26637e-08</td>\n",
       "      <td>1.82997e-08</td>\n",
       "      <td>1.74519e-08</td>\n",
       "      <td>1.41558e-08</td>\n",
       "      <td>8.60386e-09</td>\n",
       "    </tr>\n",
       "  </tbody>\n",
       "</table>\n",
       "</div>"
      ],
      "text/plain": [
       "             dRrs412      dRrs443      dRrs490      dRrs510      dRrs555  \\\n",
       "dRrs412  3.06264e-07  1.03696e-07  8.53922e-08   7.7517e-08  5.93736e-08   \n",
       "dRrs443  1.03696e-07  1.87613e-07  7.45813e-08   6.7536e-08  5.07775e-08   \n",
       "dRrs490  8.53922e-08  7.45813e-08  1.02521e-07  5.29485e-08  4.08448e-08   \n",
       "dRrs510   7.7517e-08   6.7536e-08  5.29485e-08  7.64562e-08  4.11612e-08   \n",
       "dRrs555  5.93736e-08  5.07775e-08  4.08448e-08  4.11612e-08  4.55332e-08   \n",
       "dRrs670  2.64597e-08  2.26637e-08  1.82997e-08  1.74519e-08  1.41558e-08   \n",
       "\n",
       "             dRrs670  \n",
       "dRrs412  2.64597e-08  \n",
       "dRrs443  2.26637e-08  \n",
       "dRrs490  1.82997e-08  \n",
       "dRrs510  1.74519e-08  \n",
       "dRrs555  1.41558e-08  \n",
       "dRrs670  8.60386e-09  "
      ]
     },
     "execution_count": 154,
     "metadata": {},
     "output_type": "execute_result"
    }
   ],
   "source": [
    "dfMed0p5_Cov"
   ]
  },
  {
   "cell_type": "markdown",
   "metadata": {
    "slideshow": {
     "slide_type": "subslide"
    }
   },
   "source": [
    "#### 1%"
   ]
  },
  {
   "cell_type": "code",
   "execution_count": 234,
   "metadata": {
    "slideshow": {
     "slide_type": "-"
    }
   },
   "outputs": [
    {
     "data": {
      "text/html": [
       "<div>\n",
       "<table border=\"1\" class=\"dataframe\">\n",
       "  <thead>\n",
       "    <tr style=\"text-align: right;\">\n",
       "      <th></th>\n",
       "      <th>dRrs412</th>\n",
       "      <th>dRrs443</th>\n",
       "      <th>dRrs490</th>\n",
       "      <th>dRrs510</th>\n",
       "      <th>dRrs555</th>\n",
       "      <th>dRrs670</th>\n",
       "    </tr>\n",
       "  </thead>\n",
       "  <tbody>\n",
       "    <tr>\n",
       "      <th>dRrs412</th>\n",
       "      <td>1.1874e-06</td>\n",
       "      <td>3.8193e-07</td>\n",
       "      <td>3.1661e-07</td>\n",
       "      <td>2.8880e-07</td>\n",
       "      <td>2.2255e-07</td>\n",
       "      <td>9.8264e-08</td>\n",
       "    </tr>\n",
       "    <tr>\n",
       "      <th>dRrs443</th>\n",
       "      <td>3.8193e-07</td>\n",
       "      <td>7.2640e-07</td>\n",
       "      <td>2.8016e-07</td>\n",
       "      <td>2.5106e-07</td>\n",
       "      <td>1.9102e-07</td>\n",
       "      <td>8.4208e-08</td>\n",
       "    </tr>\n",
       "    <tr>\n",
       "      <th>dRrs490</th>\n",
       "      <td>3.1661e-07</td>\n",
       "      <td>2.8016e-07</td>\n",
       "      <td>3.9645e-07</td>\n",
       "      <td>1.9741e-07</td>\n",
       "      <td>1.5270e-07</td>\n",
       "      <td>6.8511e-08</td>\n",
       "    </tr>\n",
       "    <tr>\n",
       "      <th>dRrs510</th>\n",
       "      <td>2.8880e-07</td>\n",
       "      <td>2.5106e-07</td>\n",
       "      <td>1.9741e-07</td>\n",
       "      <td>2.9254e-07</td>\n",
       "      <td>1.5550e-07</td>\n",
       "      <td>6.5400e-08</td>\n",
       "    </tr>\n",
       "    <tr>\n",
       "      <th>dRrs555</th>\n",
       "      <td>2.2255e-07</td>\n",
       "      <td>1.9102e-07</td>\n",
       "      <td>1.5270e-07</td>\n",
       "      <td>1.5550e-07</td>\n",
       "      <td>1.7566e-07</td>\n",
       "      <td>5.3068e-08</td>\n",
       "    </tr>\n",
       "    <tr>\n",
       "      <th>dRrs670</th>\n",
       "      <td>9.8264e-08</td>\n",
       "      <td>8.4208e-08</td>\n",
       "      <td>6.8511e-08</td>\n",
       "      <td>6.5400e-08</td>\n",
       "      <td>5.3068e-08</td>\n",
       "      <td>3.2695e-08</td>\n",
       "    </tr>\n",
       "  </tbody>\n",
       "</table>\n",
       "</div>"
      ],
      "text/plain": [
       "           dRrs412    dRrs443    dRrs490    dRrs510    dRrs555    dRrs670\n",
       "dRrs412 1.1874e-06 3.8193e-07 3.1661e-07 2.8880e-07 2.2255e-07 9.8264e-08\n",
       "dRrs443 3.8193e-07 7.2640e-07 2.8016e-07 2.5106e-07 1.9102e-07 8.4208e-08\n",
       "dRrs490 3.1661e-07 2.8016e-07 3.9645e-07 1.9741e-07 1.5270e-07 6.8511e-08\n",
       "dRrs510 2.8880e-07 2.5106e-07 1.9741e-07 2.9254e-07 1.5550e-07 6.5400e-08\n",
       "dRrs555 2.2255e-07 1.9102e-07 1.5270e-07 1.5550e-07 1.7566e-07 5.3068e-08\n",
       "dRrs670 9.8264e-08 8.4208e-08 6.8511e-08 6.5400e-08 5.3068e-08 3.2695e-08"
      ]
     },
     "execution_count": 234,
     "metadata": {},
     "output_type": "execute_result"
    }
   ],
   "source": [
    "dfMed1_Cov"
   ]
  },
  {
   "cell_type": "code",
   "execution_count": 323,
   "metadata": {
    "slideshow": {
     "slide_type": "subslide"
    }
   },
   "outputs": [
    {
     "data": {
      "image/png": "[encoded data removed]",
      "text/plain": [
       "<matplotlib.figure.Figure at 0x7f97203f1cf8>"
      ]
     },
     "metadata": {},
     "output_type": "display_data"
    }
   ],
   "source": [
    "PlotMatrices([dfMed0p1_Cov, dfMed0p5_Cov, dfMed1_Cov], titleStr='Covariance Matrices of Medians', perturbationLabels=['0.1','0.5','1'])"
   ]
  },
  {
   "cell_type": "markdown",
   "metadata": {
    "slideshow": {
     "slide_type": "slide"
    }
   },
   "source": [
    "## Correlation Matrices"
   ]
  },
  {
   "cell_type": "markdown",
   "metadata": {
    "slideshow": {
     "slide_type": "subslide"
    }
   },
   "source": [
    "#### 0.1%"
   ]
  },
  {
   "cell_type": "code",
   "execution_count": 156,
   "metadata": {
    "slideshow": {
     "slide_type": "-"
    }
   },
   "outputs": [
    {
     "data": {
      "text/html": [
       "<div>\n",
       "<table border=\"1\" class=\"dataframe\">\n",
       "  <thead>\n",
       "    <tr style=\"text-align: right;\">\n",
       "      <th></th>\n",
       "      <th>dRrs412</th>\n",
       "      <th>dRrs443</th>\n",
       "      <th>dRrs490</th>\n",
       "      <th>dRrs510</th>\n",
       "      <th>dRrs555</th>\n",
       "      <th>dRrs670</th>\n",
       "    </tr>\n",
       "  </thead>\n",
       "  <tbody>\n",
       "    <tr>\n",
       "      <th>dRrs412</th>\n",
       "      <td>1.000000</td>\n",
       "      <td>0.460180</td>\n",
       "      <td>0.518317</td>\n",
       "      <td>0.544389</td>\n",
       "      <td>0.546445</td>\n",
       "      <td>0.548999</td>\n",
       "    </tr>\n",
       "    <tr>\n",
       "      <th>dRrs443</th>\n",
       "      <td>0.460180</td>\n",
       "      <td>1.000000</td>\n",
       "      <td>0.564169</td>\n",
       "      <td>0.588898</td>\n",
       "      <td>0.579208</td>\n",
       "      <td>0.596152</td>\n",
       "    </tr>\n",
       "    <tr>\n",
       "      <th>dRrs490</th>\n",
       "      <td>0.518317</td>\n",
       "      <td>0.564169</td>\n",
       "      <td>1.000000</td>\n",
       "      <td>0.630269</td>\n",
       "      <td>0.649140</td>\n",
       "      <td>0.657468</td>\n",
       "    </tr>\n",
       "    <tr>\n",
       "      <th>dRrs510</th>\n",
       "      <td>0.544389</td>\n",
       "      <td>0.588898</td>\n",
       "      <td>0.630269</td>\n",
       "      <td>1.000000</td>\n",
       "      <td>0.733620</td>\n",
       "      <td>0.709771</td>\n",
       "    </tr>\n",
       "    <tr>\n",
       "      <th>dRrs555</th>\n",
       "      <td>0.546445</td>\n",
       "      <td>0.579208</td>\n",
       "      <td>0.649140</td>\n",
       "      <td>0.733620</td>\n",
       "      <td>1.000000</td>\n",
       "      <td>0.726363</td>\n",
       "    </tr>\n",
       "    <tr>\n",
       "      <th>dRrs670</th>\n",
       "      <td>0.548999</td>\n",
       "      <td>0.596152</td>\n",
       "      <td>0.657468</td>\n",
       "      <td>0.709771</td>\n",
       "      <td>0.726363</td>\n",
       "      <td>1.000000</td>\n",
       "    </tr>\n",
       "  </tbody>\n",
       "</table>\n",
       "</div>"
      ],
      "text/plain": [
       "          dRrs412   dRrs443   dRrs490   dRrs510   dRrs555   dRrs670\n",
       "dRrs412  1.000000  0.460180  0.518317  0.544389  0.546445  0.548999\n",
       "dRrs443  0.460180  1.000000  0.564169  0.588898  0.579208  0.596152\n",
       "dRrs490  0.518317  0.564169  1.000000  0.630269  0.649140  0.657468\n",
       "dRrs510  0.544389  0.588898  0.630269  1.000000  0.733620  0.709771\n",
       "dRrs555  0.546445  0.579208  0.649140  0.733620  1.000000  0.726363\n",
       "dRrs670  0.548999  0.596152  0.657468  0.709771  0.726363  1.000000"
      ]
     },
     "execution_count": 156,
     "metadata": {},
     "output_type": "execute_result"
    }
   ],
   "source": [
    "dfMed0p1_Corr"
   ]
  },
  {
   "cell_type": "markdown",
   "metadata": {
    "slideshow": {
     "slide_type": "subslide"
    }
   },
   "source": [
    "#### 0.5%"
   ]
  },
  {
   "cell_type": "code",
   "execution_count": 149,
   "metadata": {
    "slideshow": {
     "slide_type": "-"
    }
   },
   "outputs": [
    {
     "data": {
      "text/html": [
       "<div>\n",
       "<table border=\"1\" class=\"dataframe\">\n",
       "  <thead>\n",
       "    <tr style=\"text-align: right;\">\n",
       "      <th></th>\n",
       "      <th>dRrs412</th>\n",
       "      <th>dRrs443</th>\n",
       "      <th>dRrs490</th>\n",
       "      <th>dRrs510</th>\n",
       "      <th>dRrs555</th>\n",
       "      <th>dRrs670</th>\n",
       "    </tr>\n",
       "  </thead>\n",
       "  <tbody>\n",
       "    <tr>\n",
       "      <th>dRrs412</th>\n",
       "      <td>1</td>\n",
       "      <td>0.432594</td>\n",
       "      <td>0.481907</td>\n",
       "      <td>0.506573</td>\n",
       "      <td>0.502784</td>\n",
       "      <td>0.515455</td>\n",
       "    </tr>\n",
       "    <tr>\n",
       "      <th>dRrs443</th>\n",
       "      <td>0.432594</td>\n",
       "      <td>1</td>\n",
       "      <td>0.537763</td>\n",
       "      <td>0.563893</td>\n",
       "      <td>0.549383</td>\n",
       "      <td>0.564096</td>\n",
       "    </tr>\n",
       "    <tr>\n",
       "      <th>dRrs490</th>\n",
       "      <td>0.481907</td>\n",
       "      <td>0.537763</td>\n",
       "      <td>1</td>\n",
       "      <td>0.598053</td>\n",
       "      <td>0.597813</td>\n",
       "      <td>0.616156</td>\n",
       "    </tr>\n",
       "    <tr>\n",
       "      <th>dRrs510</th>\n",
       "      <td>0.506573</td>\n",
       "      <td>0.563893</td>\n",
       "      <td>0.598053</td>\n",
       "      <td>1</td>\n",
       "      <td>0.697618</td>\n",
       "      <td>0.680438</td>\n",
       "    </tr>\n",
       "    <tr>\n",
       "      <th>dRrs555</th>\n",
       "      <td>0.502784</td>\n",
       "      <td>0.549383</td>\n",
       "      <td>0.597813</td>\n",
       "      <td>0.697618</td>\n",
       "      <td>1</td>\n",
       "      <td>0.715191</td>\n",
       "    </tr>\n",
       "    <tr>\n",
       "      <th>dRrs670</th>\n",
       "      <td>0.515455</td>\n",
       "      <td>0.564096</td>\n",
       "      <td>0.616156</td>\n",
       "      <td>0.680438</td>\n",
       "      <td>0.715191</td>\n",
       "      <td>1</td>\n",
       "    </tr>\n",
       "  </tbody>\n",
       "</table>\n",
       "</div>"
      ],
      "text/plain": [
       "          dRrs412   dRrs443   dRrs490   dRrs510   dRrs555   dRrs670\n",
       "dRrs412         1  0.432594  0.481907  0.506573  0.502784  0.515455\n",
       "dRrs443  0.432594         1  0.537763  0.563893  0.549383  0.564096\n",
       "dRrs490  0.481907  0.537763         1  0.598053  0.597813  0.616156\n",
       "dRrs510  0.506573  0.563893  0.598053         1  0.697618  0.680438\n",
       "dRrs555  0.502784  0.549383  0.597813  0.697618         1  0.715191\n",
       "dRrs670  0.515455  0.564096  0.616156  0.680438  0.715191         1"
      ]
     },
     "execution_count": 149,
     "metadata": {},
     "output_type": "execute_result"
    }
   ],
   "source": [
    "dfMed0p5_Corr"
   ]
  },
  {
   "cell_type": "markdown",
   "metadata": {
    "slideshow": {
     "slide_type": "subslide"
    }
   },
   "source": [
    "#### 1%"
   ]
  },
  {
   "cell_type": "code",
   "execution_count": 235,
   "metadata": {
    "slideshow": {
     "slide_type": "-"
    }
   },
   "outputs": [
    {
     "data": {
      "text/html": [
       "<div>\n",
       "<table border=\"1\" class=\"dataframe\">\n",
       "  <thead>\n",
       "    <tr style=\"text-align: right;\">\n",
       "      <th></th>\n",
       "      <th>dRrs412</th>\n",
       "      <th>dRrs443</th>\n",
       "      <th>dRrs490</th>\n",
       "      <th>dRrs510</th>\n",
       "      <th>dRrs555</th>\n",
       "      <th>dRrs670</th>\n",
       "    </tr>\n",
       "  </thead>\n",
       "  <tbody>\n",
       "    <tr>\n",
       "      <th>dRrs412</th>\n",
       "      <td>1.0000e+00</td>\n",
       "      <td>4.1124e-01</td>\n",
       "      <td>4.6146e-01</td>\n",
       "      <td>4.9000e-01</td>\n",
       "      <td>4.8730e-01</td>\n",
       "      <td>4.9872e-01</td>\n",
       "    </tr>\n",
       "    <tr>\n",
       "      <th>dRrs443</th>\n",
       "      <td>4.1124e-01</td>\n",
       "      <td>1.0000e+00</td>\n",
       "      <td>5.2206e-01</td>\n",
       "      <td>5.4461e-01</td>\n",
       "      <td>5.3475e-01</td>\n",
       "      <td>5.4641e-01</td>\n",
       "    </tr>\n",
       "    <tr>\n",
       "      <th>dRrs490</th>\n",
       "      <td>4.6146e-01</td>\n",
       "      <td>5.2206e-01</td>\n",
       "      <td>1.0000e+00</td>\n",
       "      <td>5.7968e-01</td>\n",
       "      <td>5.7866e-01</td>\n",
       "      <td>6.0176e-01</td>\n",
       "    </tr>\n",
       "    <tr>\n",
       "      <th>dRrs510</th>\n",
       "      <td>4.9000e-01</td>\n",
       "      <td>5.4461e-01</td>\n",
       "      <td>5.7968e-01</td>\n",
       "      <td>1.0000e+00</td>\n",
       "      <td>6.8598e-01</td>\n",
       "      <td>6.6871e-01</td>\n",
       "    </tr>\n",
       "    <tr>\n",
       "      <th>dRrs555</th>\n",
       "      <td>4.8730e-01</td>\n",
       "      <td>5.3475e-01</td>\n",
       "      <td>5.7866e-01</td>\n",
       "      <td>6.8598e-01</td>\n",
       "      <td>1.0000e+00</td>\n",
       "      <td>7.0025e-01</td>\n",
       "    </tr>\n",
       "    <tr>\n",
       "      <th>dRrs670</th>\n",
       "      <td>4.9872e-01</td>\n",
       "      <td>5.4641e-01</td>\n",
       "      <td>6.0176e-01</td>\n",
       "      <td>6.6871e-01</td>\n",
       "      <td>7.0025e-01</td>\n",
       "      <td>1.0000e+00</td>\n",
       "    </tr>\n",
       "  </tbody>\n",
       "</table>\n",
       "</div>"
      ],
      "text/plain": [
       "           dRrs412    dRrs443    dRrs490    dRrs510    dRrs555    dRrs670\n",
       "dRrs412 1.0000e+00 4.1124e-01 4.6146e-01 4.9000e-01 4.8730e-01 4.9872e-01\n",
       "dRrs443 4.1124e-01 1.0000e+00 5.2206e-01 5.4461e-01 5.3475e-01 5.4641e-01\n",
       "dRrs490 4.6146e-01 5.2206e-01 1.0000e+00 5.7968e-01 5.7866e-01 6.0176e-01\n",
       "dRrs510 4.9000e-01 5.4461e-01 5.7968e-01 1.0000e+00 6.8598e-01 6.6871e-01\n",
       "dRrs555 4.8730e-01 5.3475e-01 5.7866e-01 6.8598e-01 1.0000e+00 7.0025e-01\n",
       "dRrs670 4.9872e-01 5.4641e-01 6.0176e-01 6.6871e-01 7.0025e-01 1.0000e+00"
      ]
     },
     "execution_count": 235,
     "metadata": {},
     "output_type": "execute_result"
    }
   ],
   "source": [
    "dfMed1_Corr"
   ]
  },
  {
   "cell_type": "code",
   "execution_count": 324,
   "metadata": {
    "slideshow": {
     "slide_type": "skip"
    }
   },
   "outputs": [
    {
     "data": {
      "image/png": "[encoded data removed]",
      "text/plain": [
       "<matplotlib.figure.Figure at 0x7f972071ef60>"
      ]
     },
     "metadata": {},
     "output_type": "display_data"
    }
   ],
   "source": [
    "PlotMatrices([dfMed0p1_Corr, dfMed0p5_Corr, dfMed1_Corr], titleStr='Correlation Matrices of Medians')"
   ]
  },
  {
   "cell_type": "markdown",
   "metadata": {
    "slideshow": {
     "slide_type": "slide"
    }
   },
   "source": [
    "### Absolute Uncertainties"
   ]
  },
  {
   "cell_type": "code",
   "execution_count": null,
   "metadata": {
    "collapsed": true,
    "slideshow": {
     "slide_type": "skip"
    }
   },
   "outputs": [],
   "source": [
    "dfMed0p1_Uncs = GetUncs(dfMed0p1_Cov)\n",
    "dfMed0p1_Uncs = dfMed0p1_Uncs[dfMed0p1_Uncs.columns].astype(float)"
   ]
  },
  {
   "cell_type": "markdown",
   "metadata": {},
   "source": [
    "#### 0.1%"
   ]
  },
  {
   "cell_type": "code",
   "execution_count": 204,
   "metadata": {
    "slideshow": {
     "slide_type": "-"
    }
   },
   "outputs": [
    {
     "data": {
      "text/html": [
       "<div>\n",
       "<table border=\"1\" class=\"dataframe\">\n",
       "  <thead>\n",
       "    <tr style=\"text-align: right;\">\n",
       "      <th></th>\n",
       "      <th>Unc</th>\n",
       "    </tr>\n",
       "  </thead>\n",
       "  <tbody>\n",
       "    <tr>\n",
       "      <th>rho_w_412</th>\n",
       "      <td>3.5610e-04</td>\n",
       "    </tr>\n",
       "    <tr>\n",
       "      <th>rho_w_443</th>\n",
       "      <td>2.8427e-04</td>\n",
       "    </tr>\n",
       "    <tr>\n",
       "      <th>rho_w_490</th>\n",
       "      <td>2.1046e-04</td>\n",
       "    </tr>\n",
       "    <tr>\n",
       "      <th>rho_w_510</th>\n",
       "      <td>1.8511e-04</td>\n",
       "    </tr>\n",
       "    <tr>\n",
       "      <th>rho_w_555</th>\n",
       "      <td>1.4505e-04</td>\n",
       "    </tr>\n",
       "    <tr>\n",
       "      <th>rho_w_670</th>\n",
       "      <td>6.2200e-05</td>\n",
       "    </tr>\n",
       "  </tbody>\n",
       "</table>\n",
       "</div>"
      ],
      "text/plain": [
       "                 Unc\n",
       "rho_w_412 3.5610e-04\n",
       "rho_w_443 2.8427e-04\n",
       "rho_w_490 2.1046e-04\n",
       "rho_w_510 1.8511e-04\n",
       "rho_w_555 1.4505e-04\n",
       "rho_w_670 6.2200e-05"
      ]
     },
     "execution_count": 204,
     "metadata": {},
     "output_type": "execute_result"
    }
   ],
   "source": [
    "dfMed0p1_Uncs"
   ]
  },
  {
   "cell_type": "code",
   "execution_count": null,
   "metadata": {
    "collapsed": true,
    "slideshow": {
     "slide_type": "skip"
    }
   },
   "outputs": [],
   "source": [
    "dfMed0p5_Uncs = GetUncs(dfMed0p5_Cov)\n",
    "dfMed0p5_Uncs = dfMed0p5_Uncs[dfMed0p5_Uncs.columns].astype(float)"
   ]
  },
  {
   "cell_type": "markdown",
   "metadata": {
    "slideshow": {
     "slide_type": "subslide"
    }
   },
   "source": [
    "#### 0.5%"
   ]
  },
  {
   "cell_type": "code",
   "execution_count": 205,
   "metadata": {
    "slideshow": {
     "slide_type": "-"
    }
   },
   "outputs": [
    {
     "data": {
      "text/html": [
       "<div>\n",
       "<table border=\"1\" class=\"dataframe\">\n",
       "  <thead>\n",
       "    <tr style=\"text-align: right;\">\n",
       "      <th></th>\n",
       "      <th>Unc</th>\n",
       "    </tr>\n",
       "  </thead>\n",
       "  <tbody>\n",
       "    <tr>\n",
       "      <th>rho_w_412</th>\n",
       "      <td>1.7386e-03</td>\n",
       "    </tr>\n",
       "    <tr>\n",
       "      <th>rho_w_443</th>\n",
       "      <td>1.3608e-03</td>\n",
       "    </tr>\n",
       "    <tr>\n",
       "      <th>rho_w_490</th>\n",
       "      <td>1.0059e-03</td>\n",
       "    </tr>\n",
       "    <tr>\n",
       "      <th>rho_w_510</th>\n",
       "      <td>8.6867e-04</td>\n",
       "    </tr>\n",
       "    <tr>\n",
       "      <th>rho_w_555</th>\n",
       "      <td>6.7037e-04</td>\n",
       "    </tr>\n",
       "    <tr>\n",
       "      <th>rho_w_670</th>\n",
       "      <td>2.9140e-04</td>\n",
       "    </tr>\n",
       "  </tbody>\n",
       "</table>\n",
       "</div>"
      ],
      "text/plain": [
       "                 Unc\n",
       "rho_w_412 1.7386e-03\n",
       "rho_w_443 1.3608e-03\n",
       "rho_w_490 1.0059e-03\n",
       "rho_w_510 8.6867e-04\n",
       "rho_w_555 6.7037e-04\n",
       "rho_w_670 2.9140e-04"
      ]
     },
     "execution_count": 205,
     "metadata": {},
     "output_type": "execute_result"
    }
   ],
   "source": [
    "dfMed0p5_Uncs"
   ]
  },
  {
   "cell_type": "code",
   "execution_count": null,
   "metadata": {
    "collapsed": true,
    "slideshow": {
     "slide_type": "skip"
    }
   },
   "outputs": [],
   "source": [
    "dfMed1_Uncs = GetUncs(dfMed1_Cov)\n",
    "dfMed1_Uncs = dfMed1_Uncs[dfMed1_Uncs.columns].astype(float)"
   ]
  },
  {
   "cell_type": "markdown",
   "metadata": {
    "slideshow": {
     "slide_type": "subslide"
    }
   },
   "source": [
    "#### 1%"
   ]
  },
  {
   "cell_type": "code",
   "execution_count": 248,
   "metadata": {
    "slideshow": {
     "slide_type": "-"
    }
   },
   "outputs": [
    {
     "data": {
      "text/html": [
       "<div>\n",
       "<table border=\"1\" class=\"dataframe\">\n",
       "  <thead>\n",
       "    <tr style=\"text-align: right;\">\n",
       "      <th></th>\n",
       "      <th>Unc</th>\n",
       "    </tr>\n",
       "  </thead>\n",
       "  <tbody>\n",
       "    <tr>\n",
       "      <th>rho_w_412</th>\n",
       "      <td>3.4233e-03</td>\n",
       "    </tr>\n",
       "    <tr>\n",
       "      <th>rho_w_443</th>\n",
       "      <td>2.6775e-03</td>\n",
       "    </tr>\n",
       "    <tr>\n",
       "      <th>rho_w_490</th>\n",
       "      <td>1.9781e-03</td>\n",
       "    </tr>\n",
       "    <tr>\n",
       "      <th>rho_w_510</th>\n",
       "      <td>1.6992e-03</td>\n",
       "    </tr>\n",
       "    <tr>\n",
       "      <th>rho_w_555</th>\n",
       "      <td>1.3167e-03</td>\n",
       "    </tr>\n",
       "    <tr>\n",
       "      <th>rho_w_670</th>\n",
       "      <td>5.6806e-04</td>\n",
       "    </tr>\n",
       "  </tbody>\n",
       "</table>\n",
       "</div>"
      ],
      "text/plain": [
       "                 Unc\n",
       "rho_w_412 3.4233e-03\n",
       "rho_w_443 2.6775e-03\n",
       "rho_w_490 1.9781e-03\n",
       "rho_w_510 1.6992e-03\n",
       "rho_w_555 1.3167e-03\n",
       "rho_w_670 5.6806e-04"
      ]
     },
     "execution_count": 248,
     "metadata": {},
     "output_type": "execute_result"
    }
   ],
   "source": [
    "dfMed1_Uncs"
   ]
  },
  {
   "cell_type": "markdown",
   "metadata": {
    "slideshow": {
     "slide_type": "slide"
    }
   },
   "source": [
    "### Relative Uncertainties"
   ]
  },
  {
   "cell_type": "markdown",
   "metadata": {
    "slideshow": {
     "slide_type": "subslide"
    }
   },
   "source": [
    "#### 0.1%"
   ]
  },
  {
   "cell_type": "code",
   "execution_count": 251,
   "metadata": {
    "slideshow": {
     "slide_type": "-"
    }
   },
   "outputs": [
    {
     "data": {
      "text/html": [
       "<div>\n",
       "<table border=\"1\" class=\"dataframe\">\n",
       "  <thead>\n",
       "    <tr style=\"text-align: right;\">\n",
       "      <th></th>\n",
       "      <th>Unc (%)</th>\n",
       "    </tr>\n",
       "  </thead>\n",
       "  <tbody>\n",
       "    <tr>\n",
       "      <th>rho_w_412</th>\n",
       "      <td>1.4418e+00</td>\n",
       "    </tr>\n",
       "    <tr>\n",
       "      <th>rho_w_443</th>\n",
       "      <td>1.3421e+00</td>\n",
       "    </tr>\n",
       "    <tr>\n",
       "      <th>rho_w_490</th>\n",
       "      <td>1.2616e+00</td>\n",
       "    </tr>\n",
       "    <tr>\n",
       "      <th>rho_w_510</th>\n",
       "      <td>1.7942e+00</td>\n",
       "    </tr>\n",
       "    <tr>\n",
       "      <th>rho_w_555</th>\n",
       "      <td>2.7482e+00</td>\n",
       "    </tr>\n",
       "    <tr>\n",
       "      <th>rho_w_670</th>\n",
       "      <td>8.7605e+00</td>\n",
       "    </tr>\n",
       "  </tbody>\n",
       "</table>\n",
       "</div>"
      ],
      "text/plain": [
       "             Unc (%)\n",
       "rho_w_412 1.4418e+00\n",
       "rho_w_443 1.3421e+00\n",
       "rho_w_490 1.2616e+00\n",
       "rho_w_510 1.7942e+00\n",
       "rho_w_555 2.7482e+00\n",
       "rho_w_670 8.7605e+00"
      ]
     },
     "execution_count": 251,
     "metadata": {},
     "output_type": "execute_result"
    }
   ],
   "source": [
    "Conv2Rel(dfMed0p1_Uncs)"
   ]
  },
  {
   "cell_type": "markdown",
   "metadata": {
    "slideshow": {
     "slide_type": "subslide"
    }
   },
   "source": [
    "#### 0.5%"
   ]
  },
  {
   "cell_type": "code",
   "execution_count": 252,
   "metadata": {
    "slideshow": {
     "slide_type": "-"
    }
   },
   "outputs": [
    {
     "data": {
      "text/html": [
       "<div>\n",
       "<table border=\"1\" class=\"dataframe\">\n",
       "  <thead>\n",
       "    <tr style=\"text-align: right;\">\n",
       "      <th></th>\n",
       "      <th>Unc (%)</th>\n",
       "    </tr>\n",
       "  </thead>\n",
       "  <tbody>\n",
       "    <tr>\n",
       "      <th>rho_w_412</th>\n",
       "      <td>7.0391e+00</td>\n",
       "    </tr>\n",
       "    <tr>\n",
       "      <th>rho_w_443</th>\n",
       "      <td>6.4246e+00</td>\n",
       "    </tr>\n",
       "    <tr>\n",
       "      <th>rho_w_490</th>\n",
       "      <td>6.0299e+00</td>\n",
       "    </tr>\n",
       "    <tr>\n",
       "      <th>rho_w_510</th>\n",
       "      <td>8.4198e+00</td>\n",
       "    </tr>\n",
       "    <tr>\n",
       "      <th>rho_w_555</th>\n",
       "      <td>1.2701e+01</td>\n",
       "    </tr>\n",
       "    <tr>\n",
       "      <th>rho_w_670</th>\n",
       "      <td>4.1043e+01</td>\n",
       "    </tr>\n",
       "  </tbody>\n",
       "</table>\n",
       "</div>"
      ],
      "text/plain": [
       "             Unc (%)\n",
       "rho_w_412 7.0391e+00\n",
       "rho_w_443 6.4246e+00\n",
       "rho_w_490 6.0299e+00\n",
       "rho_w_510 8.4198e+00\n",
       "rho_w_555 1.2701e+01\n",
       "rho_w_670 4.1043e+01"
      ]
     },
     "execution_count": 252,
     "metadata": {},
     "output_type": "execute_result"
    }
   ],
   "source": [
    "Conv2Rel(dfMed0p5_Uncs)"
   ]
  },
  {
   "cell_type": "markdown",
   "metadata": {
    "slideshow": {
     "slide_type": "subslide"
    }
   },
   "source": [
    "#### 1%"
   ]
  },
  {
   "cell_type": "code",
   "execution_count": 253,
   "metadata": {
    "slideshow": {
     "slide_type": "-"
    }
   },
   "outputs": [
    {
     "data": {
      "text/html": [
       "<div>\n",
       "<table border=\"1\" class=\"dataframe\">\n",
       "  <thead>\n",
       "    <tr style=\"text-align: right;\">\n",
       "      <th></th>\n",
       "      <th>Unc (%)</th>\n",
       "    </tr>\n",
       "  </thead>\n",
       "  <tbody>\n",
       "    <tr>\n",
       "      <th>rho_w_412</th>\n",
       "      <td>1.3860e+01</td>\n",
       "    </tr>\n",
       "    <tr>\n",
       "      <th>rho_w_443</th>\n",
       "      <td>1.2642e+01</td>\n",
       "    </tr>\n",
       "    <tr>\n",
       "      <th>rho_w_490</th>\n",
       "      <td>1.1858e+01</td>\n",
       "    </tr>\n",
       "    <tr>\n",
       "      <th>rho_w_510</th>\n",
       "      <td>1.6470e+01</td>\n",
       "    </tr>\n",
       "    <tr>\n",
       "      <th>rho_w_555</th>\n",
       "      <td>2.4947e+01</td>\n",
       "    </tr>\n",
       "    <tr>\n",
       "      <th>rho_w_670</th>\n",
       "      <td>8.0008e+01</td>\n",
       "    </tr>\n",
       "  </tbody>\n",
       "</table>\n",
       "</div>"
      ],
      "text/plain": [
       "             Unc (%)\n",
       "rho_w_412 1.3860e+01\n",
       "rho_w_443 1.2642e+01\n",
       "rho_w_490 1.1858e+01\n",
       "rho_w_510 1.6470e+01\n",
       "rho_w_555 2.4947e+01\n",
       "rho_w_670 8.0008e+01"
      ]
     },
     "execution_count": 253,
     "metadata": {},
     "output_type": "execute_result"
    }
   ],
   "source": [
    "Conv2Rel(dfMed1_Uncs)"
   ]
  },
  {
   "cell_type": "markdown",
   "metadata": {
    "slideshow": {
     "slide_type": "slide"
    }
   },
   "source": [
    "### Adding Correlations to the Propagation Matrix\n",
    "\n",
    "\n",
    "$$\\begin{bmatrix}\n",
    " \\frac{\\partial{Rrs412}}{\\partial{Lt412}} & \\frac{\\partial{Rrs443}}{\\partial{Lt412}} & \\dots  & \\frac{\\partial{Rrs670}}{\\partial{Lt412}} \\\\\n",
    "    \\frac{\\partial{Rrs412}}{\\partial{Lt443}} & \\frac{\\partial{Rrs443}}{\\partial{Lt443}} & \\dots  & \\frac{\\partial{Rrs670}}{\\partial{Lt443}} \\\\\n",
    "    \\vdots & \\vdots  & \\ddots & \\vdots \\\\\n",
    "    \\frac{\\partial{Rrs412}}{\\partial{Lt865}} & \\frac{\\partial{Rrs443}}{\\partial{Lt865}} & \\dots  & \\frac{\\partial{Rrs670}}{\\partial{Lt865}}\n",
    "\\end{bmatrix}^\\mathsf{T} \n",
    "\\begin{bmatrix}\n",
    "\\partial{Lt412}^2 & & \\frac{1}{2}\\partial{Lt_{nnn}} \\\\\n",
    "& \\ddots &  \\\\\n",
    "\\frac{1}{2}\\partial{Lt_{nnn}}  & & \\partial{Lt865}^2\n",
    "\\end{bmatrix}\n",
    "\\begin{bmatrix}\n",
    " \\frac{\\partial{Rrs412}}{\\partial{Lt412}} & \\frac{\\partial{Rrs443}}{\\partial{Lt412}} & \\dots  & \\frac{\\partial{Rrs670}}{\\partial{Lt412}} \\\\\n",
    "    \\frac{\\partial{Rrs412}}{\\partial{Lt443}} & \\frac{\\partial{Rrs443}}{\\partial{Lt443}} & \\dots  & \\frac{\\partial{Rrs670}}{\\partial{Lt443}} \\\\\n",
    "    \\vdots & \\vdots  & \\ddots & \\vdots \\\\\n",
    "    \\frac{\\partial{Rrs412}}{\\partial{Lt865}} & \\frac{\\partial{Rrs443}}{\\partial{Lt865}} & \\dots  & \\frac{\\partial{Rrs670}}{\\partial{Lt865}}\n",
    "\\end{bmatrix}$$"
   ]
  },
  {
   "cell_type": "markdown",
   "metadata": {
    "slideshow": {
     "slide_type": "subslide"
    }
   },
   "source": [
    "#### 0.1%"
   ]
  },
  {
   "cell_type": "code",
   "execution_count": 300,
   "metadata": {
    "slideshow": {
     "slide_type": "-"
    }
   },
   "outputs": [
    {
     "data": {
      "text/html": [
       "<div>\n",
       "<table border=\"1\" class=\"dataframe\">\n",
       "  <thead>\n",
       "    <tr style=\"text-align: right;\">\n",
       "      <th></th>\n",
       "      <th>dRrs412</th>\n",
       "      <th>dRrs443</th>\n",
       "      <th>dRrs490</th>\n",
       "      <th>dRrs510</th>\n",
       "      <th>dRrs555</th>\n",
       "      <th>dRrs670</th>\n",
       "    </tr>\n",
       "  </thead>\n",
       "  <tbody>\n",
       "    <tr>\n",
       "      <th>dRrs412</th>\n",
       "      <td>8.4723e-12</td>\n",
       "      <td>3.7042e-12</td>\n",
       "      <td>2.7359e-12</td>\n",
       "      <td>2.3300e-12</td>\n",
       "      <td>1.7498e-12</td>\n",
       "      <td>6.1604e-13</td>\n",
       "    </tr>\n",
       "    <tr>\n",
       "      <th>dRrs443</th>\n",
       "      <td>3.7042e-12</td>\n",
       "      <td>4.9762e-12</td>\n",
       "      <td>2.2140e-12</td>\n",
       "      <td>1.9060e-12</td>\n",
       "      <td>1.4199e-12</td>\n",
       "      <td>5.3401e-13</td>\n",
       "    </tr>\n",
       "    <tr>\n",
       "      <th>dRrs490</th>\n",
       "      <td>2.7359e-12</td>\n",
       "      <td>2.2140e-12</td>\n",
       "      <td>2.5319e-12</td>\n",
       "      <td>1.4359e-12</td>\n",
       "      <td>1.1239e-12</td>\n",
       "      <td>4.3602e-13</td>\n",
       "    </tr>\n",
       "    <tr>\n",
       "      <th>dRrs510</th>\n",
       "      <td>2.3300e-12</td>\n",
       "      <td>1.9060e-12</td>\n",
       "      <td>1.4359e-12</td>\n",
       "      <td>1.8639e-12</td>\n",
       "      <td>1.0779e-12</td>\n",
       "      <td>4.1401e-13</td>\n",
       "    </tr>\n",
       "    <tr>\n",
       "      <th>dRrs555</th>\n",
       "      <td>1.7498e-12</td>\n",
       "      <td>1.4199e-12</td>\n",
       "      <td>1.1239e-12</td>\n",
       "      <td>1.0779e-12</td>\n",
       "      <td>1.1158e-12</td>\n",
       "      <td>3.3198e-13</td>\n",
       "    </tr>\n",
       "    <tr>\n",
       "      <th>dRrs670</th>\n",
       "      <td>6.1604e-13</td>\n",
       "      <td>5.3401e-13</td>\n",
       "      <td>4.3602e-13</td>\n",
       "      <td>4.1401e-13</td>\n",
       "      <td>3.3198e-13</td>\n",
       "      <td>1.9600e-13</td>\n",
       "    </tr>\n",
       "  </tbody>\n",
       "</table>\n",
       "</div>"
      ],
      "text/plain": [
       "           dRrs412    dRrs443    dRrs490    dRrs510    dRrs555    dRrs670\n",
       "dRrs412 8.4723e-12 3.7042e-12 2.7359e-12 2.3300e-12 1.7498e-12 6.1604e-13\n",
       "dRrs443 3.7042e-12 4.9762e-12 2.2140e-12 1.9060e-12 1.4199e-12 5.3401e-13\n",
       "dRrs490 2.7359e-12 2.2140e-12 2.5319e-12 1.4359e-12 1.1239e-12 4.3602e-13\n",
       "dRrs510 2.3300e-12 1.9060e-12 1.4359e-12 1.8639e-12 1.0779e-12 4.1401e-13\n",
       "dRrs555 1.7498e-12 1.4199e-12 1.1239e-12 1.0779e-12 1.1158e-12 3.3198e-13\n",
       "dRrs670 6.1604e-13 5.3401e-13 4.3602e-13 4.1401e-13 3.3198e-13 1.9600e-13"
      ]
     },
     "execution_count": 300,
     "metadata": {},
     "output_type": "execute_result"
    }
   ],
   "source": [
    "dfMed0p1_Cov2 = PropgtWthModifdVarCovMatx(dfMed0p1, level=0.001)\n",
    "dfMed0p1_Cov2"
   ]
  },
  {
   "cell_type": "code",
   "execution_count": 332,
   "metadata": {},
   "outputs": [
    {
     "data": {
      "text/html": [
       "<div>\n",
       "<table border=\"1\" class=\"dataframe\">\n",
       "  <thead>\n",
       "    <tr style=\"text-align: right;\">\n",
       "      <th></th>\n",
       "      <th>Unc</th>\n",
       "    </tr>\n",
       "  </thead>\n",
       "  <tbody>\n",
       "    <tr>\n",
       "      <th>rho_w_412</th>\n",
       "      <td>9.1443e-06</td>\n",
       "    </tr>\n",
       "    <tr>\n",
       "      <th>rho_w_443</th>\n",
       "      <td>7.0081e-06</td>\n",
       "    </tr>\n",
       "    <tr>\n",
       "      <th>rho_w_490</th>\n",
       "      <td>4.9989e-06</td>\n",
       "    </tr>\n",
       "    <tr>\n",
       "      <th>rho_w_510</th>\n",
       "      <td>4.2891e-06</td>\n",
       "    </tr>\n",
       "    <tr>\n",
       "      <th>rho_w_555</th>\n",
       "      <td>3.3185e-06</td>\n",
       "    </tr>\n",
       "    <tr>\n",
       "      <th>rho_w_670</th>\n",
       "      <td>1.3908e-06</td>\n",
       "    </tr>\n",
       "  </tbody>\n",
       "</table>\n",
       "</div>"
      ],
      "text/plain": [
       "                 Unc\n",
       "rho_w_412 9.1443e-06\n",
       "rho_w_443 7.0081e-06\n",
       "rho_w_490 4.9989e-06\n",
       "rho_w_510 4.2891e-06\n",
       "rho_w_555 3.3185e-06\n",
       "rho_w_670 1.3908e-06"
      ]
     },
     "execution_count": 332,
     "metadata": {},
     "output_type": "execute_result"
    }
   ],
   "source": [
    "dfMed0p1_Uncs2 = GetUncs(dfMed0p1_Cov2)\n",
    "dfMed0p1_Uncs2"
   ]
  },
  {
   "cell_type": "code",
   "execution_count": 333,
   "metadata": {},
   "outputs": [
    {
     "data": {
      "text/html": [
       "<div>\n",
       "<table border=\"1\" class=\"dataframe\">\n",
       "  <thead>\n",
       "    <tr style=\"text-align: right;\">\n",
       "      <th></th>\n",
       "      <th>Unc (%)</th>\n",
       "    </tr>\n",
       "  </thead>\n",
       "  <tbody>\n",
       "    <tr>\n",
       "      <th>rho_w_412</th>\n",
       "      <td>3.7023e-02</td>\n",
       "    </tr>\n",
       "    <tr>\n",
       "      <th>rho_w_443</th>\n",
       "      <td>3.3087e-02</td>\n",
       "    </tr>\n",
       "    <tr>\n",
       "      <th>rho_w_490</th>\n",
       "      <td>2.9966e-02</td>\n",
       "    </tr>\n",
       "    <tr>\n",
       "      <th>rho_w_510</th>\n",
       "      <td>4.1573e-02</td>\n",
       "    </tr>\n",
       "    <tr>\n",
       "      <th>rho_w_555</th>\n",
       "      <td>6.2876e-02</td>\n",
       "    </tr>\n",
       "    <tr>\n",
       "      <th>rho_w_670</th>\n",
       "      <td>1.9589e-01</td>\n",
       "    </tr>\n",
       "  </tbody>\n",
       "</table>\n",
       "</div>"
      ],
      "text/plain": [
       "             Unc (%)\n",
       "rho_w_412 3.7023e-02\n",
       "rho_w_443 3.3087e-02\n",
       "rho_w_490 2.9966e-02\n",
       "rho_w_510 4.1573e-02\n",
       "rho_w_555 6.2876e-02\n",
       "rho_w_670 1.9589e-01"
      ]
     },
     "execution_count": 333,
     "metadata": {},
     "output_type": "execute_result"
    }
   ],
   "source": [
    "Conv2Rel(dfMed0p1_Uncs2)"
   ]
  },
  {
   "cell_type": "markdown",
   "metadata": {
    "slideshow": {
     "slide_type": "subslide"
    }
   },
   "source": [
    "#### 0.5%"
   ]
  },
  {
   "cell_type": "code",
   "execution_count": 303,
   "metadata": {
    "slideshow": {
     "slide_type": "-"
    }
   },
   "outputs": [
    {
     "data": {
      "text/html": [
       "<div>\n",
       "<table border=\"1\" class=\"dataframe\">\n",
       "  <thead>\n",
       "    <tr style=\"text-align: right;\">\n",
       "      <th></th>\n",
       "      <th>dRrs412</th>\n",
       "      <th>dRrs443</th>\n",
       "      <th>dRrs490</th>\n",
       "      <th>dRrs510</th>\n",
       "      <th>dRrs555</th>\n",
       "      <th>dRrs670</th>\n",
       "    </tr>\n",
       "  </thead>\n",
       "  <tbody>\n",
       "    <tr>\n",
       "      <th>dRrs412</th>\n",
       "      <td>1.0346e-09</td>\n",
       "      <td>4.3472e-10</td>\n",
       "      <td>3.1188e-10</td>\n",
       "      <td>2.6594e-10</td>\n",
       "      <td>1.8943e-10</td>\n",
       "      <td>7.4348e-11</td>\n",
       "    </tr>\n",
       "    <tr>\n",
       "      <th>dRrs443</th>\n",
       "      <td>4.3472e-10</td>\n",
       "      <td>5.8353e-10</td>\n",
       "      <td>2.5065e-10</td>\n",
       "      <td>2.1592e-10</td>\n",
       "      <td>1.5369e-10</td>\n",
       "      <td>6.2009e-11</td>\n",
       "    </tr>\n",
       "    <tr>\n",
       "      <th>dRrs490</th>\n",
       "      <td>3.1188e-10</td>\n",
       "      <td>2.5065e-10</td>\n",
       "      <td>2.9230e-10</td>\n",
       "      <td>1.5877e-10</td>\n",
       "      <td>1.1711e-10</td>\n",
       "      <td>4.8749e-11</td>\n",
       "    </tr>\n",
       "    <tr>\n",
       "      <th>dRrs510</th>\n",
       "      <td>2.6594e-10</td>\n",
       "      <td>2.1592e-10</td>\n",
       "      <td>1.5877e-10</td>\n",
       "      <td>2.1050e-10</td>\n",
       "      <td>1.1390e-10</td>\n",
       "      <td>4.5829e-11</td>\n",
       "    </tr>\n",
       "    <tr>\n",
       "      <th>dRrs555</th>\n",
       "      <td>1.8943e-10</td>\n",
       "      <td>1.5369e-10</td>\n",
       "      <td>1.1711e-10</td>\n",
       "      <td>1.1390e-10</td>\n",
       "      <td>1.2008e-10</td>\n",
       "      <td>3.6639e-11</td>\n",
       "    </tr>\n",
       "    <tr>\n",
       "      <th>dRrs670</th>\n",
       "      <td>7.4348e-11</td>\n",
       "      <td>6.2009e-11</td>\n",
       "      <td>4.8749e-11</td>\n",
       "      <td>4.5829e-11</td>\n",
       "      <td>3.6639e-11</td>\n",
       "      <td>2.1760e-11</td>\n",
       "    </tr>\n",
       "  </tbody>\n",
       "</table>\n",
       "</div>"
      ],
      "text/plain": [
       "           dRrs412    dRrs443    dRrs490    dRrs510    dRrs555    dRrs670\n",
       "dRrs412 1.0346e-09 4.3472e-10 3.1188e-10 2.6594e-10 1.8943e-10 7.4348e-11\n",
       "dRrs443 4.3472e-10 5.8353e-10 2.5065e-10 2.1592e-10 1.5369e-10 6.2009e-11\n",
       "dRrs490 3.1188e-10 2.5065e-10 2.9230e-10 1.5877e-10 1.1711e-10 4.8749e-11\n",
       "dRrs510 2.6594e-10 2.1592e-10 1.5877e-10 2.1050e-10 1.1390e-10 4.5829e-11\n",
       "dRrs555 1.8943e-10 1.5369e-10 1.1711e-10 1.1390e-10 1.2008e-10 3.6639e-11\n",
       "dRrs670 7.4348e-11 6.2009e-11 4.8749e-11 4.5829e-11 3.6639e-11 2.1760e-11"
      ]
     },
     "execution_count": 303,
     "metadata": {},
     "output_type": "execute_result"
    }
   ],
   "source": [
    "dfMed0p5_Cov2 = PropgtWthModifdVarCovMatx(dfMed0p5, level=0.005)\n",
    "dfMed0p5_Cov2"
   ]
  },
  {
   "cell_type": "code",
   "execution_count": 330,
   "metadata": {},
   "outputs": [
    {
     "data": {
      "text/html": [
       "<div>\n",
       "<table border=\"1\" class=\"dataframe\">\n",
       "  <thead>\n",
       "    <tr style=\"text-align: right;\">\n",
       "      <th></th>\n",
       "      <th>Unc</th>\n",
       "    </tr>\n",
       "  </thead>\n",
       "  <tbody>\n",
       "    <tr>\n",
       "      <th>rho_w_412</th>\n",
       "      <td>1.0105e-04</td>\n",
       "    </tr>\n",
       "    <tr>\n",
       "      <th>rho_w_443</th>\n",
       "      <td>7.5889e-05</td>\n",
       "    </tr>\n",
       "    <tr>\n",
       "      <th>rho_w_490</th>\n",
       "      <td>5.3711e-05</td>\n",
       "    </tr>\n",
       "    <tr>\n",
       "      <th>rho_w_510</th>\n",
       "      <td>4.5580e-05</td>\n",
       "    </tr>\n",
       "    <tr>\n",
       "      <th>rho_w_555</th>\n",
       "      <td>3.4426e-05</td>\n",
       "    </tr>\n",
       "    <tr>\n",
       "      <th>rho_w_670</th>\n",
       "      <td>1.4655e-05</td>\n",
       "    </tr>\n",
       "  </tbody>\n",
       "</table>\n",
       "</div>"
      ],
      "text/plain": [
       "                 Unc\n",
       "rho_w_412 1.0105e-04\n",
       "rho_w_443 7.5889e-05\n",
       "rho_w_490 5.3711e-05\n",
       "rho_w_510 4.5580e-05\n",
       "rho_w_555 3.4426e-05\n",
       "rho_w_670 1.4655e-05"
      ]
     },
     "execution_count": 330,
     "metadata": {},
     "output_type": "execute_result"
    }
   ],
   "source": [
    "dfMed0p5_Uncs2 = GetUncs(dfMed0p5_Cov2)\n",
    "dfMed0p5_Uncs2"
   ]
  },
  {
   "cell_type": "code",
   "execution_count": 331,
   "metadata": {},
   "outputs": [
    {
     "data": {
      "text/html": [
       "<div>\n",
       "<table border=\"1\" class=\"dataframe\">\n",
       "  <thead>\n",
       "    <tr style=\"text-align: right;\">\n",
       "      <th></th>\n",
       "      <th>Unc (%)</th>\n",
       "    </tr>\n",
       "  </thead>\n",
       "  <tbody>\n",
       "    <tr>\n",
       "      <th>rho_w_412</th>\n",
       "      <td>4.0912e-01</td>\n",
       "    </tr>\n",
       "    <tr>\n",
       "      <th>rho_w_443</th>\n",
       "      <td>3.5830e-01</td>\n",
       "    </tr>\n",
       "    <tr>\n",
       "      <th>rho_w_490</th>\n",
       "      <td>3.2197e-01</td>\n",
       "    </tr>\n",
       "    <tr>\n",
       "      <th>rho_w_510</th>\n",
       "      <td>4.4179e-01</td>\n",
       "    </tr>\n",
       "    <tr>\n",
       "      <th>rho_w_555</th>\n",
       "      <td>6.5227e-01</td>\n",
       "    </tr>\n",
       "    <tr>\n",
       "      <th>rho_w_670</th>\n",
       "      <td>2.0640e+00</td>\n",
       "    </tr>\n",
       "  </tbody>\n",
       "</table>\n",
       "</div>"
      ],
      "text/plain": [
       "             Unc (%)\n",
       "rho_w_412 4.0912e-01\n",
       "rho_w_443 3.5830e-01\n",
       "rho_w_490 3.2197e-01\n",
       "rho_w_510 4.4179e-01\n",
       "rho_w_555 6.5227e-01\n",
       "rho_w_670 2.0640e+00"
      ]
     },
     "execution_count": 331,
     "metadata": {},
     "output_type": "execute_result"
    }
   ],
   "source": [
    "Conv2Rel(dfMed0p5_Uncs2)"
   ]
  },
  {
   "cell_type": "markdown",
   "metadata": {
    "slideshow": {
     "slide_type": "subslide"
    }
   },
   "source": [
    "#### 1%"
   ]
  },
  {
   "cell_type": "code",
   "execution_count": 304,
   "metadata": {
    "slideshow": {
     "slide_type": "-"
    }
   },
   "outputs": [
    {
     "data": {
      "text/html": [
       "<div>\n",
       "<table border=\"1\" class=\"dataframe\">\n",
       "  <thead>\n",
       "    <tr style=\"text-align: right;\">\n",
       "      <th></th>\n",
       "      <th>dRrs412</th>\n",
       "      <th>dRrs443</th>\n",
       "      <th>dRrs490</th>\n",
       "      <th>dRrs510</th>\n",
       "      <th>dRrs555</th>\n",
       "      <th>dRrs670</th>\n",
       "    </tr>\n",
       "  </thead>\n",
       "  <tbody>\n",
       "    <tr>\n",
       "      <th>dRrs412</th>\n",
       "      <td>8.1282e-09</td>\n",
       "      <td>3.3925e-09</td>\n",
       "      <td>2.4105e-09</td>\n",
       "      <td>2.0133e-09</td>\n",
       "      <td>1.4504e-09</td>\n",
       "      <td>5.7075e-10</td>\n",
       "    </tr>\n",
       "    <tr>\n",
       "      <th>dRrs443</th>\n",
       "      <td>3.3925e-09</td>\n",
       "      <td>4.6355e-09</td>\n",
       "      <td>1.9608e-09</td>\n",
       "      <td>1.6406e-09</td>\n",
       "      <td>1.1836e-09</td>\n",
       "      <td>4.7479e-10</td>\n",
       "    </tr>\n",
       "    <tr>\n",
       "      <th>dRrs490</th>\n",
       "      <td>2.4105e-09</td>\n",
       "      <td>1.9608e-09</td>\n",
       "      <td>2.2947e-09</td>\n",
       "      <td>1.2021e-09</td>\n",
       "      <td>8.9102e-10</td>\n",
       "      <td>3.7255e-10</td>\n",
       "    </tr>\n",
       "    <tr>\n",
       "      <th>dRrs510</th>\n",
       "      <td>2.0133e-09</td>\n",
       "      <td>1.6406e-09</td>\n",
       "      <td>1.2021e-09</td>\n",
       "      <td>1.6106e-09</td>\n",
       "      <td>8.6524e-10</td>\n",
       "      <td>3.4764e-10</td>\n",
       "    </tr>\n",
       "    <tr>\n",
       "      <th>dRrs555</th>\n",
       "      <td>1.4504e-09</td>\n",
       "      <td>1.1836e-09</td>\n",
       "      <td>8.9102e-10</td>\n",
       "      <td>8.6524e-10</td>\n",
       "      <td>9.3031e-10</td>\n",
       "      <td>2.7758e-10</td>\n",
       "    </tr>\n",
       "    <tr>\n",
       "      <th>dRrs670</th>\n",
       "      <td>5.7075e-10</td>\n",
       "      <td>4.7479e-10</td>\n",
       "      <td>3.7255e-10</td>\n",
       "      <td>3.4764e-10</td>\n",
       "      <td>2.7758e-10</td>\n",
       "      <td>1.6636e-10</td>\n",
       "    </tr>\n",
       "  </tbody>\n",
       "</table>\n",
       "</div>"
      ],
      "text/plain": [
       "           dRrs412    dRrs443    dRrs490    dRrs510    dRrs555    dRrs670\n",
       "dRrs412 8.1282e-09 3.3925e-09 2.4105e-09 2.0133e-09 1.4504e-09 5.7075e-10\n",
       "dRrs443 3.3925e-09 4.6355e-09 1.9608e-09 1.6406e-09 1.1836e-09 4.7479e-10\n",
       "dRrs490 2.4105e-09 1.9608e-09 2.2947e-09 1.2021e-09 8.9102e-10 3.7255e-10\n",
       "dRrs510 2.0133e-09 1.6406e-09 1.2021e-09 1.6106e-09 8.6524e-10 3.4764e-10\n",
       "dRrs555 1.4504e-09 1.1836e-09 8.9102e-10 8.6524e-10 9.3031e-10 2.7758e-10\n",
       "dRrs670 5.7075e-10 4.7479e-10 3.7255e-10 3.4764e-10 2.7758e-10 1.6636e-10"
      ]
     },
     "execution_count": 304,
     "metadata": {},
     "output_type": "execute_result"
    }
   ],
   "source": [
    "dfMed1_Cov2 = PropgtWthModifdVarCovMatx(dfMed1,level=0.01)\n",
    "dfMed1_Cov2"
   ]
  },
  {
   "cell_type": "code",
   "execution_count": 328,
   "metadata": {},
   "outputs": [
    {
     "data": {
      "text/html": [
       "<div>\n",
       "<table border=\"1\" class=\"dataframe\">\n",
       "  <thead>\n",
       "    <tr style=\"text-align: right;\">\n",
       "      <th></th>\n",
       "      <th>Unc</th>\n",
       "    </tr>\n",
       "  </thead>\n",
       "  <tbody>\n",
       "    <tr>\n",
       "      <th>rho_w_412</th>\n",
       "      <td>2.8324e-04</td>\n",
       "    </tr>\n",
       "    <tr>\n",
       "      <th>rho_w_443</th>\n",
       "      <td>2.1389e-04</td>\n",
       "    </tr>\n",
       "    <tr>\n",
       "      <th>rho_w_490</th>\n",
       "      <td>1.5049e-04</td>\n",
       "    </tr>\n",
       "    <tr>\n",
       "      <th>rho_w_510</th>\n",
       "      <td>1.2608e-04</td>\n",
       "    </tr>\n",
       "    <tr>\n",
       "      <th>rho_w_555</th>\n",
       "      <td>9.5822e-05</td>\n",
       "    </tr>\n",
       "    <tr>\n",
       "      <th>rho_w_670</th>\n",
       "      <td>4.0520e-05</td>\n",
       "    </tr>\n",
       "  </tbody>\n",
       "</table>\n",
       "</div>"
      ],
      "text/plain": [
       "                 Unc\n",
       "rho_w_412 2.8324e-04\n",
       "rho_w_443 2.1389e-04\n",
       "rho_w_490 1.5049e-04\n",
       "rho_w_510 1.2608e-04\n",
       "rho_w_555 9.5822e-05\n",
       "rho_w_670 4.0520e-05"
      ]
     },
     "execution_count": 328,
     "metadata": {},
     "output_type": "execute_result"
    }
   ],
   "source": [
    "dfMed1_Uncs2 = GetUncs(dfMed1_Cov2)\n",
    "dfMed1_Uncs2"
   ]
  },
  {
   "cell_type": "code",
   "execution_count": 329,
   "metadata": {},
   "outputs": [
    {
     "data": {
      "text/html": [
       "<div>\n",
       "<table border=\"1\" class=\"dataframe\">\n",
       "  <thead>\n",
       "    <tr style=\"text-align: right;\">\n",
       "      <th></th>\n",
       "      <th>Unc (%)</th>\n",
       "    </tr>\n",
       "  </thead>\n",
       "  <tbody>\n",
       "    <tr>\n",
       "      <th>rho_w_412</th>\n",
       "      <td>1.1467e+00</td>\n",
       "    </tr>\n",
       "    <tr>\n",
       "      <th>rho_w_443</th>\n",
       "      <td>1.0099e+00</td>\n",
       "    </tr>\n",
       "    <tr>\n",
       "      <th>rho_w_490</th>\n",
       "      <td>9.0214e-01</td>\n",
       "    </tr>\n",
       "    <tr>\n",
       "      <th>rho_w_510</th>\n",
       "      <td>1.2221e+00</td>\n",
       "    </tr>\n",
       "    <tr>\n",
       "      <th>rho_w_555</th>\n",
       "      <td>1.8155e+00</td>\n",
       "    </tr>\n",
       "    <tr>\n",
       "      <th>rho_w_670</th>\n",
       "      <td>5.7070e+00</td>\n",
       "    </tr>\n",
       "  </tbody>\n",
       "</table>\n",
       "</div>"
      ],
      "text/plain": [
       "             Unc (%)\n",
       "rho_w_412 1.1467e+00\n",
       "rho_w_443 1.0099e+00\n",
       "rho_w_490 9.0214e-01\n",
       "rho_w_510 1.2221e+00\n",
       "rho_w_555 1.8155e+00\n",
       "rho_w_670 5.7070e+00"
      ]
     },
     "execution_count": 329,
     "metadata": {},
     "output_type": "execute_result"
    }
   ],
   "source": [
    "Conv2Rel(dfMed1_Uncs2)"
   ]
  },
  {
   "cell_type": "code",
   "execution_count": null,
   "metadata": {
    "collapsed": true
   },
   "outputs": [],
   "source": []
  }
 ],
 "metadata": {
  "celltoolbar": "Slideshow",
  "kernelspec": {
   "display_name": "Python [conda root]",
   "language": "python",
   "name": "conda-root-py"
  },
  "language_info": {
   "codemirror_mode": {
    "name": "ipython",
    "version": 3
   },
   "file_extension": ".py",
   "mimetype": "text/x-python",
   "name": "python",
   "nbconvert_exporter": "python",
   "pygments_lexer": "ipython3",
   "version": "3.5.2"
  }
 },
 "nbformat": 4,
 "nbformat_minor": 2
}
