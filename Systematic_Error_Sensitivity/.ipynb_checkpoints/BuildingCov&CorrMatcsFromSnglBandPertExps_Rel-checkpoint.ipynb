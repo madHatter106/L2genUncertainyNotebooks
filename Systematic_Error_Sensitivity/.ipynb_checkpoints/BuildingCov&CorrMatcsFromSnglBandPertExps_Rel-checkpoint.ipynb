{
 "cells": [
  {
   "cell_type": "code",
   "execution_count": null,
   "metadata": {
    "collapsed": true
   },
   "outputs": [],
   "source": [
    "import numpy as np\n",
    "import matplotlib.pyplot as pl\n",
    "import pandas as pd\n",
    "import seaborn as sb\n",
    "import pickle\n",
    "import os\n",
    "import glob\n",
    "from tqdm import tqdm_notebook\n",
    "from netCDF4 import Dataset"
   ]
  },
  {
   "cell_type": "code",
   "execution_count": 4,
   "metadata": {},
   "outputs": [
    {
     "data": {
      "text/html": [
       "<style>.container {width:90% !important;}</style>"
      ],
      "text/plain": [
       "<IPython.core.display.HTML object>"
      ]
     },
     "metadata": {},
     "output_type": "display_data"
    }
   ],
   "source": [
    "from IPython.core.display import display, HTML\n",
    "display(HTML(\"<style>.container {width:90% !important;}</style>\"))"
   ]
  },
  {
   "cell_type": "code",
   "execution_count": 120,
   "metadata": {
    "collapsed": true
   },
   "outputs": [],
   "source": [
    "% matplotlib inline"
   ]
  },
  {
   "cell_type": "markdown",
   "metadata": {},
   "source": [
    "$$\\begin{bmatrix}\n",
    " \\frac{\\partial{Rrs412}}{\\partial{Lt412}} & \\frac{\\partial{Rrs443}}{\\partial{Lt412}} & \\dots  & \\frac{\\partial{Rrs670}}{\\partial{Lt412}} \\\\\n",
    "    \\frac{\\partial{Rrs412}}{\\partial{Lt443}} & \\frac{\\partial{Rrs443}}{\\partial{Lt443}} & \\dots  & \\frac{\\partial{Rrs670}}{\\partial{Lt443}} \\\\\n",
    "    \\vdots & \\vdots  & \\ddots & \\vdots \\\\\n",
    "    \\frac{\\partial{Rrs412}}{\\partial{Lt865}} & \\frac{\\partial{Rrs443}}{\\partial{Lt865}} & \\dots  & \\frac{\\partial{Rrs670}}{\\partial{Lt865}}\n",
    "\\end{bmatrix}^\\mathsf{T} \n",
    "\\begin{bmatrix}\n",
    "\\partial{Lt412}^2 & &  \\\\\n",
    "& \\ddots &  \\\\\n",
    "&  & & \\partial{Lt865}^2\n",
    "\\end{bmatrix}\n",
    "\\begin{bmatrix}\n",
    " \\frac{\\partial{Rrs412}}{\\partial{Lt412}} & \\frac{\\partial{Rrs443}}{\\partial{Lt412}} & \\dots  & \\frac{\\partial{Rrs670}}{\\partial{Lt412}} \\\\\n",
    "    \\frac{\\partial{Rrs412}}{\\partial{Lt443}} & \\frac{\\partial{Rrs443}}{\\partial{Lt443}} & \\dots  & \\frac{\\partial{Rrs670}}{\\partial{Lt443}} \\\\\n",
    "    \\vdots & \\vdots  & \\ddots & \\vdots \\\\\n",
    "    \\frac{\\partial{Rrs412}}{\\partial{Lt865}} & \\frac{\\partial{Rrs443}}{\\partial{Lt865}} & \\dots  & \\frac{\\partial{Rrs670}}{\\partial{Lt865}}\n",
    "\\end{bmatrix}$$"
   ]
  },
  {
   "cell_type": "code",
   "execution_count": 41,
   "metadata": {},
   "outputs": [],
   "source": [
    "dataDir='/accounts/ekarakoy/DEV-ALL/UNCERTAINTIES/UNCPY/UNC_notebooks/Systematic_Error_Sensitivity/Data/'\n",
    "filelist = glob.glob(os.path.join(dataDir,'*AbsDif*'))\n",
    "bands = [412, 443, 490, 510, 555, 670, 765, 865]\n",
    "bandNums = {k: v for k, v in zip(bands, range(8))}\n",
    "mainStr='L3mDataDictAbsDiff_band'\n",
    "sfx1 = '_0p1p.pkl'\n",
    "sfx2 = '_0p5p.pkl'\n",
    "#\"\"\"with open('./Data/L3mBaselineDict.pkl', 'rb') as f:\n",
    "#    bslDict = pickle.load(f)\"\"\""
   ]
  },
  {
   "cell_type": "code",
   "execution_count": 17,
   "metadata": {},
   "outputs": [],
   "source": [
    "# Create new Dataframes for both \n",
    "mediansDict = dict.fromkeys(['dRrs%d' % b for b in bands[:-2]])\n",
    "for b in mediansDict.keys():\n",
    "    mediansDict[b] = dict.fromkeys(['dLt%d' % c for c in bands])\n",
    "dfMed0p1 = pd.DataFrame(mediansDict)\n",
    "dfMed0p5 = dfMed0p1.copy()"
   ]
  },
  {
   "cell_type": "code",
   "execution_count": 20,
   "metadata": {},
   "outputs": [
    {
     "data": {
      "text/html": [
       "<div>\n",
       "<table border=\"1\" class=\"dataframe\">\n",
       "  <thead>\n",
       "    <tr style=\"text-align: right;\">\n",
       "      <th></th>\n",
       "      <th>dRrs412</th>\n",
       "      <th>dRrs443</th>\n",
       "      <th>dRrs490</th>\n",
       "      <th>dRrs510</th>\n",
       "      <th>dRrs555</th>\n",
       "      <th>dRrs670</th>\n",
       "    </tr>\n",
       "  </thead>\n",
       "  <tbody>\n",
       "    <tr>\n",
       "      <th>dLt412</th>\n",
       "      <td>None</td>\n",
       "      <td>None</td>\n",
       "      <td>None</td>\n",
       "      <td>None</td>\n",
       "      <td>None</td>\n",
       "      <td>None</td>\n",
       "    </tr>\n",
       "    <tr>\n",
       "      <th>dLt443</th>\n",
       "      <td>None</td>\n",
       "      <td>None</td>\n",
       "      <td>None</td>\n",
       "      <td>None</td>\n",
       "      <td>None</td>\n",
       "      <td>None</td>\n",
       "    </tr>\n",
       "    <tr>\n",
       "      <th>dLt490</th>\n",
       "      <td>None</td>\n",
       "      <td>None</td>\n",
       "      <td>None</td>\n",
       "      <td>None</td>\n",
       "      <td>None</td>\n",
       "      <td>None</td>\n",
       "    </tr>\n",
       "    <tr>\n",
       "      <th>dLt510</th>\n",
       "      <td>None</td>\n",
       "      <td>None</td>\n",
       "      <td>None</td>\n",
       "      <td>None</td>\n",
       "      <td>None</td>\n",
       "      <td>None</td>\n",
       "    </tr>\n",
       "    <tr>\n",
       "      <th>dLt555</th>\n",
       "      <td>None</td>\n",
       "      <td>None</td>\n",
       "      <td>None</td>\n",
       "      <td>None</td>\n",
       "      <td>None</td>\n",
       "      <td>None</td>\n",
       "    </tr>\n",
       "    <tr>\n",
       "      <th>dLt670</th>\n",
       "      <td>None</td>\n",
       "      <td>None</td>\n",
       "      <td>None</td>\n",
       "      <td>None</td>\n",
       "      <td>None</td>\n",
       "      <td>None</td>\n",
       "    </tr>\n",
       "    <tr>\n",
       "      <th>dLt765</th>\n",
       "      <td>None</td>\n",
       "      <td>None</td>\n",
       "      <td>None</td>\n",
       "      <td>None</td>\n",
       "      <td>None</td>\n",
       "      <td>None</td>\n",
       "    </tr>\n",
       "    <tr>\n",
       "      <th>dLt865</th>\n",
       "      <td>None</td>\n",
       "      <td>None</td>\n",
       "      <td>None</td>\n",
       "      <td>None</td>\n",
       "      <td>None</td>\n",
       "      <td>None</td>\n",
       "    </tr>\n",
       "  </tbody>\n",
       "</table>\n",
       "</div>"
      ],
      "text/plain": [
       "       dRrs412 dRrs443 dRrs490 dRrs510 dRrs555 dRrs670\n",
       "dLt412    None    None    None    None    None    None\n",
       "dLt443    None    None    None    None    None    None\n",
       "dLt490    None    None    None    None    None    None\n",
       "dLt510    None    None    None    None    None    None\n",
       "dLt555    None    None    None    None    None    None\n",
       "dLt670    None    None    None    None    None    None\n",
       "dLt765    None    None    None    None    None    None\n",
       "dLt865    None    None    None    None    None    None"
      ]
     },
     "execution_count": 20,
     "metadata": {},
     "output_type": "execute_result"
    }
   ],
   "source": []
  },
  {
   "cell_type": "code",
   "execution_count": 169,
   "metadata": {
    "collapsed": true
   },
   "outputs": [],
   "source": [
    "def GetData(df, level=0.001):\n",
    "    # load absolute diff data \n",
    "    if level ==0.001:\n",
    "        sfx = sfx1\n",
    "    elif level == 0.005:\n",
    "        sfx = sfx2\n",
    "    for wvl in tqdm_notebook(bands[:-2]):\n",
    "        # Rrs vvv band\n",
    "        for pwvl in tqdm_notebook(bands):\n",
    "            # Lt vvv + nir bands\n",
    "            with open('%s%s%d%s' %(dataDir, mainStr, bandNums[pwvl], sfx),'rb') as f:\n",
    "                data = pickle.load(f)['Rrs'][wvl]\n",
    "            df.loc['dLt%d' %pwvl, 'dRrs%d' %wvl] = np.ma.median(data)\n",
    "\n",
    "def Cov2Corr(dfCov):\n",
    "    diag =  pd.DataFrame(np.diagflat(np.power(np.diag(dfCov),-.5)), \n",
    "                                             index=dfCov.index,\n",
    "                                             columns=dfCov.columns)\n",
    "    return diag.dot(dfCov).dot(diag)\n",
    "\n",
    "def GetUncs(dfCov, rhow=True):\n",
    "    factor = 1.0\n",
    "    if rhow:\n",
    "        factor = np.pi\n",
    "    return pd.DataFrame(np.sqrt(np.diag(dfCov)) * factor, index=dfCov.index, columns=['Unc'])"
   ]
  },
  {
   "cell_type": "code",
   "execution_count": 67,
   "metadata": {},
   "outputs": [
    {
     "data": {
      "application/vnd.jupyter.widget-view+json": {
       "model_id": "a15c27eed1b14a4db32f89e0108ea63c"
      }
     },
     "metadata": {},
     "output_type": "display_data"
    },
    {
     "data": {
      "application/vnd.jupyter.widget-view+json": {
       "model_id": "450998e0c5ca40e4b1ecce2e5559d5f4"
      }
     },
     "metadata": {},
     "output_type": "display_data"
    },
    {
     "data": {
      "application/vnd.jupyter.widget-view+json": {
       "model_id": "d51025e4dc0e4d5d8cfe3c1d56e18b61"
      }
     },
     "metadata": {},
     "output_type": "display_data"
    },
    {
     "data": {
      "application/vnd.jupyter.widget-view+json": {
       "model_id": "1b30f1c98f084e9cadd06b7e13a9446b"
      }
     },
     "metadata": {},
     "output_type": "display_data"
    },
    {
     "data": {
      "application/vnd.jupyter.widget-view+json": {
       "model_id": "01fd8cbce31d42aab3ca4b15f53c04d6"
      }
     },
     "metadata": {},
     "output_type": "display_data"
    },
    {
     "data": {
      "application/vnd.jupyter.widget-view+json": {
       "model_id": "885ef13bd95e418ebf26cd0512818f22"
      }
     },
     "metadata": {},
     "output_type": "display_data"
    },
    {
     "data": {
      "application/vnd.jupyter.widget-view+json": {
       "model_id": "b684a5c4787b409182136f05c663e111"
      }
     },
     "metadata": {},
     "output_type": "display_data"
    },
    {
     "name": "stdout",
     "output_type": "stream",
     "text": [
      "\n"
     ]
    }
   ],
   "source": [
    "GetData(dfMed0p1, level=0.001)"
   ]
  },
  {
   "cell_type": "code",
   "execution_count": 68,
   "metadata": {},
   "outputs": [
    {
     "data": {
      "text/html": [
       "<div>\n",
       "<table border=\"1\" class=\"dataframe\">\n",
       "  <thead>\n",
       "    <tr style=\"text-align: right;\">\n",
       "      <th></th>\n",
       "      <th>dRrs412</th>\n",
       "      <th>dRrs443</th>\n",
       "      <th>dRrs490</th>\n",
       "      <th>dRrs510</th>\n",
       "      <th>dRrs555</th>\n",
       "      <th>dRrs670</th>\n",
       "    </tr>\n",
       "  </thead>\n",
       "  <tbody>\n",
       "    <tr>\n",
       "      <th>dLt412</th>\n",
       "      <td>8.60021e-05</td>\n",
       "      <td>0</td>\n",
       "      <td>0</td>\n",
       "      <td>0</td>\n",
       "      <td>0</td>\n",
       "      <td>0</td>\n",
       "    </tr>\n",
       "    <tr>\n",
       "      <th>dLt443</th>\n",
       "      <td>0</td>\n",
       "      <td>6.40005e-05</td>\n",
       "      <td>0</td>\n",
       "      <td>0</td>\n",
       "      <td>0</td>\n",
       "      <td>0</td>\n",
       "    </tr>\n",
       "    <tr>\n",
       "      <th>dLt490</th>\n",
       "      <td>1.99676e-06</td>\n",
       "      <td>2.00048e-06</td>\n",
       "      <td>4.19989e-05</td>\n",
       "      <td>-2.00048e-06</td>\n",
       "      <td>0</td>\n",
       "      <td>0</td>\n",
       "    </tr>\n",
       "    <tr>\n",
       "      <th>dLt510</th>\n",
       "      <td>0</td>\n",
       "      <td>0</td>\n",
       "      <td>0</td>\n",
       "      <td>3.20002e-05</td>\n",
       "      <td>0</td>\n",
       "      <td>0</td>\n",
       "    </tr>\n",
       "    <tr>\n",
       "      <th>dLt555</th>\n",
       "      <td>-2.00048e-06</td>\n",
       "      <td>-3.99724e-06</td>\n",
       "      <td>-2.00048e-06</td>\n",
       "      <td>2.00048e-06</td>\n",
       "      <td>2.39983e-05</td>\n",
       "      <td>0</td>\n",
       "    </tr>\n",
       "    <tr>\n",
       "      <th>dLt670</th>\n",
       "      <td>0</td>\n",
       "      <td>0</td>\n",
       "      <td>0</td>\n",
       "      <td>0</td>\n",
       "      <td>0</td>\n",
       "      <td>9.99868e-06</td>\n",
       "    </tr>\n",
       "    <tr>\n",
       "      <th>dLt765</th>\n",
       "      <td>-6.2e-05</td>\n",
       "      <td>-5.39981e-05</td>\n",
       "      <td>-4.39994e-05</td>\n",
       "      <td>-4.19989e-05</td>\n",
       "      <td>-3.3997e-05</td>\n",
       "      <td>-1.60001e-05</td>\n",
       "    </tr>\n",
       "    <tr>\n",
       "      <th>dLt865</th>\n",
       "      <td>4.00022e-05</td>\n",
       "      <td>3.40007e-05</td>\n",
       "      <td>2.79993e-05</td>\n",
       "      <td>2.59988e-05</td>\n",
       "      <td>1.99974e-05</td>\n",
       "      <td>6.00144e-06</td>\n",
       "    </tr>\n",
       "  </tbody>\n",
       "</table>\n",
       "</div>"
      ],
      "text/plain": [
       "            dRrs412      dRrs443      dRrs490      dRrs510      dRrs555  \\\n",
       "dLt412  8.60021e-05            0            0            0            0   \n",
       "dLt443            0  6.40005e-05            0            0            0   \n",
       "dLt490  1.99676e-06  2.00048e-06  4.19989e-05 -2.00048e-06            0   \n",
       "dLt510            0            0            0  3.20002e-05            0   \n",
       "dLt555 -2.00048e-06 -3.99724e-06 -2.00048e-06  2.00048e-06  2.39983e-05   \n",
       "dLt670            0            0            0            0            0   \n",
       "dLt765     -6.2e-05 -5.39981e-05 -4.39994e-05 -4.19989e-05  -3.3997e-05   \n",
       "dLt865  4.00022e-05  3.40007e-05  2.79993e-05  2.59988e-05  1.99974e-05   \n",
       "\n",
       "            dRrs670  \n",
       "dLt412            0  \n",
       "dLt443            0  \n",
       "dLt490            0  \n",
       "dLt510            0  \n",
       "dLt555            0  \n",
       "dLt670  9.99868e-06  \n",
       "dLt765 -1.60001e-05  \n",
       "dLt865  6.00144e-06  "
      ]
     },
     "execution_count": 68,
     "metadata": {},
     "output_type": "execute_result"
    }
   ],
   "source": [
    "dfMed0p1"
   ]
  },
  {
   "cell_type": "code",
   "execution_count": 78,
   "metadata": {},
   "outputs": [
    {
     "data": {
      "text/html": [
       "<div>\n",
       "<table border=\"1\" class=\"dataframe\">\n",
       "  <thead>\n",
       "    <tr style=\"text-align: right;\">\n",
       "      <th></th>\n",
       "      <th>dRrs412</th>\n",
       "      <th>dRrs443</th>\n",
       "      <th>dRrs490</th>\n",
       "      <th>dRrs510</th>\n",
       "      <th>dRrs555</th>\n",
       "      <th>dRrs670</th>\n",
       "    </tr>\n",
       "  </thead>\n",
       "  <tbody>\n",
       "    <tr>\n",
       "      <th>dRrs412</th>\n",
       "      <td>1.28485e-08</td>\n",
       "      <td>4.71998e-09</td>\n",
       "      <td>3.93586e-09</td>\n",
       "      <td>3.63595e-09</td>\n",
       "      <td>2.85974e-09</td>\n",
       "      <td>1.23208e-09</td>\n",
       "    </tr>\n",
       "    <tr>\n",
       "      <th>dRrs443</th>\n",
       "      <td>4.71998e-09</td>\n",
       "      <td>8.18788e-09</td>\n",
       "      <td>3.41989e-09</td>\n",
       "      <td>3.13984e-09</td>\n",
       "      <td>2.41977e-09</td>\n",
       "      <td>1.06803e-09</td>\n",
       "    </tr>\n",
       "    <tr>\n",
       "      <th>dRrs490</th>\n",
       "      <td>3.93586e-09</td>\n",
       "      <td>3.41989e-09</td>\n",
       "      <td>4.48782e-09</td>\n",
       "      <td>2.48786e-09</td>\n",
       "      <td>2.00775e-09</td>\n",
       "      <td>8.72032e-10</td>\n",
       "    </tr>\n",
       "    <tr>\n",
       "      <th>dRrs510</th>\n",
       "      <td>3.63595e-09</td>\n",
       "      <td>3.13984e-09</td>\n",
       "      <td>2.48786e-09</td>\n",
       "      <td>3.47187e-09</td>\n",
       "      <td>1.99575e-09</td>\n",
       "      <td>8.28018e-10</td>\n",
       "    </tr>\n",
       "    <tr>\n",
       "      <th>dRrs555</th>\n",
       "      <td>2.85974e-09</td>\n",
       "      <td>2.41977e-09</td>\n",
       "      <td>2.00775e-09</td>\n",
       "      <td>1.99575e-09</td>\n",
       "      <td>2.13161e-09</td>\n",
       "      <td>6.63969e-10</td>\n",
       "    </tr>\n",
       "    <tr>\n",
       "      <th>dRrs670</th>\n",
       "      <td>1.23208e-09</td>\n",
       "      <td>1.06803e-09</td>\n",
       "      <td>8.72032e-10</td>\n",
       "      <td>8.28018e-10</td>\n",
       "      <td>6.63969e-10</td>\n",
       "      <td>3.91995e-10</td>\n",
       "    </tr>\n",
       "  </tbody>\n",
       "</table>\n",
       "</div>"
      ],
      "text/plain": [
       "             dRrs412      dRrs443      dRrs490      dRrs510      dRrs555  \\\n",
       "dRrs412  1.28485e-08  4.71998e-09  3.93586e-09  3.63595e-09  2.85974e-09   \n",
       "dRrs443  4.71998e-09  8.18788e-09  3.41989e-09  3.13984e-09  2.41977e-09   \n",
       "dRrs490  3.93586e-09  3.41989e-09  4.48782e-09  2.48786e-09  2.00775e-09   \n",
       "dRrs510  3.63595e-09  3.13984e-09  2.48786e-09  3.47187e-09  1.99575e-09   \n",
       "dRrs555  2.85974e-09  2.41977e-09  2.00775e-09  1.99575e-09  2.13161e-09   \n",
       "dRrs670  1.23208e-09  1.06803e-09  8.72032e-10  8.28018e-10  6.63969e-10   \n",
       "\n",
       "             dRrs670  \n",
       "dRrs412  1.23208e-09  \n",
       "dRrs443  1.06803e-09  \n",
       "dRrs490  8.72032e-10  \n",
       "dRrs510  8.28018e-10  \n",
       "dRrs555  6.63969e-10  \n",
       "dRrs670  3.91995e-10  "
      ]
     },
     "execution_count": 78,
     "metadata": {},
     "output_type": "execute_result"
    }
   ],
   "source": [
    "dfMed0p1_Cov = dfMed0p1.transpose().dot(dfMed0p1)\n",
    "dfMed0p1_Cov"
   ]
  },
  {
   "cell_type": "code",
   "execution_count": 165,
   "metadata": {
    "collapsed": true
   },
   "outputs": [],
   "source": [
    "pd.set_option('display.float_format', '{:.4e}'.format)"
   ]
  },
  {
   "cell_type": "code",
   "execution_count": 170,
   "metadata": {},
   "outputs": [
    {
     "data": {
      "text/html": [
       "<div>\n",
       "<table border=\"1\" class=\"dataframe\">\n",
       "  <thead>\n",
       "    <tr style=\"text-align: right;\">\n",
       "      <th></th>\n",
       "      <th>Unc</th>\n",
       "    </tr>\n",
       "  </thead>\n",
       "  <tbody>\n",
       "    <tr>\n",
       "      <th>dRrs412</th>\n",
       "      <td>3.5610e-04</td>\n",
       "    </tr>\n",
       "    <tr>\n",
       "      <th>dRrs443</th>\n",
       "      <td>2.8427e-04</td>\n",
       "    </tr>\n",
       "    <tr>\n",
       "      <th>dRrs490</th>\n",
       "      <td>2.1046e-04</td>\n",
       "    </tr>\n",
       "    <tr>\n",
       "      <th>dRrs510</th>\n",
       "      <td>1.8511e-04</td>\n",
       "    </tr>\n",
       "    <tr>\n",
       "      <th>dRrs555</th>\n",
       "      <td>1.4505e-04</td>\n",
       "    </tr>\n",
       "    <tr>\n",
       "      <th>dRrs670</th>\n",
       "      <td>6.2200e-05</td>\n",
       "    </tr>\n",
       "  </tbody>\n",
       "</table>\n",
       "</div>"
      ],
      "text/plain": [
       "               Unc\n",
       "dRrs412 3.5610e-04\n",
       "dRrs443 2.8427e-04\n",
       "dRrs490 2.1046e-04\n",
       "dRrs510 1.8511e-04\n",
       "dRrs555 1.4505e-04\n",
       "dRrs670 6.2200e-05"
      ]
     },
     "execution_count": 170,
     "metadata": {},
     "output_type": "execute_result"
    }
   ],
   "source": [
    "GetUncs(dfMed0p1_Cov)"
   ]
  },
  {
   "cell_type": "code",
   "execution_count": 171,
   "metadata": {},
   "outputs": [
    {
     "data": {
      "text/html": [
       "<div>\n",
       "<table border=\"1\" class=\"dataframe\">\n",
       "  <thead>\n",
       "    <tr style=\"text-align: right;\">\n",
       "      <th></th>\n",
       "      <th>Unc</th>\n",
       "    </tr>\n",
       "  </thead>\n",
       "  <tbody>\n",
       "    <tr>\n",
       "      <th>dRrs412</th>\n",
       "      <td>1.7386e-03</td>\n",
       "    </tr>\n",
       "    <tr>\n",
       "      <th>dRrs443</th>\n",
       "      <td>1.3608e-03</td>\n",
       "    </tr>\n",
       "    <tr>\n",
       "      <th>dRrs490</th>\n",
       "      <td>1.0059e-03</td>\n",
       "    </tr>\n",
       "    <tr>\n",
       "      <th>dRrs510</th>\n",
       "      <td>8.6867e-04</td>\n",
       "    </tr>\n",
       "    <tr>\n",
       "      <th>dRrs555</th>\n",
       "      <td>6.7037e-04</td>\n",
       "    </tr>\n",
       "    <tr>\n",
       "      <th>dRrs670</th>\n",
       "      <td>2.9140e-04</td>\n",
       "    </tr>\n",
       "  </tbody>\n",
       "</table>\n",
       "</div>"
      ],
      "text/plain": [
       "               Unc\n",
       "dRrs412 1.7386e-03\n",
       "dRrs443 1.3608e-03\n",
       "dRrs490 1.0059e-03\n",
       "dRrs510 8.6867e-04\n",
       "dRrs555 6.7037e-04\n",
       "dRrs670 2.9140e-04"
      ]
     },
     "execution_count": 171,
     "metadata": {},
     "output_type": "execute_result"
    }
   ],
   "source": [
    "GetUncs(dfMed0p5_Cov)"
   ]
  },
  {
   "cell_type": "code",
   "execution_count": 72,
   "metadata": {},
   "outputs": [
    {
     "data": {
      "application/vnd.jupyter.widget-view+json": {
       "model_id": "373f7e44ee144f42a4eda3143883a739"
      }
     },
     "metadata": {},
     "output_type": "display_data"
    },
    {
     "data": {
      "application/vnd.jupyter.widget-view+json": {
       "model_id": "8584197e0d644cf7bcb7722d1b05d838"
      }
     },
     "metadata": {},
     "output_type": "display_data"
    },
    {
     "data": {
      "application/vnd.jupyter.widget-view+json": {
       "model_id": "645dc92d3fdc4827a57781517454b922"
      }
     },
     "metadata": {},
     "output_type": "display_data"
    },
    {
     "data": {
      "application/vnd.jupyter.widget-view+json": {
       "model_id": "a94d9ea90e374423b05b2561c4c0d202"
      }
     },
     "metadata": {},
     "output_type": "display_data"
    },
    {
     "data": {
      "application/vnd.jupyter.widget-view+json": {
       "model_id": "e5d3cd517fe54c34a0f90bda11ee572a"
      }
     },
     "metadata": {},
     "output_type": "display_data"
    },
    {
     "data": {
      "application/vnd.jupyter.widget-view+json": {
       "model_id": "88466d60218f4db085b742c015ca9bce"
      }
     },
     "metadata": {},
     "output_type": "display_data"
    },
    {
     "data": {
      "application/vnd.jupyter.widget-view+json": {
       "model_id": "79cd59986de84e2b9e024990dfef17de"
      }
     },
     "metadata": {},
     "output_type": "display_data"
    },
    {
     "name": "stdout",
     "output_type": "stream",
     "text": [
      "\n"
     ]
    }
   ],
   "source": [
    "GetData(dfMed0p5, level=0.005)"
   ]
  },
  {
   "cell_type": "code",
   "execution_count": 155,
   "metadata": {},
   "outputs": [
    {
     "data": {
      "text/html": [
       "<div>\n",
       "<table border=\"1\" class=\"dataframe\">\n",
       "  <thead>\n",
       "    <tr style=\"text-align: right;\">\n",
       "      <th></th>\n",
       "      <th>dRrs412</th>\n",
       "      <th>dRrs443</th>\n",
       "      <th>dRrs490</th>\n",
       "      <th>dRrs510</th>\n",
       "      <th>dRrs555</th>\n",
       "      <th>dRrs670</th>\n",
       "    </tr>\n",
       "  </thead>\n",
       "  <tbody>\n",
       "    <tr>\n",
       "      <th>dLt412</th>\n",
       "      <td>0.000432</td>\n",
       "      <td>0</td>\n",
       "      <td>0</td>\n",
       "      <td>0</td>\n",
       "      <td>0</td>\n",
       "      <td>0</td>\n",
       "    </tr>\n",
       "    <tr>\n",
       "      <th>dLt443</th>\n",
       "      <td>3.99724e-06</td>\n",
       "      <td>0.000316001</td>\n",
       "      <td>4.00096e-06</td>\n",
       "      <td>3.99724e-06</td>\n",
       "      <td>2.00048e-06</td>\n",
       "      <td>0</td>\n",
       "    </tr>\n",
       "    <tr>\n",
       "      <th>dLt490</th>\n",
       "      <td>5.99772e-06</td>\n",
       "      <td>6.00144e-06</td>\n",
       "      <td>0.000208002</td>\n",
       "      <td>-8.00192e-06</td>\n",
       "      <td>-4.00096e-06</td>\n",
       "      <td>-2.00048e-06</td>\n",
       "    </tr>\n",
       "    <tr>\n",
       "      <th>dLt510</th>\n",
       "      <td>0</td>\n",
       "      <td>0</td>\n",
       "      <td>0</td>\n",
       "      <td>0.000159997</td>\n",
       "      <td>0</td>\n",
       "      <td>0</td>\n",
       "    </tr>\n",
       "    <tr>\n",
       "      <th>dLt555</th>\n",
       "      <td>-1.19992e-05</td>\n",
       "      <td>-1.60001e-05</td>\n",
       "      <td>-1.00024e-05</td>\n",
       "      <td>1.19992e-05</td>\n",
       "      <td>0.000119999</td>\n",
       "      <td>3.99724e-06</td>\n",
       "    </tr>\n",
       "    <tr>\n",
       "      <th>dLt670</th>\n",
       "      <td>0</td>\n",
       "      <td>0</td>\n",
       "      <td>0</td>\n",
       "      <td>0</td>\n",
       "      <td>0</td>\n",
       "      <td>5.00008e-05</td>\n",
       "    </tr>\n",
       "    <tr>\n",
       "      <th>dLt765</th>\n",
       "      <td>-0.000290003</td>\n",
       "      <td>-0.000250001</td>\n",
       "      <td>-0.000208002</td>\n",
       "      <td>-0.000194002</td>\n",
       "      <td>-0.000154004</td>\n",
       "      <td>-7.19987e-05</td>\n",
       "    </tr>\n",
       "    <tr>\n",
       "      <th>dLt865</th>\n",
       "      <td>0.000187997</td>\n",
       "      <td>0.000158001</td>\n",
       "      <td>0.000126</td>\n",
       "      <td>0.000114001</td>\n",
       "      <td>8.60021e-05</td>\n",
       "      <td>2.99998e-05</td>\n",
       "    </tr>\n",
       "  </tbody>\n",
       "</table>\n",
       "</div>"
      ],
      "text/plain": [
       "            dRrs412      dRrs443      dRrs490      dRrs510      dRrs555  \\\n",
       "dLt412     0.000432            0            0            0            0   \n",
       "dLt443  3.99724e-06  0.000316001  4.00096e-06  3.99724e-06  2.00048e-06   \n",
       "dLt490  5.99772e-06  6.00144e-06  0.000208002 -8.00192e-06 -4.00096e-06   \n",
       "dLt510            0            0            0  0.000159997            0   \n",
       "dLt555 -1.19992e-05 -1.60001e-05 -1.00024e-05  1.19992e-05  0.000119999   \n",
       "dLt670            0            0            0            0            0   \n",
       "dLt765 -0.000290003 -0.000250001 -0.000208002 -0.000194002 -0.000154004   \n",
       "dLt865  0.000187997  0.000158001     0.000126  0.000114001  8.60021e-05   \n",
       "\n",
       "            dRrs670  \n",
       "dLt412            0  \n",
       "dLt443            0  \n",
       "dLt490 -2.00048e-06  \n",
       "dLt510            0  \n",
       "dLt555  3.99724e-06  \n",
       "dLt670  5.00008e-05  \n",
       "dLt765 -7.19987e-05  \n",
       "dLt865  2.99998e-05  "
      ]
     },
     "execution_count": 155,
     "metadata": {},
     "output_type": "execute_result"
    }
   ],
   "source": [
    "dfMed0p5"
   ]
  },
  {
   "cell_type": "code",
   "execution_count": 154,
   "metadata": {},
   "outputs": [
    {
     "data": {
      "text/html": [
       "<div>\n",
       "<table border=\"1\" class=\"dataframe\">\n",
       "  <thead>\n",
       "    <tr style=\"text-align: right;\">\n",
       "      <th></th>\n",
       "      <th>dRrs412</th>\n",
       "      <th>dRrs443</th>\n",
       "      <th>dRrs490</th>\n",
       "      <th>dRrs510</th>\n",
       "      <th>dRrs555</th>\n",
       "      <th>dRrs670</th>\n",
       "    </tr>\n",
       "  </thead>\n",
       "  <tbody>\n",
       "    <tr>\n",
       "      <th>dRrs412</th>\n",
       "      <td>3.06264e-07</td>\n",
       "      <td>1.03696e-07</td>\n",
       "      <td>8.53922e-08</td>\n",
       "      <td>7.7517e-08</td>\n",
       "      <td>5.93736e-08</td>\n",
       "      <td>2.64597e-08</td>\n",
       "    </tr>\n",
       "    <tr>\n",
       "      <th>dRrs443</th>\n",
       "      <td>1.03696e-07</td>\n",
       "      <td>1.87613e-07</td>\n",
       "      <td>7.45813e-08</td>\n",
       "      <td>6.7536e-08</td>\n",
       "      <td>5.07775e-08</td>\n",
       "      <td>2.26637e-08</td>\n",
       "    </tr>\n",
       "    <tr>\n",
       "      <th>dRrs490</th>\n",
       "      <td>8.53922e-08</td>\n",
       "      <td>7.45813e-08</td>\n",
       "      <td>1.02521e-07</td>\n",
       "      <td>5.29485e-08</td>\n",
       "      <td>4.08448e-08</td>\n",
       "      <td>1.82997e-08</td>\n",
       "    </tr>\n",
       "    <tr>\n",
       "      <th>dRrs510</th>\n",
       "      <td>7.7517e-08</td>\n",
       "      <td>6.7536e-08</td>\n",
       "      <td>5.29485e-08</td>\n",
       "      <td>7.64562e-08</td>\n",
       "      <td>4.11612e-08</td>\n",
       "      <td>1.74519e-08</td>\n",
       "    </tr>\n",
       "    <tr>\n",
       "      <th>dRrs555</th>\n",
       "      <td>5.93736e-08</td>\n",
       "      <td>5.07775e-08</td>\n",
       "      <td>4.08448e-08</td>\n",
       "      <td>4.11612e-08</td>\n",
       "      <td>4.55332e-08</td>\n",
       "      <td>1.41558e-08</td>\n",
       "    </tr>\n",
       "    <tr>\n",
       "      <th>dRrs670</th>\n",
       "      <td>2.64597e-08</td>\n",
       "      <td>2.26637e-08</td>\n",
       "      <td>1.82997e-08</td>\n",
       "      <td>1.74519e-08</td>\n",
       "      <td>1.41558e-08</td>\n",
       "      <td>8.60386e-09</td>\n",
       "    </tr>\n",
       "  </tbody>\n",
       "</table>\n",
       "</div>"
      ],
      "text/plain": [
       "             dRrs412      dRrs443      dRrs490      dRrs510      dRrs555  \\\n",
       "dRrs412  3.06264e-07  1.03696e-07  8.53922e-08   7.7517e-08  5.93736e-08   \n",
       "dRrs443  1.03696e-07  1.87613e-07  7.45813e-08   6.7536e-08  5.07775e-08   \n",
       "dRrs490  8.53922e-08  7.45813e-08  1.02521e-07  5.29485e-08  4.08448e-08   \n",
       "dRrs510   7.7517e-08   6.7536e-08  5.29485e-08  7.64562e-08  4.11612e-08   \n",
       "dRrs555  5.93736e-08  5.07775e-08  4.08448e-08  4.11612e-08  4.55332e-08   \n",
       "dRrs670  2.64597e-08  2.26637e-08  1.82997e-08  1.74519e-08  1.41558e-08   \n",
       "\n",
       "             dRrs670  \n",
       "dRrs412  2.64597e-08  \n",
       "dRrs443  2.26637e-08  \n",
       "dRrs490  1.82997e-08  \n",
       "dRrs510  1.74519e-08  \n",
       "dRrs555  1.41558e-08  \n",
       "dRrs670  8.60386e-09  "
      ]
     },
     "execution_count": 154,
     "metadata": {},
     "output_type": "execute_result"
    }
   ],
   "source": [
    "dfMed0p5_Cov = dfMed0p5.transpose().dot(dfMed0p5)\n",
    "dfMed0p5_Cov"
   ]
  },
  {
   "cell_type": "code",
   "execution_count": 156,
   "metadata": {},
   "outputs": [
    {
     "data": {
      "text/html": [
       "<div>\n",
       "<table border=\"1\" class=\"dataframe\">\n",
       "  <thead>\n",
       "    <tr style=\"text-align: right;\">\n",
       "      <th></th>\n",
       "      <th>dRrs412</th>\n",
       "      <th>dRrs443</th>\n",
       "      <th>dRrs490</th>\n",
       "      <th>dRrs510</th>\n",
       "      <th>dRrs555</th>\n",
       "      <th>dRrs670</th>\n",
       "    </tr>\n",
       "  </thead>\n",
       "  <tbody>\n",
       "    <tr>\n",
       "      <th>dRrs412</th>\n",
       "      <td>1.000000</td>\n",
       "      <td>0.460180</td>\n",
       "      <td>0.518317</td>\n",
       "      <td>0.544389</td>\n",
       "      <td>0.546445</td>\n",
       "      <td>0.548999</td>\n",
       "    </tr>\n",
       "    <tr>\n",
       "      <th>dRrs443</th>\n",
       "      <td>0.460180</td>\n",
       "      <td>1.000000</td>\n",
       "      <td>0.564169</td>\n",
       "      <td>0.588898</td>\n",
       "      <td>0.579208</td>\n",
       "      <td>0.596152</td>\n",
       "    </tr>\n",
       "    <tr>\n",
       "      <th>dRrs490</th>\n",
       "      <td>0.518317</td>\n",
       "      <td>0.564169</td>\n",
       "      <td>1.000000</td>\n",
       "      <td>0.630269</td>\n",
       "      <td>0.649140</td>\n",
       "      <td>0.657468</td>\n",
       "    </tr>\n",
       "    <tr>\n",
       "      <th>dRrs510</th>\n",
       "      <td>0.544389</td>\n",
       "      <td>0.588898</td>\n",
       "      <td>0.630269</td>\n",
       "      <td>1.000000</td>\n",
       "      <td>0.733620</td>\n",
       "      <td>0.709771</td>\n",
       "    </tr>\n",
       "    <tr>\n",
       "      <th>dRrs555</th>\n",
       "      <td>0.546445</td>\n",
       "      <td>0.579208</td>\n",
       "      <td>0.649140</td>\n",
       "      <td>0.733620</td>\n",
       "      <td>1.000000</td>\n",
       "      <td>0.726363</td>\n",
       "    </tr>\n",
       "    <tr>\n",
       "      <th>dRrs670</th>\n",
       "      <td>0.548999</td>\n",
       "      <td>0.596152</td>\n",
       "      <td>0.657468</td>\n",
       "      <td>0.709771</td>\n",
       "      <td>0.726363</td>\n",
       "      <td>1.000000</td>\n",
       "    </tr>\n",
       "  </tbody>\n",
       "</table>\n",
       "</div>"
      ],
      "text/plain": [
       "          dRrs412   dRrs443   dRrs490   dRrs510   dRrs555   dRrs670\n",
       "dRrs412  1.000000  0.460180  0.518317  0.544389  0.546445  0.548999\n",
       "dRrs443  0.460180  1.000000  0.564169  0.588898  0.579208  0.596152\n",
       "dRrs490  0.518317  0.564169  1.000000  0.630269  0.649140  0.657468\n",
       "dRrs510  0.544389  0.588898  0.630269  1.000000  0.733620  0.709771\n",
       "dRrs555  0.546445  0.579208  0.649140  0.733620  1.000000  0.726363\n",
       "dRrs670  0.548999  0.596152  0.657468  0.709771  0.726363  1.000000"
      ]
     },
     "execution_count": 156,
     "metadata": {},
     "output_type": "execute_result"
    }
   ],
   "source": [
    "dfMed0p1_Corr = Cov2Corr(dfMed0p1_Cov)\n",
    "dfMed0p1_Corr"
   ]
  },
  {
   "cell_type": "code",
   "execution_count": 149,
   "metadata": {},
   "outputs": [
    {
     "data": {
      "text/html": [
       "<div>\n",
       "<table border=\"1\" class=\"dataframe\">\n",
       "  <thead>\n",
       "    <tr style=\"text-align: right;\">\n",
       "      <th></th>\n",
       "      <th>dRrs412</th>\n",
       "      <th>dRrs443</th>\n",
       "      <th>dRrs490</th>\n",
       "      <th>dRrs510</th>\n",
       "      <th>dRrs555</th>\n",
       "      <th>dRrs670</th>\n",
       "    </tr>\n",
       "  </thead>\n",
       "  <tbody>\n",
       "    <tr>\n",
       "      <th>dRrs412</th>\n",
       "      <td>1</td>\n",
       "      <td>0.432594</td>\n",
       "      <td>0.481907</td>\n",
       "      <td>0.506573</td>\n",
       "      <td>0.502784</td>\n",
       "      <td>0.515455</td>\n",
       "    </tr>\n",
       "    <tr>\n",
       "      <th>dRrs443</th>\n",
       "      <td>0.432594</td>\n",
       "      <td>1</td>\n",
       "      <td>0.537763</td>\n",
       "      <td>0.563893</td>\n",
       "      <td>0.549383</td>\n",
       "      <td>0.564096</td>\n",
       "    </tr>\n",
       "    <tr>\n",
       "      <th>dRrs490</th>\n",
       "      <td>0.481907</td>\n",
       "      <td>0.537763</td>\n",
       "      <td>1</td>\n",
       "      <td>0.598053</td>\n",
       "      <td>0.597813</td>\n",
       "      <td>0.616156</td>\n",
       "    </tr>\n",
       "    <tr>\n",
       "      <th>dRrs510</th>\n",
       "      <td>0.506573</td>\n",
       "      <td>0.563893</td>\n",
       "      <td>0.598053</td>\n",
       "      <td>1</td>\n",
       "      <td>0.697618</td>\n",
       "      <td>0.680438</td>\n",
       "    </tr>\n",
       "    <tr>\n",
       "      <th>dRrs555</th>\n",
       "      <td>0.502784</td>\n",
       "      <td>0.549383</td>\n",
       "      <td>0.597813</td>\n",
       "      <td>0.697618</td>\n",
       "      <td>1</td>\n",
       "      <td>0.715191</td>\n",
       "    </tr>\n",
       "    <tr>\n",
       "      <th>dRrs670</th>\n",
       "      <td>0.515455</td>\n",
       "      <td>0.564096</td>\n",
       "      <td>0.616156</td>\n",
       "      <td>0.680438</td>\n",
       "      <td>0.715191</td>\n",
       "      <td>1</td>\n",
       "    </tr>\n",
       "  </tbody>\n",
       "</table>\n",
       "</div>"
      ],
      "text/plain": [
       "          dRrs412   dRrs443   dRrs490   dRrs510   dRrs555   dRrs670\n",
       "dRrs412         1  0.432594  0.481907  0.506573  0.502784  0.515455\n",
       "dRrs443  0.432594         1  0.537763  0.563893  0.549383  0.564096\n",
       "dRrs490  0.481907  0.537763         1  0.598053  0.597813  0.616156\n",
       "dRrs510  0.506573  0.563893  0.598053         1  0.697618  0.680438\n",
       "dRrs555  0.502784  0.549383  0.597813  0.697618         1  0.715191\n",
       "dRrs670  0.515455  0.564096  0.616156  0.680438  0.715191         1"
      ]
     },
     "execution_count": 149,
     "metadata": {},
     "output_type": "execute_result"
    }
   ],
   "source": [
    "dfMed0p5_Corr = Cov2Corr(dfMed0p5_Cov)\n",
    "dfMed0p5_Corr"
   ]
  },
  {
   "cell_type": "code",
   "execution_count": 157,
   "metadata": {
    "collapsed": true
   },
   "outputs": [],
   "source": [
    "dfMed0p1 = dfMed0p1[dfMed0p1.columns].astype(float)\n",
    "dfMed0p5 = dfMed0p5[dfMed0p5.columns].astype(float)\n",
    "dfMed0p1_Cov = dfMed0p1_Cov[dfMed0p1_Cov.columns].astype(float)\n",
    "dfMed0p5_Cov = dfMed0p5_Cov[dfMed0p5_Cov.columns].astype(float)\n",
    "dfMed0p1_Corr = dfMed0p1_Corr[dfMed0p1_Corr.columns].astype(float)\n",
    "dfMed0p5_Corr = dfMed0p5_Corr[dfMed0p5_Corr.columns].astype(float)\n",
    "dfMed0p1.to_pickle('./pklJar/dfMed0p1.pkl')\n",
    "dfMed0p5.to_pickle('./pklJar/dfMed0p5.pkl')\n",
    "dfMed0p1_Cov.to_pickle('./pklJar/dfMed0p1_Cov.pkl')\n",
    "dfMed0p5_Cov.to_pickle('./pklJar/dfMed0p5_Cov.pkl')\n",
    "dfMed0p1_Corr.to_pickle('./pklJar/dfMed0p1_Corr.pkl')\n",
    "dfMed0p5_Corr.to_pickle('./pklJar/dfMed0p5_Corr.pkl')"
   ]
  },
  {
   "cell_type": "code",
   "execution_count": 151,
   "metadata": {},
   "outputs": [
    {
     "data": {
      "image/png": "[encoded data removed]",
      "text/plain": [
       "<matplotlib.figure.Figure at 0x7f971561d3c8>"
      ]
     },
     "metadata": {},
     "output_type": "display_data"
    }
   ],
   "source": [
    "f,ax = pl.subplots(ncols=2,figsize=(17,8))\n",
    "f.suptitle(\"Covariance Matrices of Medians\", fontsize=24)\n",
    "sb.set(font_scale=1)\n",
    "sb.heatmap(dfMed0p1_Cov, square=True, ax=ax[0])\n",
    "ax[0].set_title(\"perturbation = +0.1%\", fontsize=20)\n",
    "sb.set(font_scale=1)\n",
    "sb.heatmap(dfMed0p5_Cov, square=True, ax=ax[1])\n",
    "ax[1].set_title(\"perturbation = +0.5%\", fontsize=20);"
   ]
  },
  {
   "cell_type": "code",
   "execution_count": 152,
   "metadata": {},
   "outputs": [
    {
     "data": {
      "image/png": "[encoded data removed]",
      "text/plain": [
       "<matplotlib.figure.Figure at 0x7f97157ab0b8>"
      ]
     },
     "metadata": {},
     "output_type": "display_data"
    }
   ],
   "source": [
    "f,ax = pl.subplots(ncols=2,figsize=(17,8))\n",
    "f.suptitle(\"Correlation Matrices of Medians\", fontsize=24)\n",
    "sb.set(font_scale=1)\n",
    "sb.heatmap(dfMed0p1_Corr, square=True, ax=ax[0])\n",
    "ax[0].set_title(\"perturbation = +0.1%\", fontsize=20)\n",
    "sb.set(font_scale=1)\n",
    "sb.heatmap(dfMed0p5_Corr, square=True, ax=ax[1])\n",
    "ax[1].set_title(\"perturbation = +0.5%\", fontsize=20);"
   ]
  },
  {
   "cell_type": "code",
   "execution_count": 158,
   "metadata": {
    "collapsed": true
   },
   "outputs": [],
   "source": [
    "# Re-Loading DataFrames\n",
    "dfMed0p1 = pd.read_pickle('./pklJar/dfMed0p1.pkl')\n",
    "dfMed0p5 = pd.read_pickle('./pklJar/dfMed0p5.pkl')\n",
    "dfMed0p1_Cov = pd.read_pickle('./pklJar/dfMed0p1_Cov.pkl')\n",
    "dfMed0p5_Cov = pd.read_pickle('./pklJar/dfMed0p5_Cov.pkl')\n",
    "dfMed0p1_Corr = pd.read_pickle('./pklJar/dfMed0p1_Corr.pkl')\n",
    "dfMed0p5_Corr = pd.read_pickle('./pklJar/dfMed0p5_Corr.pkl')"
   ]
  },
  {
   "cell_type": "code",
   "execution_count": null,
   "metadata": {
    "collapsed": true
   },
   "outputs": [],
   "source": []
  }
 ],
 "metadata": {
  "kernelspec": {
   "display_name": "Python [conda root]",
   "language": "python",
   "name": "conda-root-py"
  },
  "language_info": {
   "codemirror_mode": {
    "name": "ipython",
    "version": 3
   },
   "file_extension": ".py",
   "mimetype": "text/x-python",
   "name": "python",
   "nbconvert_exporter": "python",
   "pygments_lexer": "ipython3",
   "version": "3.5.2"
  }
 },
 "nbformat": 4,
 "nbformat_minor": 2
}
