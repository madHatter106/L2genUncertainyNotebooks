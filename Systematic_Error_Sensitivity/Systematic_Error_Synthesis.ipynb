{
 "cells": [
  {
   "cell_type": "code",
   "execution_count": 46,
   "metadata": {
    "collapsed": true
   },
   "outputs": [],
   "source": [
    "from netCDF4 import Dataset as DS\n",
    "import numpy as np\n",
    "import matplotlib.pyplot as pl\n",
    "import os\n",
    "import glob\n",
    "import re\n",
    "from tqdm import tqdm_notebook\n",
    "% matplotlib inline"
   ]
  },
  {
   "cell_type": "code",
   "execution_count": 44,
   "metadata": {},
   "outputs": [
    {
     "data": {
      "text/html": [
       "<style>.container {width:90% !important;}</style>"
      ],
      "text/plain": [
       "<IPython.core.display.HTML object>"
      ]
     },
     "metadata": {},
     "output_type": "display_data"
    }
   ],
   "source": [
    "from IPython.core.display import display, HTML\n",
    "display(HTML(\"<style>.container {width:90% !important;}</style>\"))"
   ]
  },
  {
   "cell_type": "code",
   "execution_count": 34,
   "metadata": {
    "collapsed": true
   },
   "outputs": [],
   "source": [
    "bands = [412, 443, 490, 510, 555, 670, 765, 865]\n",
    "bandNums = {band:i for band,i in zip(bands,range(8))}\n",
    "intensities = [1, 5]"
   ]
  },
  {
   "cell_type": "code",
   "execution_count": 35,
   "metadata": {
    "collapsed": true
   },
   "outputs": [],
   "source": [
    "pert4DFilePattern = re.compile('(S[0-9]+.L3m_4D.+)')"
   ]
  },
  {
   "cell_type": "code",
   "execution_count": 36,
   "metadata": {
    "collapsed": true
   },
   "outputs": [],
   "source": [
    "mainDir = '/accounts/ekarakoy/disk02/UNCERTAINTIES/Systematic_Error/PACE_SWF/'\n",
    "pertDataDir = 'BandWise/'\n",
    "bslDataDir = 'Baseline/'\n",
    "# Will have to add mainDir to the paths listed in the dict. below\n",
    "relPathsDict = dict.fromkeys(['band%d_0p%dp' % (i,j) for i in range(8) for j in [1,5]]\n",
    "                              + ['baseline'])\n",
    "dataDict = dict.fromkeys([k for k in relPathsDict.keys() if k!='baseline'])\n",
    "bslDict = dict.fromkeys(['Lt', 'Rrs', 'Geo'])"
   ]
  },
  {
   "cell_type": "code",
   "execution_count": 39,
   "metadata": {
    "collapsed": true
   },
   "outputs": [],
   "source": [
    "# load dictionary with relative paths to 4D data files, including baseline data\n",
    "for k in relPathsDict.keys():\n",
    "    if k == 'baseline':\n",
    "        path = os.path.join(mainDir, bslDataDir, '*')\n",
    "    else:\n",
    "        path = os.path.join(mainDir, pertDataDir, k, '*')\n",
    "    for l in glob.iglob(path):\n",
    "        fileMatch = pert4DFilePattern.findall(l)\n",
    "        if fileMatch:\n",
    "            relPathsDict[k] = os.path.join(re.findall('(B[0-9a-zA-Z\\W_]+)\\*',\n",
    "                                                      path)[0], fileMatch[0])"
   ]
  },
  {
   "cell_type": "code",
   "execution_count": 58,
   "metadata": {},
   "outputs": [
    {
     "data": {
      "text/plain": [
       "dict_keys(['band0_0p5p', 'band7_0p1p', 'band5_0p1p', 'band0_0p1p', 'band5_0p5p', 'band2_0p1p', 'band2_0p5p', 'band4_0p5p', 'band4_0p1p', 'baseline', 'band1_0p1p', 'band6_0p1p', 'band7_0p5p', 'band1_0p5p', 'band6_0p5p', 'band3_0p1p', 'band3_0p5p'])"
      ]
     },
     "execution_count": 58,
     "metadata": {},
     "output_type": "execute_result"
    }
   ],
   "source": [
    "relPathsDict.keys()"
   ]
  },
  {
   "cell_type": "code",
   "execution_count": 40,
   "metadata": {},
   "outputs": [
    {
     "name": "stdout",
     "output_type": "stream",
     "text": [
      "BandWise/band0_0p5p/S20031932003196.L3m_4D_BWES09.nc exists? True\n",
      "BandWise/band7_0p1p/S20031932003196.L3m_4D_BWES08.nc exists? True\n",
      "BandWise/band5_0p1p/S20031932003196.L3m_4D_BWES06.nc exists? True\n",
      "BandWise/band0_0p1p/S20031932003196.L3m_4D_BWES01.nc exists? True\n",
      "BandWise/band5_0p5p/S20031932003196.L3m_4D_BWES14.nc exists? True\n",
      "BandWise/band2_0p1p/S20031932003196.L3m_4D_BWES03.nc exists? True\n",
      "BandWise/band2_0p5p/S20031932003196.L3m_4D_BWES11.nc exists? True\n",
      "BandWise/band4_0p5p/S20031932003196.L3m_4D_BWES13.nc exists? True\n",
      "BandWise/band4_0p1p/S20031932003196.L3m_4D_BWES05.nc exists? True\n",
      "Baseline/S20031932003196.L3m_4D_PSES00.nc exists? True\n",
      "BandWise/band1_0p1p/S20031932003196.L3m_4D_BWES02.nc exists? True\n",
      "BandWise/band6_0p1p/S20031932003196.L3m_4D_BWES07.nc exists? True\n",
      "BandWise/band7_0p5p/S20031932003196.L3m_4D_BWES16.nc exists? True\n",
      "BandWise/band1_0p5p/S20031932003196.L3m_4D_BWES10.nc exists? True\n",
      "BandWise/band6_0p5p/S20031932003196.L3m_4D_BWES15.nc exists? True\n",
      "BandWise/band3_0p1p/S20031932003196.L3m_4D_BWES04.nc exists? True\n",
      "BandWise/band3_0p5p/S20031932003196.L3m_4D_BWES12.nc exists? True\n"
     ]
    }
   ],
   "source": [
    "# TEST Paths exist:\n",
    "for v in relPathsDict.values():\n",
    "    stat = os.path.exists(os.path.join(mainDir, v))\n",
    "    print('%s exists? %s' %(v, stat))"
   ]
  },
  {
   "cell_type": "code",
   "execution_count": 77,
   "metadata": {
    "collapsed": true
   },
   "outputs": [],
   "source": [
    "def GetL3mProds(path, verbose=True, getLatLon=False):\n",
    "    \"\"\"Loads data into dictionaries for Lt and Rrs.\"\"\"\n",
    "    ltDict = dict.fromkeys(bands)\n",
    "    rrsDict = dict.fromkeys(bands[:-2])\n",
    "    with DS(path) as ds:\n",
    "        varbls = ds.variables\n",
    "        for band in bands:\n",
    "            try:\n",
    "                ltDict[band] = varbls['Lt_%d' % band][:].data\n",
    "                rrsDict[band] = varbls['Rrs_%d' % band][:].data\n",
    "            except KeyError as e:\n",
    "                if verbose:\n",
    "                    print(e, ' ... skipping')\n",
    "                continue\n",
    "        if getLatLon:\n",
    "            for k in ['lat', 'lon']:\n",
    "                geoDict = {k: varbls[k][:]}\n",
    "            return ltDict, rrsDict, geoDict\n",
    "    return ltDict, rrsDict\n",
    "\n",
    "\n",
    "def ComputeTable(verbose=True):\n",
    "    path = os.path.join(mainDir, relPathsDict['baseline'])\n",
    "    _, rrsBslDict, geoDict = GetL3mProds(path, verbose=False, getLatLon=True)\n",
    "    rrsDiffDict_0p1 = dict.fromkeys(bands[:-2])\n",
    "    rrsDiffDict_0p5 = dict.fromkeys(bands[:-2])\n",
    "    for band in bands[:-2]:\n",
    "        rrsDiffDict_0p1[band] = np.zeros_like(rrsBslDict[band])\n",
    "        rrsDiffDict_0p5[band] = np.zeros_like(rrsBslDict[band])\n",
    "        \n",
    "    for k, v in tqdm_notebook(relPathsDict.items()):\n",
    "        if k == 'baseline':\n",
    "            continue\n",
    "        path = os.path.join(mainDir, v)\n",
    "        _, rrsDict = GetL3mProds(path, verbose=False)\n",
    "        for band in bands[:-2]:\n",
    "            diff = np.power(rrsDict[band] - rrsBslDict[band], 2)\n",
    "\n",
    "            if '0p1p' in k:\n",
    "                if verbose:\n",
    "                    print(\"%d - 0.1p\" % band)\n",
    "                rrsDiffDict_0p1[band] += diff\n",
    "                    \n",
    "            elif '0p5p' in k:\n",
    "                if verbose:\n",
    "                    print(\"%d - 0.5p\" % band)\n",
    "                rrsDiffDict_0p5[band] += diff\n",
    "    for band in bands[:-2]:\n",
    "        rrsDiffDict_0p1[band] = np.sqrt(rrsDiffDict_0p1[band])\n",
    "        rrsDiffDict_0p5[band] = np.sqrt(rrsDiffDict_0p5[band])\n",
    "    return rrsDiffDict_0p1, rrsDiffDict_0p5, geoDict\n",
    "\n",
    "\n",
    "def GetMasks():\n",
    "    \n",
    "    ltMskDict, rrsMskDict = GetL3mProds(os.path.join(mainDir, relPathsDict['baseline']),\n",
    "                                               justMasks=True, verbose=False)\n",
    "    for k, v in tqdm_notebook(relPathsDict.items()):\n",
    "        if k =='baseline':\n",
    "            continue\n",
    "        path = os.path.join(mainDir, v)\n",
    "        tmpLtMskDict, tmpRrsMskDict = GetL3mProds(path, verbose=False, justMasks=True)\n",
    "        for band in bands:\n",
    "            ltMskDict[band] += tmpLtMskDict[band]\n",
    "            try:\n",
    "                rrsMskDict[band] += tmpRrsMskDict[band]\n",
    "            except KeyError as e:\n",
    "                continue\n",
    "    return {'Lt': ltMskDict, 'Rrs': rrsMskDict}\n",
    "                \n",
    "def ComputeDiffs(prtData, bslData, computeRel=True):\n",
    "    diff = prtData - bslData\n",
    "    if computeRel:\n",
    "        reldiff = diff / bslData\n",
    "        return diff, reldiff\n",
    "    return diff\n"
   ]
  },
  {
   "cell_type": "code",
   "execution_count": 45,
   "metadata": {},
   "outputs": [
    {
     "name": "stdout",
     "output_type": "stream",
     "text": [
      "'Rrs_765'  ... skipping\n",
      "'Rrs_865'  ... skipping\n"
     ]
    }
   ],
   "source": [
    "bslDict['Lt'], bslDict['Rrs'], bslDict['Geo'] = GetL3mProds(os.path.join(mainDir,\n",
    "                                                                         relPathsDict['baseline']\n",
    "                                                                        ), getLatLon=True\n",
    "                                                           )"
   ]
  },
  {
   "cell_type": "code",
   "execution_count": 57,
   "metadata": {},
   "outputs": [
    {
     "data": {
      "application/vnd.jupyter.widget-view+json": {
       "model_id": "c2e93bc71a824c0ea8c10cc2e4279956"
      }
     },
     "metadata": {},
     "output_type": "display_data"
    },
    {
     "name": "stdout",
     "output_type": "stream",
     "text": [
      "\n"
     ]
    }
   ],
   "source": [
    "mskDict = GetMasks()"
   ]
  },
  {
   "cell_type": "code",
   "execution_count": 78,
   "metadata": {},
   "outputs": [
    {
     "data": {
      "application/vnd.jupyter.widget-view+json": {
       "model_id": "244a66344b4b4749a331c4253c5eef4f"
      }
     },
     "metadata": {},
     "output_type": "display_data"
    },
    {
     "name": "stdout",
     "output_type": "stream",
     "text": [
      "\n"
     ]
    }
   ],
   "source": [
    "rdd0p1, rdd0p5, gd = ComputeTable(verbose=False)"
   ]
  },
  {
   "cell_type": "code",
   "execution_count": 92,
   "metadata": {
    "collapsed": true
   },
   "outputs": [],
   "source": [
    "pickle.dump(rdd0p1, open('./Data/rrsSumSqDiffDict0p1.pkl', 'wb'))\n",
    "pickle.dump(rdd0p5, open('./Data/rrsSumSqDiffDict0p5.pkl', 'wb'))\n",
    "pickle.dump(gd, open('./Data/geoDict.pkl', 'wb'))"
   ]
  },
  {
   "cell_type": "code",
   "execution_count": 91,
   "metadata": {},
   "outputs": [
    {
     "data": {
      "image/png": "[encoded data removed]",
      "text/plain": [
       "<matplotlib.figure.Figure at 0x7f235828cd30>"
      ]
     },
     "metadata": {},
     "output_type": "display_data"
    }
   ],
   "source": [
    "pl.hist(rdd0p1[412].flatten(), range=(0,7e-3), bins=100, normed=True, log=True);"
   ]
  },
  {
   "cell_type": "code",
   "execution_count": null,
   "metadata": {
    "collapsed": true
   },
   "outputs": [],
   "source": []
  }
 ],
 "metadata": {
  "anaconda-cloud": {},
  "kernelspec": {
   "display_name": "Python [conda root]",
   "language": "python",
   "name": "conda-root-py"
  },
  "language_info": {
   "codemirror_mode": {
    "name": "ipython",
    "version": 3
   },
   "file_extension": ".py",
   "mimetype": "text/x-python",
   "name": "python",
   "nbconvert_exporter": "python",
   "pygments_lexer": "ipython3",
   "version": "3.5.3"
  }
 },
 "nbformat": 4,
 "nbformat_minor": 2
}
