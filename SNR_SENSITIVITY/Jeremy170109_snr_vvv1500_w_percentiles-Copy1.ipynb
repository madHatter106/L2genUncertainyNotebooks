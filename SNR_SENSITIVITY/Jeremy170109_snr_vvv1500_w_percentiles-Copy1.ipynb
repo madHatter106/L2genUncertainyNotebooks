{
 "cells": [
  {
   "cell_type": "code",
   "execution_count": 1,
   "metadata": {
    "collapsed": true
   },
   "outputs": [],
   "source": [
    "import pandas as pd\n",
    "import os\n",
    "import pickle\n",
    "import glob\n",
    "from auxiliary import *"
   ]
  },
  {
   "cell_type": "code",
   "execution_count": 7,
   "metadata": {
    "collapsed": true
   },
   "outputs": [],
   "source": [
    "rc('font', **{'family': 'sans-serif', 'sans-serif': ['Helvetica']})\n",
    "rc('text', usetex=False)\n",
    "fontSize = 16\n",
    "sb.set_style('dark')\n",
    "rcParams['ytick.labelsize'] = fontSize\n",
    "rcParams['xtick.labelsize'] = fontSize"
   ]
  },
  {
   "cell_type": "code",
   "execution_count": 2,
   "metadata": {
    "collapsed": true
   },
   "outputs": [],
   "source": [
    "%matplotlib inline"
   ]
  },
  {
   "cell_type": "code",
   "execution_count": 25,
   "metadata": {
    "collapsed": true
   },
   "outputs": [],
   "source": [
    "# set up data stream\n",
    "SNR = 1500\n",
    "bands = ['412', '443', '490', '510', '555', '670']\n",
    "mainDir = '/accounts/ekarakoy/DEV-ALL/UNCERTAINTIES/UNCPY/UNC_notebooks/SNR_SENSITIVITY'\n",
    "subDir = 'DATA_vvv%d' % SNR\n",
    "filePattern = 'S20031932003196.L3b_4D*'\n",
    "fileList = glob.glob(os.path.join(mainDir, subDir, filePattern))\n",
    "nir_snrs = ['NIR_SNR_' + str(k) for k in range(500, 800, 50)]\n",
    "simDict = dict.fromkeys(nir_snrs)\n",
    "for file in fileList:\n",
    "    # relate file name to nir_snr scenario\n",
    "    sfx = int(file.split('.')[1][-2:])\n",
    "    snr = (sfx - 27) * 50 + 500\n",
    "    snr = 'NIR_SNR_' + str(snr)\n",
    "    simDict[snr] = file"
   ]
  },
  {
   "cell_type": "code",
   "execution_count": 4,
   "metadata": {},
   "outputs": [
    {
     "name": "stdout",
     "output_type": "stream",
     "text": [
      "processing /accounts/ekarakoy/DEV-ALL/UNCERTAINTIES/UNCPY/UNC_notebooks/SNR_SENSITIVITY/DATA_vvv1500/S20031932003196.L3b_4D_SU27.nc\n",
      "processing /accounts/ekarakoy/DEV-ALL/UNCERTAINTIES/UNCPY/UNC_notebooks/SNR_SENSITIVITY/DATA_vvv1500/S20031932003196.L3b_4D_SU28.nc\n",
      "processing /accounts/ekarakoy/DEV-ALL/UNCERTAINTIES/UNCPY/UNC_notebooks/SNR_SENSITIVITY/DATA_vvv1500/S20031932003196.L3b_4D_SU29.nc\n",
      "processing /accounts/ekarakoy/DEV-ALL/UNCERTAINTIES/UNCPY/UNC_notebooks/SNR_SENSITIVITY/DATA_vvv1500/S20031932003196.L3b_4D_SU30.nc\n",
      "processing /accounts/ekarakoy/DEV-ALL/UNCERTAINTIES/UNCPY/UNC_notebooks/SNR_SENSITIVITY/DATA_vvv1500/S20031932003196.L3b_4D_SU31.nc\n",
      "processing /accounts/ekarakoy/DEV-ALL/UNCERTAINTIES/UNCPY/UNC_notebooks/SNR_SENSITIVITY/DATA_vvv1500/S20031932003196.L3b_4D_SU32.nc\n"
     ]
    }
   ],
   "source": [
    "ptiles = [50, 70, 80, 90, 95]\n",
    "rhoUncPtileDict = dict.fromkeys(nir_snrs)\n",
    "for nsnr in nir_snrs:\n",
    "    rhoUncPtileDict[nsnr] = dict.fromkeys(ptiles)\n",
    "    # Get data needed in form of a dict\n",
    "    if simDict[nsnr]:\n",
    "        print('processing %s' % simDict[nsnr])\n",
    "        _, rhoUncDict,_ = GetDataDicts(fp=simDict[nsnr])\n",
    "        for ptile in ptiles:\n",
    "            rhoUncPtileDict[nsnr][ptile] = GetPtileDict(rhoUncDict, ptile=ptile/100)"
   ]
  },
  {
   "cell_type": "code",
   "execution_count": 5,
   "metadata": {},
   "outputs": [
    {
     "data": {
      "text/plain": [
       "{'NIR_SNR_500': {50: {'412': 0.0006565986,\n",
       "   '443': 0.00054978218,\n",
       "   '490': 0.00044139754,\n",
       "   '510': 0.00040737324,\n",
       "   '555': 0.0003204493,\n",
       "   '670': 0.00014137349},\n",
       "  70: {'412': 0.00075817388,\n",
       "   '443': 0.00062832137,\n",
       "   '490': 0.00049835368,\n",
       "   '510': 0.00045553516,\n",
       "   '555': 0.00035715656,\n",
       "   '670': 0.00015865348},\n",
       "  80: {'412': 0.00084980327,\n",
       "   '443': 0.00070371921,\n",
       "   '490': 0.00055292161,\n",
       "   '510': 0.00050063699,\n",
       "   '555': 0.00038955754,\n",
       "   '670': 0.00017593638},\n",
       "  90: {'412': 0.00099483901,\n",
       "   '443': 0.00082309626,\n",
       "   '490': 0.0006377445,\n",
       "   '510': 0.00057596061,\n",
       "   '555': 0.00044611393,\n",
       "   '670': 0.00020734816},\n",
       "  95: {'412': 0.0011184107,\n",
       "   '443': 0.00092991267,\n",
       "   '490': 0.00071419269,\n",
       "   '510': 0.00064402923,\n",
       "   '555': 0.00050265866,\n",
       "   '670': 0.00023457017}},\n",
       " 'NIR_SNR_550': {50: {'412': 0.00060947507,\n",
       "   '443': 0.00050894334,\n",
       "   '490': 0.0004071547,\n",
       "   '510': 0.00037385165,\n",
       "   '555': 0.00029531051,\n",
       "   '670': 0.00013018514},\n",
       "  70: {'412': 0.00070372212,\n",
       "   '443': 0.00058224529,\n",
       "   '490': 0.00045867753,\n",
       "   '510': 0.00042012738,\n",
       "   '555': 0.00032720258,\n",
       "   '670': 0.00014608407},\n",
       "  80: {'412': 0.00079168449,\n",
       "   '443': 0.00065219932,\n",
       "   '490': 0.0005089434,\n",
       "   '510': 0.00046181402,\n",
       "   '555': 0.00035814577,\n",
       "   '670': 0.00016336699},\n",
       "  90: {'412': 0.00092677033,\n",
       "   '443': 0.00076475355,\n",
       "   '490': 0.00059062103,\n",
       "   '510': 0.00053197943,\n",
       "   '555': 0.00041469047,\n",
       "   '670': 0.00019058898},\n",
       "  95: {'412': 0.0010430138,\n",
       "   '443': 0.00086432463,\n",
       "   '490': 0.000659741,\n",
       "   '510': 0.00059533451,\n",
       "   '555': 0.00046286729,\n",
       "   '670': 0.00021572776}},\n",
       " 'NIR_SNR_600': {50: {'412': 0.00057069206,\n",
       "   '443': 0.00047438341,\n",
       "   '490': 0.00037699402,\n",
       "   '510': 0.00034557638,\n",
       "   '555': 0.00027331992,\n",
       "   '670': 0.00011938583},\n",
       "  70: {'412': 0.00065973506,\n",
       "   '443': 0.00054349744,\n",
       "   '490': 0.00042725986,\n",
       "   '510': 0.00038955754,\n",
       "   '555': 0.00030473754,\n",
       "   '670': 0.00013601588},\n",
       "  80: {'412': 0.00074141863,\n",
       "   '443': 0.00060947507,\n",
       "   '490': 0.00047438341,\n",
       "   '510': 0.00042870513,\n",
       "   '555': 0.00033301281,\n",
       "   '670': 0.0001507976},\n",
       "  90: {'412': 0.00087021972,\n",
       "   '443': 0.00071628572,\n",
       "   '490': 0.00054978218,\n",
       "   '510': 0.00049637398,\n",
       "   '555': 0.00038327868,\n",
       "   '670': 0.00017593638},\n",
       "  95: {'412': 0.00098017859,\n",
       "   '443': 0.00081053854,\n",
       "   '490': 0.00061575981,\n",
       "   '510': 0.00055292458,\n",
       "   '555': 0.00043040223,\n",
       "   '670': 0.00020106346}},\n",
       " 'NIR_SNR_650': {50: {'412': 0.00053721282,\n",
       "   '443': 0.00044610811,\n",
       "   '490': 0.00035317912,\n",
       "   '510': 0.00032358579,\n",
       "   '555': 0.00025458331,\n",
       "   '670': 0.00011310112},\n",
       "  70: {'412': 0.00062127865,\n",
       "   '443': 0.00051051163,\n",
       "   '490': 0.00040212111,\n",
       "   '510': 0.00036443045,\n",
       "   '555': 0.00028465237,\n",
       "   '670': 0.00012567053},\n",
       "  80: {'412': 0.00069900573,\n",
       "   '443': 0.00057293166,\n",
       "   '490': 0.00044610811,\n",
       "   '510': 0.00040212693,\n",
       "   '555': 0.00031281295,\n",
       "   '670': 0.00014137056},\n",
       "  90: {'412': 0.00082309626,\n",
       "   '443': 0.00067387568,\n",
       "   '490': 0.00051543303,\n",
       "   '510': 0.00046495633,\n",
       "   '555': 0.00035971694,\n",
       "   '670': 0.0001654619},\n",
       "  95: {'412': 0.00092834438,\n",
       "   '443': 0.00076445867,\n",
       "   '490': 0.00057962572,\n",
       "   '510': 0.00051993574,\n",
       "   '555': 0.00040325269,\n",
       "   '670': 0.00018849407}},\n",
       " 'NIR_SNR_700': {50: {'412': 0.00050894334,\n",
       "   '443': 0.00042098103,\n",
       "   '490': 0.00033300699,\n",
       "   '510': 0.00030346907,\n",
       "   '555': 0.00023876286,\n",
       "   '670': 0.00010669046},\n",
       "  70: {'412': 0.00058866269,\n",
       "   '443': 0.00048380459,\n",
       "   '490': 0.00037699402,\n",
       "   '510': 0.00034243404,\n",
       "   '555': 0.00026808464,\n",
       "   '670': 0.00011938582},\n",
       "  80: {'412': 0.00066340453,\n",
       "   '443': 0.00054245006,\n",
       "   '490': 0.00042097515,\n",
       "   '510': 0.00037699402,\n",
       "   '555': 0.00029531051,\n",
       "   '670': 0.00013195521},\n",
       "  90: {'412': 0.00078121392,\n",
       "   '443': 0.0006393186,\n",
       "   '490': 0.00048852101,\n",
       "   '510': 0.00043668691,\n",
       "   '555': 0.00033929167,\n",
       "   '670': 0.00015708229},\n",
       "  95: {'412': 0.00088383269,\n",
       "   '443': 0.00072570686,\n",
       "   '490': 0.00054689136,\n",
       "   '510': 0.0004900893,\n",
       "   '555': 0.00038118186,\n",
       "   '670': 0.00017593638}},\n",
       " 'NIR_SNR_750': {50: {'412': 0.00048538164,\n",
       "   '443': 0.00040003206,\n",
       "   '490': 0.00031416459,\n",
       "   '510': 0.00028693091,\n",
       "   '555': 0.00022620225,\n",
       "   '670': 0.00010053173},\n",
       "  70: {'412': 0.00056077453,\n",
       "   '443': 0.0004586775,\n",
       "   '490': 0.00035814577,\n",
       "   '510': 0.00032358579,\n",
       "   '555': 0.0002529005,\n",
       "   '670': 0.00011310112},\n",
       "  80: {'412': 0.00063334522,\n",
       "   '443': 0.00051522808,\n",
       "   '490': 0.00039793714,\n",
       "   '510': 0.00035814577,\n",
       "   '555': 0.00027760697,\n",
       "   '670': 0.00012567051},\n",
       "  90: {'412': 0.00074769743,\n",
       "   '443': 0.00060947507,\n",
       "   '490': 0.00046495633,\n",
       "   '510': 0.00041469632,\n",
       "   '555': 0.0003204493,\n",
       "   '670': 0.00014765526},\n",
       "  95: {'412': 0.0008450927,\n",
       "   '443': 0.00069115276,\n",
       "   '490': 0.00052151276,\n",
       "   '510': 0.00046496218,\n",
       "   '555': 0.00036128811,\n",
       "   '670': 0.00016755288}}}"
      ]
     },
     "execution_count": 5,
     "metadata": {},
     "output_type": "execute_result"
    }
   ],
   "source": [
    "rhoUncPtileDict"
   ]
  },
  {
   "cell_type": "code",
   "execution_count": null,
   "metadata": {
    "collapsed": true
   },
   "outputs": [],
   "source": [
    "# Now I need to plot these percentiles for each NIR SNR Scenarios:\n",
    "pn = pd.Panel(rhoUncPtileDict)\n",
    "for scenario in nir_snrs:\n",
    "    df = pn[scenario]\n",
    "    nir_snr = scenario.split('_')[-1]\n",
    "    PlotPtiles(df, ptiles, title='VVV SNR: %d, NIR SNR: %s ' %(SNR,nir_snr),\n",
    "               savepath='snr%d_%s_ptiles.png' % (SNR,nir_snr))"
   ]
  },
  {
   "cell_type": "code",
   "execution_count": null,
   "metadata": {
    "collapsed": true
   },
   "outputs": [],
   "source": []
  }
 ],
 "metadata": {
  "anaconda-cloud": {},
  "kernelspec": {
   "display_name": "Python 3",
   "language": "python",
   "name": "python3"
  },
  "language_info": {
   "codemirror_mode": {
    "name": "ipython",
    "version": 3
   },
   "file_extension": ".py",
   "mimetype": "text/x-python",
   "name": "python",
   "nbconvert_exporter": "python",
   "pygments_lexer": "ipython3",
   "version": "3.6.4"
  }
 },
 "nbformat": 4,
 "nbformat_minor": 1
}
