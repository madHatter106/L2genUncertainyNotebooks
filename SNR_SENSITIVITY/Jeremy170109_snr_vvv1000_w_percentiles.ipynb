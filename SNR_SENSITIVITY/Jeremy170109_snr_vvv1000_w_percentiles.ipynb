{
 "cells": [
  {
   "cell_type": "code",
   "execution_count": 5,
   "metadata": {
    "collapsed": true
   },
   "outputs": [],
   "source": [
    "import pandas as pd\n",
    "import os\n",
    "import pickle\n",
    "import glob\n",
    "from auxiliary import *"
   ]
  },
  {
   "cell_type": "code",
   "execution_count": 2,
   "metadata": {
    "collapsed": true
   },
   "outputs": [],
   "source": [
    "%matplotlib inline"
   ]
  },
  {
   "cell_type": "code",
   "execution_count": 1,
   "metadata": {
    "collapsed": true
   },
   "outputs": [],
   "source": [
    "# set up data stream\n",
    "SNRs = ['baseline','threshold']\n",
    "mainDir = '/accounts/ekarakoy/DEV-ALL/UNCERTAINTIES/UNCPY/UNC_notebooks/SNR_SENSITIVITY'\n",
    "subDirs = ['DATA/Pace_170207/%s' % SNR for SNR in SNRs]"
   ]
  },
  {
   "cell_type": "code",
   "execution_count": 3,
   "metadata": {
    "collapsed": true
   },
   "outputs": [],
   "source": [
    "filePattern = 'S20031932003196.L3b_4D*'"
   ]
  },
  {
   "cell_type": "code",
   "execution_count": 15,
   "metadata": {
    "collapsed": true
   },
   "outputs": [],
   "source": [
    "filePattern = 'S20031932003196.L3b_4D*'\n",
    "fileList = [glob.glob(os.path.join(mainDir, subDir, filePattern))[0] for subDir in subDirs]"
   ]
  },
  {
   "cell_type": "code",
   "execution_count": 4,
   "metadata": {},
   "outputs": [
    {
     "name": "stdout",
     "output_type": "stream",
     "text": [
      "processing /accounts/ekarakoy/DEV-ALL/UNCERTAINTIES/UNCPY/UNC_notebooks/SNR_SENSITIVITY/DATA_vvv1000/S20031932003196.L3b_4D_SU20.nc\n",
      "processing /accounts/ekarakoy/DEV-ALL/UNCERTAINTIES/UNCPY/UNC_notebooks/SNR_SENSITIVITY/DATA_vvv1000/S20031932003196.L3b_4D_SU21.nc\n",
      "processing /accounts/ekarakoy/DEV-ALL/UNCERTAINTIES/UNCPY/UNC_notebooks/SNR_SENSITIVITY/DATA_vvv1000/S20031932003196.L3b_4D_SU22.nc\n",
      "processing /accounts/ekarakoy/DEV-ALL/UNCERTAINTIES/UNCPY/UNC_notebooks/SNR_SENSITIVITY/DATA_vvv1000/S20031932003196.L3b_4D_SU23.nc\n",
      "processing /accounts/ekarakoy/DEV-ALL/UNCERTAINTIES/UNCPY/UNC_notebooks/SNR_SENSITIVITY/DATA_vvv1000/S20031932003196.L3b_4D_SU24.nc\n",
      "processing /accounts/ekarakoy/DEV-ALL/UNCERTAINTIES/UNCPY/UNC_notebooks/SNR_SENSITIVITY/DATA_vvv1000/S20031932003196.L3b_4D_SU25.nc\n"
     ]
    }
   ],
   "source": [
    "ptiles = [50, 70, 80, 90, 95]\n",
    "rhoUncPtileDict = dict.fromkeys(SNRs)\n",
    "for snr in SNRs:\n",
    "    rhoUncPtileDict[snr] = dict.fromkeys(ptiles)\n",
    "    # Get data needed in form of a dict\n",
    "    if simDict[snr]:\n",
    "        print('processing %s' % simDict[snr])\n",
    "        _, rhoUncDict,_ = GetDataDicts(fp=simDict[snr])\n",
    "        for ptile in ptiles:\n",
    "            rhoUncPtileDict[nsnr][ptile] = GetPtileDict(rhoUncDict, ptile=ptile/100)"
   ]
  },
  {
   "cell_type": "code",
   "execution_count": 5,
   "metadata": {
    "collapsed": true
   },
   "outputs": [],
   "source": [
    "# Now I need to plot these percentiles for each NIR SNR Scenarios:\n",
    "pn = pd.Panel(rhoUncPtileDict)\n",
    "for scenario in nir_snrs:\n",
    "    df = pn[scenario]\n",
    "    nir_snr = scenario.split('_')[-1]\n",
    "    PlotPtiles(df, ptiles, title='VVV SNR: %d, NIR SNR: %s ' %(SNR,nir_snr),\n",
    "               savepath='snr%d_%s_ptiles.png' % (SNR,nir_snr))"
   ]
  },
  {
   "cell_type": "code",
   "execution_count": 6,
   "metadata": {
    "collapsed": true
   },
   "outputs": [],
   "source": [
    "pn = pd.Panel(rhoUncPtileDict)\n",
    "for scenario in nir_snrs:\n",
    "    df = pn[scenario]\n",
    "    nir_snr = scenario.split('_')[-1]\n",
    "    PlotPtiles(df, [90, 95], title='VVV SNR: %d, NIR SNR: %s ' %(SNR,nir_snr),\n",
    "               savepath='snr%d_%s_ptiles90_95.png' % (SNR,nir_snr))"
   ]
  },
  {
   "cell_type": "code",
   "execution_count": null,
   "metadata": {
    "collapsed": true
   },
   "outputs": [],
   "source": []
  }
 ],
 "metadata": {
  "anaconda-cloud": {},
  "kernelspec": {
   "display_name": "Python 3",
   "language": "python",
   "name": "python3"
  },
  "language_info": {
   "codemirror_mode": {
    "name": "ipython",
    "version": 3
   },
   "file_extension": ".py",
   "mimetype": "text/x-python",
   "name": "python",
   "nbconvert_exporter": "python",
   "pygments_lexer": "ipython3",
   "version": "3.6.4"
  }
 },
 "nbformat": 4,
 "nbformat_minor": 1
}
