{
 "cells": [
  {
   "cell_type": "code",
   "execution_count": 10,
   "metadata": {
    "collapsed": true
   },
   "outputs": [],
   "source": [
    "import netCDF4 as nc\n",
    "import numpy as np\n",
    "import matplotlib.pyplot as pl\n",
    "import seaborn as sb\n",
    "from matplotlib.pylab import rcParams\n",
    "from matplotlib import rc\n",
    "import os\n",
    "import glob\n",
    "import pickle"
   ]
  },
  {
   "cell_type": "code",
   "execution_count": 2,
   "metadata": {
    "collapsed": true
   },
   "outputs": [],
   "source": [
    "# GRAPHICS SETUP:\n",
    "rc('font', **{'family':'sans-serif','sans-serif':['Helvetica']})\n",
    "rc('text',usetex=False)\n",
    "fontSize=16\n",
    "sb.set_style('dark')\n",
    "rcParams['ytick.labelsize'] = fontSize\n",
    "rcParams['xtick.labelsize'] = fontSize\n",
    "%matplotlib inline"
   ]
  },
  {
   "cell_type": "code",
   "execution_count": 4,
   "metadata": {
    "collapsed": true
   },
   "outputs": [],
   "source": [
    "def GetDataDicts(fp):\n",
    "    with nc.Dataset(fp) as ds:\n",
    "        l3bVars = ds.groups['level-3_binned_data'].variables\n",
    "        binlist = l3bVars['BinList'][:]\n",
    "        wts = binlist['weights']\n",
    "        bands = ['412', '443', '490', '510', '555', '670', '765', '865']\n",
    "        rhoDict = {}\n",
    "        rhoUncDict = {}\n",
    "        rhotDict = {} \n",
    "        for band in bands:\n",
    "            rhoDict[band] = np.pi * l3bVars['Rrs_%s' % band][:]['sum'] / wts\n",
    "            rhoUncDict[band] = np.pi * l3bVars['Rrs_unc_%s' % band][:]['sum'] / wts\n",
    "            rhotDict[band] = l3bVars['rhot_%s' % band][:]['sum'] / wts\n",
    "    return rhoDict,rhoUncDict,rhotDict"
   ]
  },
  {
   "cell_type": "code",
   "execution_count": 5,
   "metadata": {
    "collapsed": true
   },
   "outputs": [],
   "source": [
    "def GetPtileDict(dataDict,ptile=.95,bands=['412','443','490',\n",
    "                                          '510','555','670']):\n",
    "    dataPtileDict = dict.fromkeys(bands)\n",
    "    for band in bands:\n",
    "        sortedData = np.sort(dataDict[band])\n",
    "        dataPtileDict[band] = sortedData[int(np.floor(sortedData.size * ptile))]\n",
    "    return dataPtileDict"
   ]
  },
  {
   "cell_type": "code",
   "execution_count": 8,
   "metadata": {
    "collapsed": false
   },
   "outputs": [],
   "source": [
    "mainDir='/Users/grayWolf/DEVEL/UNC_notebooks/DATA'\n",
    "filePattern = 'S20031932003196.L3b_4D*'\n",
    "fileList = glob.glob(os.path.join(mainDir,filePattern))\n",
    "snrs = ['NIR_SNR_' + str(k) for k in range(500,850,50)]\n",
    "simDict = dict.fromkeys(snrs)\n",
    "for file in fileList:\n",
    "    sfx = int(file.split('.')[1][-2:])\n",
    "    snr = (sfx - 27) * 50 + 500\n",
    "    snr = 'NIR_SNR_' + str(snr)\n",
    "    simDict[snr] = file"
   ]
  },
  {
   "cell_type": "code",
   "execution_count": 9,
   "metadata": {
    "collapsed": false
   },
   "outputs": [
    {
     "data": {
      "text/plain": [
       "{'NIR_SNR_500': '/Users/grayWolf/DEVEL/UNC_notebooks/DATA/S20031932003196.L3b_4D_SU27.nc',\n",
       " 'NIR_SNR_550': '/Users/grayWolf/DEVEL/UNC_notebooks/DATA/S20031932003196.L3b_4D_SU28.nc',\n",
       " 'NIR_SNR_600': '/Users/grayWolf/DEVEL/UNC_notebooks/DATA/S20031932003196.L3b_4D_SU29.nc',\n",
       " 'NIR_SNR_650': '/Users/grayWolf/DEVEL/UNC_notebooks/DATA/S20031932003196.L3b_4D_SU30.nc',\n",
       " 'NIR_SNR_700': '/Users/grayWolf/DEVEL/UNC_notebooks/DATA/S20031932003196.L3b_4D_SU31.nc',\n",
       " 'NIR_SNR_750': None,\n",
       " 'NIR_SNR_800': '/Users/grayWolf/DEVEL/UNC_notebooks/DATA/S20031932003196.L3b_4D_SU33.nc'}"
      ]
     },
     "execution_count": 9,
     "metadata": {},
     "output_type": "execute_result"
    }
   ],
   "source": [
    "simDict"
   ]
  },
  {
   "cell_type": "code",
   "execution_count": null,
   "metadata": {
    "collapsed": true
   },
   "outputs": [],
   "source": [
    "rhoUnc95Dict = dict.fromkeys(snrs)\n",
    "for snr in snrs:\n",
    "    # Get data needed in form of a dict.\n",
    "    if simDict[snr]:\n",
    "        _,rhoUncDict,_ = GetDataDicts(fp=simDict[snr])\n",
    "        # Fill out 95 ptile dictionary for corresponding snr sim - result is a nested dictionary with\n",
    "        # bands as keys to the internal dict\n",
    "        rhoUnc95Dict[snr] = GetPtileDict(rhoUncDict) \n",
    "pickle.dump(rhoUnc95Dict,open('snr_vvv1500_nirSens.p','wb'))"
   ]
  },
  {
   "cell_type": "code",
   "execution_count": null,
   "metadata": {
    "collapsed": true
   },
   "outputs": [],
   "source": []
  }
 ],
 "metadata": {
  "kernelspec": {
   "display_name": "Python 3",
   "language": "python",
   "name": "python3"
  },
  "language_info": {
   "codemirror_mode": {
    "name": "ipython",
    "version": 3
   },
   "file_extension": ".py",
   "mimetype": "text/x-python",
   "name": "python",
   "nbconvert_exporter": "python",
   "pygments_lexer": "ipython3",
   "version": "3.5.1"
  }
 },
 "nbformat": 4,
 "nbformat_minor": 0
}
