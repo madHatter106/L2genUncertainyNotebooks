{
 "cells": [
  {
   "cell_type": "code",
   "execution_count": 1,
   "metadata": {
    "collapsed": true
   },
   "outputs": [],
   "source": [
    "import pandas as pd"
   ]
  },
  {
   "cell_type": "code",
   "execution_count": 2,
   "metadata": {
    "collapsed": true
   },
   "outputs": [],
   "source": [
    "fp1000 = './df_snr_vvv1000_nirSens.p'\n",
    "fp1500 = './df_snr_vvv1500_nirSens.p'"
   ]
  },
  {
   "cell_type": "code",
   "execution_count": 3,
   "metadata": {
    "collapsed": true
   },
   "outputs": [],
   "source": [
    "df10 = pd.read_pickle(fp1000)\n",
    "df15 = pd.read_pickle(fp1500)"
   ]
  },
  {
   "cell_type": "code",
   "execution_count": 4,
   "metadata": {
    "collapsed": false
   },
   "outputs": [
    {
     "data": {
      "text/html": [
       "<div>\n",
       "<table border=\"1\" class=\"dataframe\">\n",
       "  <thead>\n",
       "    <tr style=\"text-align: right;\">\n",
       "      <th></th>\n",
       "      <th>NIR_SNR_500</th>\n",
       "      <th>NIR_SNR_550</th>\n",
       "      <th>NIR_SNR_600</th>\n",
       "      <th>NIR_SNR_650</th>\n",
       "      <th>NIR_SNR_700</th>\n",
       "      <th>NIR_SNR_750</th>\n",
       "      <th>NIR_SNR_800</th>\n",
       "    </tr>\n",
       "  </thead>\n",
       "  <tbody>\n",
       "    <tr>\n",
       "      <th>412</th>\n",
       "      <td>0.001118</td>\n",
       "      <td>0.001043</td>\n",
       "      <td>0.000980</td>\n",
       "      <td>0.000928</td>\n",
       "      <td>0.000884</td>\n",
       "      <td>0.000845</td>\n",
       "      <td>0.000811</td>\n",
       "    </tr>\n",
       "    <tr>\n",
       "      <th>443</th>\n",
       "      <td>0.000930</td>\n",
       "      <td>0.000864</td>\n",
       "      <td>0.000811</td>\n",
       "      <td>0.000764</td>\n",
       "      <td>0.000726</td>\n",
       "      <td>0.000691</td>\n",
       "      <td>0.000663</td>\n",
       "    </tr>\n",
       "    <tr>\n",
       "      <th>490</th>\n",
       "      <td>0.000714</td>\n",
       "      <td>0.000660</td>\n",
       "      <td>0.000616</td>\n",
       "      <td>0.000580</td>\n",
       "      <td>0.000547</td>\n",
       "      <td>0.000522</td>\n",
       "      <td>0.000496</td>\n",
       "    </tr>\n",
       "    <tr>\n",
       "      <th>510</th>\n",
       "      <td>0.000644</td>\n",
       "      <td>0.000595</td>\n",
       "      <td>0.000553</td>\n",
       "      <td>0.000520</td>\n",
       "      <td>0.000490</td>\n",
       "      <td>0.000465</td>\n",
       "      <td>0.000443</td>\n",
       "    </tr>\n",
       "    <tr>\n",
       "      <th>555</th>\n",
       "      <td>0.000503</td>\n",
       "      <td>0.000463</td>\n",
       "      <td>0.000430</td>\n",
       "      <td>0.000403</td>\n",
       "      <td>0.000381</td>\n",
       "      <td>0.000361</td>\n",
       "      <td>0.000346</td>\n",
       "    </tr>\n",
       "  </tbody>\n",
       "</table>\n",
       "</div>"
      ],
      "text/plain": [
       "     NIR_SNR_500  NIR_SNR_550  NIR_SNR_600  NIR_SNR_650  NIR_SNR_700  \\\n",
       "412     0.001118     0.001043     0.000980     0.000928     0.000884   \n",
       "443     0.000930     0.000864     0.000811     0.000764     0.000726   \n",
       "490     0.000714     0.000660     0.000616     0.000580     0.000547   \n",
       "510     0.000644     0.000595     0.000553     0.000520     0.000490   \n",
       "555     0.000503     0.000463     0.000430     0.000403     0.000381   \n",
       "\n",
       "     NIR_SNR_750  NIR_SNR_800  \n",
       "412     0.000845     0.000811  \n",
       "443     0.000691     0.000663  \n",
       "490     0.000522     0.000496  \n",
       "510     0.000465     0.000443  \n",
       "555     0.000361     0.000346  "
      ]
     },
     "execution_count": 4,
     "metadata": {},
     "output_type": "execute_result"
    }
   ],
   "source": [
    "df10.head()"
   ]
  },
  {
   "cell_type": "code",
   "execution_count": 5,
   "metadata": {
    "collapsed": false
   },
   "outputs": [
    {
     "data": {
      "text/html": [
       "<div>\n",
       "<table border=\"1\" class=\"dataframe\">\n",
       "  <thead>\n",
       "    <tr style=\"text-align: right;\">\n",
       "      <th></th>\n",
       "      <th>NIR_SNR_500</th>\n",
       "      <th>NIR_SNR_550</th>\n",
       "      <th>NIR_SNR_600</th>\n",
       "      <th>NIR_SNR_650</th>\n",
       "      <th>NIR_SNR_700</th>\n",
       "      <th>NIR_SNR_750</th>\n",
       "      <th>NIR_SNR_800</th>\n",
       "    </tr>\n",
       "  </thead>\n",
       "  <tbody>\n",
       "    <tr>\n",
       "      <th>412</th>\n",
       "      <td>0.001074</td>\n",
       "      <td>0.000993</td>\n",
       "      <td>0.000926</td>\n",
       "      <td>0.000869</td>\n",
       "      <td>0.000820</td>\n",
       "      <td>0.000779</td>\n",
       "      <td>0.000741</td>\n",
       "    </tr>\n",
       "    <tr>\n",
       "      <th>443</th>\n",
       "      <td>0.000899</td>\n",
       "      <td>0.000830</td>\n",
       "      <td>0.000773</td>\n",
       "      <td>0.000726</td>\n",
       "      <td>0.000685</td>\n",
       "      <td>0.000647</td>\n",
       "      <td>0.000616</td>\n",
       "    </tr>\n",
       "    <tr>\n",
       "      <th>490</th>\n",
       "      <td>0.000697</td>\n",
       "      <td>0.000641</td>\n",
       "      <td>0.000597</td>\n",
       "      <td>0.000558</td>\n",
       "      <td>0.000525</td>\n",
       "      <td>0.000496</td>\n",
       "      <td>0.000471</td>\n",
       "    </tr>\n",
       "    <tr>\n",
       "      <th>510</th>\n",
       "      <td>0.000631</td>\n",
       "      <td>0.000581</td>\n",
       "      <td>0.000540</td>\n",
       "      <td>0.000503</td>\n",
       "      <td>0.000471</td>\n",
       "      <td>0.000446</td>\n",
       "      <td>0.000423</td>\n",
       "    </tr>\n",
       "    <tr>\n",
       "      <th>555</th>\n",
       "      <td>0.000490</td>\n",
       "      <td>0.000452</td>\n",
       "      <td>0.000419</td>\n",
       "      <td>0.000390</td>\n",
       "      <td>0.000368</td>\n",
       "      <td>0.000346</td>\n",
       "      <td>0.000327</td>\n",
       "    </tr>\n",
       "  </tbody>\n",
       "</table>\n",
       "</div>"
      ],
      "text/plain": [
       "     NIR_SNR_500  NIR_SNR_550  NIR_SNR_600  NIR_SNR_650  NIR_SNR_700  \\\n",
       "412     0.001074     0.000993     0.000926     0.000869     0.000820   \n",
       "443     0.000899     0.000830     0.000773     0.000726     0.000685   \n",
       "490     0.000697     0.000641     0.000597     0.000558     0.000525   \n",
       "510     0.000631     0.000581     0.000540     0.000503     0.000471   \n",
       "555     0.000490     0.000452     0.000419     0.000390     0.000368   \n",
       "\n",
       "     NIR_SNR_750  NIR_SNR_800  \n",
       "412     0.000779     0.000741  \n",
       "443     0.000647     0.000616  \n",
       "490     0.000496     0.000471  \n",
       "510     0.000446     0.000423  \n",
       "555     0.000346     0.000327  "
      ]
     },
     "execution_count": 5,
     "metadata": {},
     "output_type": "execute_result"
    }
   ],
   "source": [
    "df15.head()"
   ]
  },
  {
   "cell_type": "code",
   "execution_count": 15,
   "metadata": {
    "collapsed": false
   },
   "outputs": [],
   "source": [
    "df =  pd.DataFrame([df10.loc['412',:],df15.loc['412',:]],index=['vvv_1000','vvv_1500'])\n",
    "df = df.T\n",
    "df['Improvement (%)'] = (df.vvv_1500 - df.vvv_1000) / df.vvv_1000 * 100"
   ]
  },
  {
   "cell_type": "code",
   "execution_count": 28,
   "metadata": {
    "collapsed": false
   },
   "outputs": [
    {
     "data": {
      "text/html": [
       "<div>\n",
       "<table border=\"1\" class=\"dataframe\">\n",
       "  <thead>\n",
       "    <tr style=\"text-align: right;\">\n",
       "      <th></th>\n",
       "      <th>vvv_1000</th>\n",
       "      <th>vvv_1500</th>\n",
       "      <th>Improvement (%)</th>\n",
       "    </tr>\n",
       "  </thead>\n",
       "  <tbody>\n",
       "    <tr>\n",
       "      <th>NIR_SNR_500</th>\n",
       "      <td>0.001118</td>\n",
       "      <td>0.001074</td>\n",
       "      <td>-3.932831</td>\n",
       "    </tr>\n",
       "    <tr>\n",
       "      <th>NIR_SNR_550</th>\n",
       "      <td>0.001043</td>\n",
       "      <td>0.000993</td>\n",
       "      <td>-4.819285</td>\n",
       "    </tr>\n",
       "    <tr>\n",
       "      <th>NIR_SNR_600</th>\n",
       "      <td>0.000980</td>\n",
       "      <td>0.000926</td>\n",
       "      <td>-5.555295</td>\n",
       "    </tr>\n",
       "    <tr>\n",
       "      <th>NIR_SNR_650</th>\n",
       "      <td>0.000928</td>\n",
       "      <td>0.000869</td>\n",
       "      <td>-6.373506</td>\n",
       "    </tr>\n",
       "    <tr>\n",
       "      <th>NIR_SNR_700</th>\n",
       "      <td>0.000884</td>\n",
       "      <td>0.000820</td>\n",
       "      <td>-7.226809</td>\n",
       "    </tr>\n",
       "    <tr>\n",
       "      <th>NIR_SNR_750</th>\n",
       "      <td>0.000845</td>\n",
       "      <td>0.000779</td>\n",
       "      <td>-7.807147</td>\n",
       "    </tr>\n",
       "    <tr>\n",
       "      <th>NIR_SNR_800</th>\n",
       "      <td>0.000811</td>\n",
       "      <td>0.000741</td>\n",
       "      <td>-8.527652</td>\n",
       "    </tr>\n",
       "  </tbody>\n",
       "</table>\n",
       "</div>"
      ],
      "text/plain": [
       "             vvv_1000  vvv_1500  Improvement (%)\n",
       "NIR_SNR_500  0.001118  0.001074        -3.932831\n",
       "NIR_SNR_550  0.001043  0.000993        -4.819285\n",
       "NIR_SNR_600  0.000980  0.000926        -5.555295\n",
       "NIR_SNR_650  0.000928  0.000869        -6.373506\n",
       "NIR_SNR_700  0.000884  0.000820        -7.226809\n",
       "NIR_SNR_750  0.000845  0.000779        -7.807147\n",
       "NIR_SNR_800  0.000811  0.000741        -8.527652"
      ]
     },
     "execution_count": 28,
     "metadata": {},
     "output_type": "execute_result"
    }
   ],
   "source": [
    "df"
   ]
  },
  {
   "cell_type": "code",
   "execution_count": null,
   "metadata": {
    "collapsed": true
   },
   "outputs": [],
   "source": [
    "df.t"
   ]
  }
 ],
 "metadata": {
  "kernelspec": {
   "display_name": "Python 3",
   "language": "python",
   "name": "python3"
  },
  "language_info": {
   "codemirror_mode": {
    "name": "ipython",
    "version": 3
   },
   "file_extension": ".py",
   "mimetype": "text/x-python",
   "name": "python",
   "nbconvert_exporter": "python",
   "pygments_lexer": "ipython3",
   "version": "3.5.1"
  }
 },
 "nbformat": 4,
 "nbformat_minor": 0
}
