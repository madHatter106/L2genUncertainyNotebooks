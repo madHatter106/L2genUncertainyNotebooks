{
 "cells": [
  {
   "cell_type": "markdown",
   "metadata": {},
   "source": [
    "Here, I take a bunch of 8D L3ms out of a set of experiments that included individual ancillary noise, as well as sensor noise experiments, and reorganize the data into Rrs_unc files, 1 per band, with dimensions lat, lon and experiment. The dataset name will be rrs_unc. I also aggregate the data onto which noise was added into a separate file."
   ]
  },
  {
   "cell_type": "code",
   "execution_count": 1,
   "metadata": {},
   "outputs": [
    {
     "name": "stderr",
     "output_type": "stream",
     "text": [
      "/accounts/ekarakoy/anaconda3/lib/python3.5/site-packages/xarray/core/formatting.py:16: FutureWarning: The pandas.tslib module is deprecated and will be removed in a future version.\n",
      "  from pandas.tslib import OutOfBoundsDatetime\n"
     ]
    }
   ],
   "source": [
    "import xarray as xr\n",
    "import os\n",
    "import glob"
   ]
  },
  {
   "cell_type": "code",
   "execution_count": 6,
   "metadata": {},
   "outputs": [
    {
     "data": {
      "text/html": [
       "<style>.container {width:90% !important;}</style>"
      ],
      "text/plain": [
       "<IPython.core.display.HTML object>"
      ]
     },
     "metadata": {},
     "output_type": "display_data"
    }
   ],
   "source": [
    "from IPython.core.display import display, HTML\n",
    "display(HTML(\"<style>.container {width:90% !important;}</style>\"))"
   ]
  },
  {
   "cell_type": "code",
   "execution_count": 4,
   "metadata": {},
   "outputs": [],
   "source": [
    "dataDir = '/accounts/ekarakoy/disk02/UNCERTAINTIES/Monte-Carlo/DATA/AncillaryMC/'\n",
    "outDir = 'Synthesis'\n",
    "expDirs = [d for d in os.listdir(dataDir) if outDir not in d]\n",
    "fpattern = 'S2003193*.L3m_8D*.nc'\n",
    "fpaths = [glob.glob(os.path.join(dataDir, expDir, fpattern))[0] for expDir in expDirs]"
   ]
  },
  {
   "cell_type": "code",
   "execution_count": 5,
   "metadata": {},
   "outputs": [
    {
     "data": {
      "text/plain": [
       "['O3', 'Pressure', 'WindSpeed', 'Lt', 'All', 'RH']"
      ]
     },
     "execution_count": 5,
     "metadata": {},
     "output_type": "execute_result"
    }
   ],
   "source": [
    "expDirs"
   ]
  },
  {
   "cell_type": "code",
   "execution_count": 7,
   "metadata": {},
   "outputs": [
    {
     "data": {
      "text/plain": [
       "['/accounts/ekarakoy/disk02/UNCERTAINTIES/Monte-Carlo/DATA/AncillaryMC/O3/S20031932003200.L3m_8D_O3.nc',\n",
       " '/accounts/ekarakoy/disk02/UNCERTAINTIES/Monte-Carlo/DATA/AncillaryMC/Pressure/S20031932003200.L3m_8D_Pressure.nc',\n",
       " '/accounts/ekarakoy/disk02/UNCERTAINTIES/Monte-Carlo/DATA/AncillaryMC/WindSpeed/S20031932003200.L3m_8D_WindSpeed.nc',\n",
       " '/accounts/ekarakoy/disk02/UNCERTAINTIES/Monte-Carlo/DATA/AncillaryMC/Lt/S20031932003200.L3m_8D_Lt.nc',\n",
       " '/accounts/ekarakoy/disk02/UNCERTAINTIES/Monte-Carlo/DATA/AncillaryMC/All/S20031932003200.L3m_8D_All.nc',\n",
       " '/accounts/ekarakoy/disk02/UNCERTAINTIES/Monte-Carlo/DATA/AncillaryMC/RH/S20031932003200.L3m_8D_RH.nc']"
      ]
     },
     "execution_count": 7,
     "metadata": {},
     "output_type": "execute_result"
    }
   ],
   "source": [
    "fpaths"
   ]
  },
  {
   "cell_type": "code",
   "execution_count": 8,
   "metadata": {},
   "outputs": [],
   "source": [
    "bands = [412, 443, 490, 510, 555, 670]"
   ]
  },
  {
   "cell_type": "code",
   "execution_count": 15,
   "metadata": {},
   "outputs": [],
   "source": [
    "with xr.open_mfdataset(fpaths, concat_dim='experiment') as allData:\n",
    "    allData.coords['experiment'] = expDirs\n",
    "    # rrs unc section\n",
    "    for band in bands:\n",
    "        foutpath = os.path.join(dataDir, outDir, '%s%d%s' %(fpaths[0].rsplit('/')[-1].split('8D')[0],\n",
    "                                                           band, '_8D.nc'))\n",
    "        if not os.path.exists(os.path.dirname(foutpath)):\n",
    "            os.makedirs(os.path.dirname(foutpath))\n",
    "        data = allData.data_vars['Rrs_unc_%d' % band]\n",
    "        data.name = 'rrs_unc'\n",
    "        dsData = data.to_dataset()\n",
    "        dsData.to_netcdf(path=foutpath, engine='netcdf4')"
   ]
  },
  {
   "cell_type": "code",
   "execution_count": null,
   "metadata": {
    "collapsed": true
   },
   "outputs": [],
   "source": []
  }
 ],
 "metadata": {
  "anaconda-cloud": {},
  "kernelspec": {
   "display_name": "Python [conda root]",
   "language": "python",
   "name": "conda-root-py"
  },
  "language_info": {
   "codemirror_mode": {
    "name": "ipython",
    "version": 3
   },
   "file_extension": ".py",
   "mimetype": "text/x-python",
   "name": "python",
   "nbconvert_exporter": "python",
   "pygments_lexer": "ipython3",
   "version": "3.5.3"
  }
 },
 "nbformat": 4,
 "nbformat_minor": 2
}
