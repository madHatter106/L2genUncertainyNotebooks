{
 "cells": [
  {
   "cell_type": "code",
   "execution_count": 1,
   "metadata": {
    "collapsed": true
   },
   "outputs": [],
   "source": [
    "# IMPORT STUFF\n",
    "from scipy.io import readsav\n",
    "import netCDF4 as nc\n",
    "import numpy as np\n",
    "import os\n",
    "import glob\n",
    "import time\n",
    "import matplotlib.pyplot as pl"
   ]
  },
  {
   "cell_type": "code",
   "execution_count": 252,
   "metadata": {
    "collapsed": true
   },
   "outputs": [],
   "source": [
    "import os"
   ]
  },
  {
   "cell_type": "code",
   "execution_count": 253,
   "metadata": {
    "collapsed": false
   },
   "outputs": [
    {
     "data": {
      "text/plain": [
       "'/accounts/ekarakoy/ocssw/'"
      ]
     },
     "execution_count": 253,
     "metadata": {},
     "output_type": "execute_result"
    }
   ],
   "source": [
    "os.environ.get('OCSSWROOT')"
   ]
  },
  {
   "cell_type": "code",
   "execution_count": 2,
   "metadata": {
    "collapsed": false
   },
   "outputs": [],
   "source": [
    "# DATA STUFF\n",
    "dataDir = '/accounts/ekarakoy/disk02/UNCERTAINTIES/Monte-Carlo/SWF/DATA/L2_L3/GLOBAL/StandardRun/'\n",
    "fname = 'S2003196.L3b_DAY_SU4.nc'\n",
    "fp = os.path.join(dataDir,fname)\n",
    "# mask stuff\n",
    "regMaskDirs = '/accounts/ekarakoy/idl/hdf/'\n",
    "maskList = glob.glob(os.path.join(regMaskDirs,'global*.idl'))"
   ]
  },
  {
   "cell_type": "code",
   "execution_count": 254,
   "metadata": {
    "collapsed": false
   },
   "outputs": [
    {
     "data": {
      "text/plain": [
       "['/accounts/ekarakoy/idl/hdf/global_bin_meso_9km.idl',\n",
       " '/accounts/ekarakoy/idl/hdf/global_bin_eutr_9km.idl',\n",
       " '/accounts/ekarakoy/idl/hdf/global_bin_regions_9km.idl',\n",
       " '/accounts/ekarakoy/idl/hdf/global_bin_deep_9km.idl',\n",
       " '/accounts/ekarakoy/idl/hdf/global_bin_olig_9km.idl']"
      ]
     },
     "execution_count": 254,
     "metadata": {},
     "output_type": "execute_result"
    }
   ],
   "source": [
    "maskList"
   ]
  },
  {
   "cell_type": "code",
   "execution_count": 258,
   "metadata": {
    "collapsed": false
   },
   "outputs": [],
   "source": [
    "a={}\n",
    "a = readsav('/accounts/ekarakoy/idl/hdf/global_bin_regions_9km.idl',idict=a,\n",
    "            python_dict=True)"
   ]
  },
  {
   "cell_type": "code",
   "execution_count": 261,
   "metadata": {
    "collapsed": true
   },
   "outputs": [],
   "source": [
    "b={}\n",
    "b=readsav('/accounts/ekarakoy/idl/hdf/global_bin_meso_9km.idl',idict=a,\n",
    "            python_dict=True)"
   ]
  },
  {
   "cell_type": "code",
   "execution_count": 262,
   "metadata": {
    "collapsed": false
   },
   "outputs": [
    {
     "data": {
      "text/plain": [
       "{'deep': array([  64358,   64359,   64360, ..., 5940419, 5940420, 5940421], dtype=int32),\n",
       " 'eutr': array([  58806,   58807,   59646, ..., 5922499, 5923429, 5923431], dtype=int32),\n",
       " 'meso': array([  58808,   59645,   59650, ..., 5923428, 5923430, 5923432], dtype=int32),\n",
       " 'olig': array([  80449,  103579,  122363, ..., 5864416, 5905357, 5919981], dtype=int32)}"
      ]
     },
     "execution_count": 262,
     "metadata": {},
     "output_type": "execute_result"
    }
   ],
   "source": [
    "b"
   ]
  },
  {
   "cell_type": "code",
   "execution_count": 260,
   "metadata": {
    "collapsed": false
   },
   "outputs": [
    {
     "name": "stdout",
     "output_type": "stream",
     "text": [
      "deep has 3741734 bins\n",
      "olig has 1096991 bins\n",
      "eutr has 240591 bins\n",
      "meso has 2827552 bins\n"
     ]
    }
   ],
   "source": [
    "for key,val in a.items():\n",
    "    print(\"%s: %s\" %(key, np.array_equal(a[key],maskDict[key])"
   ]
  },
  {
   "cell_type": "code",
   "execution_count": 255,
   "metadata": {
    "collapsed": false
   },
   "outputs": [
    {
     "name": "stdout",
     "output_type": "stream",
     "text": [
      "time taken: 0.029 sec.\n"
     ]
    }
   ],
   "source": [
    "t_start = time.time()\n",
    "# initialize dictionary to contain mask\n",
    "maskDict = {}\n",
    "for maskPath in maskList:\n",
    "    maskDict = readsav(maskPath,idict=maskDict,python_dict=True)\n",
    "t_elapsed = time.time() - t_start\n",
    "print('time taken: %.3f sec.' % t_elapsed)"
   ]
  },
  {
   "cell_type": "code",
   "execution_count": 256,
   "metadata": {
    "collapsed": false,
    "scrolled": true
   },
   "outputs": [
    {
     "name": "stdout",
     "output_type": "stream",
     "text": [
      "eutr has 240591 bins\n",
      "deep has 3741734 bins\n",
      "olig has 1096991 bins\n",
      "meso has 2827552 bins\n"
     ]
    }
   ],
   "source": [
    "for key,val in maskDict.items():\n",
    "    print(\"%s has %s bins\" % (key,val.size))"
   ]
  },
  {
   "cell_type": "code",
   "execution_count": 5,
   "metadata": {
    "collapsed": true
   },
   "outputs": [],
   "source": [
    "ds = nc.Dataset(fp)"
   ]
  },
  {
   "cell_type": "code",
   "execution_count": 6,
   "metadata": {
    "collapsed": true
   },
   "outputs": [],
   "source": [
    "gpv = ds.groups['level-3_binned_data'].variables"
   ]
  },
  {
   "cell_type": "code",
   "execution_count": 7,
   "metadata": {
    "collapsed": false
   },
   "outputs": [],
   "source": [
    "bin_num_sat = gpv['BinList'][:]['bin_num']\n",
    "wts = gpv['BinList'][:]['weights']"
   ]
  },
  {
   "cell_type": "code",
   "execution_count": 8,
   "metadata": {
    "collapsed": false
   },
   "outputs": [],
   "source": [
    "oligMask = np.in1d(bin_num_sat, maskDict['olig'])\n",
    "eutrMask = np.in1d(bin_num_sat, maskDict['eutr'])\n",
    "deepMask = np.in1d(bin_num_sat, maskDict['deep'])\n",
    "mesoMask = np.in1d(bin_num_sat, maskDict['meso'])"
   ]
  },
  {
   "cell_type": "code",
   "execution_count": 9,
   "metadata": {
    "collapsed": true
   },
   "outputs": [],
   "source": [
    "rrs_unc_412 = gpv['Rrs_unc_412'][:]['sum']/wts"
   ]
  },
  {
   "cell_type": "code",
   "execution_count": 10,
   "metadata": {
    "collapsed": false
   },
   "outputs": [],
   "source": [
    "def GetDistrib(data,bins=None): \n",
    "    if not bins:\n",
    "        bins='auto'\n",
    "    counts,edges = np.histogram(data,density=True,bins=bins)\n",
    "    widths = np.diff(edges)\n",
    "    centers = (edges[:-1]+edges[1:]) / 2\n",
    "    return counts, centers, widths"
   ]
  },
  {
   "cell_type": "code",
   "execution_count": 166,
   "metadata": {
    "collapsed": true
   },
   "outputs": [],
   "source": [
    "def hdiByProb(x, binWidth=np.array([False]), credMass=0.95):\n",
    "    ''' Computes HDI from pmf.\n",
    "        x is probability (sum to 1) or counts.\n",
    "       if counts, bin width should also be passed'''\n",
    "    hdiDict = {}\n",
    "    if binWidth.any():\n",
    "        x = x * binWidth\n",
    "    # reverse sort freq data\n",
    "    scx = np.sort(x)[::-1]\n",
    "    # reverse sort data idx\n",
    "    scxi = np.argsort(x)[::-1]\n",
    "    # compute cdf\n",
    "    scxcsm = np.cumsum(scx)\n",
    "    # get idx where cdf first matches or is greater than credMass\n",
    "    # this gives the lower bound of the HDI\n",
    "    # 0 is automatically the higher bound of the HDI\n",
    "    cumIdxMax = np.argwhere(scxcsm>=credMass).min()\n",
    "    cumMedIdx = np.argwhere(scxcsm<=0.5).max()\n",
    "    # get idx of HDI lowerbound  (scx and  scxcsm have same index base)\n",
    "    hdiMinIdx = scxi[cumIdxMax]\n",
    "    medIdx = scxi[cumMedIdx]\n",
    "    # though note necessarily useful for plotting,\n",
    "    # get upper bound of hdiMaxIdx\n",
    "    hdiMaxIdx = scxi[0]\n",
    "    hdiMax,hdiMin = cx[hdiMaxIdx],cx[hdiMinIdx]\n",
    "    hdiDict['hdiMin'] = hdiMin\n",
    "    hdiDict['hdiMax'] = hdiMax\n",
    "    hdiDict['hdiMaxIdx'] = hdiMaxIdx\n",
    "    hdiDict['hdiIndices'] = np.argwhere(cx>=hdiMin)\n",
    "    hdiDict['credMass'] = credMass\n",
    "    hdiDict['medIdx'] = medIdx\n",
    "    return hdiDict"
   ]
  },
  {
   "cell_type": "code",
   "execution_count": 133,
   "metadata": {
    "collapsed": false
   },
   "outputs": [],
   "source": [
    "def PlotDist(data,centers,widths,axh, **kwargs):\n",
    "    bar = kwargs.pop('bar', False)\n",
    "    datacolor = kwargs.pop('datacolor',None)\n",
    "    edgecolor='black'\n",
    "    if datacolor:\n",
    "        edgecolor = datacolor\n",
    "    dataname = kwargs.pop('dataname',None)\n",
    "    xlim = kwargs.pop('xlim', None)\n",
    "    hdiDict = kwargs.pop('hdiDict', None)\n",
    "    hdicolor = kwargs.pop('hdicolor','black')\n",
    "    axh.bar(centers,data,align='center',width=widths,color=datacolor,\n",
    "           edgecolor=edgecolor, label=dataname)\n",
    "    if xlim:\n",
    "        axh.set_xlim(xlim)\n",
    "    if hdiDict:\n",
    "        wtdMeanX = np.sum(data*centers/data.sum())\n",
    "        hdiMinX = centers[hdiDict['hdiIndices'].min()]\n",
    "        hdiMaxX = centers[hdiDict['hdiIndices'].max()]\n",
    "        hdiIdx = hdiDict['hdiIndices']\n",
    "        axh.bar(centers[hdiIdx],data[hdiIdx],width=widths[hdiIdx],\n",
    "               color=hdicolor, edgecolor=hdicolor, align='center',\n",
    "               label='%.2f%% HDI (%.1e - %.1e)' % (hdiDict['credMass'],\n",
    "                                                   hdiMinX, hdiMaxX),\n",
    "               )\n",
    "        axh.axvline(x=centers[hdiDict['hdiMaxIdx']],color='r',\n",
    "                   label = 'mode = %.1e' % centers[hdiDict['hdiMaxIdx']])\n",
    "        axh.axvline(x=wtdMeanX,color='m',\n",
    "                   label='weighted mean = %.1e' % wtdMeanX )\n",
    "        axh.axvline(x=centers[hdiDict['medIdx']],color='darkgray', linewidth=2,\n",
    "                   label='median = %.1e' % centers[hdiDict['medIdx']])\n",
    "        axh.legend(loc='best')"
   ]
  },
  {
   "cell_type": "code",
   "execution_count": 263,
   "metadata": {
    "collapsed": false
   },
   "outputs": [
    {
     "data": {
      "image/png": "[encoded data removed]",
      "text/plain": [
       "<matplotlib.figure.Figure at 0x7fad72040438>"
      ]
     },
     "metadata": {},
     "output_type": "display_data"
    }
   ],
   "source": [
    "counts,centers,widths = GetDistrib(rrs_unc_412)\n",
    "cx = counts*widths\n",
    "hdi_dict = hdiByProb(counts,binWidth=widths,credMass=0.95)\n",
    "f = pl.figure(figsize=(10,10))\n",
    "ax = f.add_subplot(111)\n",
    "PlotData(cx,centers,widths,ax,xlim=(0,8e-4),hdiDict=hdi_dict,\n",
    "         dataname='rrs(412) uncertainty',hdicolor='brown',datacolor='orange')"
   ]
  },
  {
   "cell_type": "code",
   "execution_count": 251,
   "metadata": {
    "collapsed": true
   },
   "outputs": [],
   "source": [
    "from auxiliary import GetHDI, PlotDist"
   ]
  },
  {
   "cell_type": "code",
   "execution_count": 135,
   "metadata": {
    "collapsed": true
   },
   "outputs": [],
   "source": [
    "pl.show()"
   ]
  },
  {
   "cell_type": "code",
   "execution_count": 79,
   "metadata": {
    "collapsed": false
   },
   "outputs": [
    {
     "data": {
      "image/png": "[encoded data removed]",
      "text/plain": [
       "<matplotlib.figure.Figure at 0x7f059addb710>"
      ]
     },
     "metadata": {},
     "output_type": "display_data"
    }
   ],
   "source": [
    "from matplotlib.pylab import rcParams\n",
    "rcParams['xtick.labelsize']=12\n",
    "rcParams['ytick.labelsize']=12\n",
    "fig=pl.figure(figsize=(12,12))\n",
    "xbins=np.linspace(0,0.0015,num=100)\n",
    "ax = fig.add_subplot(221) \n",
    "ax.hist(rrs_unc_412[oligMask], bins=xbins,histtype='stepfilled',label='olig');\n",
    "ax.ticklabel_format(style='sci',scilimits=(-2,3),axis='both')\n",
    "pl.legend(loc='best',fontsize=16);\n",
    "ax = fig.add_subplot(222)\n",
    "ax.hist(rrs_unc_412[eutrMask],color='gray', bins=xbins,histtype='stepfilled',alpha=0.85,\n",
    "       label='eutr');\n",
    "ax.ticklabel_format(style='sci',scilimits=(-2,3),axis='both')\n",
    "pl.legend(loc='best',fontsize=16);\n",
    "ax = fig.add_subplot(223)\n",
    "ax.hist(rrs_unc_412[deepMask],color='orange',bins=xbins,histtype='stepfilled',alpha=0.5,\n",
    "       label='deep');\n",
    "ax.ticklabel_format(style='sci',scilimits=(-2,3),axis='both')\n",
    "pl.legend(loc='best',fontsize=16);\n",
    "ax=fig.add_subplot(224)\n",
    "ax.hist(rrs_unc_412[mesoMask],color='red',bins=xbins,histtype='stepfilled',alpha=0.25,\n",
    "       label='meso');\n",
    "ax.ticklabel_format(style='sci',scilimits=(-2,3),axis='both')\n",
    "pl.legend(loc='best',fontsize=16);"
   ]
  }
 ],
 "metadata": {
  "anaconda-cloud": {},
  "kernelspec": {
   "display_name": "Python [Root]",
   "language": "python",
   "name": "Python [Root]"
  },
  "language_info": {
   "codemirror_mode": {
    "name": "ipython",
    "version": 3
   },
   "file_extension": ".py",
   "mimetype": "text/x-python",
   "name": "python",
   "nbconvert_exporter": "python",
   "pygments_lexer": "ipython3",
   "version": "3.5.2"
  }
 },
 "nbformat": 4,
 "nbformat_minor": 0
}
