{
 "cells": [
  {
   "cell_type": "code",
   "execution_count": 25,
   "metadata": {
    "collapsed": true
   },
   "outputs": [],
   "source": [
    "from scipy.stats import gamma\n",
    "from scipy.stats import invgamma\n",
    "from scipy.stats import norm\n",
    "import numpy as np\n",
    "from auxiliary import GetHDI"
   ]
  },
  {
   "cell_type": "code",
   "execution_count": 12,
   "metadata": {
    "collapsed": false
   },
   "outputs": [],
   "source": [
    "# THE THERMOMETER PROBLEM\n",
    "\n",
    "def PosteriorUpdate(data,priorMean,priorVar,knownDataVar):\n",
    "    dataMean = np.mean(data)\n",
    "    n = len(data)\n",
    "    posterior_mean = dataMean * (n /( n + knownDataVar/priorVar)) + \\\n",
    "    priorMean *(knownDataVar/priorVar) / (n+ knownDataVar/priorVar)\n",
    "    posterior_var = 1 / (n/knownDataVar + 1/priorVar)\n",
    "    return posterior_mean, posterior_var\n",
    "\n",
    "\n",
    "data=[94.6,95.4,96.2,94.9,95.9]\n",
    "prMn = 100\n",
    "prVar = 0.25\n",
    "lkVar = 0.25\n",
    "posMn,posVar = PosteriorUpdate(data,prMn,prVar,lkVar)"
   ]
  },
  {
   "cell_type": "code",
   "execution_count": 54,
   "metadata": {
    "collapsed": false
   },
   "outputs": [
    {
     "data": {
      "text/plain": [
       "0.2916666666666667"
      ]
     },
     "execution_count": 54,
     "metadata": {},
     "output_type": "execute_result"
    }
   ],
   "source": [
    "0.25 + posVar"
   ]
  },
  {
   "cell_type": "code",
   "execution_count": 16,
   "metadata": {
    "collapsed": false
   },
   "outputs": [
    {
     "name": "stdout",
     "output_type": "stream",
     "text": [
      "96.1666666667 0.041666666666666664\n"
     ]
    }
   ],
   "source": [
    "print(posMn,posVar)"
   ]
  },
  {
   "cell_type": "code",
   "execution_count": 50,
   "metadata": {
    "collapsed": false
   },
   "outputs": [
    {
     "data": {
      "text/plain": [
       "96.566742639696301"
      ]
     },
     "execution_count": 50,
     "metadata": {},
     "output_type": "execute_result"
    }
   ],
   "source": [
    "# UPPER END OF AN EQUAL-TAIL 95% \n",
    "norm.ppf(.975,posMn,np.sqrt(posVar))"
   ]
  },
  {
   "cell_type": "code",
   "execution_count": 19,
   "metadata": {
    "collapsed": false
   },
   "outputs": [
    {
     "data": {
      "text/plain": [
       "1.0"
      ]
     },
     "execution_count": 19,
     "metadata": {},
     "output_type": "execute_result"
    }
   ],
   "source": [
    "# P(theta<100)\n",
    "norm.cdf(100,posMn,posVar)"
   ]
  },
  {
   "cell_type": "code",
   "execution_count": 27,
   "metadata": {
    "collapsed": false
   },
   "outputs": [
    {
     "name": "stdout",
     "output_type": "stream",
     "text": [
      "100.0 98.4549141335\n"
     ]
    }
   ],
   "source": [
    "# THE RESTAURANT PROBLEM\n",
    "\n",
    "# Restaurant B\n",
    "nB = 27\n",
    "prMn = 500\n",
    "prVar_a,prVar_b = 3,200\n",
    "varMean = 1/gamma.mean(prVar_a-1,scale=1/prVar_b)\n",
    "var_i = 1/gamma.rvs(prVar_a,scale=1/prVar_b,size=1000)\n",
    "print(varMean,var_i.mean())"
   ]
  },
  {
   "cell_type": "code",
   "execution_count": 6,
   "metadata": {
    "collapsed": false
   },
   "outputs": [
    {
     "name": "stdout",
     "output_type": "stream",
     "text": [
      "a_post = 16.500000\n",
      "b_post = 6022.884188\n",
      "post_Mean = 609.295203\n"
     ]
    }
   ],
   "source": [
    "# THE RESTAURANT PROBLEM\n",
    "# RESTAURANT B\n",
    "# DATA\n",
    "nB=27\n",
    "sample_mean=609.7\n",
    "sample_var=401.8\n",
    "#PRIOR\n",
    "#    mean\n",
    "prior_mean=500 \n",
    "#    effective sample size\n",
    "w = 0.1 # not high confidence \n",
    "#    prior param for estimation of prior var from inverse gamma\n",
    "a=3\n",
    "b=200\n",
    "# UPDATE\n",
    "apB = a + nB/2\n",
    "bpB = b+ (nB-1)/2 * sample_var + w*nB/(2*(w+nB)) * (sample_mean - prior_mean)**2\n",
    "postmnB = (nB*sample_mean + w*prior_mean) / (w+nB)\n",
    "print(\"a_post = %f\" % apB)\n",
    "print(\"b_post = %f\" % bpB)\n",
    "print(\"post_Mean = %f\" % postmnB)"
   ]
  },
  {
   "cell_type": "code",
   "execution_count": 43,
   "metadata": {
    "collapsed": false
   },
   "outputs": [],
   "source": [
    "# simulate vars\n",
    "sig2rvsB = 1/gamma.rvs(apB,scale=1/bpB,size=1000)\n",
    "# simulate mus\n",
    "murvsB = norm.rvs(loc=postmnB,scale=np.sqrt(sig2rvsB/27.1),size=1000)"
   ]
  },
  {
   "cell_type": "code",
   "execution_count": 44,
   "metadata": {
    "collapsed": false
   },
   "outputs": [
    {
     "data": {
      "text/plain": [
       "array([ 602.12257082,  616.4507332 ])"
      ]
     },
     "execution_count": 44,
     "metadata": {},
     "output_type": "execute_result"
    }
   ],
   "source": [
    "# CI for dish weight\n",
    "np.percentile(murvsB,(2.5,97.5))"
   ]
  },
  {
   "cell_type": "code",
   "execution_count": 47,
   "metadata": {
    "collapsed": false
   },
   "outputs": [
    {
     "name": "stdout",
     "output_type": "stream",
     "text": [
      "[ 615.39194044  629.45582343]\n"
     ]
    }
   ],
   "source": [
    "# RESTAURANT A\n",
    "# DATA\n",
    "nA=30\n",
    "smean = 622.8\n",
    "svar = 403.1\n",
    "prmn=500\n",
    "# USE SAME PRIORS AS BEFORE\n",
    "# UPDATE\n",
    "apA = a + nA/2\n",
    "bpA = b + (nA-1)/2 * svar + w*nA/(2*(w+nA)) * (smean - prmn)**2\n",
    "postmnA = (nA*smean + w*prmn) / (w+nA)\n",
    "sig2rvsA =  1/gamma.rvs(apA,scale=1/bpA,size=1000)\n",
    "# simulate mus\n",
    "murvsA = norm.rvs(loc=postmnA,scale=np.sqrt(sig2rvsA/(nA+w)),size=1000)\n",
    "ci95A = np.percentile(murvsA,(2.5,97.5))\n",
    "print(ci95A)"
   ]
  },
  {
   "cell_type": "code",
   "execution_count": 49,
   "metadata": {
    "collapsed": false
   },
   "outputs": [
    {
     "data": {
      "text/plain": [
       "0.996"
      ]
     },
     "execution_count": 49,
     "metadata": {},
     "output_type": "execute_result"
    }
   ],
   "source": [
    "# posterior probability that dishes in A weigh more than in B\n",
    "np.sum(murvsA>murvsB) / murvsA.size"
   ]
  },
  {
   "cell_type": "code",
   "execution_count": 58,
   "metadata": {
    "collapsed": false
   },
   "outputs": [
    {
     "name": "stdout",
     "output_type": "stream",
     "text": [
      "Q2: 0.8\n",
      "Q3: N(95.4,0.25)\n"
     ]
    }
   ],
   "source": [
    "# QUIZ for Lesson 11\n",
    "print(\"Q2: %.1f\" % (4/5))\n",
    "print(\"Q3: N(%.1f,%.2f)\" % ( np.mean(data),prVar ) )\n"
   ]
  },
  {
   "cell_type": "code",
   "execution_count": 60,
   "metadata": {
    "collapsed": false
   },
   "outputs": [
    {
     "name": "stdout",
     "output_type": "stream",
     "text": [
      "Q4\n"
     ]
    },
    {
     "data": {
      "text/plain": [
       "[<matplotlib.lines.Line2D at 0x7fec16b2a320>]"
      ]
     },
     "execution_count": 60,
     "metadata": {},
     "output_type": "execute_result"
    },
    {
     "data": {
      "image/png": "[encoded data removed]",
      "text/plain": [
       "<matplotlib.figure.Figure at 0x7fec16b1f630>"
      ]
     },
     "metadata": {},
     "output_type": "display_data"
    }
   ],
   "source": [
    "print(\"Q4\")\n",
    "from scipy.stats import beta\n",
    "import matplotlib.pyplot as pl\n",
    "% matplotlib inline\n",
    "p = np.arange(0,1,0.01)\n",
    "fp_pdf = beta.pdf(p,0.5,0.5)\n",
    "pl.plot(p,fp_pdf)"
   ]
  },
  {
   "cell_type": "code",
   "execution_count": null,
   "metadata": {
    "collapsed": true
   },
   "outputs": [],
   "source": []
  }
 ],
 "metadata": {
  "kernelspec": {
   "display_name": "Python [Root]",
   "language": "python",
   "name": "Python [Root]"
  },
  "language_info": {
   "codemirror_mode": {
    "name": "ipython",
    "version": 3
   },
   "file_extension": ".py",
   "mimetype": "text/x-python",
   "name": "python",
   "nbconvert_exporter": "python",
   "pygments_lexer": "ipython3",
   "version": "3.5.2"
  }
 },
 "nbformat": 4,
 "nbformat_minor": 0
}
