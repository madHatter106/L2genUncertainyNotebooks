{
 "cells": [
  {
   "cell_type": "code",
   "execution_count": 1,
   "metadata": {
    "collapsed": true
   },
   "outputs": [],
   "source": [
    "from AnalyticNoise2 import SwfNoise\n",
    "import numpy as np\n",
    "import netCDF4 as nc\n",
    "import matplotlib.pyplot as pl"
   ]
  },
  {
   "cell_type": "code",
   "execution_count": null,
   "metadata": {
    "collapsed": true
   },
   "outputs": [],
   "source": [
    "def StDevHists(obj):\n",
    "    \n",
    "    numBands = len(obj.bands)\n",
    "    for i in range(numBands):\n",
    "        band_i = obj.bands[i]\n",
    "        varMat_i = obj.rrsVarDict[band]\n",
    "        \n",
    "        for j in range(numBands+1):\n",
    "            std_ij = np.sqrt(varMat_i[:,j])\n",
    "            plt.subplot(331+j)\n",
    "            rng=(np.nanmin(std_ij),np.nanmax(std_ij)\n",
    "            plt.hist(std_ij,bins=100,color=)"
   ]
  },
  {
   "cell_type": "code",
   "execution_count": null,
   "metadata": {
    "collapsed": false
   },
   "outputs": [],
   "source": [
    "def CleanPlot(rrsPartVar,rrs,isSTD=False):\n",
    "    \n",
    "    if isSTD:\n",
    "        rrsPartStd = rrsPartVar\n",
    "    else:\n",
    "        rrsPartStd= np.sqrt(rrsPartVar)\n",
    "    rrsN0Idx = np.nonzero(rrs)[0]\n",
    "    rrsPartStdPerc=100*rrsPartStd[rrsN0Idx]/rrs[rrsN0Idx]\n",
    "    rrsPartStdPercClean = np.ma.masked_invalid(rrsPartStdPerc[rrsPartStdPerc>0])\n",
    "    \n",
    "    return rrsPartStdPercClean\n",
    "\n",
    "def UncPartialContribPlots(rrsVar,rrsBsl,fTplWdHt=(18,15),**kwarg):\n",
    "    \"\"\" I expect a 9 col. rrsVar w/ the first 8 are the \n",
    "        contribution of each band perturbation;\n",
    "        the 9th is the aggregated effect on uncertainty.\n",
    "        Abscissae units are in percentage points of std relative to \n",
    "        baseline rrs.\"\"\"\n",
    "    figname = 'Fig'\n",
    "    \n",
    "    if \"figNum\" in kwarg:\n",
    "        figname += str(kwarg['figNum'])\n",
    "    if  \"figName\" in kwarg:\n",
    "        figname = kwarg['figName']\n",
    "    if \"saveDir\" in kwarg:\n",
    "        figname = kwarg['saveDir'] + figname\n",
    "        \n",
    "    figname+='.pdf'\n",
    "    \n",
    "    bins = 100\n",
    "    if \"bins\" in kwarg:\n",
    "        bins = kwarg['bins']\n",
    "    logBin = False\n",
    "    if \"logbin\" in kwarg:\n",
    "        logBin = kwarg['logbin']\n",
    "    \n",
    "    if \"useSTD\" in kwarg:\n",
    "        useSTD = kwarg['useSTD']\n",
    "    else:\n",
    "        useSTD = False\n",
    "    \n",
    "    if \"useColors\" in kwarg:\n",
    "        colDict = kwarg['useColors']\n",
    "        useCol = True\n",
    "    else:\n",
    "        useCol = False\n",
    "    \n",
    "    bands = [412,443,490,510,555,670,765,865]\n",
    "    \n",
    "    plt.figure(figsize=fTplWdHt)\n",
    "    \n",
    "    for i in range(9):\n",
    "        plt.subplot(331+i)\n",
    "        \n",
    "        stdPerc = CleanPlot(rrsVar[:,i],rrsBsl,isSTD=useSTD)\n",
    "        if \"rangeDict\" in kwarg:\n",
    "            rangeDict = kwarg[\"rangeDict\"]\n",
    "            rangE = rangeDict[i]\n",
    "        else:\n",
    "            rangE = [0,1]\n",
    "        stdPerc=stdPerc[stdPerc<rangE[1]]\n",
    "        #plt.hist(stdPerc,range=rangE,bins=100,normed=True)\n",
    "        if useCol and i <8:\n",
    "            col = colDict[bands[i]]\n",
    "            sns.distplot(stdPerc,bins=bins,kde=False,\n",
    "                         color=col,hist_kws={'histype':'stepfilled'})\n",
    "        sns.distplot(stdPerc,bins=bins,kde = False,hist_kws={'histtype':'stepfilled'})\n",
    "        \n",
    "        if i>5:\n",
    "            plt.xlabel(r'$\\sigma_{Rrs}(\\%)$',fontsize=16)\n",
    "        plt.tick_params(labelsize=14)\n",
    "        if logBin:\n",
    "            plt.gca().set_xscale(\"log\")\n",
    "        if i<8:\n",
    "            plt.title(r'$\\deltaLt_{%d}$'% bands[i])\n",
    "        else:\n",
    "            plt.title('Aggregate Uncertainty')\n",
    "            \n",
    "    plt.savefig(figname)\n",
    "\n",
    "def UncAggPartContribPlots(rrsVar,rrsBsl,\n",
    "                           fTplWdHt=(13,8),useLog = False,\n",
    "                           **kwarg):\n",
    "\n",
    "    if \"range\" in kwarg:\n",
    "        plotRange = kwarg[\"range\"]\n",
    "    else:\n",
    "        plotRange = [0,10]\n",
    "        \n",
    "    plt.figure(figsize=fTplWdHt)\n",
    "    #ax = plt.subplot(1,2,1) \n",
    "    #ax2 = ax.twinx()\n",
    "    \n",
    "    if \"binNums\" in kwarg:\n",
    "        binNums = kwarg[\"binNums\"]\n",
    "    \n",
    "    else:\n",
    "        binNums = 100\n",
    "        \n",
    "    if \"colDict\" in kwarg:\n",
    "        colDict = kwarg[\"colDict\"]\n",
    "        keys = colDict.keys()\n",
    "        useColors=True;\n",
    "    else:\n",
    "        useColors=False\n",
    "    \n",
    "    barwid = float(plotRange[1])/binNums\n",
    "    accumVecHist = np.zeros((binNums,))\n",
    "    \n",
    "    for i in range(8):\n",
    "        \n",
    "        stdPerc = CleanPlot(rrsVar[:,i],rrsBsl)\n",
    "        if useLog:\n",
    "            \n",
    "            binSet = np.logspace(plotRange[0],plotRange[1],num = binNums+1)\n",
    "            print binSet\n",
    "            stdPercHist,binEdges = np.histogram(stdPerc,range=plotRange,bins=binSet,density=True)\n",
    "          \n",
    "        else:\n",
    "            \n",
    "            stdPercHist,binEdges=np.histogram(stdPerc,range=plotRange,bins=binNums,density=True)\n",
    "        \n",
    "        \n",
    "        print binEdges\n",
    "        print np.diff(binEdges)\n",
    "        print stdPercHist   \n",
    "        binCenters = 0.5*(binEdges[1:]+binEdges[:-1])\n",
    "        print np.diff(binCenters)\n",
    "        # ax.bar(binEdges[:-1],stdPercHist,width = barwid)\n",
    "        accumVecHist += stdPercHist\n",
    "        \n",
    "        if useColors:\n",
    "            key = keys[i]\n",
    "            plt.hist(binEdges,accumVecHist,histtype='step',label=str(i))\n",
    "            # plt.plot(binCenters,accumVecHist,label=key,color=colDict[key])\n",
    "        else:\n",
    "            plt.plot(binCenters,accumVecHist,histtype='step',label=str(i))\n",
    "        \n",
    "        plt.legend()\n",
    "            #else:\n",
    "            \n",
    "        if useLog:\n",
    "            plt.yscale('log')\n",
    "            plt.xscale('log')\n",
    "            #accumVecHist += stdPercHist\n",
    "            #sns.kdeplot(accumVec,bins=100)\n",
    "            #ax.plot(binCenters,accumVecHist)\n",
    "        plt.show()"
   ]
  },
  {
   "cell_type": "code",
   "execution_count": 2,
   "metadata": {
    "collapsed": true
   },
   "outputs": [],
   "source": [
    "fnMainDir = './DATA/L2/MC-AnalyticComp/Analytic/p0p30_1/'\n",
    "fnMainID = 'S2003182003236'\n",
    "fnAllSfx = '.L2'\n",
    "fnNoiseDir = 'Perturbed/'\n",
    "fnNsSfx = '_wiggledBand_'\n",
    "baseLinePath = fnMainDir+fnMainID + fnAllSfx"
   ]
  },
  {
   "cell_type": "code",
   "execution_count": null,
   "metadata": {
    "collapsed": true
   },
   "outputs": [],
   "source": [
    "\n",
    "ds = nc.Dataset(baseLinePath)"
   ]
  },
  {
   "cell_type": "code",
   "execution_count": null,
   "metadata": {
    "collapsed": true
   },
   "outputs": [],
   "source": [
    "gv = ds.groups['geophysical_data'].variables"
   ]
  },
  {
   "cell_type": "code",
   "execution_count": null,
   "metadata": {
    "collapsed": true
   },
   "outputs": [],
   "source": [
    "lt=gv['Lt_412'][:]"
   ]
  },
  {
   "cell_type": "code",
   "execution_count": null,
   "metadata": {
    "collapsed": false
   },
   "outputs": [],
   "source": [
    "rrs=gv['Rrs_412'][:]\n",
    "type(rrs)"
   ]
  },
  {
   "cell_type": "code",
   "execution_count": 3,
   "metadata": {
    "collapsed": false
   },
   "outputs": [],
   "source": [
    "swfp3=SwfNoise(baseLinePath,fnNoiseDir,multiDimVar=True)"
   ]
  },
  {
   "cell_type": "code",
   "execution_count": null,
   "metadata": {
    "collapsed": false
   },
   "outputs": [],
   "source": [
    "print swfp3.rrsUncDict['412']"
   ]
  },
  {
   "cell_type": "code",
   "execution_count": 4,
   "metadata": {
    "collapsed": false
   },
   "outputs": [],
   "source": [
    "swfp3.ReadFromSilent()"
   ]
  },
  {
   "cell_type": "code",
   "execution_count": 5,
   "metadata": {
    "collapsed": false
   },
   "outputs": [],
   "source": [
    "swfp3.BuildUncs('_wiggledBand_')"
   ]
  },
  {
   "cell_type": "code",
   "execution_count": 8,
   "metadata": {
    "collapsed": false
   },
   "outputs": [
    {
     "data": {
      "text/plain": [
       "['Lt_490',\n",
       " 'Lt_670',\n",
       " 'Lt_443',\n",
       " 'Lt_865',\n",
       " 'Lt_555',\n",
       " 'Lt_412',\n",
       " 'Lt_765',\n",
       " 'Lt_510']"
      ]
     },
     "execution_count": 8,
     "metadata": {},
     "output_type": "execute_result"
    }
   ],
   "source": [
    "swfp3.rrsUncDict['412'].keys()"
   ]
  },
  {
   "cell_type": "code",
   "execution_count": null,
   "metadata": {
    "collapsed": true
   },
   "outputs": [],
   "source": [
    "std443 = np.sqrt(swfp3.rrsVarDict['443'])\n",
    "std490 = np.sqrt(swfp3.rrsVarDict['490'])\n",
    "std510 = np.sqrt(swfp3.rrsVarDict['510'])\n",
    "std555 = np.sqrt(swfp3.rrsVarDict['555'])\n",
    "std670 = np.sqrt(swfp3.rrsVarDict['670'])"
   ]
  },
  {
   "cell_type": "code",
   "execution_count": null,
   "metadata": {
    "collapsed": false
   },
   "outputs": [],
   "source": [
    "dsMC = nc.Dataset('./DATA/L2/S2003182003236_silent_MC400.L2')\n",
    "std412MC = np.array(dsMC.groups['geophysical_data'].variables['Rrs_unc_412']).flatten()"
   ]
  },
  {
   "cell_type": "code",
   "execution_count": null,
   "metadata": {
    "collapsed": true
   },
   "outputs": [],
   "source": [
    "badval=-32767.0\n",
    "std412MC[std412MC == badval] = np.nan"
   ]
  },
  {
   "cell_type": "code",
   "execution_count": null,
   "metadata": {
    "collapsed": true
   },
   "outputs": [],
   "source": [
    "def JointHexPlot(detData,mcData,band,savePlot=False,showPlot=True):\n",
    "    \n",
    "    x_fin_idx = np.isfinite(detData)\n",
    "    y_fin_idx = np.isfinite(mcData)\n",
    "    fin_idx = x_fin_idx & y_fin_idx\n",
    "    x_det= detData[fin_idx]\n",
    "    y_mc = mcData[fin_idx]\n",
    "    \n",
    "    xmn,xmx = x_det.min(),x_det.max()\n",
    "    ymn,ymx = y_mc.min(),y_mc.max()\n",
    "    \n",
    "    sns.jointplot(x_det,y_mc,xlim = (xmn,xmx),ylim=(ymn,ymx),kind='hex')\n",
    "    plt.xlabel('Deterministic ($sr^{-1}$)')\n",
    "    plt.ylabel('MC $sr^{-1}$')\n",
    "    title = str(band)\n",
    "    plt.title(title)\n",
    "    if savePlot:\n",
    "        savename='Comp' + title + '.pdf'\n",
    "        plt.savefig(savename)\n",
    "        try:\n",
    "            subprocess.call(['pdfcrop', savename, savename])\n",
    "        except:\n",
    "            print 'This feature will only work if pdfcrop is available'\n",
    "    if showPlot:\n",
    "        plt.show()"
   ]
  },
  {
   "cell_type": "code",
   "execution_count": null,
   "metadata": {
    "collapsed": false
   },
   "outputs": [],
   "source": [
    "JointHexPlot(std412[:,-1],std412MC,'412')"
   ]
  },
  {
   "cell_type": "code",
   "execution_count": null,
   "metadata": {
    "collapsed": true
   },
   "outputs": [],
   "source": [
    "std443MC = np.array(dsMC.groups['geophysical_data'].variables['Rrs_unc_443']).flatten()\n",
    "JointHexPlot(std443[:,-1],std443MC,'443')"
   ]
  },
  {
   "cell_type": "code",
   "execution_count": null,
   "metadata": {
    "collapsed": true
   },
   "outputs": [],
   "source": [
    "std490MC = np.array(dsMC.groups['geophysical_data'].variables['Rrs_unc_490']).flatten()\n",
    "JointHexPlot(std490[:,-1],std490MC,'490')"
   ]
  },
  {
   "cell_type": "code",
   "execution_count": null,
   "metadata": {
    "collapsed": true
   },
   "outputs": [],
   "source": [
    "std510MC = np.array(dsMC.groups['geophysical_data'].variables['Rrs_unc_510']).flatten()\n",
    "JointHexPlot(std510[:,-1],std510MC,'510')"
   ]
  },
  {
   "cell_type": "code",
   "execution_count": null,
   "metadata": {
    "collapsed": true
   },
   "outputs": [],
   "source": [
    "std555MC = np.array(dsMC.groups['geophysical_data'].variables['Rrs_unc_555']).flatten()\n",
    "JointHexPlot(std555[:,-1],std555MC,'555')"
   ]
  },
  {
   "cell_type": "code",
   "execution_count": null,
   "metadata": {
    "collapsed": true
   },
   "outputs": [],
   "source": [
    "std670MC = np.array(dsMC.groups['geophysical_data'].variables['Rrs_unc_670']).flatten()\n",
    "JointHexPlot(std670[:,-1],std670MC,'670')"
   ]
  },
  {
   "cell_type": "code",
   "execution_count": null,
   "metadata": {
    "collapsed": false
   },
   "outputs": [],
   "source": [
    "rrs412 = swfp3.rrsBslDict['412']\n",
    "rrs443 = swfp3.rrsBslDict['443']\n",
    "rrs490 = swfp3.rrsBslDict['490']\n",
    "rrs510 = swfp3.rrsBslDict['510']\n",
    "rrs555 = swfp3.rrsBslDict['555']\n",
    "rrs670 = swfp3.rrsBslDict['670']"
   ]
  },
  {
   "cell_type": "code",
   "execution_count": null,
   "metadata": {
    "collapsed": false
   },
   "outputs": [],
   "source": [
    "#maxes=9*[500]\n",
    "maxes=[1000,1,1,1,1,2,4,5,1000]\n",
    "#maxes = 8*[10]+[500]\n",
    "#maxes = 9*[10]\n",
    "#maxes = [500]+4*[1]+[2,3,5,500]\n",
    "rd = {i:[0,v] for i,v in zip(range(0,9),maxes)}"
   ]
  },
  {
   "cell_type": "code",
   "execution_count": null,
   "metadata": {
    "collapsed": false
   },
   "outputs": [],
   "source": [
    "# use jointGrid instead for greater control\n",
    "sns.jointplot(std412[:,-1],std412MC,xlim=(xmn,xmx),ylim=(ymn,ymx),kind='hex');\n",
    "plt.xlabel('Deterministic ($sr^{-1}$)')\n",
    "plt.ylabel('MC $sr^{-1}$')\n",
    "plt.savefig('Comp412.pdf')\n",
    "plt.show()"
   ]
  },
  {
   "cell_type": "code",
   "execution_count": null,
   "metadata": {
    "collapsed": false
   },
   "outputs": [],
   "source": [
    "sns.jointplot(std412[:,-1],std412MC,xlim=(0,0.025),ylim=(0.0005,0.003),kind=\"hex\");\n",
    "plt.show()"
   ]
  },
  {
   "cell_type": "code",
   "execution_count": null,
   "metadata": {
    "collapsed": true
   },
   "outputs": [],
   "source": []
  }
 ],
 "metadata": {
  "kernelspec": {
   "display_name": "Python 2",
   "language": "python",
   "name": "python2"
  },
  "language_info": {
   "codemirror_mode": {
    "name": "ipython",
    "version": 2
   },
   "file_extension": ".py",
   "mimetype": "text/x-python",
   "name": "python",
   "nbconvert_exporter": "python",
   "pygments_lexer": "ipython2",
   "version": "2.7.10"
  }
 },
 "nbformat": 4,
 "nbformat_minor": 0
}
