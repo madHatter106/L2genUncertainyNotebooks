{
 "cells": [
  {
   "cell_type": "code",
   "execution_count": 55,
   "metadata": {
    "collapsed": false
   },
   "outputs": [],
   "source": [
    "import os\n",
    "from collections import OrderedDict\n",
    "import sys\n",
    "import glob\n",
    "from subprocess import Popen, PIPE, DEVNULL\n",
    "from itertools import islice\n",
    "from multiprocessing import cpu_count as CC"
   ]
  },
  {
   "cell_type": "code",
   "execution_count": 41,
   "metadata": {
    "collapsed": true
   },
   "outputs": [],
   "source": [
    "mainDir='/accounts/ekarakoy/DEV-ALL/UNCERTAINTIES/UNCPY/UNC_notebooks'\n",
    "dataDir='/accounts/ekarakoy/disk02/UNCERTAINTIES/Monte-Carlo/DATA/'\n",
    "testDir = 'Systematic_Error_Sensitivity'\n",
    "filename = 'test'\n",
    "ext = '.par'\n",
    "fpath = os.path.join(mainDir, testDir, filename)"
   ]
  },
  {
   "cell_type": "code",
   "execution_count": 79,
   "metadata": {
    "collapsed": false
   },
   "outputs": [],
   "source": [
    "n_vvv = 6\n",
    "n_nnn = 8\n",
    "parDict = OrderedDict()\n",
    "ifn = 'S2003150182636.L1A_GAC'\n",
    "ofn_base = ifn.split('.')[0]\n",
    "ofn_ext = '.L2'\n",
    "ofn = '%s_baseline%s' % (ofn_base, ofn_ext)\n",
    "parDict['ifile'] = os.path.join(dataDir, 'YeOldeStuffe/L1A', ifn)\n",
    "parDict['ofile'] = os.path.join(mainDir,testDir, ofn)\n",
    "parDict['l2prod'] = \"Lt_nnn,Rrs_vvv\"\n",
    "parfileName = 'sys_error_baseline.par'\n",
    "exp = 'baseline' + ext\n",
    "fpath = os.path.join(mainDir,testDir,exp)\n",
    "with open(fpath,'w') as fp:\n",
    "    PrParCont(parDict, fp=fp)\n",
    "\n",
    "add_lt_noise = '1.0'\n",
    "lt_noise_scale = ''.join(['['] + ['-1,'] * 7 + ['-1]'])\n",
    "maxIters = 10\n",
    "parDict['add_lt_noise'] = add_lt_noise\n",
    "parDict['lt_noise_scale'] = lt_noise_scale\n",
    "for i in range(1, maxIters):\n",
    "    ofn = ofn_base + '_%d' % i + ofn_ext\n",
    "    parDict['ofile'] = os.path.join(mainDir, testDir, ofn)\n",
    "    bias = 0.001 + (i - 1) * 0.001\n",
    "    exp = 'sys_error_%d%s' % (i, ext)\n",
    "    fpath = os.path.join(mainDir, testDir, exp)\n",
    "    bias_frac = ''.join(['['] + ['%.3f,' % bias] * 6 + ['0,0]'])\n",
    "    parDict['bias_frac'] = bias_frac\n",
    "    with open(fpath, 'w') as fp:\n",
    "        PrParCont(parDict, fp=fp)"
   ]
  },
  {
   "cell_type": "code",
   "execution_count": 38,
   "metadata": {
    "collapsed": false
   },
   "outputs": [],
   "source": [
    "def PrParCont(pdict, msg=None, fp=sys.stdout):\n",
    "    if msg:\n",
    "        print(msg)\n",
    "    for k,v in pdict.items():\n",
    "        print('%s=%s' %(k,v), file=fp)"
   ]
  },
  {
   "cell_type": "code",
   "execution_count": 80,
   "metadata": {
    "collapsed": false
   },
   "outputs": [],
   "source": [
    "parfiles = glob.iglob(os.path.join(mainDir,testDir,'*.par'))"
   ]
  },
  {
   "cell_type": "code",
   "execution_count": 66,
   "metadata": {
    "collapsed": false
   },
   "outputs": [],
   "source": [
    "def CommandGen(parfiles):\n",
    "    for pf in parfiles:\n",
    "        cmd = 'l2gen par=%s' % pf\n",
    "        yield cmd"
   ]
  },
  {
   "cell_type": "code",
   "execution_count": 67,
   "metadata": {
    "collapsed": false
   },
   "outputs": [],
   "source": [
    "maxWorkers = 2 * CC() - 1\n",
    "def Runner(tasks, workers=maxWorkers):\n",
    "    workers = min(maxWorkers,workers)\n",
    "    processes = (Popen(task, shell=True, stdout=DEVNULL, stderr=PIPE)\n",
    "                for task in tasks)\n",
    "    runningProcs = list(islice(processes, workers))\n",
    "    while runningProcs:\n",
    "        for i, process in enumerate(runningProcs):\n",
    "            if process.poll() is not None: # process has finished\n",
    "                runningProcs[i] = next(processes, None)\n",
    "                if runningProcs[i] is None:\n",
    "                    del runningProcs[i]\n",
    "                    break"
   ]
  },
  {
   "cell_type": "code",
   "execution_count": 81,
   "metadata": {
    "collapsed": true
   },
   "outputs": [],
   "source": [
    "tasks = CommandGen(parfiles)"
   ]
  },
  {
   "cell_type": "code",
   "execution_count": 82,
   "metadata": {
    "collapsed": false
   },
   "outputs": [
    {
     "name": "stdout",
     "output_type": "stream",
     "text": [
      "no procs. to add to slot 4\n",
      "no procs. to add to slot 2\n",
      "no procs. to add to slot 2\n",
      "no procs. to add to slot 0\n",
      "no procs. to add to slot 0\n"
     ]
    }
   ],
   "source": [
    "Runner(tasks, workers=5)"
   ]
  },
  {
   "cell_type": "code",
   "execution_count": null,
   "metadata": {
    "collapsed": true
   },
   "outputs": [],
   "source": []
  }
 ],
 "metadata": {
  "kernelspec": {
   "display_name": "Python [conda root]",
   "language": "python",
   "name": "conda-root-py"
  },
  "language_info": {
   "codemirror_mode": {
    "name": "ipython",
    "version": 3
   },
   "file_extension": ".py",
   "mimetype": "text/x-python",
   "name": "python",
   "nbconvert_exporter": "python",
   "pygments_lexer": "ipython3",
   "version": "3.5.2"
  }
 },
 "nbformat": 4,
 "nbformat_minor": 2
}
