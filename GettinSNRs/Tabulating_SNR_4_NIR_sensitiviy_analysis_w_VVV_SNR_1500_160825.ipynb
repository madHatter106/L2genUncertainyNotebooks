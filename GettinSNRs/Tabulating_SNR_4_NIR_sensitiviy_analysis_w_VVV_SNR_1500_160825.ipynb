{
 "cells": [
  {
   "cell_type": "markdown",
   "metadata": {},
   "source": [
    "Calculating Scaling values for the l2gen noise_scale parameter for all 8 bands\n",
    "for a PACE MC simulation to derive uncertainties, given SNR settings of\n",
    "* SNR(412-670) = 1000\n",
    "* SNR(NIR) = 500:50:800"
   ]
  },
  {
   "cell_type": "code",
   "execution_count": 1,
   "metadata": {
    "collapsed": true
   },
   "outputs": [],
   "source": [
    "import pandas as pd\n",
    "from Pyutils import pyutils\n",
    "import os"
   ]
  },
  {
   "cell_type": "code",
   "execution_count": 2,
   "metadata": {
    "collapsed": true
   },
   "outputs": [],
   "source": [
    "tblPath='/accounts/ekarakoy/UNCERTAINTIES/datafiles/dfNIRSensSNR_412SNR1500.p'"
   ]
  },
  {
   "cell_type": "code",
   "execution_count": 3,
   "metadata": {
    "collapsed": true
   },
   "outputs": [],
   "source": [
    "gsdTblPath='/accounts/ekarakoy/UNCERTAINTIES/datafiles/GSDSND_pandasDF.p'"
   ]
  },
  {
   "cell_type": "code",
   "execution_count": 4,
   "metadata": {
    "collapsed": true
   },
   "outputs": [],
   "source": [
    "index=[412,443,490,510,555,665,748,865]\n",
    "columns=['NIRSNR_%d' % step for step in range(500,850,50)]"
   ]
  },
  {
   "cell_type": "code",
   "execution_count": 5,
   "metadata": {
    "collapsed": true
   },
   "outputs": [],
   "source": [
    "nirSensSNRDict = dict.fromkeys(columns)\n",
    "for col,step in zip(columns,range(500,850,50)):\n",
    "    nirSensSNRDict[col] = [1500]*6 + [step]*2"
   ]
  },
  {
   "cell_type": "code",
   "execution_count": 6,
   "metadata": {
    "collapsed": false
   },
   "outputs": [],
   "source": [
    "dfNIRSensSNR = pd.DataFrame(nirSensSNRDict,index=index)"
   ]
  },
  {
   "cell_type": "code",
   "execution_count": 7,
   "metadata": {
    "collapsed": false
   },
   "outputs": [],
   "source": [
    "dfNIRSensSNR.index.name = 'l'"
   ]
  },
  {
   "cell_type": "code",
   "execution_count": 8,
   "metadata": {
    "collapsed": false
   },
   "outputs": [],
   "source": [
    "dfGsdSnr = pd.read_pickle(gsdTblPath)"
   ]
  },
  {
   "cell_type": "code",
   "execution_count": 9,
   "metadata": {
    "collapsed": false
   },
   "outputs": [],
   "source": [
    "dfNIRSensSNR.insert(0,'Ltyp',dfGsdSnr.loc[dfNIRSensSNR.index].Ltyp)"
   ]
  },
  {
   "cell_type": "code",
   "execution_count": 10,
   "metadata": {
    "collapsed": true
   },
   "outputs": [],
   "source": [
    "dfNIRSensSNR.to_pickle(tblPath)"
   ]
  },
  {
   "cell_type": "code",
   "execution_count": 11,
   "metadata": {
    "collapsed": false
   },
   "outputs": [],
   "source": [
    "savePath = os.path.join(pyutils.parfilePath,'NIRSNR_sens_412_1500')"
   ]
  },
  {
   "cell_type": "code",
   "execution_count": 12,
   "metadata": {
    "collapsed": false
   },
   "outputs": [
    {
     "name": "stdout",
     "output_type": "stream",
     "text": [
      "{865: 500, 443: 1500, 748: 500, 665: 1500, 490: 1500, 555: 1500, 412: 1500, 510: 1500}\n",
      "412=>old snr: 897.139236 - fac(target): 1.671981\n",
      "443=>old snr: 966.129098 - fac(target): 1.552588\n",
      "490=>old snr: 1011.329388 - fac(target): 1.483196\n",
      "510=>old snr: 999.052449 - fac(target): 1.501423\n",
      "555=>old snr: 869.009251 - fac(target): 1.726104\n",
      "665=>old snr: 571.778234 - fac(target): 2.623395\n",
      "748=>old snr: 572.105678 - fac(target): 0.873964\n",
      "865=>old snr: 364.260082 - fac(target): 1.372646\n",
      "{865: 550, 443: 1500, 748: 550, 665: 1500, 490: 1500, 555: 1500, 412: 1500, 510: 1500}\n",
      "412=>old snr: 897.139236 - fac(target): 1.671981\n",
      "443=>old snr: 966.129098 - fac(target): 1.552588\n",
      "490=>old snr: 1011.329388 - fac(target): 1.483196\n",
      "510=>old snr: 999.052449 - fac(target): 1.501423\n",
      "555=>old snr: 869.009251 - fac(target): 1.726104\n",
      "665=>old snr: 571.778234 - fac(target): 2.623395\n",
      "748=>old snr: 572.105678 - fac(target): 0.961361\n",
      "865=>old snr: 364.260082 - fac(target): 1.509910\n",
      "{865: 600, 443: 1500, 748: 600, 665: 1500, 490: 1500, 555: 1500, 412: 1500, 510: 1500}\n",
      "412=>old snr: 897.139236 - fac(target): 1.671981\n",
      "443=>old snr: 966.129098 - fac(target): 1.552588\n",
      "490=>old snr: 1011.329388 - fac(target): 1.483196\n",
      "510=>old snr: 999.052449 - fac(target): 1.501423\n",
      "555=>old snr: 869.009251 - fac(target): 1.726104\n",
      "665=>old snr: 571.778234 - fac(target): 2.623395\n",
      "748=>old snr: 572.105678 - fac(target): 1.048757\n",
      "865=>old snr: 364.260082 - fac(target): 1.647175\n",
      "{865: 650, 443: 1500, 748: 650, 665: 1500, 490: 1500, 555: 1500, 412: 1500, 510: 1500}\n",
      "412=>old snr: 897.139236 - fac(target): 1.671981\n",
      "443=>old snr: 966.129098 - fac(target): 1.552588\n",
      "490=>old snr: 1011.329388 - fac(target): 1.483196\n",
      "510=>old snr: 999.052449 - fac(target): 1.501423\n",
      "555=>old snr: 869.009251 - fac(target): 1.726104\n",
      "665=>old snr: 571.778234 - fac(target): 2.623395\n",
      "748=>old snr: 572.105678 - fac(target): 1.136154\n",
      "865=>old snr: 364.260082 - fac(target): 1.784439\n",
      "{865: 700, 443: 1500, 748: 700, 665: 1500, 490: 1500, 555: 1500, 412: 1500, 510: 1500}\n",
      "412=>old snr: 897.139236 - fac(target): 1.671981\n",
      "443=>old snr: 966.129098 - fac(target): 1.552588\n",
      "490=>old snr: 1011.329388 - fac(target): 1.483196\n",
      "510=>old snr: 999.052449 - fac(target): 1.501423\n",
      "555=>old snr: 869.009251 - fac(target): 1.726104\n",
      "665=>old snr: 571.778234 - fac(target): 2.623395\n",
      "748=>old snr: 572.105678 - fac(target): 1.223550\n",
      "865=>old snr: 364.260082 - fac(target): 1.921704\n",
      "{865: 750, 443: 1500, 748: 750, 665: 1500, 490: 1500, 555: 1500, 412: 1500, 510: 1500}\n",
      "412=>old snr: 897.139236 - fac(target): 1.671981\n",
      "443=>old snr: 966.129098 - fac(target): 1.552588\n",
      "490=>old snr: 1011.329388 - fac(target): 1.483196\n",
      "510=>old snr: 999.052449 - fac(target): 1.501423\n",
      "555=>old snr: 869.009251 - fac(target): 1.726104\n",
      "665=>old snr: 571.778234 - fac(target): 2.623395\n",
      "748=>old snr: 572.105678 - fac(target): 1.310947\n",
      "865=>old snr: 364.260082 - fac(target): 2.058968\n",
      "{865: 800, 443: 1500, 748: 800, 665: 1500, 490: 1500, 555: 1500, 412: 1500, 510: 1500}\n",
      "412=>old snr: 897.139236 - fac(target): 1.671981\n",
      "443=>old snr: 966.129098 - fac(target): 1.552588\n",
      "490=>old snr: 1011.329388 - fac(target): 1.483196\n",
      "510=>old snr: 999.052449 - fac(target): 1.501423\n",
      "555=>old snr: 869.009251 - fac(target): 1.726104\n",
      "665=>old snr: 571.778234 - fac(target): 2.623395\n",
      "748=>old snr: 572.105678 - fac(target): 1.398343\n",
      "865=>old snr: 364.260082 - fac(target): 2.196233\n"
     ]
    }
   ],
   "source": [
    "if os.path.exists(savePath):\n",
    "    tfdK = dfNIRSensSNR.columns[1:]\n",
    "    tarFacDict = {}\n",
    "    for key in tfdK:\n",
    "        tarFac = pyutils.SWF2PACEFacs(key,dfNIRSensSNR)\n",
    "        tarFacDict[key] = tarFac\n",
    "        pyutils.WriteParfile(key,dfNIRSensSNR.index,tarFac,path=savePath)"
   ]
  },
  {
   "cell_type": "code",
   "execution_count": null,
   "metadata": {
    "collapsed": true
   },
   "outputs": [],
   "source": []
  }
 ],
 "metadata": {
  "anaconda-cloud": {},
  "kernelspec": {
   "display_name": "Python [Root]",
   "language": "python",
   "name": "Python [Root]"
  },
  "language_info": {
   "codemirror_mode": {
    "name": "ipython",
    "version": 3
   },
   "file_extension": ".py",
   "mimetype": "text/x-python",
   "name": "python",
   "nbconvert_exporter": "python",
   "pygments_lexer": "ipython3",
   "version": "3.5.2"
  }
 },
 "nbformat": 4,
 "nbformat_minor": 0
}
