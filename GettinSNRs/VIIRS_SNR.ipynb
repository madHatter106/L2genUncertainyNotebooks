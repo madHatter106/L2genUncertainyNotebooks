{
 "cells": [
  {
   "cell_type": "code",
   "execution_count": 1,
   "metadata": {
    "collapsed": false
   },
   "outputs": [
    {
     "name": "stdout",
     "output_type": "stream",
     "text": [
      "dict_keys(['rad_p6', 'snr_p1', 'rad_p4', 'rad_p1', 'snr_p3', 'rad_p2', 'snr_p5', 'snr_p6', 'snr_p2', 'rad_p7', 'rad_p3', 'snr_p4', 'snr_p7', 'rad_p5'])\n"
     ]
    }
   ],
   "source": [
    "from scipy.io import readsav\n",
    "viirsSnr = readsav('../../SNR/VIIRS_SNR/f1_pl_snr.iss')\n",
    "print(viirsSnr.keys())"
   ]
  },
  {
   "cell_type": "code",
   "execution_count": null,
   "metadata": {
    "collapsed": true
   },
   "outputs": [],
   "source": []
  }
 ],
 "metadata": {
  "kernelspec": {
   "display_name": "Python 3",
   "language": "python",
   "name": "python3"
  },
  "language_info": {
   "codemirror_mode": {
    "name": "ipython",
    "version": 3
   },
   "file_extension": ".py",
   "mimetype": "text/x-python",
   "name": "python",
   "nbconvert_exporter": "python",
   "pygments_lexer": "ipython3",
   "version": "3.5.1"
  }
 },
 "nbformat": 4,
 "nbformat_minor": 0
}
